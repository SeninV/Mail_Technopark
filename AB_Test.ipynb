{
 "cells": [
  {
   "cell_type": "markdown",
   "metadata": {},
   "source": [
    "## AB Tests"
   ]
  },
  {
   "cell_type": "markdown",
   "metadata": {},
   "source": [
    "### 1. Оценка результатов AB теста"
   ]
  },
  {
   "cell_type": "markdown",
   "metadata": {},
   "source": [
    "В данном задании вам требуется оценить результаты AB теста. Даны результаты на контрольной и тестовой группе после проведения AB теста.\n",
    "Помимо показателей целевой переменной, вам даны также несколько фичей, которые являются характеристиками объектов. Даны целевые показатели (y) и принадлежность к целевой группе (W).\n",
    "\n",
    "</u>Задача:</u>\n",
    "1. Проверьте подходящую для данных гипотезу о равенстве средних в выборках\n",
    "2. Каков treatment effect нашего воздействия? (ATE) \n",
    "3. Примените известные вам методы оценки ATE с учетом особенностей данных.\n",
    "4. Проанализируйте, сравните результаты применения различных методов.\n",
    "5. В явном виде выпишите выводы.\n",
    "\n",
    "</i>Примечание: предположения о рандомизированном эксперименте нуждаются в проверке - независимость treatment от объектов не гарантирована. Все предположения выписывайте явно.</i> \n",
    "\n",
    "Для данной задачи используется dataset:  dataset_part1_students.csv"
   ]
  },
  {
   "cell_type": "markdown",
   "metadata": {},
   "source": [
    "### 2. Оценка результатов AB теста с показателями до начала эксперимента"
   ]
  },
  {
   "cell_type": "markdown",
   "metadata": {},
   "source": [
    "Необходимо как и ранее оценить результаты AB теста, а именно ATE. Вы располагаете результатами до и после проведения теста (y_0 и y_1), а также вам дан treatment assignment (W). \n",
    "\n",
    "Необходимо: \n",
    "1. Проверить все требуемые гипотезы\n",
    "2. Оценить ATE подходящим для этого случая методом (примените несколько методов)\n",
    "3. Сравнить и проанализировать результаты оценок\n",
    "4. Явно выписать выводы.\n",
    "\n",
    "Как и прежде, все предположения должны быть указаны. Визуализация результатов приветствуется.\n",
    "\n",
    "dataset_part2_students.csv"
   ]
  },
  {
   "cell_type": "markdown",
   "metadata": {},
   "source": [
    "### 3. Построение uplift модели по результатам AB теста."
   ]
  },
  {
   "cell_type": "markdown",
   "metadata": {},
   "source": [
    "Вам даны результаты AB теста для модели конверсии клиента в продукте (conversion). Конверсия может принимать значения 1 или 0, что значит - клиент подключил услугу, либо не подключил соответственно.\n",
    "\n",
    "Задача:\n",
    "1. Оцените ATE по данным.\n",
    "2. Оцените CATE для каждого наблюдения.\n",
    "3. Проставьте рекомендации к воздействию на каждый объект.\n",
    "4. Какая ожидаемая конверсия при оптимальном воздействии?\n",
    "5. Все выводы, предпосылки и методы представляйте в явном виде в ноутбуке.\n",
    "\n",
    "Визуализация результатов также будет приветствоваться.\n",
    "\n",
    "dataset_part3_students.csv"
   ]
  },
  {
   "cell_type": "markdown",
   "metadata": {},
   "source": [
    "# 1. Оценка результатов AB теста"
   ]
  },
  {
   "cell_type": "code",
   "execution_count": 145,
   "metadata": {},
   "outputs": [],
   "source": [
    "import pandas as pd\n",
    "import numpy as np\n",
    "import matplotlib.pyplot as plt\n",
    "import seaborn as sns\n",
    "from scipy import stats\n",
    "from sklearn.linear_model import LinearRegression\n",
    "from sklearn.linear_model import LogisticRegression\n",
    "from sklearn.model_selection import cross_val_score\n",
    "from sklearn.metrics import roc_curve, auc\n",
    "from sklearn.metrics import roc_auc_score"
   ]
  },
  {
   "cell_type": "code",
   "execution_count": 146,
   "metadata": {},
   "outputs": [],
   "source": [
    "df_student_1 = pd.read_csv('data/data/dataset_part1_students.csv', sep = '\\t')"
   ]
  },
  {
   "cell_type": "code",
   "execution_count": 147,
   "metadata": {},
   "outputs": [
    {
     "data": {
      "text/html": [
       "<div>\n",
       "<style scoped>\n",
       "    .dataframe tbody tr th:only-of-type {\n",
       "        vertical-align: middle;\n",
       "    }\n",
       "\n",
       "    .dataframe tbody tr th {\n",
       "        vertical-align: top;\n",
       "    }\n",
       "\n",
       "    .dataframe thead th {\n",
       "        text-align: right;\n",
       "    }\n",
       "</style>\n",
       "<table border=\"1\" class=\"dataframe\">\n",
       "  <thead>\n",
       "    <tr style=\"text-align: right;\">\n",
       "      <th></th>\n",
       "      <th>y</th>\n",
       "      <th>W</th>\n",
       "      <th>X_1</th>\n",
       "      <th>X_2</th>\n",
       "      <th>X_3</th>\n",
       "      <th>X_4</th>\n",
       "      <th>X_5</th>\n",
       "      <th>X_6</th>\n",
       "      <th>X_7</th>\n",
       "      <th>X_8</th>\n",
       "      <th>X_9</th>\n",
       "      <th>X_10</th>\n",
       "    </tr>\n",
       "  </thead>\n",
       "  <tbody>\n",
       "    <tr>\n",
       "      <th>0</th>\n",
       "      <td>-1.459404</td>\n",
       "      <td>0.0</td>\n",
       "      <td>0.986277</td>\n",
       "      <td>0.873392</td>\n",
       "      <td>0.509746</td>\n",
       "      <td>0.271836</td>\n",
       "      <td>0.336919</td>\n",
       "      <td>0.216954</td>\n",
       "      <td>0.276477</td>\n",
       "      <td>0.343316</td>\n",
       "      <td>0.862159</td>\n",
       "      <td>0.156700</td>\n",
       "    </tr>\n",
       "    <tr>\n",
       "      <th>1</th>\n",
       "      <td>-1.694174</td>\n",
       "      <td>0.0</td>\n",
       "      <td>0.140887</td>\n",
       "      <td>0.757080</td>\n",
       "      <td>0.736325</td>\n",
       "      <td>0.355663</td>\n",
       "      <td>0.341093</td>\n",
       "      <td>0.666803</td>\n",
       "      <td>0.217101</td>\n",
       "      <td>0.561427</td>\n",
       "      <td>0.124179</td>\n",
       "      <td>0.319736</td>\n",
       "    </tr>\n",
       "    <tr>\n",
       "      <th>2</th>\n",
       "      <td>5.378374</td>\n",
       "      <td>0.0</td>\n",
       "      <td>0.953214</td>\n",
       "      <td>0.137357</td>\n",
       "      <td>0.569413</td>\n",
       "      <td>0.975665</td>\n",
       "      <td>0.503367</td>\n",
       "      <td>0.667664</td>\n",
       "      <td>0.034191</td>\n",
       "      <td>0.456119</td>\n",
       "      <td>0.155851</td>\n",
       "      <td>0.476049</td>\n",
       "    </tr>\n",
       "    <tr>\n",
       "      <th>3</th>\n",
       "      <td>2.188189</td>\n",
       "      <td>1.0</td>\n",
       "      <td>0.169702</td>\n",
       "      <td>0.896258</td>\n",
       "      <td>0.373394</td>\n",
       "      <td>0.379693</td>\n",
       "      <td>0.858317</td>\n",
       "      <td>0.646061</td>\n",
       "      <td>0.583462</td>\n",
       "      <td>0.668350</td>\n",
       "      <td>0.177793</td>\n",
       "      <td>0.849248</td>\n",
       "    </tr>\n",
       "    <tr>\n",
       "      <th>4</th>\n",
       "      <td>2.862696</td>\n",
       "      <td>1.0</td>\n",
       "      <td>0.442373</td>\n",
       "      <td>0.831468</td>\n",
       "      <td>0.763921</td>\n",
       "      <td>0.919691</td>\n",
       "      <td>0.070573</td>\n",
       "      <td>0.156165</td>\n",
       "      <td>0.636894</td>\n",
       "      <td>0.555696</td>\n",
       "      <td>0.191929</td>\n",
       "      <td>0.425656</td>\n",
       "    </tr>\n",
       "    <tr>\n",
       "      <th>...</th>\n",
       "      <td>...</td>\n",
       "      <td>...</td>\n",
       "      <td>...</td>\n",
       "      <td>...</td>\n",
       "      <td>...</td>\n",
       "      <td>...</td>\n",
       "      <td>...</td>\n",
       "      <td>...</td>\n",
       "      <td>...</td>\n",
       "      <td>...</td>\n",
       "      <td>...</td>\n",
       "      <td>...</td>\n",
       "    </tr>\n",
       "    <tr>\n",
       "      <th>19995</th>\n",
       "      <td>1.067689</td>\n",
       "      <td>1.0</td>\n",
       "      <td>0.679204</td>\n",
       "      <td>0.648429</td>\n",
       "      <td>0.230049</td>\n",
       "      <td>0.097030</td>\n",
       "      <td>0.336183</td>\n",
       "      <td>0.462242</td>\n",
       "      <td>0.018863</td>\n",
       "      <td>0.735293</td>\n",
       "      <td>0.460324</td>\n",
       "      <td>0.920792</td>\n",
       "    </tr>\n",
       "    <tr>\n",
       "      <th>19996</th>\n",
       "      <td>6.044203</td>\n",
       "      <td>1.0</td>\n",
       "      <td>0.424129</td>\n",
       "      <td>0.138698</td>\n",
       "      <td>0.729584</td>\n",
       "      <td>0.618014</td>\n",
       "      <td>0.607084</td>\n",
       "      <td>0.976012</td>\n",
       "      <td>0.248405</td>\n",
       "      <td>0.691192</td>\n",
       "      <td>0.696342</td>\n",
       "      <td>0.585681</td>\n",
       "    </tr>\n",
       "    <tr>\n",
       "      <th>19997</th>\n",
       "      <td>2.569386</td>\n",
       "      <td>0.0</td>\n",
       "      <td>0.058754</td>\n",
       "      <td>0.932489</td>\n",
       "      <td>0.537246</td>\n",
       "      <td>0.878644</td>\n",
       "      <td>0.615907</td>\n",
       "      <td>0.960572</td>\n",
       "      <td>0.161242</td>\n",
       "      <td>0.440243</td>\n",
       "      <td>0.349912</td>\n",
       "      <td>0.806085</td>\n",
       "    </tr>\n",
       "    <tr>\n",
       "      <th>19998</th>\n",
       "      <td>0.964184</td>\n",
       "      <td>1.0</td>\n",
       "      <td>0.639663</td>\n",
       "      <td>0.291877</td>\n",
       "      <td>0.111292</td>\n",
       "      <td>0.066558</td>\n",
       "      <td>0.674742</td>\n",
       "      <td>0.043582</td>\n",
       "      <td>0.500528</td>\n",
       "      <td>0.331296</td>\n",
       "      <td>0.782937</td>\n",
       "      <td>0.005246</td>\n",
       "    </tr>\n",
       "    <tr>\n",
       "      <th>19999</th>\n",
       "      <td>-1.433386</td>\n",
       "      <td>0.0</td>\n",
       "      <td>0.135173</td>\n",
       "      <td>0.766632</td>\n",
       "      <td>0.577771</td>\n",
       "      <td>0.332891</td>\n",
       "      <td>0.839787</td>\n",
       "      <td>0.396296</td>\n",
       "      <td>0.553168</td>\n",
       "      <td>0.982209</td>\n",
       "      <td>0.672389</td>\n",
       "      <td>0.116844</td>\n",
       "    </tr>\n",
       "  </tbody>\n",
       "</table>\n",
       "<p>20000 rows × 12 columns</p>\n",
       "</div>"
      ],
      "text/plain": [
       "              y    W       X_1       X_2       X_3       X_4       X_5  \\\n",
       "0     -1.459404  0.0  0.986277  0.873392  0.509746  0.271836  0.336919   \n",
       "1     -1.694174  0.0  0.140887  0.757080  0.736325  0.355663  0.341093   \n",
       "2      5.378374  0.0  0.953214  0.137357  0.569413  0.975665  0.503367   \n",
       "3      2.188189  1.0  0.169702  0.896258  0.373394  0.379693  0.858317   \n",
       "4      2.862696  1.0  0.442373  0.831468  0.763921  0.919691  0.070573   \n",
       "...         ...  ...       ...       ...       ...       ...       ...   \n",
       "19995  1.067689  1.0  0.679204  0.648429  0.230049  0.097030  0.336183   \n",
       "19996  6.044203  1.0  0.424129  0.138698  0.729584  0.618014  0.607084   \n",
       "19997  2.569386  0.0  0.058754  0.932489  0.537246  0.878644  0.615907   \n",
       "19998  0.964184  1.0  0.639663  0.291877  0.111292  0.066558  0.674742   \n",
       "19999 -1.433386  0.0  0.135173  0.766632  0.577771  0.332891  0.839787   \n",
       "\n",
       "            X_6       X_7       X_8       X_9      X_10  \n",
       "0      0.216954  0.276477  0.343316  0.862159  0.156700  \n",
       "1      0.666803  0.217101  0.561427  0.124179  0.319736  \n",
       "2      0.667664  0.034191  0.456119  0.155851  0.476049  \n",
       "3      0.646061  0.583462  0.668350  0.177793  0.849248  \n",
       "4      0.156165  0.636894  0.555696  0.191929  0.425656  \n",
       "...         ...       ...       ...       ...       ...  \n",
       "19995  0.462242  0.018863  0.735293  0.460324  0.920792  \n",
       "19996  0.976012  0.248405  0.691192  0.696342  0.585681  \n",
       "19997  0.960572  0.161242  0.440243  0.349912  0.806085  \n",
       "19998  0.043582  0.500528  0.331296  0.782937  0.005246  \n",
       "19999  0.396296  0.553168  0.982209  0.672389  0.116844  \n",
       "\n",
       "[20000 rows x 12 columns]"
      ]
     },
     "execution_count": 147,
     "metadata": {},
     "output_type": "execute_result"
    }
   ],
   "source": [
    "df_student_1"
   ]
  },
  {
   "cell_type": "code",
   "execution_count": 4,
   "metadata": {},
   "outputs": [
    {
     "data": {
      "text/plain": [
       "1.0    10446\n",
       "0.0     9554\n",
       "Name: W, dtype: int64"
      ]
     },
     "execution_count": 4,
     "metadata": {},
     "output_type": "execute_result"
    }
   ],
   "source": [
    "df_student_1.W.value_counts()"
   ]
  },
  {
   "cell_type": "code",
   "execution_count": 5,
   "metadata": {},
   "outputs": [],
   "source": [
    "df_treat_1 = df_student_1.loc[df_student_1.W == 1.0] # целевая группа(есть изменения)"
   ]
  },
  {
   "cell_type": "code",
   "execution_count": 6,
   "metadata": {},
   "outputs": [],
   "source": [
    "df_control_1 = df_student_1.loc[df_student_1.W != 1.0] # контрольная группа"
   ]
  },
  {
   "cell_type": "markdown",
   "metadata": {},
   "source": [
    "### Проверяем предположение о рандомизированности эксперимента.\n",
    "\n",
    "Для этого посмтроим классификатор, используя в качестве таргета принадлежность к целевой или контрольной группе. "
   ]
  },
  {
   "cell_type": "code",
   "execution_count": 7,
   "metadata": {},
   "outputs": [
    {
     "data": {
      "text/plain": [
       "0.7495"
      ]
     },
     "execution_count": 7,
     "metadata": {},
     "output_type": "execute_result"
    }
   ],
   "source": [
    "logreg = LogisticRegression()\n",
    "cross_val_score(logreg, df_student_1.drop(columns = ['W', 'y']), df_student_1.W).mean()"
   ]
  },
  {
   "cell_type": "markdown",
   "metadata": {},
   "source": [
    "Логистическая регрессия хорошо классифицирует данные, следовательно данные распределены не рандомно (качество рандомизации плохое)"
   ]
  },
  {
   "cell_type": "markdown",
   "metadata": {},
   "source": [
    "Так как у нас нерандомизированный эксперимент сделаем предположение, что выполняются условия:\n",
    "\n",
    "    Unconfoundedness - Treatment assignment не зависит от результата эксперимента при условии контроля за X.\n",
    "    Overlap - Нет таких характеристик объектов, для которых не возможен treatment."
   ]
  },
  {
   "cell_type": "markdown",
   "metadata": {},
   "source": [
    "### 1. Гипотеза о равенстве средних в выборках"
   ]
  },
  {
   "cell_type": "code",
   "execution_count": 8,
   "metadata": {},
   "outputs": [
    {
     "data": {
      "image/png": "[encoded data removed]",
      "text/plain": [
       "<Figure size 432x288 with 1 Axes>"
      ]
     },
     "metadata": {
      "needs_background": "light"
     },
     "output_type": "display_data"
    }
   ],
   "source": [
    "plt.figure()\n",
    "# plt.hist(df_treat_1.y,alpha=0.8, bins = 50);\n",
    "# plt.hist(df_control_1.y,alpha=0.8, bins = 50);\n",
    "\n",
    "df_treat_1.y.hist(alpha=0.8, bins = 50, color = 'blue')\n",
    "df_control_1.y.hist(alpha=0.8, bins = 50,color = 'red')\n",
    "plt.axvline(df_treat_1.y.mean(), color = 'blue')\n",
    "plt.axvline(df_control_1.y.mean(), color = 'orange')\n",
    "\n",
    "# sns.distplot(df_treat_1.y)\n",
    "# sns.distplot(df_control_1.y)\n",
    "plt.legend(['Целевая', 'Контрольная'])\n",
    "plt.show()"
   ]
  },
  {
   "cell_type": "markdown",
   "metadata": {},
   "source": [
    "Распределение похоже на нормальное"
   ]
  },
  {
   "cell_type": "markdown",
   "metadata": {},
   "source": [
    "Так же применим тест Нормалтест(Хи2).\n",
    "\n",
    "Он проверяет имеет ли выборка данных нормальное распределение."
   ]
  },
  {
   "cell_type": "code",
   "execution_count": 9,
   "metadata": {},
   "outputs": [
    {
     "name": "stdout",
     "output_type": "stream",
     "text": [
      "Stats =  1.340089439214199 \n",
      "P-value =  0.511685694891655\n"
     ]
    }
   ],
   "source": [
    "stat, p = stats.normaltest(df_treat_1.y)\n",
    "print('Stats = ',stat,'\\nP-value = ' , p)"
   ]
  },
  {
   "cell_type": "code",
   "execution_count": 10,
   "metadata": {},
   "outputs": [
    {
     "name": "stdout",
     "output_type": "stream",
     "text": [
      "Stats =  0.06178545963522806 \n",
      "P-value =  0.9695795744755934\n"
     ]
    }
   ],
   "source": [
    "stat, p = stats.normaltest(df_control_1.y)\n",
    "print('Stats = ',stat,'\\nP-value = ' , p)"
   ]
  },
  {
   "cell_type": "markdown",
   "metadata": {},
   "source": [
    "P-value больше 5%, следовательно нулевую гипотезу мы отклонить не можем, и распределение данных является близким к нормальному."
   ]
  },
  {
   "cell_type": "markdown",
   "metadata": {},
   "source": [
    "Так как выборки у нас несвязанные, то применим т-тест для несвязанных выборок."
   ]
  },
  {
   "cell_type": "code",
   "execution_count": 11,
   "metadata": {},
   "outputs": [
    {
     "name": "stdout",
     "output_type": "stream",
     "text": [
      "Stats =  9.332608430209014 \n",
      "P-value =  1.1387356403808485e-20\n"
     ]
    }
   ],
   "source": [
    "stat, p = stats.ttest_ind(df_treat_1.y, df_control_1.y, equal_var  = False)\n",
    "print('Stats = ',stat,'\\nP-value = ' , p)"
   ]
  },
  {
   "cell_type": "markdown",
   "metadata": {},
   "source": [
    "P-value меньше 5%, следовательно отклоним нулевую гипотезу. Сделаем вывод о том что среднее значение у данных выборок отличается."
   ]
  },
  {
   "cell_type": "markdown",
   "metadata": {},
   "source": [
    "### 2. Treatment effect нашего воздействия"
   ]
  },
  {
   "cell_type": "markdown",
   "metadata": {},
   "source": [
    "Разность средних значений"
   ]
  },
  {
   "cell_type": "code",
   "execution_count": 12,
   "metadata": {},
   "outputs": [
    {
     "data": {
      "text/plain": [
       "0.4001031055444413"
      ]
     },
     "execution_count": 12,
     "metadata": {},
     "output_type": "execute_result"
    }
   ],
   "source": [
    "np.mean(df_treat_1.y) - np.mean(df_control_1.y)"
   ]
  },
  {
   "cell_type": "markdown",
   "metadata": {},
   "source": [
    "### 3. Методы оценки ATE с учетом особенностей данных."
   ]
  },
  {
   "cell_type": "markdown",
   "metadata": {},
   "source": [
    "С учетом того, что мы не знаем значение Y[0] до эксперимента, то большинство методов для оценки ATE нам не подходят, возьмем те, где не используются знания о предыдущем значении Y."
   ]
  },
  {
   "cell_type": "markdown",
   "metadata": {},
   "source": [
    "Использование регрессии в оценке эффекта"
   ]
  },
  {
   "cell_type": "code",
   "execution_count": 13,
   "metadata": {},
   "outputs": [],
   "source": [
    "linreg = LinearRegression()"
   ]
  },
  {
   "cell_type": "code",
   "execution_count": 483,
   "metadata": {},
   "outputs": [
    {
     "data": {
      "text/plain": [
       "LinearRegression()"
      ]
     },
     "execution_count": 483,
     "metadata": {},
     "output_type": "execute_result"
    }
   ],
   "source": [
    "# linreg.fit(df_treat_1.drop(columns = ['W', 'y']), df_treat_1.y)\n",
    "linreg.fit(df_student_1.drop(columns = ['y']), df_student_1.y)"
   ]
  },
  {
   "cell_type": "code",
   "execution_count": 484,
   "metadata": {},
   "outputs": [
    {
     "name": "stdout",
     "output_type": "stream",
     "text": [
      "ATE =  0.5133854882565404\n"
     ]
    }
   ],
   "source": [
    "# Treatment effect\n",
    "print('ATE = ', linreg.coef_[0])"
   ]
  },
  {
   "cell_type": "markdown",
   "metadata": {},
   "source": [
    "### 4. Проанализируйте, сравните результаты применения различных методов."
   ]
  },
  {
   "cell_type": "markdown",
   "metadata": {},
   "source": [
    "Мы использовали два метода для оценки Treatment effect - регрессия и разность средних, так как в этих методах не испотльзуются значение целевой переменной в нулевой момент времени."
   ]
  },
  {
   "cell_type": "markdown",
   "metadata": {},
   "source": [
    "### 5. В явном виде выпишите выводы."
   ]
  },
  {
   "cell_type": "markdown",
   "metadata": {},
   "source": [
    "В итоге:\n",
    "\n",
    "    1) Тритмент и контрол группы распределены неравномерно(10446,9554). Так же эксперимент нерандомезированный, так как \n",
    "    классификатор может выделить тритмент и контрол группу с достаточной точностью. Следовательно сделаем предположения, что \n",
    "    выполняются условия Unconfoundedness, Overlap.\n",
    "    Так же мы построили распределение целевой переменной в зависимости от принадлежнасти к целевой группе, оно близко к \n",
    "    нормальному.\n",
    "    При проведении T-testa получили значение P-value меньше 5%, следовательно среднее значения в выборках отличается.\n",
    "    2) Нашли Treatment effect нашего воздействия:\n",
    "        а) Для разности средних - 0.4\n",
    "        б) Для регрессии - 0.51 \n",
    "    Разность оценки эффекта данных методов связана с тем, что в разности средних мы не учитываем вектор X[], а считаем \n",
    "    разницу средних значений по выборкам.\n",
    "    Регрессионную модель мы строим на всех фичах X, и уже в зависимости от них ищем Treatment effect. Следовательно \n",
    "    регрессионный метод более объективный.\n",
    "    3) По результатам А/Б теста можно сделать вывод о том, что при данном воздействии целевая переменная увеличится в \n",
    "    среднем на 0.51.\n",
    "    "
   ]
  },
  {
   "cell_type": "markdown",
   "metadata": {},
   "source": [
    "# 2. Оценка результатов AB теста с показателями до начала эксперимента"
   ]
  },
  {
   "cell_type": "code",
   "execution_count": 16,
   "metadata": {},
   "outputs": [],
   "source": [
    "df_student_2 = pd.read_csv('data/data/dataset_part2_students.csv', sep = '\\t')"
   ]
  },
  {
   "cell_type": "code",
   "execution_count": 17,
   "metadata": {},
   "outputs": [
    {
     "data": {
      "text/html": [
       "<div>\n",
       "<style scoped>\n",
       "    .dataframe tbody tr th:only-of-type {\n",
       "        vertical-align: middle;\n",
       "    }\n",
       "\n",
       "    .dataframe tbody tr th {\n",
       "        vertical-align: top;\n",
       "    }\n",
       "\n",
       "    .dataframe thead th {\n",
       "        text-align: right;\n",
       "    }\n",
       "</style>\n",
       "<table border=\"1\" class=\"dataframe\">\n",
       "  <thead>\n",
       "    <tr style=\"text-align: right;\">\n",
       "      <th></th>\n",
       "      <th>y_1</th>\n",
       "      <th>y_0</th>\n",
       "      <th>W</th>\n",
       "      <th>X_1</th>\n",
       "      <th>X_2</th>\n",
       "      <th>X_3</th>\n",
       "      <th>X_4</th>\n",
       "      <th>X_5</th>\n",
       "      <th>X_6</th>\n",
       "      <th>X_7</th>\n",
       "      <th>X_8</th>\n",
       "      <th>X_9</th>\n",
       "      <th>X_10</th>\n",
       "    </tr>\n",
       "  </thead>\n",
       "  <tbody>\n",
       "    <tr>\n",
       "      <th>0</th>\n",
       "      <td>5.887156</td>\n",
       "      <td>2.785060</td>\n",
       "      <td>1.0</td>\n",
       "      <td>0.605978</td>\n",
       "      <td>0.733369</td>\n",
       "      <td>0.138947</td>\n",
       "      <td>0.312673</td>\n",
       "      <td>0.997243</td>\n",
       "      <td>0.128162</td>\n",
       "      <td>0.178993</td>\n",
       "      <td>0.752925</td>\n",
       "      <td>0.662161</td>\n",
       "      <td>0.784310</td>\n",
       "    </tr>\n",
       "    <tr>\n",
       "      <th>1</th>\n",
       "      <td>2.232601</td>\n",
       "      <td>5.533515</td>\n",
       "      <td>0.0</td>\n",
       "      <td>0.096894</td>\n",
       "      <td>0.058571</td>\n",
       "      <td>0.962396</td>\n",
       "      <td>0.616557</td>\n",
       "      <td>0.086630</td>\n",
       "      <td>0.561272</td>\n",
       "      <td>0.616525</td>\n",
       "      <td>0.963843</td>\n",
       "      <td>0.574304</td>\n",
       "      <td>0.371161</td>\n",
       "    </tr>\n",
       "    <tr>\n",
       "      <th>2</th>\n",
       "      <td>0.144419</td>\n",
       "      <td>0.095546</td>\n",
       "      <td>1.0</td>\n",
       "      <td>0.452145</td>\n",
       "      <td>0.201850</td>\n",
       "      <td>0.569305</td>\n",
       "      <td>0.195096</td>\n",
       "      <td>0.583704</td>\n",
       "      <td>0.476313</td>\n",
       "      <td>0.517814</td>\n",
       "      <td>0.823099</td>\n",
       "      <td>0.732225</td>\n",
       "      <td>0.069056</td>\n",
       "    </tr>\n",
       "    <tr>\n",
       "      <th>3</th>\n",
       "      <td>-2.446425</td>\n",
       "      <td>3.590472</td>\n",
       "      <td>1.0</td>\n",
       "      <td>0.672129</td>\n",
       "      <td>0.643485</td>\n",
       "      <td>0.828014</td>\n",
       "      <td>0.204469</td>\n",
       "      <td>0.617489</td>\n",
       "      <td>0.617701</td>\n",
       "      <td>0.301069</td>\n",
       "      <td>0.871741</td>\n",
       "      <td>0.589654</td>\n",
       "      <td>0.981770</td>\n",
       "    </tr>\n",
       "    <tr>\n",
       "      <th>4</th>\n",
       "      <td>2.163090</td>\n",
       "      <td>1.365405</td>\n",
       "      <td>0.0</td>\n",
       "      <td>0.442232</td>\n",
       "      <td>0.126318</td>\n",
       "      <td>0.508831</td>\n",
       "      <td>0.431786</td>\n",
       "      <td>0.915940</td>\n",
       "      <td>0.709016</td>\n",
       "      <td>0.890655</td>\n",
       "      <td>0.588886</td>\n",
       "      <td>0.636830</td>\n",
       "      <td>0.342209</td>\n",
       "    </tr>\n",
       "    <tr>\n",
       "      <th>...</th>\n",
       "      <td>...</td>\n",
       "      <td>...</td>\n",
       "      <td>...</td>\n",
       "      <td>...</td>\n",
       "      <td>...</td>\n",
       "      <td>...</td>\n",
       "      <td>...</td>\n",
       "      <td>...</td>\n",
       "      <td>...</td>\n",
       "      <td>...</td>\n",
       "      <td>...</td>\n",
       "      <td>...</td>\n",
       "      <td>...</td>\n",
       "    </tr>\n",
       "    <tr>\n",
       "      <th>9995</th>\n",
       "      <td>3.323575</td>\n",
       "      <td>1.207956</td>\n",
       "      <td>1.0</td>\n",
       "      <td>0.280489</td>\n",
       "      <td>0.812310</td>\n",
       "      <td>0.515489</td>\n",
       "      <td>0.959787</td>\n",
       "      <td>0.771603</td>\n",
       "      <td>0.131391</td>\n",
       "      <td>0.401038</td>\n",
       "      <td>0.825225</td>\n",
       "      <td>0.631631</td>\n",
       "      <td>0.824960</td>\n",
       "    </tr>\n",
       "    <tr>\n",
       "      <th>9996</th>\n",
       "      <td>4.133119</td>\n",
       "      <td>1.636214</td>\n",
       "      <td>1.0</td>\n",
       "      <td>0.352855</td>\n",
       "      <td>0.737570</td>\n",
       "      <td>0.610029</td>\n",
       "      <td>0.861363</td>\n",
       "      <td>0.076608</td>\n",
       "      <td>0.650758</td>\n",
       "      <td>0.639069</td>\n",
       "      <td>0.339857</td>\n",
       "      <td>0.762911</td>\n",
       "      <td>0.406340</td>\n",
       "    </tr>\n",
       "    <tr>\n",
       "      <th>9997</th>\n",
       "      <td>3.124242</td>\n",
       "      <td>-1.984834</td>\n",
       "      <td>0.0</td>\n",
       "      <td>0.079105</td>\n",
       "      <td>0.771808</td>\n",
       "      <td>0.409021</td>\n",
       "      <td>0.982742</td>\n",
       "      <td>0.599735</td>\n",
       "      <td>0.243066</td>\n",
       "      <td>0.562383</td>\n",
       "      <td>0.727493</td>\n",
       "      <td>0.043481</td>\n",
       "      <td>0.895637</td>\n",
       "    </tr>\n",
       "    <tr>\n",
       "      <th>9998</th>\n",
       "      <td>1.366205</td>\n",
       "      <td>0.777716</td>\n",
       "      <td>1.0</td>\n",
       "      <td>0.319164</td>\n",
       "      <td>0.715711</td>\n",
       "      <td>0.293048</td>\n",
       "      <td>0.493352</td>\n",
       "      <td>0.628071</td>\n",
       "      <td>0.857757</td>\n",
       "      <td>0.235775</td>\n",
       "      <td>0.417768</td>\n",
       "      <td>0.728639</td>\n",
       "      <td>0.197892</td>\n",
       "    </tr>\n",
       "    <tr>\n",
       "      <th>9999</th>\n",
       "      <td>1.412117</td>\n",
       "      <td>-3.467385</td>\n",
       "      <td>1.0</td>\n",
       "      <td>0.139164</td>\n",
       "      <td>0.679537</td>\n",
       "      <td>0.393346</td>\n",
       "      <td>0.281305</td>\n",
       "      <td>0.310684</td>\n",
       "      <td>0.931113</td>\n",
       "      <td>0.052427</td>\n",
       "      <td>0.096104</td>\n",
       "      <td>0.946921</td>\n",
       "      <td>0.427957</td>\n",
       "    </tr>\n",
       "  </tbody>\n",
       "</table>\n",
       "<p>10000 rows × 13 columns</p>\n",
       "</div>"
      ],
      "text/plain": [
       "           y_1       y_0    W       X_1       X_2       X_3       X_4  \\\n",
       "0     5.887156  2.785060  1.0  0.605978  0.733369  0.138947  0.312673   \n",
       "1     2.232601  5.533515  0.0  0.096894  0.058571  0.962396  0.616557   \n",
       "2     0.144419  0.095546  1.0  0.452145  0.201850  0.569305  0.195096   \n",
       "3    -2.446425  3.590472  1.0  0.672129  0.643485  0.828014  0.204469   \n",
       "4     2.163090  1.365405  0.0  0.442232  0.126318  0.508831  0.431786   \n",
       "...        ...       ...  ...       ...       ...       ...       ...   \n",
       "9995  3.323575  1.207956  1.0  0.280489  0.812310  0.515489  0.959787   \n",
       "9996  4.133119  1.636214  1.0  0.352855  0.737570  0.610029  0.861363   \n",
       "9997  3.124242 -1.984834  0.0  0.079105  0.771808  0.409021  0.982742   \n",
       "9998  1.366205  0.777716  1.0  0.319164  0.715711  0.293048  0.493352   \n",
       "9999  1.412117 -3.467385  1.0  0.139164  0.679537  0.393346  0.281305   \n",
       "\n",
       "           X_5       X_6       X_7       X_8       X_9      X_10  \n",
       "0     0.997243  0.128162  0.178993  0.752925  0.662161  0.784310  \n",
       "1     0.086630  0.561272  0.616525  0.963843  0.574304  0.371161  \n",
       "2     0.583704  0.476313  0.517814  0.823099  0.732225  0.069056  \n",
       "3     0.617489  0.617701  0.301069  0.871741  0.589654  0.981770  \n",
       "4     0.915940  0.709016  0.890655  0.588886  0.636830  0.342209  \n",
       "...        ...       ...       ...       ...       ...       ...  \n",
       "9995  0.771603  0.131391  0.401038  0.825225  0.631631  0.824960  \n",
       "9996  0.076608  0.650758  0.639069  0.339857  0.762911  0.406340  \n",
       "9997  0.599735  0.243066  0.562383  0.727493  0.043481  0.895637  \n",
       "9998  0.628071  0.857757  0.235775  0.417768  0.728639  0.197892  \n",
       "9999  0.310684  0.931113  0.052427  0.096104  0.946921  0.427957  \n",
       "\n",
       "[10000 rows x 13 columns]"
      ]
     },
     "execution_count": 17,
     "metadata": {},
     "output_type": "execute_result"
    }
   ],
   "source": [
    "df_student_2"
   ]
  },
  {
   "cell_type": "code",
   "execution_count": 18,
   "metadata": {},
   "outputs": [
    {
     "data": {
      "text/plain": [
       "1.0    5240\n",
       "0.0    4760\n",
       "Name: W, dtype: int64"
      ]
     },
     "execution_count": 18,
     "metadata": {},
     "output_type": "execute_result"
    }
   ],
   "source": [
    "df_student_2.W.value_counts()"
   ]
  },
  {
   "cell_type": "markdown",
   "metadata": {},
   "source": [
    "### 1. Проверить все требуемые гипотезы"
   ]
  },
  {
   "cell_type": "code",
   "execution_count": 19,
   "metadata": {},
   "outputs": [
    {
     "data": {
      "text/plain": [
       "0.7431000000000001"
      ]
     },
     "execution_count": 19,
     "metadata": {},
     "output_type": "execute_result"
    }
   ],
   "source": [
    "logreg = LogisticRegression()\n",
    "cross_val_score(logreg, df_student_2.drop(columns = ['W', 'y_1', 'y_0']), df_student_2.W).mean()"
   ]
  },
  {
   "cell_type": "markdown",
   "metadata": {},
   "source": [
    "Логистическая регрессия хорошо классифицирует данные, следовательно данные распределены не рандомно (качество рандомизации плохое)"
   ]
  },
  {
   "cell_type": "markdown",
   "metadata": {},
   "source": [
    "Так как у нас нерандомизированный эксперимент сделаем предположение, что выполняются условия:\n",
    "\n",
    "    Unconfoundedness - Treatment assignment не зависит от результата эксперимента при условии контроля за X.\n",
    "    Overlap - Нет таких характеристик объектов, для которых не возможен treatment."
   ]
  },
  {
   "cell_type": "markdown",
   "metadata": {},
   "source": [
    "Проверим распределения на нормальность"
   ]
  },
  {
   "cell_type": "code",
   "execution_count": 20,
   "metadata": {},
   "outputs": [],
   "source": [
    "df_treat_2 = df_student_2.loc[df_student_2.W == 1]\n",
    "df_control_2 = df_student_2.loc[df_student_2.W == 0]"
   ]
  },
  {
   "cell_type": "code",
   "execution_count": 21,
   "metadata": {},
   "outputs": [
    {
     "data": {
      "image/png": "[encoded data removed]",
      "text/plain": [
       "<Figure size 432x288 with 1 Axes>"
      ]
     },
     "metadata": {
      "needs_background": "light"
     },
     "output_type": "display_data"
    },
    {
     "data": {
      "image/png": "[encoded data removed]",
      "text/plain": [
       "<Figure size 432x288 with 1 Axes>"
      ]
     },
     "metadata": {
      "needs_background": "light"
     },
     "output_type": "display_data"
    }
   ],
   "source": [
    "plt.figure()\n",
    "\n",
    "df_treat_2.y_0.hist(alpha=0.8, bins = 50, color = 'blue')\n",
    "df_treat_2.y_1.hist(alpha=0.8, bins = 50,color = 'red')\n",
    "plt.axvline(df_student_2.loc[df_student_2.W == 1].y_0.mean(), color = 'blue')\n",
    "plt.axvline(df_student_2.loc[df_student_2.W == 1].y_1.mean(), color = 'orange')\n",
    "\n",
    "plt.legend(['Целевая до', 'Целевая после'])\n",
    "plt.show()\n",
    "plt.figure()\n",
    "\n",
    "df_control_2.y_0.hist(alpha=0.8, bins = 50, color = 'blue')\n",
    "df_control_2.y_1.hist(alpha=0.8, bins = 50,color = 'red')\n",
    "plt.axvline(df_student_2.loc[df_student_2.W == 0].y_0.mean(), color = 'blue')\n",
    "plt.axvline(df_student_2.loc[df_student_2.W == 0].y_1.mean(), color = 'orange')\n",
    "\n",
    "plt.legend(['Контрольная до', 'Контрольная после'])\n",
    "plt.show()"
   ]
  },
  {
   "cell_type": "markdown",
   "metadata": {},
   "source": [
    "Проверим распределения на нормальность"
   ]
  },
  {
   "cell_type": "code",
   "execution_count": 22,
   "metadata": {},
   "outputs": [
    {
     "name": "stdout",
     "output_type": "stream",
     "text": [
      "Stats =  0.8639458983187192 \n",
      "P-value =  0.6492269385820693\n"
     ]
    }
   ],
   "source": [
    "stat, p = stats.normaltest(df_treat_2.y_0)\n",
    "print('Stats = ',stat,'\\nP-value = ' , p)"
   ]
  },
  {
   "cell_type": "code",
   "execution_count": 23,
   "metadata": {},
   "outputs": [
    {
     "name": "stdout",
     "output_type": "stream",
     "text": [
      "Stats =  5.547707153441431 \n",
      "P-value =  0.062420996569396064\n"
     ]
    }
   ],
   "source": [
    "stat, p = stats.normaltest(df_treat_2.y_1)\n",
    "print('Stats = ',stat,'\\nP-value = ' , p)"
   ]
  },
  {
   "cell_type": "code",
   "execution_count": 24,
   "metadata": {},
   "outputs": [
    {
     "name": "stdout",
     "output_type": "stream",
     "text": [
      "Stats =  2.4947774726276 \n",
      "P-value =  0.2872539140777797\n"
     ]
    }
   ],
   "source": [
    "stat, p = stats.normaltest(df_control_2.y_0)\n",
    "print('Stats = ',stat,'\\nP-value = ' , p)"
   ]
  },
  {
   "cell_type": "code",
   "execution_count": 25,
   "metadata": {},
   "outputs": [
    {
     "name": "stdout",
     "output_type": "stream",
     "text": [
      "Stats =  0.04170043573953361 \n",
      "P-value =  0.9793656450567212\n"
     ]
    }
   ],
   "source": [
    "stat, p = stats.normaltest(df_control_2.y_1)\n",
    "print('Stats = ',stat,'\\nP-value = ' , p)"
   ]
  },
  {
   "cell_type": "markdown",
   "metadata": {},
   "source": [
    "Так как p-value во всех случаях больше 5%, следовательно будем считать, распределения нормальные."
   ]
  },
  {
   "cell_type": "markdown",
   "metadata": {},
   "source": [
    "Проведем T-test, для связанных выборок"
   ]
  },
  {
   "cell_type": "code",
   "execution_count": 26,
   "metadata": {},
   "outputs": [
    {
     "name": "stdout",
     "output_type": "stream",
     "text": [
      "Stats =  38.44253146154512 \n",
      "P-value =  4.8441785663390546e-285\n"
     ]
    }
   ],
   "source": [
    "stat, p = stats.ttest_rel(df_treat_2.y_1, df_treat_2.y_0)\n",
    "print('Stats = ',stat,'\\nP-value = ' , p)"
   ]
  },
  {
   "cell_type": "code",
   "execution_count": 27,
   "metadata": {},
   "outputs": [
    {
     "name": "stdout",
     "output_type": "stream",
     "text": [
      "Stats =  24.166958754890345 \n",
      "P-value =  8.294420851409134e-122\n"
     ]
    }
   ],
   "source": [
    "stat, p = stats.ttest_rel(df_control_2.y_1, df_control_2.y_0)\n",
    "print('Stats = ',stat,'\\nP-value = ' , p)"
   ]
  },
  {
   "cell_type": "markdown",
   "metadata": {},
   "source": [
    "Для несвязанных"
   ]
  },
  {
   "cell_type": "code",
   "execution_count": 28,
   "metadata": {},
   "outputs": [
    {
     "name": "stdout",
     "output_type": "stream",
     "text": [
      "Stats =  -2.7014202424371874 \n",
      "P-value =  0.0069160683710655525\n"
     ]
    }
   ],
   "source": [
    "stat, p = stats.ttest_ind(df_treat_2.y_0, df_control_2.y_0, equal_var  = False)\n",
    "print('Stats = ',stat,'\\nP-value = ' , p)"
   ]
  },
  {
   "cell_type": "code",
   "execution_count": 29,
   "metadata": {},
   "outputs": [
    {
     "name": "stdout",
     "output_type": "stream",
     "text": [
      "Stats =  10.430531043827909 \n",
      "P-value =  2.433950215267867e-25\n"
     ]
    }
   ],
   "source": [
    "stat, p = stats.ttest_ind(df_treat_2.y_1, df_control_2.y_1, equal_var  = False)\n",
    "print('Stats = ',stat,'\\nP-value = ' , p)"
   ]
  },
  {
   "cell_type": "markdown",
   "metadata": {},
   "source": [
    "Судя по t-test изначально среднее в выборках различное, так же различны средние в контрол до и после эксперимента и так же в тритмент.\n",
    "\n",
    "Исходя из этого, к данной задаче хороше будет применить метод Difference in differences, так как он предполагает то, что на изначально выборки отличаются."
   ]
  },
  {
   "cell_type": "markdown",
   "metadata": {},
   "source": [
    "### 2. Оценить ATE подходящим для этого случая методом (примените несколько методов)"
   ]
  },
  {
   "cell_type": "markdown",
   "metadata": {},
   "source": [
    "### Difference in differences"
   ]
  },
  {
   "cell_type": "code",
   "execution_count": 30,
   "metadata": {},
   "outputs": [],
   "source": [
    "df_did_1 = df_student_2[['y_1', 'W']].rename(columns = {'y_1' : 'y'})\n",
    "df_did_1['T'] = 1"
   ]
  },
  {
   "cell_type": "code",
   "execution_count": 31,
   "metadata": {
    "collapsed": true
   },
   "outputs": [
    {
     "name": "stderr",
     "output_type": "stream",
     "text": [
      "<ipython-input-31-213b1b7fe33d>:3: SettingWithCopyWarning: \n",
      "A value is trying to be set on a copy of a slice from a DataFrame.\n",
      "Try using .loc[row_indexer,col_indexer] = value instead\n",
      "\n",
      "See the caveats in the documentation: https://pandas.pydata.org/pandas-docs/stable/user_guide/indexing.html#returning-a-view-versus-a-copy\n",
      "  df_did_1_1['WT'] = 1\n",
      "<ipython-input-31-213b1b7fe33d>:4: SettingWithCopyWarning: \n",
      "A value is trying to be set on a copy of a slice from a DataFrame.\n",
      "Try using .loc[row_indexer,col_indexer] = value instead\n",
      "\n",
      "See the caveats in the documentation: https://pandas.pydata.org/pandas-docs/stable/user_guide/indexing.html#returning-a-view-versus-a-copy\n",
      "  df_did_1_2['WT'] = 0\n"
     ]
    }
   ],
   "source": [
    "df_did_1_1 = df_did_1.loc[df_did_1.W == 1]\n",
    "df_did_1_2 = df_did_1.loc[df_did_1.W == 0]\n",
    "df_did_1_1['WT'] = 1\n",
    "df_did_1_2['WT'] = 0"
   ]
  },
  {
   "cell_type": "code",
   "execution_count": 32,
   "metadata": {},
   "outputs": [],
   "source": [
    "df_did_2 = df_student_2[['y_0', 'W']].rename(columns = {'y_0' : 'y'})\n",
    "df_did_2['T'] = 0\n",
    "df_did_2['WT'] = 0"
   ]
  },
  {
   "cell_type": "code",
   "execution_count": 33,
   "metadata": {},
   "outputs": [],
   "source": [
    "frames = [df_did_1_1, df_did_1_2,df_did_2]\n",
    "df_did = pd.concat(frames)"
   ]
  },
  {
   "cell_type": "code",
   "execution_count": 34,
   "metadata": {},
   "outputs": [],
   "source": [
    "linreg = LinearRegression()"
   ]
  },
  {
   "cell_type": "code",
   "execution_count": 35,
   "metadata": {},
   "outputs": [
    {
     "data": {
      "text/plain": [
       "LinearRegression()"
      ]
     },
     "execution_count": 35,
     "metadata": {},
     "output_type": "execute_result"
    }
   ],
   "source": [
    "linreg.fit(df_did[['WT','W', 'T']], df_did.y)"
   ]
  },
  {
   "cell_type": "code",
   "execution_count": 482,
   "metadata": {},
   "outputs": [
    {
     "name": "stdout",
     "output_type": "stream",
     "text": [
      "DID ATE =  0.060573854556001984\n"
     ]
    }
   ],
   "source": [
    "print('DID ATE = ', linreg.coef_[0])"
   ]
  },
  {
   "cell_type": "markdown",
   "metadata": {},
   "source": [
    "Propensity Score\n",
    "\n",
    "Так как у нас нерандомизированный эксперимент, то данные полученные при оценки ATE несовсем корректны.\n",
    "Что бы получить корректный результат будем оценивать вероятность попадания каждого объекта в целевую группу, и скорректируем оценку."
   ]
  },
  {
   "cell_type": "code",
   "execution_count": 37,
   "metadata": {},
   "outputs": [],
   "source": [
    "logreg = LogisticRegression()\n",
    "logreg.fit(df_student_2.drop(columns = ['W', 'y_1', 'y_0']), df_student_2.W)\n",
    "df_student_2_prop = df_student_2.copy()\n",
    "df_student_2_prop['Propensity_Score'] = logreg.predict_proba(df_student_2.drop(columns = ['W', 'y_1', 'y_0']))[:,1]"
   ]
  },
  {
   "cell_type": "markdown",
   "metadata": {},
   "source": [
    "Делим на 5 бинов по 20% процентов каждый(blocking)"
   ]
  },
  {
   "cell_type": "code",
   "execution_count": 486,
   "metadata": {},
   "outputs": [],
   "source": [
    "res = 0\n",
    "for i in np.arange(0, 1, 0.2):\n",
    "    df_mean = df_student_2_prop.loc[(df_student_2_prop.Propensity_Score >= i) & (df_student_2_prop.Propensity_Score < i + 0.2)]\n",
    "    treat = df_mean[df_mean.W == 1].y_1 - df_mean[df_mean.W == 1].y_0\n",
    "    contr = df_mean[df_mean.W == 0].y_1 - df_mean[df_mean.W == 0].y_0\n",
    "    res = res + np.mean(treat) - np.mean(contr)\n",
    "res = res/5"
   ]
  },
  {
   "cell_type": "code",
   "execution_count": 488,
   "metadata": {},
   "outputs": [
    {
     "name": "stdout",
     "output_type": "stream",
     "text": [
      "Propensity Score =  0.480982649962524\n"
     ]
    }
   ],
   "source": [
    "print('Propensity Score = ', res)"
   ]
  },
  {
   "cell_type": "markdown",
   "metadata": {},
   "source": [
    "CUPED"
   ]
  },
  {
   "cell_type": "code",
   "execution_count": 40,
   "metadata": {},
   "outputs": [],
   "source": [
    "cup_cov = np.cov(df_treat_2.y_1, df_treat_2.y_0)[0,1]\n",
    "cup_disp = np.cov(df_treat_2.y_0)\n",
    "cup_theta = cup_cov/cup_disp\n",
    "CUPED_treat = df_treat_2.y_1 - (df_treat_2.y_0 - df_treat_2.y_0.mean())*cup_theta"
   ]
  },
  {
   "cell_type": "code",
   "execution_count": 41,
   "metadata": {},
   "outputs": [],
   "source": [
    "cup_cov = np.cov(df_control_2.y_1, df_control_2.y_0)[0,1]\n",
    "cup_disp = np.cov(df_control_2.y_0)\n",
    "cup_theta = cup_cov/cup_disp\n",
    "CUPED_control = df_control_2.y_1 - (df_control_2.y_0 - df_control_2.y_0.mean())*cup_theta"
   ]
  },
  {
   "cell_type": "code",
   "execution_count": 42,
   "metadata": {},
   "outputs": [
    {
     "name": "stdout",
     "output_type": "stream",
     "text": [
      "CUPED =  0.431251596925079\n"
     ]
    }
   ],
   "source": [
    "CUPED = CUPED_treat.mean() - CUPED_control.mean()\n",
    "print('CUPED = ', CUPED)"
   ]
  },
  {
   "cell_type": "markdown",
   "metadata": {},
   "source": [
    "### 3. Сравнить и проанализировать результаты оценок"
   ]
  },
  {
   "cell_type": "markdown",
   "metadata": {},
   "source": [
    "Мы провели оценку ATE с помощью трех методов:\n",
    "\n",
    "    1) Difference in differences - по-моему мнению, метод хорошо подходит для данной задачи, так как на на старте тритмент и \n",
    "    контрол группы отличались, следовательно для получение корректного результата нужно было так же учитывать разницу данных \n",
    "    групп до проведения эксперимента. Результат - 0.55\n",
    "    2) Propensity Score - данный метод учитывает то, что изначально у нас данные поделены на тритмент и контрол группу не \n",
    "    рандомно(это наш случай). И учитывая нерандомность данных мы к каждому объекту добавляем вероятность оказаться\n",
    "    контрольной группе. Результат - 0.48\n",
    "    3)CUPED - метод, позволяющий уменьшить дисперсию теста, следовательно увеличить его мощность. Результат - 0.43\n",
    "По-моему мнению лучшим из методов для данной задачи будет Difference in differences, так как он предполагает, что изначальные выборки отличаются, это и происходит в нашей задаче."
   ]
  },
  {
   "cell_type": "markdown",
   "metadata": {},
   "source": [
    "### 4. Явно выписать выводы"
   ]
  },
  {
   "cell_type": "markdown",
   "metadata": {},
   "source": [
    "В итоге:   \n",
    "\n",
    "    1) Тритмент и контрол группы распределены неравномерно(5240,4760). Так же эксперимент нерандомезированный, так как \n",
    "    классификатор может выделить тритмент и контрол группу с достаточной точностью. Следовательно сделаем предположения, что \n",
    "    выполняются условия Unconfoundedness, Overlap.\n",
    "    Мы построили два графика распределения целевой переменной: график изменения распределения тритмента, и такой же график \n",
    "    для контрол. Провели нормалтест, который показал что все распределения близки к нормальному.\n",
    "    Сделали попарный T-test для целевой переменной(тритмент до и после, контрол до и после), среднее значение по всем выборкам     оказалось различным. Сделали вывод о том, что при таком распредении лучше всего использовать метод Difference in \n",
    "    differences.\n",
    "    2) Оценили Treatment effect нашего воздействия:\n",
    "        а) Difference in differences - 0.55\n",
    "        б) Propensity Score - 0.48\n",
    "        в) CUPED - 0.43\n",
    "    Итоговый результат А/Б теста примем, как результат Difference in differences, исходя из различных распределений начальных \n",
    "    выборок.\n",
    "    3) По результатам А/Б теста можно сделать вывод о том, что при данном воздействии целевая переменная увеличится в \n",
    "    среднем на 0.55."
   ]
  },
  {
   "cell_type": "markdown",
   "metadata": {},
   "source": [
    "### 3. Построение uplift модели по результатам AB теста."
   ]
  },
  {
   "cell_type": "code",
   "execution_count": 43,
   "metadata": {},
   "outputs": [],
   "source": [
    "df_student_3 = pd.read_csv('data/data/dataset_part3_students.csv', sep = '\\t')"
   ]
  },
  {
   "cell_type": "code",
   "execution_count": 44,
   "metadata": {},
   "outputs": [
    {
     "data": {
      "text/html": [
       "<div>\n",
       "<style scoped>\n",
       "    .dataframe tbody tr th:only-of-type {\n",
       "        vertical-align: middle;\n",
       "    }\n",
       "\n",
       "    .dataframe tbody tr th {\n",
       "        vertical-align: top;\n",
       "    }\n",
       "\n",
       "    .dataframe thead th {\n",
       "        text-align: right;\n",
       "    }\n",
       "</style>\n",
       "<table border=\"1\" class=\"dataframe\">\n",
       "  <thead>\n",
       "    <tr style=\"text-align: right;\">\n",
       "      <th></th>\n",
       "      <th>treatment</th>\n",
       "      <th>X_1</th>\n",
       "      <th>X_2</th>\n",
       "      <th>X_3</th>\n",
       "      <th>X_4</th>\n",
       "      <th>X_5</th>\n",
       "      <th>X_6</th>\n",
       "      <th>X_7</th>\n",
       "      <th>X_8</th>\n",
       "      <th>X_9</th>\n",
       "      <th>...</th>\n",
       "      <th>X_14</th>\n",
       "      <th>X_15</th>\n",
       "      <th>X_16</th>\n",
       "      <th>X_17</th>\n",
       "      <th>X_18</th>\n",
       "      <th>X_19</th>\n",
       "      <th>X_20</th>\n",
       "      <th>X_21</th>\n",
       "      <th>X_22</th>\n",
       "      <th>conversion</th>\n",
       "    </tr>\n",
       "  </thead>\n",
       "  <tbody>\n",
       "    <tr>\n",
       "      <th>0</th>\n",
       "      <td>control</td>\n",
       "      <td>0.034351</td>\n",
       "      <td>0.550725</td>\n",
       "      <td>-1.348524</td>\n",
       "      <td>-0.029591</td>\n",
       "      <td>0.499535</td>\n",
       "      <td>-0.412464</td>\n",
       "      <td>0.933588</td>\n",
       "      <td>-0.522954</td>\n",
       "      <td>-0.029591</td>\n",
       "      <td>...</td>\n",
       "      <td>-0.314573</td>\n",
       "      <td>-0.879456</td>\n",
       "      <td>0.640264</td>\n",
       "      <td>1.165722</td>\n",
       "      <td>0.570495</td>\n",
       "      <td>0.529443</td>\n",
       "      <td>0.227962</td>\n",
       "      <td>1.929914</td>\n",
       "      <td>0.798664</td>\n",
       "      <td>0</td>\n",
       "    </tr>\n",
       "    <tr>\n",
       "      <th>1</th>\n",
       "      <td>control</td>\n",
       "      <td>-1.059404</td>\n",
       "      <td>0.299404</td>\n",
       "      <td>0.220273</td>\n",
       "      <td>-1.569660</td>\n",
       "      <td>1.084204</td>\n",
       "      <td>-2.167118</td>\n",
       "      <td>1.216469</td>\n",
       "      <td>-0.744547</td>\n",
       "      <td>-1.569660</td>\n",
       "      <td>...</td>\n",
       "      <td>0.303664</td>\n",
       "      <td>1.080643</td>\n",
       "      <td>2.646483</td>\n",
       "      <td>-0.329690</td>\n",
       "      <td>1.725636</td>\n",
       "      <td>1.434649</td>\n",
       "      <td>-2.064893</td>\n",
       "      <td>0.188000</td>\n",
       "      <td>-1.134651</td>\n",
       "      <td>0</td>\n",
       "    </tr>\n",
       "    <tr>\n",
       "      <th>2</th>\n",
       "      <td>control</td>\n",
       "      <td>0.051934</td>\n",
       "      <td>2.338729</td>\n",
       "      <td>-0.341017</td>\n",
       "      <td>-1.099362</td>\n",
       "      <td>0.693090</td>\n",
       "      <td>-2.424267</td>\n",
       "      <td>1.572066</td>\n",
       "      <td>-0.212798</td>\n",
       "      <td>-1.099362</td>\n",
       "      <td>...</td>\n",
       "      <td>-0.083721</td>\n",
       "      <td>-1.981712</td>\n",
       "      <td>0.224777</td>\n",
       "      <td>2.038004</td>\n",
       "      <td>2.516398</td>\n",
       "      <td>2.324280</td>\n",
       "      <td>-3.182196</td>\n",
       "      <td>-0.888490</td>\n",
       "      <td>-1.402561</td>\n",
       "      <td>0</td>\n",
       "    </tr>\n",
       "    <tr>\n",
       "      <th>3</th>\n",
       "      <td>treatment</td>\n",
       "      <td>0.667770</td>\n",
       "      <td>0.539316</td>\n",
       "      <td>0.468719</td>\n",
       "      <td>-0.840885</td>\n",
       "      <td>-0.708331</td>\n",
       "      <td>0.126634</td>\n",
       "      <td>1.275854</td>\n",
       "      <td>-0.954919</td>\n",
       "      <td>-0.840885</td>\n",
       "      <td>...</td>\n",
       "      <td>-0.752011</td>\n",
       "      <td>-0.347319</td>\n",
       "      <td>-1.659402</td>\n",
       "      <td>-0.871980</td>\n",
       "      <td>-0.893513</td>\n",
       "      <td>-0.658078</td>\n",
       "      <td>-2.704997</td>\n",
       "      <td>-0.390745</td>\n",
       "      <td>-1.578004</td>\n",
       "      <td>1</td>\n",
       "    </tr>\n",
       "    <tr>\n",
       "      <th>4</th>\n",
       "      <td>control</td>\n",
       "      <td>-1.416158</td>\n",
       "      <td>2.486628</td>\n",
       "      <td>0.496402</td>\n",
       "      <td>-1.174618</td>\n",
       "      <td>2.738267</td>\n",
       "      <td>-4.756755</td>\n",
       "      <td>-0.180918</td>\n",
       "      <td>-1.281432</td>\n",
       "      <td>-1.174618</td>\n",
       "      <td>...</td>\n",
       "      <td>-1.198151</td>\n",
       "      <td>-0.232961</td>\n",
       "      <td>0.948875</td>\n",
       "      <td>1.210523</td>\n",
       "      <td>1.536723</td>\n",
       "      <td>1.548610</td>\n",
       "      <td>-0.926435</td>\n",
       "      <td>0.972459</td>\n",
       "      <td>-0.711251</td>\n",
       "      <td>0</td>\n",
       "    </tr>\n",
       "    <tr>\n",
       "      <th>...</th>\n",
       "      <td>...</td>\n",
       "      <td>...</td>\n",
       "      <td>...</td>\n",
       "      <td>...</td>\n",
       "      <td>...</td>\n",
       "      <td>...</td>\n",
       "      <td>...</td>\n",
       "      <td>...</td>\n",
       "      <td>...</td>\n",
       "      <td>...</td>\n",
       "      <td>...</td>\n",
       "      <td>...</td>\n",
       "      <td>...</td>\n",
       "      <td>...</td>\n",
       "      <td>...</td>\n",
       "      <td>...</td>\n",
       "      <td>...</td>\n",
       "      <td>...</td>\n",
       "      <td>...</td>\n",
       "      <td>...</td>\n",
       "      <td>...</td>\n",
       "    </tr>\n",
       "    <tr>\n",
       "      <th>199995</th>\n",
       "      <td>control</td>\n",
       "      <td>-1.309691</td>\n",
       "      <td>2.925832</td>\n",
       "      <td>-0.584101</td>\n",
       "      <td>-1.232931</td>\n",
       "      <td>2.601140</td>\n",
       "      <td>-4.943288</td>\n",
       "      <td>0.416758</td>\n",
       "      <td>-0.083626</td>\n",
       "      <td>-1.232931</td>\n",
       "      <td>...</td>\n",
       "      <td>1.041399</td>\n",
       "      <td>0.975982</td>\n",
       "      <td>0.636279</td>\n",
       "      <td>1.073711</td>\n",
       "      <td>-0.406603</td>\n",
       "      <td>0.027760</td>\n",
       "      <td>-0.478887</td>\n",
       "      <td>1.265746</td>\n",
       "      <td>0.059865</td>\n",
       "      <td>0</td>\n",
       "    </tr>\n",
       "    <tr>\n",
       "      <th>199996</th>\n",
       "      <td>control</td>\n",
       "      <td>-1.131361</td>\n",
       "      <td>1.562317</td>\n",
       "      <td>1.265630</td>\n",
       "      <td>-1.361879</td>\n",
       "      <td>1.169695</td>\n",
       "      <td>-3.247293</td>\n",
       "      <td>1.253718</td>\n",
       "      <td>-1.968727</td>\n",
       "      <td>-1.361879</td>\n",
       "      <td>...</td>\n",
       "      <td>-0.485884</td>\n",
       "      <td>0.674360</td>\n",
       "      <td>0.892121</td>\n",
       "      <td>0.893261</td>\n",
       "      <td>0.182528</td>\n",
       "      <td>0.338611</td>\n",
       "      <td>1.006028</td>\n",
       "      <td>-1.943045</td>\n",
       "      <td>-0.145377</td>\n",
       "      <td>0</td>\n",
       "    </tr>\n",
       "    <tr>\n",
       "      <th>199997</th>\n",
       "      <td>control</td>\n",
       "      <td>0.442433</td>\n",
       "      <td>2.202153</td>\n",
       "      <td>-0.380019</td>\n",
       "      <td>-0.474935</td>\n",
       "      <td>0.766306</td>\n",
       "      <td>-1.722354</td>\n",
       "      <td>0.751083</td>\n",
       "      <td>0.595800</td>\n",
       "      <td>-0.474935</td>\n",
       "      <td>...</td>\n",
       "      <td>1.098074</td>\n",
       "      <td>0.299918</td>\n",
       "      <td>0.718669</td>\n",
       "      <td>1.031289</td>\n",
       "      <td>0.398560</td>\n",
       "      <td>0.591750</td>\n",
       "      <td>1.620529</td>\n",
       "      <td>-1.081292</td>\n",
       "      <td>0.995816</td>\n",
       "      <td>0</td>\n",
       "    </tr>\n",
       "    <tr>\n",
       "      <th>199998</th>\n",
       "      <td>treatment</td>\n",
       "      <td>-0.084879</td>\n",
       "      <td>0.423688</td>\n",
       "      <td>0.389931</td>\n",
       "      <td>-1.996510</td>\n",
       "      <td>-0.123098</td>\n",
       "      <td>-1.103408</td>\n",
       "      <td>2.207197</td>\n",
       "      <td>0.402468</td>\n",
       "      <td>-1.996510</td>\n",
       "      <td>...</td>\n",
       "      <td>-0.511203</td>\n",
       "      <td>-0.150816</td>\n",
       "      <td>-0.256026</td>\n",
       "      <td>2.231563</td>\n",
       "      <td>0.848577</td>\n",
       "      <td>0.739235</td>\n",
       "      <td>1.656343</td>\n",
       "      <td>0.436962</td>\n",
       "      <td>0.622010</td>\n",
       "      <td>0</td>\n",
       "    </tr>\n",
       "    <tr>\n",
       "      <th>199999</th>\n",
       "      <td>control</td>\n",
       "      <td>0.105915</td>\n",
       "      <td>-0.602186</td>\n",
       "      <td>-1.358102</td>\n",
       "      <td>-1.254886</td>\n",
       "      <td>-0.087760</td>\n",
       "      <td>0.278812</td>\n",
       "      <td>1.719685</td>\n",
       "      <td>-0.027311</td>\n",
       "      <td>-1.254886</td>\n",
       "      <td>...</td>\n",
       "      <td>-0.994671</td>\n",
       "      <td>-1.538281</td>\n",
       "      <td>1.402783</td>\n",
       "      <td>0.555712</td>\n",
       "      <td>0.629730</td>\n",
       "      <td>0.436687</td>\n",
       "      <td>2.087262</td>\n",
       "      <td>0.136364</td>\n",
       "      <td>1.724350</td>\n",
       "      <td>0</td>\n",
       "    </tr>\n",
       "  </tbody>\n",
       "</table>\n",
       "<p>200000 rows × 24 columns</p>\n",
       "</div>"
      ],
      "text/plain": [
       "        treatment       X_1       X_2       X_3       X_4       X_5       X_6  \\\n",
       "0         control  0.034351  0.550725 -1.348524 -0.029591  0.499535 -0.412464   \n",
       "1         control -1.059404  0.299404  0.220273 -1.569660  1.084204 -2.167118   \n",
       "2         control  0.051934  2.338729 -0.341017 -1.099362  0.693090 -2.424267   \n",
       "3       treatment  0.667770  0.539316  0.468719 -0.840885 -0.708331  0.126634   \n",
       "4         control -1.416158  2.486628  0.496402 -1.174618  2.738267 -4.756755   \n",
       "...           ...       ...       ...       ...       ...       ...       ...   \n",
       "199995    control -1.309691  2.925832 -0.584101 -1.232931  2.601140 -4.943288   \n",
       "199996    control -1.131361  1.562317  1.265630 -1.361879  1.169695 -3.247293   \n",
       "199997    control  0.442433  2.202153 -0.380019 -0.474935  0.766306 -1.722354   \n",
       "199998  treatment -0.084879  0.423688  0.389931 -1.996510 -0.123098 -1.103408   \n",
       "199999    control  0.105915 -0.602186 -1.358102 -1.254886 -0.087760  0.278812   \n",
       "\n",
       "             X_7       X_8       X_9  ...      X_14      X_15      X_16  \\\n",
       "0       0.933588 -0.522954 -0.029591  ... -0.314573 -0.879456  0.640264   \n",
       "1       1.216469 -0.744547 -1.569660  ...  0.303664  1.080643  2.646483   \n",
       "2       1.572066 -0.212798 -1.099362  ... -0.083721 -1.981712  0.224777   \n",
       "3       1.275854 -0.954919 -0.840885  ... -0.752011 -0.347319 -1.659402   \n",
       "4      -0.180918 -1.281432 -1.174618  ... -1.198151 -0.232961  0.948875   \n",
       "...          ...       ...       ...  ...       ...       ...       ...   \n",
       "199995  0.416758 -0.083626 -1.232931  ...  1.041399  0.975982  0.636279   \n",
       "199996  1.253718 -1.968727 -1.361879  ... -0.485884  0.674360  0.892121   \n",
       "199997  0.751083  0.595800 -0.474935  ...  1.098074  0.299918  0.718669   \n",
       "199998  2.207197  0.402468 -1.996510  ... -0.511203 -0.150816 -0.256026   \n",
       "199999  1.719685 -0.027311 -1.254886  ... -0.994671 -1.538281  1.402783   \n",
       "\n",
       "            X_17      X_18      X_19      X_20      X_21      X_22  conversion  \n",
       "0       1.165722  0.570495  0.529443  0.227962  1.929914  0.798664           0  \n",
       "1      -0.329690  1.725636  1.434649 -2.064893  0.188000 -1.134651           0  \n",
       "2       2.038004  2.516398  2.324280 -3.182196 -0.888490 -1.402561           0  \n",
       "3      -0.871980 -0.893513 -0.658078 -2.704997 -0.390745 -1.578004           1  \n",
       "4       1.210523  1.536723  1.548610 -0.926435  0.972459 -0.711251           0  \n",
       "...          ...       ...       ...       ...       ...       ...         ...  \n",
       "199995  1.073711 -0.406603  0.027760 -0.478887  1.265746  0.059865           0  \n",
       "199996  0.893261  0.182528  0.338611  1.006028 -1.943045 -0.145377           0  \n",
       "199997  1.031289  0.398560  0.591750  1.620529 -1.081292  0.995816           0  \n",
       "199998  2.231563  0.848577  0.739235  1.656343  0.436962  0.622010           0  \n",
       "199999  0.555712  0.629730  0.436687  2.087262  0.136364  1.724350           0  \n",
       "\n",
       "[200000 rows x 24 columns]"
      ]
     },
     "execution_count": 44,
     "metadata": {},
     "output_type": "execute_result"
    }
   ],
   "source": [
    "df_student_3"
   ]
  },
  {
   "cell_type": "code",
   "execution_count": 45,
   "metadata": {},
   "outputs": [
    {
     "data": {
      "text/plain": [
       "treatment    100000\n",
       "control      100000\n",
       "Name: treatment, dtype: int64"
      ]
     },
     "execution_count": 45,
     "metadata": {},
     "output_type": "execute_result"
    }
   ],
   "source": [
    "df_student_3.treatment.value_counts()"
   ]
  },
  {
   "cell_type": "code",
   "execution_count": 46,
   "metadata": {},
   "outputs": [
    {
     "data": {
      "text/plain": [
       "0    169413\n",
       "1     30587\n",
       "Name: conversion, dtype: int64"
      ]
     },
     "execution_count": 46,
     "metadata": {},
     "output_type": "execute_result"
    }
   ],
   "source": [
    "df_student_3.conversion.value_counts()"
   ]
  },
  {
   "cell_type": "code",
   "execution_count": 47,
   "metadata": {},
   "outputs": [
    {
     "data": {
      "text/plain": [
       "0    81753\n",
       "1    18247\n",
       "Name: conversion, dtype: int64"
      ]
     },
     "execution_count": 47,
     "metadata": {},
     "output_type": "execute_result"
    }
   ],
   "source": [
    "df_student_3[df_student_3.treatment == 'treatment'].conversion.value_counts()"
   ]
  },
  {
   "cell_type": "code",
   "execution_count": 48,
   "metadata": {},
   "outputs": [
    {
     "data": {
      "text/plain": [
       "0    87660\n",
       "1    12340\n",
       "Name: conversion, dtype: int64"
      ]
     },
     "execution_count": 48,
     "metadata": {},
     "output_type": "execute_result"
    }
   ],
   "source": [
    "df_student_3[df_student_3.treatment == 'control'].conversion.value_counts()"
   ]
  },
  {
   "cell_type": "code",
   "execution_count": 49,
   "metadata": {},
   "outputs": [],
   "source": [
    "# Для графика\n",
    "conv1 = df_student_3[df_student_3.treatment == 'treatment'].conversion\n",
    "conv1 = conv1.reset_index().conversion\n",
    "conv2 = df_student_3[df_student_3.treatment == 'control'].conversion\n",
    "conv2 = conv2.reset_index().conversion\n",
    "summa1 = []\n",
    "for i in range(len(conv1)):\n",
    "    stroka = conv1[:(i+1)].sum()\n",
    "    if conv1[i] == 1:\n",
    "        summa1.append(stroka)\n",
    "    else:\n",
    "        summa1.append(0)\n",
    "summa2 = []\n",
    "for i in range(len(conv2)):\n",
    "    stroka = conv2[:(i+1)].sum()\n",
    "    if conv2[i] == 1:\n",
    "        summa2.append(stroka)\n",
    "    else:\n",
    "        summa2.append(0)       "
   ]
  },
  {
   "cell_type": "markdown",
   "metadata": {},
   "source": [
    "Построим график конверсии"
   ]
  },
  {
   "cell_type": "code",
   "execution_count": 50,
   "metadata": {},
   "outputs": [
    {
     "data": {
      "text/plain": [
       "<matplotlib.legend.Legend at 0x20f925a3070>"
      ]
     },
     "execution_count": 50,
     "metadata": {},
     "output_type": "execute_result"
    },
    {
     "data": {
      "image/png": "[encoded data removed]",
      "text/plain": [
       "<Figure size 432x288 with 1 Axes>"
      ]
     },
     "metadata": {
      "needs_background": "light"
     },
     "output_type": "display_data"
    }
   ],
   "source": [
    "plt.figure()\n",
    "plt.plot(summa1,'.')\n",
    "plt.plot(summa2,'.')\n",
    "plt.ylim(200)\n",
    "plt.legend(['Treatment', 'Control'])"
   ]
  },
  {
   "cell_type": "markdown",
   "metadata": {},
   "source": [
    "Из графика видно, что конверсия в тритмент группе выше, следовательно есть эффект он нашего воздействия, и больше людей подключит услугу."
   ]
  },
  {
   "cell_type": "code",
   "execution_count": 51,
   "metadata": {},
   "outputs": [],
   "source": [
    "df_student_3['treatment'].replace(['control'], ['0'], regex=True, inplace = True)\n",
    "df_student_3['treatment'].replace(['treatment'], ['1'], regex=True, inplace = True)"
   ]
  },
  {
   "cell_type": "code",
   "execution_count": 52,
   "metadata": {},
   "outputs": [],
   "source": [
    "df_treat_3 = df_student_3[df_student_3.treatment == '1']\n",
    "df_control_3 = df_student_3[df_student_3.treatment == '0']"
   ]
  },
  {
   "cell_type": "code",
   "execution_count": 124,
   "metadata": {},
   "outputs": [
    {
     "data": {
      "text/plain": [
       "0.4996250000000001"
      ]
     },
     "execution_count": 124,
     "metadata": {},
     "output_type": "execute_result"
    }
   ],
   "source": [
    "logreg = LogisticRegression()\n",
    "cross_val_score(logreg, df_student_3.drop(columns = ['conversion', 'treatment']), df_student_3.treatment).mean()"
   ]
  },
  {
   "cell_type": "markdown",
   "metadata": {},
   "source": [
    "Логистическая регрессия выдает результат близкий к 0.5, следовательно с большой вероятностью данные распределены рандомной.\n",
    "Следовательно мы можем сделать предположения об условной независимости (Conditional Independence Assumption — CIA): разделение на целевую и контрольную группу происходит случайно, а не в зависимости от значения какого-то признака."
   ]
  },
  {
   "cell_type": "markdown",
   "metadata": {},
   "source": [
    "### 1. Оценка ATE"
   ]
  },
  {
   "cell_type": "markdown",
   "metadata": {},
   "source": [
    "Регрессией"
   ]
  },
  {
   "cell_type": "code",
   "execution_count": 107,
   "metadata": {},
   "outputs": [],
   "source": [
    "linreg = LinearRegression()\n",
    "linreg.fit(df_student_3.drop(columns = ['conversion']), df_student_3.conversion)\n",
    "ATE = linreg.coef_[0]"
   ]
  },
  {
   "cell_type": "code",
   "execution_count": 108,
   "metadata": {},
   "outputs": [
    {
     "name": "stdout",
     "output_type": "stream",
     "text": [
      "ATE =  0.060573854556001984\n"
     ]
    }
   ],
   "source": [
    "print('ATE = ', ATE)"
   ]
  },
  {
   "cell_type": "markdown",
   "metadata": {},
   "source": [
    "Разницей средних"
   ]
  },
  {
   "cell_type": "code",
   "execution_count": 138,
   "metadata": {},
   "outputs": [
    {
     "data": {
      "text/plain": [
       "0.05907"
      ]
     },
     "execution_count": 138,
     "metadata": {},
     "output_type": "execute_result"
    }
   ],
   "source": [
    "df_treat_3.conversion.mean() - df_control_3.conversion.mean()"
   ]
  },
  {
   "cell_type": "markdown",
   "metadata": {},
   "source": [
    "### 2. Оценка CATE для каждого наблюдения"
   ]
  },
  {
   "cell_type": "code",
   "execution_count": 112,
   "metadata": {},
   "outputs": [],
   "source": [
    "import econml\n",
    "from econml.metalearners import TLearner, SLearner, XLearner\n",
    "from sklearn.ensemble import RandomForestRegressor, RandomForestClassifier, GradientBoostingRegressor"
   ]
  },
  {
   "cell_type": "markdown",
   "metadata": {},
   "source": [
    "Произведем оценку CATE при помощи трех методов: S-learner, T-learner, X-learner."
   ]
  },
  {
   "cell_type": "code",
   "execution_count": 113,
   "metadata": {},
   "outputs": [],
   "source": [
    "overall_model = GradientBoostingRegressor(n_estimators=100, max_depth=6)\n",
    "S_learner = SLearner(overall_model)\n",
    "S_learner.fit(df_student_3.conversion, df_student_3.treatment, X=df_student_3.drop(columns=['treatment', 'conversion']))\n",
    "S_te = S_learner.effect(df_student_3.drop(columns=['treatment', 'conversion']))"
   ]
  },
  {
   "cell_type": "code",
   "execution_count": 244,
   "metadata": {},
   "outputs": [
    {
     "data": {
      "text/html": [
       "<div>\n",
       "<style scoped>\n",
       "    .dataframe tbody tr th:only-of-type {\n",
       "        vertical-align: middle;\n",
       "    }\n",
       "\n",
       "    .dataframe tbody tr th {\n",
       "        vertical-align: top;\n",
       "    }\n",
       "\n",
       "    .dataframe thead th {\n",
       "        text-align: right;\n",
       "    }\n",
       "</style>\n",
       "<table border=\"1\" class=\"dataframe\">\n",
       "  <thead>\n",
       "    <tr style=\"text-align: right;\">\n",
       "      <th></th>\n",
       "      <th>treatment</th>\n",
       "      <th>X_1</th>\n",
       "      <th>X_2</th>\n",
       "      <th>X_3</th>\n",
       "      <th>X_4</th>\n",
       "      <th>X_5</th>\n",
       "      <th>X_6</th>\n",
       "      <th>X_7</th>\n",
       "      <th>X_8</th>\n",
       "      <th>X_9</th>\n",
       "      <th>...</th>\n",
       "      <th>X_15</th>\n",
       "      <th>X_16</th>\n",
       "      <th>X_17</th>\n",
       "      <th>X_18</th>\n",
       "      <th>X_19</th>\n",
       "      <th>X_20</th>\n",
       "      <th>X_21</th>\n",
       "      <th>X_22</th>\n",
       "      <th>conversion</th>\n",
       "      <th>S_learn</th>\n",
       "    </tr>\n",
       "  </thead>\n",
       "  <tbody>\n",
       "    <tr>\n",
       "      <th>0</th>\n",
       "      <td>0</td>\n",
       "      <td>0.034351</td>\n",
       "      <td>0.550725</td>\n",
       "      <td>-1.348524</td>\n",
       "      <td>-0.029591</td>\n",
       "      <td>0.499535</td>\n",
       "      <td>-0.412464</td>\n",
       "      <td>0.933588</td>\n",
       "      <td>-0.522954</td>\n",
       "      <td>-0.029591</td>\n",
       "      <td>...</td>\n",
       "      <td>-0.879456</td>\n",
       "      <td>0.640264</td>\n",
       "      <td>1.165722</td>\n",
       "      <td>0.570495</td>\n",
       "      <td>0.529443</td>\n",
       "      <td>0.227962</td>\n",
       "      <td>1.929914</td>\n",
       "      <td>0.798664</td>\n",
       "      <td>0</td>\n",
       "      <td>0.011566</td>\n",
       "    </tr>\n",
       "    <tr>\n",
       "      <th>1</th>\n",
       "      <td>0</td>\n",
       "      <td>-1.059404</td>\n",
       "      <td>0.299404</td>\n",
       "      <td>0.220273</td>\n",
       "      <td>-1.569660</td>\n",
       "      <td>1.084204</td>\n",
       "      <td>-2.167118</td>\n",
       "      <td>1.216469</td>\n",
       "      <td>-0.744547</td>\n",
       "      <td>-1.569660</td>\n",
       "      <td>...</td>\n",
       "      <td>1.080643</td>\n",
       "      <td>2.646483</td>\n",
       "      <td>-0.329690</td>\n",
       "      <td>1.725636</td>\n",
       "      <td>1.434649</td>\n",
       "      <td>-2.064893</td>\n",
       "      <td>0.188000</td>\n",
       "      <td>-1.134651</td>\n",
       "      <td>0</td>\n",
       "      <td>0.001350</td>\n",
       "    </tr>\n",
       "    <tr>\n",
       "      <th>2</th>\n",
       "      <td>0</td>\n",
       "      <td>0.051934</td>\n",
       "      <td>2.338729</td>\n",
       "      <td>-0.341017</td>\n",
       "      <td>-1.099362</td>\n",
       "      <td>0.693090</td>\n",
       "      <td>-2.424267</td>\n",
       "      <td>1.572066</td>\n",
       "      <td>-0.212798</td>\n",
       "      <td>-1.099362</td>\n",
       "      <td>...</td>\n",
       "      <td>-1.981712</td>\n",
       "      <td>0.224777</td>\n",
       "      <td>2.038004</td>\n",
       "      <td>2.516398</td>\n",
       "      <td>2.324280</td>\n",
       "      <td>-3.182196</td>\n",
       "      <td>-0.888490</td>\n",
       "      <td>-1.402561</td>\n",
       "      <td>0</td>\n",
       "      <td>0.011942</td>\n",
       "    </tr>\n",
       "    <tr>\n",
       "      <th>3</th>\n",
       "      <td>1</td>\n",
       "      <td>0.667770</td>\n",
       "      <td>0.539316</td>\n",
       "      <td>0.468719</td>\n",
       "      <td>-0.840885</td>\n",
       "      <td>-0.708331</td>\n",
       "      <td>0.126634</td>\n",
       "      <td>1.275854</td>\n",
       "      <td>-0.954919</td>\n",
       "      <td>-0.840885</td>\n",
       "      <td>...</td>\n",
       "      <td>-0.347319</td>\n",
       "      <td>-1.659402</td>\n",
       "      <td>-0.871980</td>\n",
       "      <td>-0.893513</td>\n",
       "      <td>-0.658078</td>\n",
       "      <td>-2.704997</td>\n",
       "      <td>-0.390745</td>\n",
       "      <td>-1.578004</td>\n",
       "      <td>1</td>\n",
       "      <td>1.006130</td>\n",
       "    </tr>\n",
       "    <tr>\n",
       "      <th>4</th>\n",
       "      <td>0</td>\n",
       "      <td>-1.416158</td>\n",
       "      <td>2.486628</td>\n",
       "      <td>0.496402</td>\n",
       "      <td>-1.174618</td>\n",
       "      <td>2.738267</td>\n",
       "      <td>-4.756755</td>\n",
       "      <td>-0.180918</td>\n",
       "      <td>-1.281432</td>\n",
       "      <td>-1.174618</td>\n",
       "      <td>...</td>\n",
       "      <td>-0.232961</td>\n",
       "      <td>0.948875</td>\n",
       "      <td>1.210523</td>\n",
       "      <td>1.536723</td>\n",
       "      <td>1.548610</td>\n",
       "      <td>-0.926435</td>\n",
       "      <td>0.972459</td>\n",
       "      <td>-0.711251</td>\n",
       "      <td>0</td>\n",
       "      <td>0.006117</td>\n",
       "    </tr>\n",
       "  </tbody>\n",
       "</table>\n",
       "<p>5 rows × 25 columns</p>\n",
       "</div>"
      ],
      "text/plain": [
       "  treatment       X_1       X_2       X_3       X_4       X_5       X_6  \\\n",
       "0         0  0.034351  0.550725 -1.348524 -0.029591  0.499535 -0.412464   \n",
       "1         0 -1.059404  0.299404  0.220273 -1.569660  1.084204 -2.167118   \n",
       "2         0  0.051934  2.338729 -0.341017 -1.099362  0.693090 -2.424267   \n",
       "3         1  0.667770  0.539316  0.468719 -0.840885 -0.708331  0.126634   \n",
       "4         0 -1.416158  2.486628  0.496402 -1.174618  2.738267 -4.756755   \n",
       "\n",
       "        X_7       X_8       X_9  ...      X_15      X_16      X_17      X_18  \\\n",
       "0  0.933588 -0.522954 -0.029591  ... -0.879456  0.640264  1.165722  0.570495   \n",
       "1  1.216469 -0.744547 -1.569660  ...  1.080643  2.646483 -0.329690  1.725636   \n",
       "2  1.572066 -0.212798 -1.099362  ... -1.981712  0.224777  2.038004  2.516398   \n",
       "3  1.275854 -0.954919 -0.840885  ... -0.347319 -1.659402 -0.871980 -0.893513   \n",
       "4 -0.180918 -1.281432 -1.174618  ... -0.232961  0.948875  1.210523  1.536723   \n",
       "\n",
       "       X_19      X_20      X_21      X_22  conversion   S_learn  \n",
       "0  0.529443  0.227962  1.929914  0.798664           0  0.011566  \n",
       "1  1.434649 -2.064893  0.188000 -1.134651           0  0.001350  \n",
       "2  2.324280 -3.182196 -0.888490 -1.402561           0  0.011942  \n",
       "3 -0.658078 -2.704997 -0.390745 -1.578004           1  1.006130  \n",
       "4  1.548610 -0.926435  0.972459 -0.711251           0  0.006117  \n",
       "\n",
       "[5 rows x 25 columns]"
      ]
     },
     "execution_count": 244,
     "metadata": {},
     "output_type": "execute_result"
    }
   ],
   "source": [
    "df_student_3_S = df_student_3.copy()\n",
    "df_student_3_S['S_learn'] = S_te\n",
    "df_student_3_S.head()"
   ]
  },
  {
   "cell_type": "code",
   "execution_count": 115,
   "metadata": {},
   "outputs": [],
   "source": [
    "models = GradientBoostingRegressor(n_estimators=100, max_depth=6)\n",
    "T_learner = TLearner(models)"
   ]
  },
  {
   "cell_type": "code",
   "execution_count": 116,
   "metadata": {},
   "outputs": [
    {
     "data": {
      "text/plain": [
       "<econml.metalearners.TLearner at 0x20f9ef4eeb0>"
      ]
     },
     "execution_count": 116,
     "metadata": {},
     "output_type": "execute_result"
    }
   ],
   "source": [
    "T_learner.fit(df_student_3.conversion, df_student_3.treatment, X=df_student_3.drop(columns=['treatment', 'conversion']))"
   ]
  },
  {
   "cell_type": "code",
   "execution_count": 117,
   "metadata": {},
   "outputs": [],
   "source": [
    "T_te = T_learner.effect(df_student_3.drop(columns=['treatment', 'conversion']))"
   ]
  },
  {
   "cell_type": "code",
   "execution_count": 241,
   "metadata": {},
   "outputs": [
    {
     "data": {
      "text/html": [
       "<div>\n",
       "<style scoped>\n",
       "    .dataframe tbody tr th:only-of-type {\n",
       "        vertical-align: middle;\n",
       "    }\n",
       "\n",
       "    .dataframe tbody tr th {\n",
       "        vertical-align: top;\n",
       "    }\n",
       "\n",
       "    .dataframe thead th {\n",
       "        text-align: right;\n",
       "    }\n",
       "</style>\n",
       "<table border=\"1\" class=\"dataframe\">\n",
       "  <thead>\n",
       "    <tr style=\"text-align: right;\">\n",
       "      <th></th>\n",
       "      <th>treatment</th>\n",
       "      <th>X_1</th>\n",
       "      <th>X_2</th>\n",
       "      <th>X_3</th>\n",
       "      <th>X_4</th>\n",
       "      <th>X_5</th>\n",
       "      <th>X_6</th>\n",
       "      <th>X_7</th>\n",
       "      <th>X_8</th>\n",
       "      <th>X_9</th>\n",
       "      <th>...</th>\n",
       "      <th>X_15</th>\n",
       "      <th>X_16</th>\n",
       "      <th>X_17</th>\n",
       "      <th>X_18</th>\n",
       "      <th>X_19</th>\n",
       "      <th>X_20</th>\n",
       "      <th>X_21</th>\n",
       "      <th>X_22</th>\n",
       "      <th>conversion</th>\n",
       "      <th>T_learn</th>\n",
       "    </tr>\n",
       "  </thead>\n",
       "  <tbody>\n",
       "    <tr>\n",
       "      <th>0</th>\n",
       "      <td>0</td>\n",
       "      <td>0.034351</td>\n",
       "      <td>0.550725</td>\n",
       "      <td>-1.348524</td>\n",
       "      <td>-0.029591</td>\n",
       "      <td>0.499535</td>\n",
       "      <td>-0.412464</td>\n",
       "      <td>0.933588</td>\n",
       "      <td>-0.522954</td>\n",
       "      <td>-0.029591</td>\n",
       "      <td>...</td>\n",
       "      <td>-0.879456</td>\n",
       "      <td>0.640264</td>\n",
       "      <td>1.165722</td>\n",
       "      <td>0.570495</td>\n",
       "      <td>0.529443</td>\n",
       "      <td>0.227962</td>\n",
       "      <td>1.929914</td>\n",
       "      <td>0.798664</td>\n",
       "      <td>0</td>\n",
       "      <td>0.007077</td>\n",
       "    </tr>\n",
       "    <tr>\n",
       "      <th>1</th>\n",
       "      <td>0</td>\n",
       "      <td>-1.059404</td>\n",
       "      <td>0.299404</td>\n",
       "      <td>0.220273</td>\n",
       "      <td>-1.569660</td>\n",
       "      <td>1.084204</td>\n",
       "      <td>-2.167118</td>\n",
       "      <td>1.216469</td>\n",
       "      <td>-0.744547</td>\n",
       "      <td>-1.569660</td>\n",
       "      <td>...</td>\n",
       "      <td>1.080643</td>\n",
       "      <td>2.646483</td>\n",
       "      <td>-0.329690</td>\n",
       "      <td>1.725636</td>\n",
       "      <td>1.434649</td>\n",
       "      <td>-2.064893</td>\n",
       "      <td>0.188000</td>\n",
       "      <td>-1.134651</td>\n",
       "      <td>0</td>\n",
       "      <td>-0.006494</td>\n",
       "    </tr>\n",
       "    <tr>\n",
       "      <th>2</th>\n",
       "      <td>0</td>\n",
       "      <td>0.051934</td>\n",
       "      <td>2.338729</td>\n",
       "      <td>-0.341017</td>\n",
       "      <td>-1.099362</td>\n",
       "      <td>0.693090</td>\n",
       "      <td>-2.424267</td>\n",
       "      <td>1.572066</td>\n",
       "      <td>-0.212798</td>\n",
       "      <td>-1.099362</td>\n",
       "      <td>...</td>\n",
       "      <td>-1.981712</td>\n",
       "      <td>0.224777</td>\n",
       "      <td>2.038004</td>\n",
       "      <td>2.516398</td>\n",
       "      <td>2.324280</td>\n",
       "      <td>-3.182196</td>\n",
       "      <td>-0.888490</td>\n",
       "      <td>-1.402561</td>\n",
       "      <td>0</td>\n",
       "      <td>0.010761</td>\n",
       "    </tr>\n",
       "    <tr>\n",
       "      <th>3</th>\n",
       "      <td>1</td>\n",
       "      <td>0.667770</td>\n",
       "      <td>0.539316</td>\n",
       "      <td>0.468719</td>\n",
       "      <td>-0.840885</td>\n",
       "      <td>-0.708331</td>\n",
       "      <td>0.126634</td>\n",
       "      <td>1.275854</td>\n",
       "      <td>-0.954919</td>\n",
       "      <td>-0.840885</td>\n",
       "      <td>...</td>\n",
       "      <td>-0.347319</td>\n",
       "      <td>-1.659402</td>\n",
       "      <td>-0.871980</td>\n",
       "      <td>-0.893513</td>\n",
       "      <td>-0.658078</td>\n",
       "      <td>-2.704997</td>\n",
       "      <td>-0.390745</td>\n",
       "      <td>-1.578004</td>\n",
       "      <td>1</td>\n",
       "      <td>0.979386</td>\n",
       "    </tr>\n",
       "    <tr>\n",
       "      <th>4</th>\n",
       "      <td>0</td>\n",
       "      <td>-1.416158</td>\n",
       "      <td>2.486628</td>\n",
       "      <td>0.496402</td>\n",
       "      <td>-1.174618</td>\n",
       "      <td>2.738267</td>\n",
       "      <td>-4.756755</td>\n",
       "      <td>-0.180918</td>\n",
       "      <td>-1.281432</td>\n",
       "      <td>-1.174618</td>\n",
       "      <td>...</td>\n",
       "      <td>-0.232961</td>\n",
       "      <td>0.948875</td>\n",
       "      <td>1.210523</td>\n",
       "      <td>1.536723</td>\n",
       "      <td>1.548610</td>\n",
       "      <td>-0.926435</td>\n",
       "      <td>0.972459</td>\n",
       "      <td>-0.711251</td>\n",
       "      <td>0</td>\n",
       "      <td>0.005715</td>\n",
       "    </tr>\n",
       "  </tbody>\n",
       "</table>\n",
       "<p>5 rows × 25 columns</p>\n",
       "</div>"
      ],
      "text/plain": [
       "  treatment       X_1       X_2       X_3       X_4       X_5       X_6  \\\n",
       "0         0  0.034351  0.550725 -1.348524 -0.029591  0.499535 -0.412464   \n",
       "1         0 -1.059404  0.299404  0.220273 -1.569660  1.084204 -2.167118   \n",
       "2         0  0.051934  2.338729 -0.341017 -1.099362  0.693090 -2.424267   \n",
       "3         1  0.667770  0.539316  0.468719 -0.840885 -0.708331  0.126634   \n",
       "4         0 -1.416158  2.486628  0.496402 -1.174618  2.738267 -4.756755   \n",
       "\n",
       "        X_7       X_8       X_9  ...      X_15      X_16      X_17      X_18  \\\n",
       "0  0.933588 -0.522954 -0.029591  ... -0.879456  0.640264  1.165722  0.570495   \n",
       "1  1.216469 -0.744547 -1.569660  ...  1.080643  2.646483 -0.329690  1.725636   \n",
       "2  1.572066 -0.212798 -1.099362  ... -1.981712  0.224777  2.038004  2.516398   \n",
       "3  1.275854 -0.954919 -0.840885  ... -0.347319 -1.659402 -0.871980 -0.893513   \n",
       "4 -0.180918 -1.281432 -1.174618  ... -0.232961  0.948875  1.210523  1.536723   \n",
       "\n",
       "       X_19      X_20      X_21      X_22  conversion   T_learn  \n",
       "0  0.529443  0.227962  1.929914  0.798664           0  0.007077  \n",
       "1  1.434649 -2.064893  0.188000 -1.134651           0 -0.006494  \n",
       "2  2.324280 -3.182196 -0.888490 -1.402561           0  0.010761  \n",
       "3 -0.658078 -2.704997 -0.390745 -1.578004           1  0.979386  \n",
       "4  1.548610 -0.926435  0.972459 -0.711251           0  0.005715  \n",
       "\n",
       "[5 rows x 25 columns]"
      ]
     },
     "execution_count": 241,
     "metadata": {},
     "output_type": "execute_result"
    }
   ],
   "source": [
    "df_student_3_T = df_student_3.copy()\n",
    "df_student_3_T['T_learn'] = T_te\n",
    "df_student_3_T.head()"
   ]
  },
  {
   "cell_type": "code",
   "execution_count": 120,
   "metadata": {},
   "outputs": [],
   "source": [
    "models = GradientBoostingRegressor(n_estimators=100, max_depth=6)\n",
    "propensity_model = RandomForestClassifier(n_estimators=100, max_depth=6)\n",
    "X_learner = XLearner(models=models, propensity_model=propensity_model)\n",
    "X_learner.fit(df_student_3.conversion, df_student_3.treatment, X=df_student_3.drop(columns=['treatment', 'conversion']))\n",
    "X_te = X_learner.effect(df_student_3.drop(columns=['treatment', 'conversion']))"
   ]
  },
  {
   "cell_type": "code",
   "execution_count": 478,
   "metadata": {},
   "outputs": [
    {
     "data": {
      "text/html": [
       "<div>\n",
       "<style scoped>\n",
       "    .dataframe tbody tr th:only-of-type {\n",
       "        vertical-align: middle;\n",
       "    }\n",
       "\n",
       "    .dataframe tbody tr th {\n",
       "        vertical-align: top;\n",
       "    }\n",
       "\n",
       "    .dataframe thead th {\n",
       "        text-align: right;\n",
       "    }\n",
       "</style>\n",
       "<table border=\"1\" class=\"dataframe\">\n",
       "  <thead>\n",
       "    <tr style=\"text-align: right;\">\n",
       "      <th></th>\n",
       "      <th>treatment</th>\n",
       "      <th>X_1</th>\n",
       "      <th>X_2</th>\n",
       "      <th>X_3</th>\n",
       "      <th>X_4</th>\n",
       "      <th>X_5</th>\n",
       "      <th>X_6</th>\n",
       "      <th>X_7</th>\n",
       "      <th>X_8</th>\n",
       "      <th>X_9</th>\n",
       "      <th>...</th>\n",
       "      <th>X_15</th>\n",
       "      <th>X_16</th>\n",
       "      <th>X_17</th>\n",
       "      <th>X_18</th>\n",
       "      <th>X_19</th>\n",
       "      <th>X_20</th>\n",
       "      <th>X_21</th>\n",
       "      <th>X_22</th>\n",
       "      <th>conversion</th>\n",
       "      <th>X_learn</th>\n",
       "    </tr>\n",
       "  </thead>\n",
       "  <tbody>\n",
       "    <tr>\n",
       "      <th>0</th>\n",
       "      <td>0</td>\n",
       "      <td>0.034351</td>\n",
       "      <td>0.550725</td>\n",
       "      <td>-1.348524</td>\n",
       "      <td>-0.029591</td>\n",
       "      <td>0.499535</td>\n",
       "      <td>-0.412464</td>\n",
       "      <td>0.933588</td>\n",
       "      <td>-0.522954</td>\n",
       "      <td>-0.029591</td>\n",
       "      <td>...</td>\n",
       "      <td>-0.879456</td>\n",
       "      <td>0.640264</td>\n",
       "      <td>1.165722</td>\n",
       "      <td>0.570495</td>\n",
       "      <td>0.529443</td>\n",
       "      <td>0.227962</td>\n",
       "      <td>1.929914</td>\n",
       "      <td>0.798664</td>\n",
       "      <td>0</td>\n",
       "      <td>0.021379</td>\n",
       "    </tr>\n",
       "    <tr>\n",
       "      <th>1</th>\n",
       "      <td>0</td>\n",
       "      <td>-1.059404</td>\n",
       "      <td>0.299404</td>\n",
       "      <td>0.220273</td>\n",
       "      <td>-1.569660</td>\n",
       "      <td>1.084204</td>\n",
       "      <td>-2.167118</td>\n",
       "      <td>1.216469</td>\n",
       "      <td>-0.744547</td>\n",
       "      <td>-1.569660</td>\n",
       "      <td>...</td>\n",
       "      <td>1.080643</td>\n",
       "      <td>2.646483</td>\n",
       "      <td>-0.329690</td>\n",
       "      <td>1.725636</td>\n",
       "      <td>1.434649</td>\n",
       "      <td>-2.064893</td>\n",
       "      <td>0.188000</td>\n",
       "      <td>-1.134651</td>\n",
       "      <td>0</td>\n",
       "      <td>-0.021374</td>\n",
       "    </tr>\n",
       "    <tr>\n",
       "      <th>2</th>\n",
       "      <td>0</td>\n",
       "      <td>0.051934</td>\n",
       "      <td>2.338729</td>\n",
       "      <td>-0.341017</td>\n",
       "      <td>-1.099362</td>\n",
       "      <td>0.693090</td>\n",
       "      <td>-2.424267</td>\n",
       "      <td>1.572066</td>\n",
       "      <td>-0.212798</td>\n",
       "      <td>-1.099362</td>\n",
       "      <td>...</td>\n",
       "      <td>-1.981712</td>\n",
       "      <td>0.224777</td>\n",
       "      <td>2.038004</td>\n",
       "      <td>2.516398</td>\n",
       "      <td>2.324280</td>\n",
       "      <td>-3.182196</td>\n",
       "      <td>-0.888490</td>\n",
       "      <td>-1.402561</td>\n",
       "      <td>0</td>\n",
       "      <td>0.011352</td>\n",
       "    </tr>\n",
       "    <tr>\n",
       "      <th>3</th>\n",
       "      <td>1</td>\n",
       "      <td>0.667770</td>\n",
       "      <td>0.539316</td>\n",
       "      <td>0.468719</td>\n",
       "      <td>-0.840885</td>\n",
       "      <td>-0.708331</td>\n",
       "      <td>0.126634</td>\n",
       "      <td>1.275854</td>\n",
       "      <td>-0.954919</td>\n",
       "      <td>-0.840885</td>\n",
       "      <td>...</td>\n",
       "      <td>-0.347319</td>\n",
       "      <td>-1.659402</td>\n",
       "      <td>-0.871980</td>\n",
       "      <td>-0.893513</td>\n",
       "      <td>-0.658078</td>\n",
       "      <td>-2.704997</td>\n",
       "      <td>-0.390745</td>\n",
       "      <td>-1.578004</td>\n",
       "      <td>1</td>\n",
       "      <td>0.969720</td>\n",
       "    </tr>\n",
       "    <tr>\n",
       "      <th>4</th>\n",
       "      <td>0</td>\n",
       "      <td>-1.416158</td>\n",
       "      <td>2.486628</td>\n",
       "      <td>0.496402</td>\n",
       "      <td>-1.174618</td>\n",
       "      <td>2.738267</td>\n",
       "      <td>-4.756755</td>\n",
       "      <td>-0.180918</td>\n",
       "      <td>-1.281432</td>\n",
       "      <td>-1.174618</td>\n",
       "      <td>...</td>\n",
       "      <td>-0.232961</td>\n",
       "      <td>0.948875</td>\n",
       "      <td>1.210523</td>\n",
       "      <td>1.536723</td>\n",
       "      <td>1.548610</td>\n",
       "      <td>-0.926435</td>\n",
       "      <td>0.972459</td>\n",
       "      <td>-0.711251</td>\n",
       "      <td>0</td>\n",
       "      <td>0.004957</td>\n",
       "    </tr>\n",
       "  </tbody>\n",
       "</table>\n",
       "<p>5 rows × 25 columns</p>\n",
       "</div>"
      ],
      "text/plain": [
       "  treatment       X_1       X_2       X_3       X_4       X_5       X_6  \\\n",
       "0         0  0.034351  0.550725 -1.348524 -0.029591  0.499535 -0.412464   \n",
       "1         0 -1.059404  0.299404  0.220273 -1.569660  1.084204 -2.167118   \n",
       "2         0  0.051934  2.338729 -0.341017 -1.099362  0.693090 -2.424267   \n",
       "3         1  0.667770  0.539316  0.468719 -0.840885 -0.708331  0.126634   \n",
       "4         0 -1.416158  2.486628  0.496402 -1.174618  2.738267 -4.756755   \n",
       "\n",
       "        X_7       X_8       X_9  ...      X_15      X_16      X_17      X_18  \\\n",
       "0  0.933588 -0.522954 -0.029591  ... -0.879456  0.640264  1.165722  0.570495   \n",
       "1  1.216469 -0.744547 -1.569660  ...  1.080643  2.646483 -0.329690  1.725636   \n",
       "2  1.572066 -0.212798 -1.099362  ... -1.981712  0.224777  2.038004  2.516398   \n",
       "3  1.275854 -0.954919 -0.840885  ... -0.347319 -1.659402 -0.871980 -0.893513   \n",
       "4 -0.180918 -1.281432 -1.174618  ... -0.232961  0.948875  1.210523  1.536723   \n",
       "\n",
       "       X_19      X_20      X_21      X_22  conversion   X_learn  \n",
       "0  0.529443  0.227962  1.929914  0.798664           0  0.021379  \n",
       "1  1.434649 -2.064893  0.188000 -1.134651           0 -0.021374  \n",
       "2  2.324280 -3.182196 -0.888490 -1.402561           0  0.011352  \n",
       "3 -0.658078 -2.704997 -0.390745 -1.578004           1  0.969720  \n",
       "4  1.548610 -0.926435  0.972459 -0.711251           0  0.004957  \n",
       "\n",
       "[5 rows x 25 columns]"
      ]
     },
     "execution_count": 478,
     "metadata": {},
     "output_type": "execute_result"
    }
   ],
   "source": [
    "df_student_3_X = df_student_3.copy()\n",
    "df_student_3_X['X_learn'] = X_te\n",
    "df_student_3_X.head()"
   ]
  },
  {
   "cell_type": "markdown",
   "metadata": {},
   "source": [
    "График распределения CATE в зависимости от способа"
   ]
  },
  {
   "cell_type": "code",
   "execution_count": 122,
   "metadata": {},
   "outputs": [
    {
     "data": {
      "image/png": "[encoded data removed]",
      "text/plain": [
       "<Figure size 432x288 with 1 Axes>"
      ]
     },
     "metadata": {
      "needs_background": "light"
     },
     "output_type": "display_data"
    }
   ],
   "source": [
    "plt.violinplot([np.abs(T_te), \n",
    "                np.abs(S_te),\n",
    "                np.abs(X_te),\n",
    "               ], showmeans=True)\n",
    "plt.ylabel(\"CATE\")\n",
    "plt.xticks([1, 2, 3], ['T-learner', 'S-learner', 'X-learner'])\n",
    "plt.show()"
   ]
  },
  {
   "cell_type": "markdown",
   "metadata": {},
   "source": [
    "По графикам видно, что все три метода дают приблизительно одинаковые результаты, и 90 процентов данных лежат ниже 0.2 процентов"
   ]
  },
  {
   "cell_type": "markdown",
   "metadata": {},
   "source": [
    "### 3. Рекомендации к воздействию на каждый объект"
   ]
  },
  {
   "cell_type": "markdown",
   "metadata": {},
   "source": [
    "Построим графики зависимости конверсии от CATE"
   ]
  },
  {
   "cell_type": "code",
   "execution_count": 472,
   "metadata": {},
   "outputs": [],
   "source": [
    "def graph(df, Name):\n",
    "    res = []\n",
    "    for i in np.arange(0, 1, 0.01):\n",
    "        df[df[Name] > i]\n",
    "        perem = df[df[Name] > i]\n",
    "        res.append(perem.conversion.value_counts()[1]/perem.conversion.shape[0])\n",
    "    maxim = max(res)\n",
    "    index_max = np.argmax(res)\n",
    "    plt.plot(np.arange(0, 1, 0.01), res) \n",
    "    plt.xlabel('CATE')\n",
    "    plt.title(Name)\n",
    "    plt.show()\n",
    "    print('Max_Conversion = ', maxim, '\\nCATE = ',index_max/100)"
   ]
  },
  {
   "cell_type": "code",
   "execution_count": 473,
   "metadata": {},
   "outputs": [
    {
     "data": {
      "image/png": "[encoded data removed]",
      "text/plain": [
       "<Figure size 432x288 with 1 Axes>"
      ]
     },
     "metadata": {
      "needs_background": "light"
     },
     "output_type": "display_data"
    },
    {
     "name": "stdout",
     "output_type": "stream",
     "text": [
      "Max_Conversion =  0.5243895593600898 \n",
      "CATE =  0.39\n"
     ]
    }
   ],
   "source": [
    "graph(df_student_3_S, 'S_learn')"
   ]
  },
  {
   "cell_type": "code",
   "execution_count": 474,
   "metadata": {},
   "outputs": [
    {
     "data": {
      "image/png": "[encoded data removed]",
      "text/plain": [
       "<Figure size 432x288 with 1 Axes>"
      ]
     },
     "metadata": {
      "needs_background": "light"
     },
     "output_type": "display_data"
    },
    {
     "name": "stdout",
     "output_type": "stream",
     "text": [
      "Max_Conversion =  0.5189012782159369 \n",
      "CATE =  0.34\n"
     ]
    }
   ],
   "source": [
    "graph(df_student_3_T, 'T_learn')"
   ]
  },
  {
   "cell_type": "code",
   "execution_count": 475,
   "metadata": {},
   "outputs": [
    {
     "data": {
      "image/png": "[encoded data removed]",
      "text/plain": [
       "<Figure size 432x288 with 1 Axes>"
      ]
     },
     "metadata": {
      "needs_background": "light"
     },
     "output_type": "display_data"
    },
    {
     "name": "stdout",
     "output_type": "stream",
     "text": [
      "Max_Conversion =  0.5298041517690378 \n",
      "CATE =  0.29\n"
     ]
    }
   ],
   "source": [
    "graph(df_student_3_X,'X_learn')"
   ]
  },
  {
   "cell_type": "markdown",
   "metadata": {},
   "source": [
    "Из графиков видно что, для лучшей конверсии лучше всего использовать X-learn примерно при CATE больше 0.29"
   ]
  },
  {
   "cell_type": "markdown",
   "metadata": {},
   "source": [
    "Следовательно посоветуем услугу только тем, чей CATE больше 0.29 процентов"
   ]
  },
  {
   "cell_type": "code",
   "execution_count": 479,
   "metadata": {},
   "outputs": [
    {
     "data": {
      "text/html": [
       "<div>\n",
       "<style scoped>\n",
       "    .dataframe tbody tr th:only-of-type {\n",
       "        vertical-align: middle;\n",
       "    }\n",
       "\n",
       "    .dataframe tbody tr th {\n",
       "        vertical-align: top;\n",
       "    }\n",
       "\n",
       "    .dataframe thead th {\n",
       "        text-align: right;\n",
       "    }\n",
       "</style>\n",
       "<table border=\"1\" class=\"dataframe\">\n",
       "  <thead>\n",
       "    <tr style=\"text-align: right;\">\n",
       "      <th></th>\n",
       "      <th>treatment</th>\n",
       "      <th>X_1</th>\n",
       "      <th>X_2</th>\n",
       "      <th>X_3</th>\n",
       "      <th>X_4</th>\n",
       "      <th>X_5</th>\n",
       "      <th>X_6</th>\n",
       "      <th>X_7</th>\n",
       "      <th>X_8</th>\n",
       "      <th>X_9</th>\n",
       "      <th>...</th>\n",
       "      <th>X_16</th>\n",
       "      <th>X_17</th>\n",
       "      <th>X_18</th>\n",
       "      <th>X_19</th>\n",
       "      <th>X_20</th>\n",
       "      <th>X_21</th>\n",
       "      <th>X_22</th>\n",
       "      <th>conversion</th>\n",
       "      <th>X_learn</th>\n",
       "      <th>Recomendation</th>\n",
       "    </tr>\n",
       "  </thead>\n",
       "  <tbody>\n",
       "    <tr>\n",
       "      <th>0</th>\n",
       "      <td>0</td>\n",
       "      <td>0.034351</td>\n",
       "      <td>0.550725</td>\n",
       "      <td>-1.348524</td>\n",
       "      <td>-0.029591</td>\n",
       "      <td>0.499535</td>\n",
       "      <td>-0.412464</td>\n",
       "      <td>0.933588</td>\n",
       "      <td>-0.522954</td>\n",
       "      <td>-0.029591</td>\n",
       "      <td>...</td>\n",
       "      <td>0.640264</td>\n",
       "      <td>1.165722</td>\n",
       "      <td>0.570495</td>\n",
       "      <td>0.529443</td>\n",
       "      <td>0.227962</td>\n",
       "      <td>1.929914</td>\n",
       "      <td>0.798664</td>\n",
       "      <td>0</td>\n",
       "      <td>0.021379</td>\n",
       "      <td>0</td>\n",
       "    </tr>\n",
       "    <tr>\n",
       "      <th>1</th>\n",
       "      <td>0</td>\n",
       "      <td>-1.059404</td>\n",
       "      <td>0.299404</td>\n",
       "      <td>0.220273</td>\n",
       "      <td>-1.569660</td>\n",
       "      <td>1.084204</td>\n",
       "      <td>-2.167118</td>\n",
       "      <td>1.216469</td>\n",
       "      <td>-0.744547</td>\n",
       "      <td>-1.569660</td>\n",
       "      <td>...</td>\n",
       "      <td>2.646483</td>\n",
       "      <td>-0.329690</td>\n",
       "      <td>1.725636</td>\n",
       "      <td>1.434649</td>\n",
       "      <td>-2.064893</td>\n",
       "      <td>0.188000</td>\n",
       "      <td>-1.134651</td>\n",
       "      <td>0</td>\n",
       "      <td>-0.021374</td>\n",
       "      <td>0</td>\n",
       "    </tr>\n",
       "    <tr>\n",
       "      <th>2</th>\n",
       "      <td>0</td>\n",
       "      <td>0.051934</td>\n",
       "      <td>2.338729</td>\n",
       "      <td>-0.341017</td>\n",
       "      <td>-1.099362</td>\n",
       "      <td>0.693090</td>\n",
       "      <td>-2.424267</td>\n",
       "      <td>1.572066</td>\n",
       "      <td>-0.212798</td>\n",
       "      <td>-1.099362</td>\n",
       "      <td>...</td>\n",
       "      <td>0.224777</td>\n",
       "      <td>2.038004</td>\n",
       "      <td>2.516398</td>\n",
       "      <td>2.324280</td>\n",
       "      <td>-3.182196</td>\n",
       "      <td>-0.888490</td>\n",
       "      <td>-1.402561</td>\n",
       "      <td>0</td>\n",
       "      <td>0.011352</td>\n",
       "      <td>0</td>\n",
       "    </tr>\n",
       "    <tr>\n",
       "      <th>3</th>\n",
       "      <td>1</td>\n",
       "      <td>0.667770</td>\n",
       "      <td>0.539316</td>\n",
       "      <td>0.468719</td>\n",
       "      <td>-0.840885</td>\n",
       "      <td>-0.708331</td>\n",
       "      <td>0.126634</td>\n",
       "      <td>1.275854</td>\n",
       "      <td>-0.954919</td>\n",
       "      <td>-0.840885</td>\n",
       "      <td>...</td>\n",
       "      <td>-1.659402</td>\n",
       "      <td>-0.871980</td>\n",
       "      <td>-0.893513</td>\n",
       "      <td>-0.658078</td>\n",
       "      <td>-2.704997</td>\n",
       "      <td>-0.390745</td>\n",
       "      <td>-1.578004</td>\n",
       "      <td>1</td>\n",
       "      <td>0.969720</td>\n",
       "      <td>1</td>\n",
       "    </tr>\n",
       "    <tr>\n",
       "      <th>4</th>\n",
       "      <td>0</td>\n",
       "      <td>-1.416158</td>\n",
       "      <td>2.486628</td>\n",
       "      <td>0.496402</td>\n",
       "      <td>-1.174618</td>\n",
       "      <td>2.738267</td>\n",
       "      <td>-4.756755</td>\n",
       "      <td>-0.180918</td>\n",
       "      <td>-1.281432</td>\n",
       "      <td>-1.174618</td>\n",
       "      <td>...</td>\n",
       "      <td>0.948875</td>\n",
       "      <td>1.210523</td>\n",
       "      <td>1.536723</td>\n",
       "      <td>1.548610</td>\n",
       "      <td>-0.926435</td>\n",
       "      <td>0.972459</td>\n",
       "      <td>-0.711251</td>\n",
       "      <td>0</td>\n",
       "      <td>0.004957</td>\n",
       "      <td>0</td>\n",
       "    </tr>\n",
       "    <tr>\n",
       "      <th>...</th>\n",
       "      <td>...</td>\n",
       "      <td>...</td>\n",
       "      <td>...</td>\n",
       "      <td>...</td>\n",
       "      <td>...</td>\n",
       "      <td>...</td>\n",
       "      <td>...</td>\n",
       "      <td>...</td>\n",
       "      <td>...</td>\n",
       "      <td>...</td>\n",
       "      <td>...</td>\n",
       "      <td>...</td>\n",
       "      <td>...</td>\n",
       "      <td>...</td>\n",
       "      <td>...</td>\n",
       "      <td>...</td>\n",
       "      <td>...</td>\n",
       "      <td>...</td>\n",
       "      <td>...</td>\n",
       "      <td>...</td>\n",
       "      <td>...</td>\n",
       "    </tr>\n",
       "    <tr>\n",
       "      <th>199995</th>\n",
       "      <td>0</td>\n",
       "      <td>-1.309691</td>\n",
       "      <td>2.925832</td>\n",
       "      <td>-0.584101</td>\n",
       "      <td>-1.232931</td>\n",
       "      <td>2.601140</td>\n",
       "      <td>-4.943288</td>\n",
       "      <td>0.416758</td>\n",
       "      <td>-0.083626</td>\n",
       "      <td>-1.232931</td>\n",
       "      <td>...</td>\n",
       "      <td>0.636279</td>\n",
       "      <td>1.073711</td>\n",
       "      <td>-0.406603</td>\n",
       "      <td>0.027760</td>\n",
       "      <td>-0.478887</td>\n",
       "      <td>1.265746</td>\n",
       "      <td>0.059865</td>\n",
       "      <td>0</td>\n",
       "      <td>0.016656</td>\n",
       "      <td>0</td>\n",
       "    </tr>\n",
       "    <tr>\n",
       "      <th>199996</th>\n",
       "      <td>0</td>\n",
       "      <td>-1.131361</td>\n",
       "      <td>1.562317</td>\n",
       "      <td>1.265630</td>\n",
       "      <td>-1.361879</td>\n",
       "      <td>1.169695</td>\n",
       "      <td>-3.247293</td>\n",
       "      <td>1.253718</td>\n",
       "      <td>-1.968727</td>\n",
       "      <td>-1.361879</td>\n",
       "      <td>...</td>\n",
       "      <td>0.892121</td>\n",
       "      <td>0.893261</td>\n",
       "      <td>0.182528</td>\n",
       "      <td>0.338611</td>\n",
       "      <td>1.006028</td>\n",
       "      <td>-1.943045</td>\n",
       "      <td>-0.145377</td>\n",
       "      <td>0</td>\n",
       "      <td>-0.036046</td>\n",
       "      <td>0</td>\n",
       "    </tr>\n",
       "    <tr>\n",
       "      <th>199997</th>\n",
       "      <td>0</td>\n",
       "      <td>0.442433</td>\n",
       "      <td>2.202153</td>\n",
       "      <td>-0.380019</td>\n",
       "      <td>-0.474935</td>\n",
       "      <td>0.766306</td>\n",
       "      <td>-1.722354</td>\n",
       "      <td>0.751083</td>\n",
       "      <td>0.595800</td>\n",
       "      <td>-0.474935</td>\n",
       "      <td>...</td>\n",
       "      <td>0.718669</td>\n",
       "      <td>1.031289</td>\n",
       "      <td>0.398560</td>\n",
       "      <td>0.591750</td>\n",
       "      <td>1.620529</td>\n",
       "      <td>-1.081292</td>\n",
       "      <td>0.995816</td>\n",
       "      <td>0</td>\n",
       "      <td>-0.011763</td>\n",
       "      <td>0</td>\n",
       "    </tr>\n",
       "    <tr>\n",
       "      <th>199998</th>\n",
       "      <td>1</td>\n",
       "      <td>-0.084879</td>\n",
       "      <td>0.423688</td>\n",
       "      <td>0.389931</td>\n",
       "      <td>-1.996510</td>\n",
       "      <td>-0.123098</td>\n",
       "      <td>-1.103408</td>\n",
       "      <td>2.207197</td>\n",
       "      <td>0.402468</td>\n",
       "      <td>-1.996510</td>\n",
       "      <td>...</td>\n",
       "      <td>-0.256026</td>\n",
       "      <td>2.231563</td>\n",
       "      <td>0.848577</td>\n",
       "      <td>0.739235</td>\n",
       "      <td>1.656343</td>\n",
       "      <td>0.436962</td>\n",
       "      <td>0.622010</td>\n",
       "      <td>0</td>\n",
       "      <td>-0.020454</td>\n",
       "      <td>0</td>\n",
       "    </tr>\n",
       "    <tr>\n",
       "      <th>199999</th>\n",
       "      <td>0</td>\n",
       "      <td>0.105915</td>\n",
       "      <td>-0.602186</td>\n",
       "      <td>-1.358102</td>\n",
       "      <td>-1.254886</td>\n",
       "      <td>-0.087760</td>\n",
       "      <td>0.278812</td>\n",
       "      <td>1.719685</td>\n",
       "      <td>-0.027311</td>\n",
       "      <td>-1.254886</td>\n",
       "      <td>...</td>\n",
       "      <td>1.402783</td>\n",
       "      <td>0.555712</td>\n",
       "      <td>0.629730</td>\n",
       "      <td>0.436687</td>\n",
       "      <td>2.087262</td>\n",
       "      <td>0.136364</td>\n",
       "      <td>1.724350</td>\n",
       "      <td>0</td>\n",
       "      <td>-0.017491</td>\n",
       "      <td>0</td>\n",
       "    </tr>\n",
       "  </tbody>\n",
       "</table>\n",
       "<p>200000 rows × 26 columns</p>\n",
       "</div>"
      ],
      "text/plain": [
       "       treatment       X_1       X_2       X_3       X_4       X_5       X_6  \\\n",
       "0              0  0.034351  0.550725 -1.348524 -0.029591  0.499535 -0.412464   \n",
       "1              0 -1.059404  0.299404  0.220273 -1.569660  1.084204 -2.167118   \n",
       "2              0  0.051934  2.338729 -0.341017 -1.099362  0.693090 -2.424267   \n",
       "3              1  0.667770  0.539316  0.468719 -0.840885 -0.708331  0.126634   \n",
       "4              0 -1.416158  2.486628  0.496402 -1.174618  2.738267 -4.756755   \n",
       "...          ...       ...       ...       ...       ...       ...       ...   \n",
       "199995         0 -1.309691  2.925832 -0.584101 -1.232931  2.601140 -4.943288   \n",
       "199996         0 -1.131361  1.562317  1.265630 -1.361879  1.169695 -3.247293   \n",
       "199997         0  0.442433  2.202153 -0.380019 -0.474935  0.766306 -1.722354   \n",
       "199998         1 -0.084879  0.423688  0.389931 -1.996510 -0.123098 -1.103408   \n",
       "199999         0  0.105915 -0.602186 -1.358102 -1.254886 -0.087760  0.278812   \n",
       "\n",
       "             X_7       X_8       X_9  ...      X_16      X_17      X_18  \\\n",
       "0       0.933588 -0.522954 -0.029591  ...  0.640264  1.165722  0.570495   \n",
       "1       1.216469 -0.744547 -1.569660  ...  2.646483 -0.329690  1.725636   \n",
       "2       1.572066 -0.212798 -1.099362  ...  0.224777  2.038004  2.516398   \n",
       "3       1.275854 -0.954919 -0.840885  ... -1.659402 -0.871980 -0.893513   \n",
       "4      -0.180918 -1.281432 -1.174618  ...  0.948875  1.210523  1.536723   \n",
       "...          ...       ...       ...  ...       ...       ...       ...   \n",
       "199995  0.416758 -0.083626 -1.232931  ...  0.636279  1.073711 -0.406603   \n",
       "199996  1.253718 -1.968727 -1.361879  ...  0.892121  0.893261  0.182528   \n",
       "199997  0.751083  0.595800 -0.474935  ...  0.718669  1.031289  0.398560   \n",
       "199998  2.207197  0.402468 -1.996510  ... -0.256026  2.231563  0.848577   \n",
       "199999  1.719685 -0.027311 -1.254886  ...  1.402783  0.555712  0.629730   \n",
       "\n",
       "            X_19      X_20      X_21      X_22  conversion   X_learn  \\\n",
       "0       0.529443  0.227962  1.929914  0.798664           0  0.021379   \n",
       "1       1.434649 -2.064893  0.188000 -1.134651           0 -0.021374   \n",
       "2       2.324280 -3.182196 -0.888490 -1.402561           0  0.011352   \n",
       "3      -0.658078 -2.704997 -0.390745 -1.578004           1  0.969720   \n",
       "4       1.548610 -0.926435  0.972459 -0.711251           0  0.004957   \n",
       "...          ...       ...       ...       ...         ...       ...   \n",
       "199995  0.027760 -0.478887  1.265746  0.059865           0  0.016656   \n",
       "199996  0.338611  1.006028 -1.943045 -0.145377           0 -0.036046   \n",
       "199997  0.591750  1.620529 -1.081292  0.995816           0 -0.011763   \n",
       "199998  0.739235  1.656343  0.436962  0.622010           0 -0.020454   \n",
       "199999  0.436687  2.087262  0.136364  1.724350           0 -0.017491   \n",
       "\n",
       "        Recomendation  \n",
       "0                   0  \n",
       "1                   0  \n",
       "2                   0  \n",
       "3                   1  \n",
       "4                   0  \n",
       "...               ...  \n",
       "199995              0  \n",
       "199996              0  \n",
       "199997              0  \n",
       "199998              0  \n",
       "199999              0  \n",
       "\n",
       "[200000 rows x 26 columns]"
      ]
     },
     "execution_count": 479,
     "metadata": {},
     "output_type": "execute_result"
    }
   ],
   "source": [
    "df_student_3_X['Recomendation'] = 0\n",
    "df_student_3_X.loc[df_student_3_X[\"X_learn\"] > 0.29, \"Recomendation\"] = 1\n",
    "df_student_3_X"
   ]
  },
  {
   "cell_type": "markdown",
   "metadata": {},
   "source": [
    "### 4. Ожидаемая конверсия при оптимальном воздействии"
   ]
  },
  {
   "cell_type": "code",
   "execution_count": 480,
   "metadata": {},
   "outputs": [
    {
     "data": {
      "image/png": "[encoded data removed]",
      "text/plain": [
       "<Figure size 432x288 with 1 Axes>"
      ]
     },
     "metadata": {
      "needs_background": "light"
     },
     "output_type": "display_data"
    },
    {
     "name": "stdout",
     "output_type": "stream",
     "text": [
      "Max_Conversion =  0.5298041517690378 \n",
      "CATE =  0.29\n"
     ]
    }
   ],
   "source": [
    "# Конверсия\n",
    "graph(df_student_3_X,'X_learn')"
   ]
  },
  {
   "cell_type": "markdown",
   "metadata": {},
   "source": [
    "Из графика видно, что конверсия такого воздействия 0.529%"
   ]
  },
  {
   "cell_type": "markdown",
   "metadata": {},
   "source": [
    "### 5. Выводы"
   ]
  },
  {
   "cell_type": "markdown",
   "metadata": {},
   "source": [
    "В итоге:   \n",
    "\n",
    "    1) Тритмент и контрол группы распределены равномерно. Эксперимент рандомезированный, так как \n",
    "    классификатор не может выделить тритмент и контрол группу с достаточной точностью.  Следовательно мы можем сделать \n",
    "    предположения об условной независимости (Conditional Independence Assumption — CIA): разделение на целевую и контрольную \n",
    "    группу происходит случайно, а не в зависимости от значения какого-то признака.\n",
    "    \n",
    "    2) Провели оценку АТЕ двумя методами: регрессией и разницей средних, оба метода показали результат 0.06.\n",
    "    \n",
    "    3) Оценили CATE для каждого наблюдения:\n",
    "        а) S_learner - 0.518 conversion\n",
    "        б) T_learner - 0.524 conversion\n",
    "        в) X_learner - 0.529 conversion\n",
    "    В итоге рекомендовали воздействие на каждый объект, всего получилось примерно 18700 воздействий. Использовали при этом \n",
    "    X_learner модель.\n"
   ]
  }
 ],
 "metadata": {
  "kernelspec": {
   "display_name": "Python 3",
   "language": "python",
   "name": "python3"
  },
  "language_info": {
   "codemirror_mode": {
    "name": "ipython",
    "version": 3
   },
   "file_extension": ".py",
   "mimetype": "text/x-python",
   "name": "python",
   "nbconvert_exporter": "python",
   "pygments_lexer": "ipython3",
   "version": "3.8.3"
  }
 },
 "nbformat": 4,
 "nbformat_minor": 4
}
