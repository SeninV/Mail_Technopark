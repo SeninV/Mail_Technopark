{
 "cells": [
  {
   "cell_type": "code",
   "execution_count": 939,
   "metadata": {},
   "outputs": [],
   "source": [
    "import pandas as pd\n",
    "import numpy as np\n",
    "import seaborn as sns\n",
    "from sklearn.metrics import f1_score"
   ]
  },
  {
   "cell_type": "code",
   "execution_count": 940,
   "metadata": {},
   "outputs": [],
   "source": [
    "df_train = pd.read_csv('train.csv')"
   ]
  },
  {
   "cell_type": "code",
   "execution_count": 941,
   "metadata": {},
   "outputs": [],
   "source": [
    "df_test = pd.read_csv('test.csv')"
   ]
  },
  {
   "cell_type": "code",
   "execution_count": 942,
   "metadata": {},
   "outputs": [
    {
     "data": {
      "text/html": [
       "<div>\n",
       "<style scoped>\n",
       "    .dataframe tbody tr th:only-of-type {\n",
       "        vertical-align: middle;\n",
       "    }\n",
       "\n",
       "    .dataframe tbody tr th {\n",
       "        vertical-align: top;\n",
       "    }\n",
       "\n",
       "    .dataframe thead th {\n",
       "        text-align: right;\n",
       "    }\n",
       "</style>\n",
       "<table border=\"1\" class=\"dataframe\">\n",
       "  <thead>\n",
       "    <tr style=\"text-align: right;\">\n",
       "      <th></th>\n",
       "      <th>id</th>\n",
       "      <th>url</th>\n",
       "      <th>title</th>\n",
       "    </tr>\n",
       "  </thead>\n",
       "  <tbody>\n",
       "    <tr>\n",
       "      <th>0</th>\n",
       "      <td>135309</td>\n",
       "      <td>www.kommersant.ru</td>\n",
       "      <td>Шестой кассационный суд в Самаре начнет работу...</td>\n",
       "    </tr>\n",
       "    <tr>\n",
       "      <th>1</th>\n",
       "      <td>135310</td>\n",
       "      <td>urexpert.online</td>\n",
       "      <td>Что такое индексация алиментов, кем и в каких ...</td>\n",
       "    </tr>\n",
       "    <tr>\n",
       "      <th>2</th>\n",
       "      <td>135311</td>\n",
       "      <td>imperimeha.ru</td>\n",
       "      <td>Женщинам | Империя Меха - Part 12</td>\n",
       "    </tr>\n",
       "    <tr>\n",
       "      <th>3</th>\n",
       "      <td>135312</td>\n",
       "      <td>national-porn.com</td>\n",
       "      <td>Небритые, волосатые киски: Порно всех стран и ...</td>\n",
       "    </tr>\n",
       "    <tr>\n",
       "      <th>4</th>\n",
       "      <td>135313</td>\n",
       "      <td>2gis.ru</td>\n",
       "      <td>67</td>\n",
       "    </tr>\n",
       "    <tr>\n",
       "      <th>...</th>\n",
       "      <td>...</td>\n",
       "      <td>...</td>\n",
       "      <td>...</td>\n",
       "    </tr>\n",
       "    <tr>\n",
       "      <th>165373</th>\n",
       "      <td>300682</td>\n",
       "      <td>etp.armtek.ru</td>\n",
       "      <td>Armtek - запчасти для грузовых и легковых авто...</td>\n",
       "    </tr>\n",
       "    <tr>\n",
       "      <th>165374</th>\n",
       "      <td>300683</td>\n",
       "      <td>mail.ru</td>\n",
       "      <td>Лилия Якупова - Караганда, Карагандинская обла...</td>\n",
       "    </tr>\n",
       "    <tr>\n",
       "      <th>165375</th>\n",
       "      <td>300684</td>\n",
       "      <td>xn----8sbnqchpeeeth.xn--p1ai</td>\n",
       "      <td>Администрация Лесного района Тверской области ...</td>\n",
       "    </tr>\n",
       "    <tr>\n",
       "      <th>165376</th>\n",
       "      <td>300685</td>\n",
       "      <td>www-sunhome-ru.cdn.ampproject.org</td>\n",
       "      <td>Сонник Изменение сознания. К чему снится Измен...</td>\n",
       "    </tr>\n",
       "    <tr>\n",
       "      <th>165377</th>\n",
       "      <td>300686</td>\n",
       "      <td>virtual-hockey.org</td>\n",
       "      <td>Строительство базы команды Гранд-Рапидс Гриффи...</td>\n",
       "    </tr>\n",
       "  </tbody>\n",
       "</table>\n",
       "<p>165378 rows × 3 columns</p>\n",
       "</div>"
      ],
      "text/plain": [
       "            id                                url  \\\n",
       "0       135309                  www.kommersant.ru   \n",
       "1       135310                    urexpert.online   \n",
       "2       135311                      imperimeha.ru   \n",
       "3       135312                  national-porn.com   \n",
       "4       135313                            2gis.ru   \n",
       "...        ...                                ...   \n",
       "165373  300682                      etp.armtek.ru   \n",
       "165374  300683                            mail.ru   \n",
       "165375  300684       xn----8sbnqchpeeeth.xn--p1ai   \n",
       "165376  300685  www-sunhome-ru.cdn.ampproject.org   \n",
       "165377  300686                 virtual-hockey.org   \n",
       "\n",
       "                                                    title  \n",
       "0       Шестой кассационный суд в Самаре начнет работу...  \n",
       "1       Что такое индексация алиментов, кем и в каких ...  \n",
       "2                       Женщинам | Империя Меха - Part 12  \n",
       "3       Небритые, волосатые киски: Порно всех стран и ...  \n",
       "4                                                      67  \n",
       "...                                                   ...  \n",
       "165373  Armtek - запчасти для грузовых и легковых авто...  \n",
       "165374  Лилия Якупова - Караганда, Карагандинская обла...  \n",
       "165375  Администрация Лесного района Тверской области ...  \n",
       "165376  Сонник Изменение сознания. К чему снится Измен...  \n",
       "165377  Строительство базы команды Гранд-Рапидс Гриффи...  \n",
       "\n",
       "[165378 rows x 3 columns]"
      ]
     },
     "execution_count": 942,
     "metadata": {},
     "output_type": "execute_result"
    }
   ],
   "source": [
    "df_test"
   ]
  },
  {
   "cell_type": "code",
   "execution_count": 943,
   "metadata": {},
   "outputs": [],
   "source": [
    "df_train.title = df_train.title.str.lower()"
   ]
  },
  {
   "cell_type": "code",
   "execution_count": 944,
   "metadata": {},
   "outputs": [
    {
     "data": {
      "text/html": [
       "<div>\n",
       "<style scoped>\n",
       "    .dataframe tbody tr th:only-of-type {\n",
       "        vertical-align: middle;\n",
       "    }\n",
       "\n",
       "    .dataframe tbody tr th {\n",
       "        vertical-align: top;\n",
       "    }\n",
       "\n",
       "    .dataframe thead th {\n",
       "        text-align: right;\n",
       "    }\n",
       "</style>\n",
       "<table border=\"1\" class=\"dataframe\">\n",
       "  <thead>\n",
       "    <tr style=\"text-align: right;\">\n",
       "      <th></th>\n",
       "      <th>url</th>\n",
       "      <th>title</th>\n",
       "    </tr>\n",
       "  </thead>\n",
       "  <tbody>\n",
       "    <tr>\n",
       "      <th>0</th>\n",
       "      <td>m.kp.md</td>\n",
       "      <td>экс-министр экономики молдовы - главе мидэи, ц...</td>\n",
       "    </tr>\n",
       "    <tr>\n",
       "      <th>1</th>\n",
       "      <td>www.kp.by</td>\n",
       "      <td>эта песня стала известна многим телезрителям б...</td>\n",
       "    </tr>\n",
       "    <tr>\n",
       "      <th>2</th>\n",
       "      <td>fanserials.tv</td>\n",
       "      <td>банши 4 сезон 2 серия бремя красоты смотреть о...</td>\n",
       "    </tr>\n",
       "    <tr>\n",
       "      <th>3</th>\n",
       "      <td>colorbox.spb.ru</td>\n",
       "      <td>не беси меня картинки</td>\n",
       "    </tr>\n",
       "    <tr>\n",
       "      <th>4</th>\n",
       "      <td>tula-sport.ru</td>\n",
       "      <td>в новомосковске сыграют следж-хоккеисты алекси...</td>\n",
       "    </tr>\n",
       "    <tr>\n",
       "      <th>...</th>\n",
       "      <td>...</td>\n",
       "      <td>...</td>\n",
       "    </tr>\n",
       "    <tr>\n",
       "      <th>135304</th>\n",
       "      <td>mail.ru</td>\n",
       "      <td>пора тюльпанов турецкий сериал на русском язык...</td>\n",
       "    </tr>\n",
       "    <tr>\n",
       "      <th>135305</th>\n",
       "      <td>www.ntv.ru</td>\n",
       "      <td>остросюжетный сериал «шеф. игра на повышение»....</td>\n",
       "    </tr>\n",
       "    <tr>\n",
       "      <th>135306</th>\n",
       "      <td>topclassiccarsforsale.com</td>\n",
       "      <td>1941 plymouth special deluxe hot rod, automati...</td>\n",
       "    </tr>\n",
       "    <tr>\n",
       "      <th>135307</th>\n",
       "      <td>wowcream.ru</td>\n",
       "      <td>купить it's skin сыворотка питательная power 1...</td>\n",
       "    </tr>\n",
       "    <tr>\n",
       "      <th>135308</th>\n",
       "      <td>www.ubu.ru</td>\n",
       "      <td>технический спирт в канистрах и флаконах, купи...</td>\n",
       "    </tr>\n",
       "  </tbody>\n",
       "</table>\n",
       "<p>135309 rows × 2 columns</p>\n",
       "</div>"
      ],
      "text/plain": [
       "                              url  \\\n",
       "0                         m.kp.md   \n",
       "1                       www.kp.by   \n",
       "2                   fanserials.tv   \n",
       "3                 colorbox.spb.ru   \n",
       "4                   tula-sport.ru   \n",
       "...                           ...   \n",
       "135304                    mail.ru   \n",
       "135305                 www.ntv.ru   \n",
       "135306  topclassiccarsforsale.com   \n",
       "135307                wowcream.ru   \n",
       "135308                 www.ubu.ru   \n",
       "\n",
       "                                                    title  \n",
       "0       экс-министр экономики молдовы - главе мидэи, ц...  \n",
       "1       эта песня стала известна многим телезрителям б...  \n",
       "2       банши 4 сезон 2 серия бремя красоты смотреть о...  \n",
       "3                                   не беси меня картинки  \n",
       "4       в новомосковске сыграют следж-хоккеисты алекси...  \n",
       "...                                                   ...  \n",
       "135304  пора тюльпанов турецкий сериал на русском язык...  \n",
       "135305  остросюжетный сериал «шеф. игра на повышение»....  \n",
       "135306  1941 plymouth special deluxe hot rod, automati...  \n",
       "135307  купить it's skin сыворотка питательная power 1...  \n",
       "135308  технический спирт в канистрах и флаконах, купи...  \n",
       "\n",
       "[135309 rows x 2 columns]"
      ]
     },
     "execution_count": 944,
     "metadata": {},
     "output_type": "execute_result"
    }
   ],
   "source": [
    "df_train[['url','title']]"
   ]
  },
  {
   "cell_type": "markdown",
   "metadata": {},
   "source": [
    "Различные способы группировки"
   ]
  },
  {
   "cell_type": "code",
   "execution_count": 945,
   "metadata": {},
   "outputs": [],
   "source": [
    "df_bad = df_train.loc[df_train.target == True]"
   ]
  },
  {
   "cell_type": "code",
   "execution_count": 946,
   "metadata": {},
   "outputs": [],
   "source": [
    "df_good = df_train.loc[df_train.target == False]"
   ]
  },
  {
   "cell_type": "code",
   "execution_count": 947,
   "metadata": {},
   "outputs": [
    {
     "data": {
      "text/plain": [
       "<matplotlib.axes._subplots.AxesSubplot at 0x1f3445e4af0>"
      ]
     },
     "execution_count": 947,
     "metadata": {},
     "output_type": "execute_result"
    },
    {
     "data": {
      "image/png": "[encoded data removed]",
      "text/plain": [
       "<Figure size 432x288 with 1 Axes>"
      ]
     },
     "metadata": {
      "needs_background": "light"
     },
     "output_type": "display_data"
    }
   ],
   "source": [
    "sns.countplot(y='target',data = df_train)"
   ]
  },
  {
   "cell_type": "code",
   "execution_count": 948,
   "metadata": {},
   "outputs": [],
   "source": [
    "# убирает 28 процентов порно\n",
    "df_bad['title'].str.contains('porn').value_counts()\n",
    "mask_title_porn = df_bad['title'].str.contains('porn|Porn')"
   ]
  },
  {
   "cell_type": "markdown",
   "metadata": {},
   "source": [
    "4796/(11919+4796) = 4796/16715 = 0.28692790906371524"
   ]
  },
  {
   "cell_type": "code",
   "execution_count": 949,
   "metadata": {},
   "outputs": [],
   "source": [
    "# убирает еще 17 процентов , в тоге из сходных данных убрано 45 процентов ссылок порно\n",
    "# mask_title_porn = df_bad['title'].str.contains('porn')\n",
    "df_bad.loc[-mask_title_porn]['url'].str.contains('porn').value_counts()\n",
    "mask_url_porn = df_bad.loc[-mask_title_porn]['url'].str.contains('porn|Porn')"
   ]
  },
  {
   "cell_type": "markdown",
   "metadata": {},
   "source": [
    "2813/(11919+4796) = 2813/16715 = 0.16829195333532754"
   ]
  },
  {
   "cell_type": "code",
   "execution_count": 950,
   "metadata": {},
   "outputs": [
    {
     "data": {
      "text/html": [
       "<div>\n",
       "<style scoped>\n",
       "    .dataframe tbody tr th:only-of-type {\n",
       "        vertical-align: middle;\n",
       "    }\n",
       "\n",
       "    .dataframe tbody tr th {\n",
       "        vertical-align: top;\n",
       "    }\n",
       "\n",
       "    .dataframe thead th {\n",
       "        text-align: right;\n",
       "    }\n",
       "</style>\n",
       "<table border=\"1\" class=\"dataframe\">\n",
       "  <thead>\n",
       "    <tr style=\"text-align: right;\">\n",
       "      <th></th>\n",
       "      <th>id</th>\n",
       "      <th>url</th>\n",
       "      <th>title</th>\n",
       "      <th>target</th>\n",
       "    </tr>\n",
       "  </thead>\n",
       "  <tbody>\n",
       "    <tr>\n",
       "      <th>19</th>\n",
       "      <td>19</td>\n",
       "      <td>24eropixel.net</td>\n",
       "      <td>мужик поставил блондинку раком и отодрал ее ту...</td>\n",
       "      <td>True</td>\n",
       "    </tr>\n",
       "    <tr>\n",
       "      <th>21</th>\n",
       "      <td>21</td>\n",
       "      <td>gdespaces.com</td>\n",
       "      <td>порно которое ты искал / видео - spaces.ru / s...</td>\n",
       "      <td>True</td>\n",
       "    </tr>\n",
       "    <tr>\n",
       "      <th>41</th>\n",
       "      <td>41</td>\n",
       "      <td>hdxclub.com</td>\n",
       "      <td>лесбийский секс с кунилингусом двух стройных с...</td>\n",
       "      <td>True</td>\n",
       "    </tr>\n",
       "    <tr>\n",
       "      <th>52</th>\n",
       "      <td>52</td>\n",
       "      <td>desixxxtube.pro</td>\n",
       "      <td>indian aunty bjowjob and fucking with her part...</td>\n",
       "      <td>True</td>\n",
       "    </tr>\n",
       "    <tr>\n",
       "      <th>55</th>\n",
       "      <td>55</td>\n",
       "      <td>daftsex.com</td>\n",
       "      <td>playlist lesbian — daftsex</td>\n",
       "      <td>True</td>\n",
       "    </tr>\n",
       "    <tr>\n",
       "      <th>...</th>\n",
       "      <td>...</td>\n",
       "      <td>...</td>\n",
       "      <td>...</td>\n",
       "      <td>...</td>\n",
       "    </tr>\n",
       "    <tr>\n",
       "      <th>135184</th>\n",
       "      <td>135184</td>\n",
       "      <td>mail.ru</td>\n",
       "      <td>фото группы - 2100 фото. сообщество сумасшедши...</td>\n",
       "      <td>True</td>\n",
       "    </tr>\n",
       "    <tr>\n",
       "      <th>135186</th>\n",
       "      <td>135186</td>\n",
       "      <td>konchator.com</td>\n",
       "      <td>брюнетка села киской на лицо парня для кунилин...</td>\n",
       "      <td>True</td>\n",
       "    </tr>\n",
       "    <tr>\n",
       "      <th>135208</th>\n",
       "      <td>135208</td>\n",
       "      <td>biqle.com</td>\n",
       "      <td>lucie jones shows her big tits pantyhose — biq...</td>\n",
       "      <td>True</td>\n",
       "    </tr>\n",
       "    <tr>\n",
       "      <th>135253</th>\n",
       "      <td>135253</td>\n",
       "      <td>sexlib.org</td>\n",
       "      <td>все рассказы про: «первое знакомство с сексом»...</td>\n",
       "      <td>True</td>\n",
       "    </tr>\n",
       "    <tr>\n",
       "      <th>135287</th>\n",
       "      <td>135287</td>\n",
       "      <td>sexlib.org</td>\n",
       "      <td>гарри поттер и секс в волшебном мире. часть 3 ...</td>\n",
       "      <td>True</td>\n",
       "    </tr>\n",
       "  </tbody>\n",
       "</table>\n",
       "<p>9079 rows × 4 columns</p>\n",
       "</div>"
      ],
      "text/plain": [
       "            id              url  \\\n",
       "19          19   24eropixel.net   \n",
       "21          21    gdespaces.com   \n",
       "41          41      hdxclub.com   \n",
       "52          52  desixxxtube.pro   \n",
       "55          55      daftsex.com   \n",
       "...        ...              ...   \n",
       "135184  135184          mail.ru   \n",
       "135186  135186    konchator.com   \n",
       "135208  135208        biqle.com   \n",
       "135253  135253       sexlib.org   \n",
       "135287  135287       sexlib.org   \n",
       "\n",
       "                                                    title  target  \n",
       "19      мужик поставил блондинку раком и отодрал ее ту...    True  \n",
       "21      порно которое ты искал / видео - spaces.ru / s...    True  \n",
       "41      лесбийский секс с кунилингусом двух стройных с...    True  \n",
       "52      indian aunty bjowjob and fucking with her part...    True  \n",
       "55                             playlist lesbian — daftsex    True  \n",
       "...                                                   ...     ...  \n",
       "135184  фото группы - 2100 фото. сообщество сумасшедши...    True  \n",
       "135186  брюнетка села киской на лицо парня для кунилин...    True  \n",
       "135208  lucie jones shows her big tits pantyhose — biq...    True  \n",
       "135253  все рассказы про: «первое знакомство с сексом»...    True  \n",
       "135287  гарри поттер и секс в волшебном мире. часть 3 ...    True  \n",
       "\n",
       "[9079 rows x 4 columns]"
      ]
     },
     "execution_count": 950,
     "metadata": {},
     "output_type": "execute_result"
    }
   ],
   "source": [
    "df_bad.loc[-mask_title_porn].loc[-mask_url_porn]"
   ]
  },
  {
   "cell_type": "code",
   "execution_count": 951,
   "metadata": {},
   "outputs": [
    {
     "data": {
      "text/plain": [
       "False    7144\n",
       "True     1935\n",
       "Name: title, dtype: int64"
      ]
     },
     "execution_count": 951,
     "metadata": {},
     "output_type": "execute_result"
    }
   ],
   "source": [
    "df_bad.loc[-mask_title_porn].loc[-mask_url_porn]['title'].str.contains(' порно ').value_counts()"
   ]
  },
  {
   "cell_type": "code",
   "execution_count": 952,
   "metadata": {},
   "outputs": [
    {
     "data": {
      "text/plain": [
       "False    13384\n",
       "True      3331\n",
       "Name: title, dtype: int64"
      ]
     },
     "execution_count": 952,
     "metadata": {},
     "output_type": "execute_result"
    }
   ],
   "source": [
    "df_bad['title'].str.contains(' порно ').value_counts()"
   ]
  },
  {
   "cell_type": "code",
   "execution_count": 953,
   "metadata": {},
   "outputs": [
    {
     "data": {
      "text/plain": [
       "False    131977\n",
       "True       3332\n",
       "Name: title, dtype: int64"
      ]
     },
     "execution_count": 953,
     "metadata": {},
     "output_type": "execute_result"
    }
   ],
   "source": [
    "df_train['title'].str.contains(' порно ').value_counts()"
   ]
  },
  {
   "cell_type": "code",
   "execution_count": 954,
   "metadata": {},
   "outputs": [
    {
     "data": {
      "text/html": [
       "<div>\n",
       "<style scoped>\n",
       "    .dataframe tbody tr th:only-of-type {\n",
       "        vertical-align: middle;\n",
       "    }\n",
       "\n",
       "    .dataframe tbody tr th {\n",
       "        vertical-align: top;\n",
       "    }\n",
       "\n",
       "    .dataframe thead th {\n",
       "        text-align: right;\n",
       "    }\n",
       "</style>\n",
       "<table border=\"1\" class=\"dataframe\">\n",
       "  <thead>\n",
       "    <tr style=\"text-align: right;\">\n",
       "      <th></th>\n",
       "      <th>id</th>\n",
       "      <th>url</th>\n",
       "      <th>title</th>\n",
       "      <th>target</th>\n",
       "    </tr>\n",
       "  </thead>\n",
       "  <tbody>\n",
       "    <tr>\n",
       "      <th>114128</th>\n",
       "      <td>114128</td>\n",
       "      <td>www-segodnya-ua.cdn.ampproject.org</td>\n",
       "      <td>жители крыма решили подзаработать на домашнем ...</td>\n",
       "      <td>False</td>\n",
       "    </tr>\n",
       "  </tbody>\n",
       "</table>\n",
       "</div>"
      ],
      "text/plain": [
       "            id                                 url  \\\n",
       "114128  114128  www-segodnya-ua.cdn.ampproject.org   \n",
       "\n",
       "                                                    title  target  \n",
       "114128  жители крыма решили подзаработать на домашнем ...   False  "
      ]
     },
     "execution_count": 954,
     "metadata": {},
     "output_type": "execute_result"
    }
   ],
   "source": [
    "df_good.loc[df_good['title'].str.contains(' порно ')]"
   ]
  },
  {
   "cell_type": "code",
   "execution_count": 955,
   "metadata": {},
   "outputs": [
    {
     "data": {
      "text/plain": [
       "3473"
      ]
     },
     "execution_count": 955,
     "metadata": {},
     "output_type": "execute_result"
    }
   ],
   "source": [
    "df_bad.url.nunique()"
   ]
  },
  {
   "cell_type": "markdown",
   "metadata": {},
   "source": [
    "Работа с юрлами"
   ]
  },
  {
   "cell_type": "code",
   "execution_count": 956,
   "metadata": {
    "collapsed": true
   },
   "outputs": [
    {
     "name": "stderr",
     "output_type": "stream",
     "text": [
      "<ipython-input-956-b45365e030b0>:1: SettingWithCopyWarning: \n",
      "A value is trying to be set on a copy of a slice from a DataFrame.\n",
      "Try using .loc[row_indexer,col_indexer] = value instead\n",
      "\n",
      "See the caveats in the documentation: https://pandas.pydata.org/pandas-docs/stable/user_guide/indexing.html#returning-a-view-versus-a-copy\n",
      "  df_bad['len_title'] = df_bad.title.str.len()\n",
      "<ipython-input-956-b45365e030b0>:2: SettingWithCopyWarning: \n",
      "A value is trying to be set on a copy of a slice from a DataFrame.\n",
      "Try using .loc[row_indexer,col_indexer] = value instead\n",
      "\n",
      "See the caveats in the documentation: https://pandas.pydata.org/pandas-docs/stable/user_guide/indexing.html#returning-a-view-versus-a-copy\n",
      "  df_bad['len_url'] = df_bad.url.str.len()\n",
      "<ipython-input-956-b45365e030b0>:4: SettingWithCopyWarning: \n",
      "A value is trying to be set on a copy of a slice from a DataFrame.\n",
      "Try using .loc[row_indexer,col_indexer] = value instead\n",
      "\n",
      "See the caveats in the documentation: https://pandas.pydata.org/pandas-docs/stable/user_guide/indexing.html#returning-a-view-versus-a-copy\n",
      "  df_good['len_title'] = df_good.title.str.len()\n",
      "<ipython-input-956-b45365e030b0>:5: SettingWithCopyWarning: \n",
      "A value is trying to be set on a copy of a slice from a DataFrame.\n",
      "Try using .loc[row_indexer,col_indexer] = value instead\n",
      "\n",
      "See the caveats in the documentation: https://pandas.pydata.org/pandas-docs/stable/user_guide/indexing.html#returning-a-view-versus-a-copy\n",
      "  df_good['len_url'] = df_good.url.str.len()\n"
     ]
    }
   ],
   "source": [
    "df_bad['len_title'] = df_bad.title.str.len()\n",
    "df_bad['len_url'] = df_bad.url.str.len()\n",
    "\n",
    "df_good['len_title'] = df_good.title.str.len()\n",
    "df_good['len_url'] = df_good.url.str.len()"
   ]
  },
  {
   "cell_type": "code",
   "execution_count": 958,
   "metadata": {},
   "outputs": [
    {
     "data": {
      "text/html": [
       "<div>\n",
       "<style scoped>\n",
       "    .dataframe tbody tr th:only-of-type {\n",
       "        vertical-align: middle;\n",
       "    }\n",
       "\n",
       "    .dataframe tbody tr th {\n",
       "        vertical-align: top;\n",
       "    }\n",
       "\n",
       "    .dataframe thead th {\n",
       "        text-align: right;\n",
       "    }\n",
       "</style>\n",
       "<table border=\"1\" class=\"dataframe\">\n",
       "  <thead>\n",
       "    <tr style=\"text-align: right;\">\n",
       "      <th></th>\n",
       "      <th>id</th>\n",
       "      <th>url</th>\n",
       "      <th>title</th>\n",
       "      <th>target</th>\n",
       "    </tr>\n",
       "  </thead>\n",
       "  <tbody>\n",
       "    <tr>\n",
       "      <th>0</th>\n",
       "      <td>0</td>\n",
       "      <td>m.kp.md</td>\n",
       "      <td>экс-министр экономики молдовы - главе мидэи, ц...</td>\n",
       "      <td>False</td>\n",
       "    </tr>\n",
       "    <tr>\n",
       "      <th>1</th>\n",
       "      <td>1</td>\n",
       "      <td>www.kp.by</td>\n",
       "      <td>эта песня стала известна многим телезрителям б...</td>\n",
       "      <td>False</td>\n",
       "    </tr>\n",
       "    <tr>\n",
       "      <th>2</th>\n",
       "      <td>2</td>\n",
       "      <td>fanserials.tv</td>\n",
       "      <td>банши 4 сезон 2 серия бремя красоты смотреть о...</td>\n",
       "      <td>False</td>\n",
       "    </tr>\n",
       "    <tr>\n",
       "      <th>3</th>\n",
       "      <td>3</td>\n",
       "      <td>colorbox.spb.ru</td>\n",
       "      <td>не беси меня картинки</td>\n",
       "      <td>False</td>\n",
       "    </tr>\n",
       "    <tr>\n",
       "      <th>4</th>\n",
       "      <td>4</td>\n",
       "      <td>tula-sport.ru</td>\n",
       "      <td>в новомосковске сыграют следж-хоккеисты алекси...</td>\n",
       "      <td>False</td>\n",
       "    </tr>\n",
       "    <tr>\n",
       "      <th>...</th>\n",
       "      <td>...</td>\n",
       "      <td>...</td>\n",
       "      <td>...</td>\n",
       "      <td>...</td>\n",
       "    </tr>\n",
       "    <tr>\n",
       "      <th>135304</th>\n",
       "      <td>135304</td>\n",
       "      <td>mail.ru</td>\n",
       "      <td>пора тюльпанов турецкий сериал на русском язык...</td>\n",
       "      <td>False</td>\n",
       "    </tr>\n",
       "    <tr>\n",
       "      <th>135305</th>\n",
       "      <td>135305</td>\n",
       "      <td>www.ntv.ru</td>\n",
       "      <td>остросюжетный сериал «шеф. игра на повышение»....</td>\n",
       "      <td>False</td>\n",
       "    </tr>\n",
       "    <tr>\n",
       "      <th>135306</th>\n",
       "      <td>135306</td>\n",
       "      <td>topclassiccarsforsale.com</td>\n",
       "      <td>1941 plymouth special deluxe hot rod, automati...</td>\n",
       "      <td>False</td>\n",
       "    </tr>\n",
       "    <tr>\n",
       "      <th>135307</th>\n",
       "      <td>135307</td>\n",
       "      <td>wowcream.ru</td>\n",
       "      <td>купить it's skin сыворотка питательная power 1...</td>\n",
       "      <td>False</td>\n",
       "    </tr>\n",
       "    <tr>\n",
       "      <th>135308</th>\n",
       "      <td>135308</td>\n",
       "      <td>www.ubu.ru</td>\n",
       "      <td>технический спирт в канистрах и флаконах, купи...</td>\n",
       "      <td>False</td>\n",
       "    </tr>\n",
       "  </tbody>\n",
       "</table>\n",
       "<p>135309 rows × 4 columns</p>\n",
       "</div>"
      ],
      "text/plain": [
       "            id                        url  \\\n",
       "0            0                    m.kp.md   \n",
       "1            1                  www.kp.by   \n",
       "2            2              fanserials.tv   \n",
       "3            3            colorbox.spb.ru   \n",
       "4            4              tula-sport.ru   \n",
       "...        ...                        ...   \n",
       "135304  135304                    mail.ru   \n",
       "135305  135305                 www.ntv.ru   \n",
       "135306  135306  topclassiccarsforsale.com   \n",
       "135307  135307                wowcream.ru   \n",
       "135308  135308                 www.ubu.ru   \n",
       "\n",
       "                                                    title  target  \n",
       "0       экс-министр экономики молдовы - главе мидэи, ц...   False  \n",
       "1       эта песня стала известна многим телезрителям б...   False  \n",
       "2       банши 4 сезон 2 серия бремя красоты смотреть о...   False  \n",
       "3                                   не беси меня картинки   False  \n",
       "4       в новомосковске сыграют следж-хоккеисты алекси...   False  \n",
       "...                                                   ...     ...  \n",
       "135304  пора тюльпанов турецкий сериал на русском язык...   False  \n",
       "135305  остросюжетный сериал «шеф. игра на повышение»....   False  \n",
       "135306  1941 plymouth special deluxe hot rod, automati...   False  \n",
       "135307  купить it's skin сыворотка питательная power 1...   False  \n",
       "135308  технический спирт в канистрах и флаконах, купи...   False  \n",
       "\n",
       "[135309 rows x 4 columns]"
      ]
     },
     "execution_count": 958,
     "metadata": {},
     "output_type": "execute_result"
    }
   ],
   "source": [
    "df_train"
   ]
  },
  {
   "cell_type": "markdown",
   "metadata": {},
   "source": [
    "df_good 37206/118594 = 0.3137258208678348 nunique"
   ]
  },
  {
   "cell_type": "markdown",
   "metadata": {},
   "source": [
    "df_bad 3473/16715 = 0.2077774454083159 nunique"
   ]
  },
  {
   "cell_type": "code",
   "execution_count": 959,
   "metadata": {},
   "outputs": [
    {
     "data": {
      "text/plain": [
       "daftsex.com            741\n",
       "biqle.ru               657\n",
       "m.perfectgirls.net     256\n",
       "ancensored.com         241\n",
       "www.pornktube.porn     190\n",
       "                      ... \n",
       "besplatnoevideo.com      1\n",
       "tporno.life              1\n",
       "onlainporno1.cc          1\n",
       "fhdjav.xyz               1\n",
       "mirzastavok.ru           1\n",
       "Name: url, Length: 3473, dtype: int64"
      ]
     },
     "execution_count": 959,
     "metadata": {},
     "output_type": "execute_result"
    }
   ],
   "source": [
    "df_bad.url.value_counts()"
   ]
  },
  {
   "cell_type": "markdown",
   "metadata": {},
   "source": [
    "Ищем ссылки которые встречаются и в порно и нет и смотри как часто они там встречаются, сравниваем и выбираем те которые встречаются в порно намного чаще"
   ]
  },
  {
   "cell_type": "code",
   "execution_count": 960,
   "metadata": {},
   "outputs": [],
   "source": [
    "bad_all_url = df_bad[df_bad.url.isin(df_good.url)].url.value_counts()"
   ]
  },
  {
   "cell_type": "code",
   "execution_count": 961,
   "metadata": {},
   "outputs": [],
   "source": [
    "good_all_url = df_good[df_good.url.isin(df_bad.url)].url.value_counts()"
   ]
  },
  {
   "cell_type": "code",
   "execution_count": 962,
   "metadata": {},
   "outputs": [
    {
     "data": {
      "text/plain": [
       "mail.ru            7772\n",
       "zaycev.net          597\n",
       "libking.ru          526\n",
       "v-s.mobi            509\n",
       "www.mamba.ru        460\n",
       "                   ... \n",
       "rusvidos.com          1\n",
       "lacomics.org          1\n",
       "sweetmodels.org       1\n",
       "pirojok.net           1\n",
       "imxab.ru              1\n",
       "Name: url, Length: 288, dtype: int64"
      ]
     },
     "execution_count": 962,
     "metadata": {},
     "output_type": "execute_result"
    }
   ],
   "source": [
    "good_all_url"
   ]
  },
  {
   "cell_type": "code",
   "execution_count": 963,
   "metadata": {},
   "outputs": [
    {
     "data": {
      "text/plain": [
       "biqle.ru              657\n",
       "xuk.life              154\n",
       "noodlemagazine.com    143\n",
       "mail.ru               128\n",
       "ftopx.com             108\n",
       "                     ... \n",
       "san4ik.ru               1\n",
       "pb.wtf                  1\n",
       "xitfilms.ru             1\n",
       "wpapers.ru              1\n",
       "th.vlip.lv              1\n",
       "Name: url, Length: 288, dtype: int64"
      ]
     },
     "execution_count": 963,
     "metadata": {},
     "output_type": "execute_result"
    }
   ],
   "source": [
    "bad_all_url"
   ]
  },
  {
   "cell_type": "code",
   "execution_count": 964,
   "metadata": {},
   "outputs": [
    {
     "data": {
      "text/plain": [
       "3473"
      ]
     },
     "execution_count": 964,
     "metadata": {},
     "output_type": "execute_result"
    }
   ],
   "source": [
    "df_bad.url.nunique()"
   ]
  },
  {
   "cell_type": "code",
   "execution_count": 965,
   "metadata": {},
   "outputs": [
    {
     "data": {
      "text/plain": [
       "37206"
      ]
     },
     "execution_count": 965,
     "metadata": {},
     "output_type": "execute_result"
    }
   ],
   "source": [
    "df_good.url.nunique()"
   ]
  },
  {
   "cell_type": "code",
   "execution_count": 966,
   "metadata": {},
   "outputs": [
    {
     "data": {
      "text/html": [
       "<div>\n",
       "<style scoped>\n",
       "    .dataframe tbody tr th:only-of-type {\n",
       "        vertical-align: middle;\n",
       "    }\n",
       "\n",
       "    .dataframe tbody tr th {\n",
       "        vertical-align: top;\n",
       "    }\n",
       "\n",
       "    .dataframe thead th {\n",
       "        text-align: right;\n",
       "    }\n",
       "</style>\n",
       "<table border=\"1\" class=\"dataframe\">\n",
       "  <thead>\n",
       "    <tr style=\"text-align: right;\">\n",
       "      <th></th>\n",
       "      <th>id</th>\n",
       "      <th>url</th>\n",
       "      <th>title</th>\n",
       "      <th>target</th>\n",
       "      <th>len_title</th>\n",
       "      <th>len_url</th>\n",
       "    </tr>\n",
       "  </thead>\n",
       "  <tbody>\n",
       "    <tr>\n",
       "      <th>8</th>\n",
       "      <td>8</td>\n",
       "      <td>xlecx.com</td>\n",
       "      <td>league of legends » page 5 » porn comics free ...</td>\n",
       "      <td>True</td>\n",
       "      <td>52</td>\n",
       "      <td>9</td>\n",
       "    </tr>\n",
       "    <tr>\n",
       "      <th>12</th>\n",
       "      <td>12</td>\n",
       "      <td>pornmult.info</td>\n",
       "      <td>кримпай,мать и сын » страница 5 » смотреть пор...</td>\n",
       "      <td>True</td>\n",
       "      <td>98</td>\n",
       "      <td>13</td>\n",
       "    </tr>\n",
       "    <tr>\n",
       "      <th>19</th>\n",
       "      <td>19</td>\n",
       "      <td>24eropixel.net</td>\n",
       "      <td>мужик поставил блондинку раком и отодрал ее ту...</td>\n",
       "      <td>True</td>\n",
       "      <td>86</td>\n",
       "      <td>14</td>\n",
       "    </tr>\n",
       "    <tr>\n",
       "      <th>21</th>\n",
       "      <td>21</td>\n",
       "      <td>gdespaces.com</td>\n",
       "      <td>порно которое ты искал / видео - spaces.ru / s...</td>\n",
       "      <td>True</td>\n",
       "      <td>52</td>\n",
       "      <td>13</td>\n",
       "    </tr>\n",
       "    <tr>\n",
       "      <th>41</th>\n",
       "      <td>41</td>\n",
       "      <td>hdxclub.com</td>\n",
       "      <td>лесбийский секс с кунилингусом двух стройных с...</td>\n",
       "      <td>True</td>\n",
       "      <td>110</td>\n",
       "      <td>11</td>\n",
       "    </tr>\n",
       "    <tr>\n",
       "      <th>...</th>\n",
       "      <td>...</td>\n",
       "      <td>...</td>\n",
       "      <td>...</td>\n",
       "      <td>...</td>\n",
       "      <td>...</td>\n",
       "      <td>...</td>\n",
       "    </tr>\n",
       "    <tr>\n",
       "      <th>135221</th>\n",
       "      <td>135221</td>\n",
       "      <td>nola-london.com</td>\n",
       "      <td>pinoy - the biggest collection of pinoy qualit...</td>\n",
       "      <td>True</td>\n",
       "      <td>65</td>\n",
       "      <td>15</td>\n",
       "    </tr>\n",
       "    <tr>\n",
       "      <th>135239</th>\n",
       "      <td>135239</td>\n",
       "      <td>pornotwix.com</td>\n",
       "      <td>two titted blondes enjoy big cock negra</td>\n",
       "      <td>True</td>\n",
       "      <td>39</td>\n",
       "      <td>13</td>\n",
       "    </tr>\n",
       "    <tr>\n",
       "      <th>135253</th>\n",
       "      <td>135253</td>\n",
       "      <td>sexlib.org</td>\n",
       "      <td>все рассказы про: «первое знакомство с сексом»...</td>\n",
       "      <td>True</td>\n",
       "      <td>78</td>\n",
       "      <td>10</td>\n",
       "    </tr>\n",
       "    <tr>\n",
       "      <th>135256</th>\n",
       "      <td>135256</td>\n",
       "      <td>pakistanporn.info</td>\n",
       "      <td>food wild indian tube on pakistanporn.info</td>\n",
       "      <td>True</td>\n",
       "      <td>42</td>\n",
       "      <td>17</td>\n",
       "    </tr>\n",
       "    <tr>\n",
       "      <th>135287</th>\n",
       "      <td>135287</td>\n",
       "      <td>sexlib.org</td>\n",
       "      <td>гарри поттер и секс в волшебном мире. часть 3 ...</td>\n",
       "      <td>True</td>\n",
       "      <td>83</td>\n",
       "      <td>10</td>\n",
       "    </tr>\n",
       "  </tbody>\n",
       "</table>\n",
       "<p>16715 rows × 6 columns</p>\n",
       "</div>"
      ],
      "text/plain": [
       "            id                url  \\\n",
       "8            8          xlecx.com   \n",
       "12          12      pornmult.info   \n",
       "19          19     24eropixel.net   \n",
       "21          21      gdespaces.com   \n",
       "41          41        hdxclub.com   \n",
       "...        ...                ...   \n",
       "135221  135221    nola-london.com   \n",
       "135239  135239      pornotwix.com   \n",
       "135253  135253         sexlib.org   \n",
       "135256  135256  pakistanporn.info   \n",
       "135287  135287         sexlib.org   \n",
       "\n",
       "                                                    title  target  len_title  \\\n",
       "8       league of legends » page 5 » porn comics free ...    True         52   \n",
       "12      кримпай,мать и сын » страница 5 » смотреть пор...    True         98   \n",
       "19      мужик поставил блондинку раком и отодрал ее ту...    True         86   \n",
       "21      порно которое ты искал / видео - spaces.ru / s...    True         52   \n",
       "41      лесбийский секс с кунилингусом двух стройных с...    True        110   \n",
       "...                                                   ...     ...        ...   \n",
       "135221  pinoy - the biggest collection of pinoy qualit...    True         65   \n",
       "135239            two titted blondes enjoy big cock negra    True         39   \n",
       "135253  все рассказы про: «первое знакомство с сексом»...    True         78   \n",
       "135256         food wild indian tube on pakistanporn.info    True         42   \n",
       "135287  гарри поттер и секс в волшебном мире. часть 3 ...    True         83   \n",
       "\n",
       "        len_url  \n",
       "8             9  \n",
       "12           13  \n",
       "19           14  \n",
       "21           13  \n",
       "41           11  \n",
       "...         ...  \n",
       "135221       15  \n",
       "135239       13  \n",
       "135253       10  \n",
       "135256       17  \n",
       "135287       10  \n",
       "\n",
       "[16715 rows x 6 columns]"
      ]
     },
     "execution_count": 966,
     "metadata": {},
     "output_type": "execute_result"
    }
   ],
   "source": [
    "df_bad"
   ]
  },
  {
   "cell_type": "code",
   "execution_count": 967,
   "metadata": {},
   "outputs": [
    {
     "data": {
      "text/plain": [
       "8         False\n",
       "12         True\n",
       "19         True\n",
       "21        False\n",
       "41         True\n",
       "          ...  \n",
       "135221     True\n",
       "135239     True\n",
       "135253     True\n",
       "135256     True\n",
       "135287     True\n",
       "Name: url, Length: 16715, dtype: bool"
      ]
     },
     "execution_count": 967,
     "metadata": {},
     "output_type": "execute_result"
    }
   ],
   "source": [
    "-df_bad.url.isin(df_good.url)"
   ]
  },
  {
   "cell_type": "code",
   "execution_count": 968,
   "metadata": {},
   "outputs": [
    {
     "data": {
      "text/html": [
       "<div>\n",
       "<style scoped>\n",
       "    .dataframe tbody tr th:only-of-type {\n",
       "        vertical-align: middle;\n",
       "    }\n",
       "\n",
       "    .dataframe tbody tr th {\n",
       "        vertical-align: top;\n",
       "    }\n",
       "\n",
       "    .dataframe thead th {\n",
       "        text-align: right;\n",
       "    }\n",
       "</style>\n",
       "<table border=\"1\" class=\"dataframe\">\n",
       "  <thead>\n",
       "    <tr style=\"text-align: right;\">\n",
       "      <th></th>\n",
       "      <th>id</th>\n",
       "      <th>url</th>\n",
       "      <th>title</th>\n",
       "      <th>target</th>\n",
       "      <th>len_title</th>\n",
       "      <th>len_url</th>\n",
       "    </tr>\n",
       "  </thead>\n",
       "  <tbody>\n",
       "    <tr>\n",
       "      <th>9692</th>\n",
       "      <td>9692</td>\n",
       "      <td>zaycev.net</td>\n",
       "      <td>скачать бесплатно порнофильмы - приезжай! в mp...</td>\n",
       "      <td>True</td>\n",
       "      <td>83</td>\n",
       "      <td>10</td>\n",
       "    </tr>\n",
       "    <tr>\n",
       "      <th>26765</th>\n",
       "      <td>26765</td>\n",
       "      <td>zaycev.net</td>\n",
       "      <td>порнофильмы — я так соскучился</td>\n",
       "      <td>True</td>\n",
       "      <td>30</td>\n",
       "      <td>10</td>\n",
       "    </tr>\n",
       "  </tbody>\n",
       "</table>\n",
       "</div>"
      ],
      "text/plain": [
       "          id         url                                              title  \\\n",
       "9692    9692  zaycev.net  скачать бесплатно порнофильмы - приезжай! в mp...   \n",
       "26765  26765  zaycev.net                     порнофильмы — я так соскучился   \n",
       "\n",
       "       target  len_title  len_url  \n",
       "9692     True         83       10  \n",
       "26765    True         30       10  "
      ]
     },
     "execution_count": 968,
     "metadata": {},
     "output_type": "execute_result"
    }
   ],
   "source": [
    "df_bad.loc[df_bad.url == 'zaycev.net']"
   ]
  },
  {
   "cell_type": "code",
   "execution_count": 969,
   "metadata": {},
   "outputs": [
    {
     "data": {
      "text/html": [
       "<div>\n",
       "<style scoped>\n",
       "    .dataframe tbody tr th:only-of-type {\n",
       "        vertical-align: middle;\n",
       "    }\n",
       "\n",
       "    .dataframe tbody tr th {\n",
       "        vertical-align: top;\n",
       "    }\n",
       "\n",
       "    .dataframe thead th {\n",
       "        text-align: right;\n",
       "    }\n",
       "</style>\n",
       "<table border=\"1\" class=\"dataframe\">\n",
       "  <thead>\n",
       "    <tr style=\"text-align: right;\">\n",
       "      <th></th>\n",
       "      <th>id</th>\n",
       "      <th>url</th>\n",
       "      <th>title</th>\n",
       "      <th>target</th>\n",
       "      <th>len_title</th>\n",
       "      <th>len_url</th>\n",
       "    </tr>\n",
       "  </thead>\n",
       "  <tbody>\n",
       "    <tr>\n",
       "      <th>12</th>\n",
       "      <td>12</td>\n",
       "      <td>pornmult.info</td>\n",
       "      <td>кримпай,мать и сын » страница 5 » смотреть пор...</td>\n",
       "      <td>True</td>\n",
       "      <td>98</td>\n",
       "      <td>13</td>\n",
       "    </tr>\n",
       "    <tr>\n",
       "      <th>19</th>\n",
       "      <td>19</td>\n",
       "      <td>24eropixel.net</td>\n",
       "      <td>мужик поставил блондинку раком и отодрал ее ту...</td>\n",
       "      <td>True</td>\n",
       "      <td>86</td>\n",
       "      <td>14</td>\n",
       "    </tr>\n",
       "    <tr>\n",
       "      <th>41</th>\n",
       "      <td>41</td>\n",
       "      <td>hdxclub.com</td>\n",
       "      <td>лесбийский секс с кунилингусом двух стройных с...</td>\n",
       "      <td>True</td>\n",
       "      <td>110</td>\n",
       "      <td>11</td>\n",
       "    </tr>\n",
       "    <tr>\n",
       "      <th>47</th>\n",
       "      <td>47</td>\n",
       "      <td>jrfzdohkntmopulam5635ayigseqr47ghplfa5l67uo72g...</td>\n",
       "      <td>lesbians monique alexander and violet starr fu...</td>\n",
       "      <td>True</td>\n",
       "      <td>74</td>\n",
       "      <td>71</td>\n",
       "    </tr>\n",
       "    <tr>\n",
       "      <th>52</th>\n",
       "      <td>52</td>\n",
       "      <td>desixxxtube.pro</td>\n",
       "      <td>indian aunty bjowjob and fucking with her part...</td>\n",
       "      <td>True</td>\n",
       "      <td>68</td>\n",
       "      <td>15</td>\n",
       "    </tr>\n",
       "    <tr>\n",
       "      <th>...</th>\n",
       "      <td>...</td>\n",
       "      <td>...</td>\n",
       "      <td>...</td>\n",
       "      <td>...</td>\n",
       "      <td>...</td>\n",
       "      <td>...</td>\n",
       "    </tr>\n",
       "    <tr>\n",
       "      <th>135221</th>\n",
       "      <td>135221</td>\n",
       "      <td>nola-london.com</td>\n",
       "      <td>pinoy - the biggest collection of pinoy qualit...</td>\n",
       "      <td>True</td>\n",
       "      <td>65</td>\n",
       "      <td>15</td>\n",
       "    </tr>\n",
       "    <tr>\n",
       "      <th>135239</th>\n",
       "      <td>135239</td>\n",
       "      <td>pornotwix.com</td>\n",
       "      <td>two titted blondes enjoy big cock negra</td>\n",
       "      <td>True</td>\n",
       "      <td>39</td>\n",
       "      <td>13</td>\n",
       "    </tr>\n",
       "    <tr>\n",
       "      <th>135253</th>\n",
       "      <td>135253</td>\n",
       "      <td>sexlib.org</td>\n",
       "      <td>все рассказы про: «первое знакомство с сексом»...</td>\n",
       "      <td>True</td>\n",
       "      <td>78</td>\n",
       "      <td>10</td>\n",
       "    </tr>\n",
       "    <tr>\n",
       "      <th>135256</th>\n",
       "      <td>135256</td>\n",
       "      <td>pakistanporn.info</td>\n",
       "      <td>food wild indian tube on pakistanporn.info</td>\n",
       "      <td>True</td>\n",
       "      <td>42</td>\n",
       "      <td>17</td>\n",
       "    </tr>\n",
       "    <tr>\n",
       "      <th>135287</th>\n",
       "      <td>135287</td>\n",
       "      <td>sexlib.org</td>\n",
       "      <td>гарри поттер и секс в волшебном мире. часть 3 ...</td>\n",
       "      <td>True</td>\n",
       "      <td>83</td>\n",
       "      <td>10</td>\n",
       "    </tr>\n",
       "  </tbody>\n",
       "</table>\n",
       "<p>14161 rows × 6 columns</p>\n",
       "</div>"
      ],
      "text/plain": [
       "            id                                                url  \\\n",
       "12          12                                      pornmult.info   \n",
       "19          19                                     24eropixel.net   \n",
       "41          41                                        hdxclub.com   \n",
       "47          47  jrfzdohkntmopulam5635ayigseqr47ghplfa5l67uo72g...   \n",
       "52          52                                    desixxxtube.pro   \n",
       "...        ...                                                ...   \n",
       "135221  135221                                    nola-london.com   \n",
       "135239  135239                                      pornotwix.com   \n",
       "135253  135253                                         sexlib.org   \n",
       "135256  135256                                  pakistanporn.info   \n",
       "135287  135287                                         sexlib.org   \n",
       "\n",
       "                                                    title  target  len_title  \\\n",
       "12      кримпай,мать и сын » страница 5 » смотреть пор...    True         98   \n",
       "19      мужик поставил блондинку раком и отодрал ее ту...    True         86   \n",
       "41      лесбийский секс с кунилингусом двух стройных с...    True        110   \n",
       "47      lesbians monique alexander and violet starr fu...    True         74   \n",
       "52      indian aunty bjowjob and fucking with her part...    True         68   \n",
       "...                                                   ...     ...        ...   \n",
       "135221  pinoy - the biggest collection of pinoy qualit...    True         65   \n",
       "135239            two titted blondes enjoy big cock negra    True         39   \n",
       "135253  все рассказы про: «первое знакомство с сексом»...    True         78   \n",
       "135256         food wild indian tube on pakistanporn.info    True         42   \n",
       "135287  гарри поттер и секс в волшебном мире. часть 3 ...    True         83   \n",
       "\n",
       "        len_url  \n",
       "12           13  \n",
       "19           14  \n",
       "41           11  \n",
       "47           71  \n",
       "52           15  \n",
       "...         ...  \n",
       "135221       15  \n",
       "135239       13  \n",
       "135253       10  \n",
       "135256       17  \n",
       "135287       10  \n",
       "\n",
       "[14161 rows x 6 columns]"
      ]
     },
     "execution_count": 969,
     "metadata": {},
     "output_type": "execute_result"
    }
   ],
   "source": [
    "df_bad[-df_bad.url.isin(df_good.url)]"
   ]
  },
  {
   "cell_type": "markdown",
   "metadata": {},
   "source": [
    "Ссылки которые встречаются только в порно\n",
    "df_bad[-df_bad.url.isin(df_good.url)].url"
   ]
  },
  {
   "cell_type": "code",
   "execution_count": 970,
   "metadata": {},
   "outputs": [],
   "source": [
    "porn_url = df_bad[-df_bad.url.isin(df_good.url)].url"
   ]
  },
  {
   "cell_type": "code",
   "execution_count": 971,
   "metadata": {},
   "outputs": [],
   "source": [
    "no_porn_url = df_good[-df_good.url.isin(df_bad.url)].url"
   ]
  },
  {
   "cell_type": "code",
   "execution_count": 972,
   "metadata": {},
   "outputs": [
    {
     "data": {
      "text/plain": [
       "False    149940\n",
       "True      15438\n",
       "Name: url, dtype: int64"
      ]
     },
     "execution_count": 972,
     "metadata": {},
     "output_type": "execute_result"
    }
   ],
   "source": [
    "# Данные из теста в которых встречаются только плохий ссылки\n",
    "df_test.url.isin(porn_url).value_counts()"
   ]
  },
  {
   "cell_type": "code",
   "execution_count": 973,
   "metadata": {},
   "outputs": [
    {
     "data": {
      "text/plain": [
       "15438"
      ]
     },
     "execution_count": 973,
     "metadata": {},
     "output_type": "execute_result"
    }
   ],
   "source": [
    "sum(df_test.url.isin(porn_url))"
   ]
  },
  {
   "cell_type": "markdown",
   "metadata": {},
   "source": [
    "Работаем с таргетом"
   ]
  },
  {
   "cell_type": "code",
   "execution_count": 974,
   "metadata": {},
   "outputs": [],
   "source": [
    "from sklearn.model_selection import train_test_split\n",
    "from sklearn.metrics import plot_confusion_matrix\n",
    "from sklearn.model_selection import cross_val_score\n",
    "from sklearn.metrics import confusion_matrix\n",
    "from sklearn.metrics import ConfusionMatrixDisplay\n",
    "import matplotlib.pyplot as plt"
   ]
  },
  {
   "cell_type": "code",
   "execution_count": 975,
   "metadata": {},
   "outputs": [],
   "source": [
    "y_train_all = df_train['target'].astype(int)\n",
    "X_test_all = df_test['title']"
   ]
  },
  {
   "cell_type": "markdown",
   "metadata": {},
   "source": [
    "НЛТК"
   ]
  },
  {
   "cell_type": "code",
   "execution_count": 976,
   "metadata": {},
   "outputs": [],
   "source": [
    "# import nltk"
   ]
  },
  {
   "cell_type": "code",
   "execution_count": 977,
   "metadata": {},
   "outputs": [],
   "source": [
    "# nltk.download('wordnet')"
   ]
  },
  {
   "cell_type": "code",
   "execution_count": 978,
   "metadata": {},
   "outputs": [],
   "source": [
    "# nltk.download('punkt')"
   ]
  },
  {
   "cell_type": "code",
   "execution_count": 979,
   "metadata": {},
   "outputs": [],
   "source": [
    "# from nltk.stem import WordNetLemmatizer "
   ]
  },
  {
   "cell_type": "code",
   "execution_count": 980,
   "metadata": {},
   "outputs": [],
   "source": [
    "# lemmatizer = WordNetLemmatizer()"
   ]
  },
  {
   "cell_type": "code",
   "execution_count": 981,
   "metadata": {},
   "outputs": [],
   "source": [
    "# from nltk import word_tokenize          \n",
    "# from nltk.stem import WordNetLemmatizer \n",
    "# class LemmaTokenizer(object):\n",
    "#        def __init__(self):\n",
    "#            self.wnl = WordNetLemmatizer()\n",
    "#        def __call__(self, articles):\n",
    "#            return [self.wnl.lemmatize(t) for t in word_tokenize(articles)]\n",
    "\n",
    "# tf_vectorizer = CountVectorizer(tokenizer=LemmaTokenizer()) # works\n",
    "# X_train_vectorized_url = tf_vectorizer.fit_transform(df_train['url'])"
   ]
  },
  {
   "cell_type": "markdown",
   "metadata": {},
   "source": [
    "Векторизуем пространство"
   ]
  },
  {
   "cell_type": "code",
   "execution_count": 982,
   "metadata": {},
   "outputs": [],
   "source": [
    "from sklearn.feature_extraction.text import CountVectorizer\n",
    "from sklearn.feature_extraction.text import TfidfVectorizer"
   ]
  },
  {
   "cell_type": "code",
   "execution_count": 983,
   "metadata": {},
   "outputs": [],
   "source": [
    "vectorizer_title = CountVectorizer(\n",
    "    \n",
    "#     stop_words=stop_words,\n",
    "#     ngram_range =(1,2),\n",
    ")"
   ]
  },
  {
   "cell_type": "code",
   "execution_count": 984,
   "metadata": {},
   "outputs": [],
   "source": [
    "X_train_vectorized_title = vectorizer_title.fit_transform(df_train['title'])"
   ]
  },
  {
   "cell_type": "code",
   "execution_count": 985,
   "metadata": {},
   "outputs": [],
   "source": [
    "feature_names = np.array(vectorizer_title.get_feature_names())"
   ]
  },
  {
   "cell_type": "code",
   "execution_count": 986,
   "metadata": {},
   "outputs": [
    {
     "data": {
      "text/plain": [
       "189852"
      ]
     },
     "execution_count": 986,
     "metadata": {},
     "output_type": "execute_result"
    }
   ],
   "source": [
    "len(feature_names)"
   ]
  },
  {
   "cell_type": "code",
   "execution_count": 987,
   "metadata": {},
   "outputs": [],
   "source": [
    "from pprint import pprint"
   ]
  },
  {
   "cell_type": "code",
   "execution_count": 988,
   "metadata": {},
   "outputs": [],
   "source": [
    "vectorizer_url = CountVectorizer(\n",
    "    \n",
    "#     ngram_range =(1,2),\n",
    ")"
   ]
  },
  {
   "cell_type": "code",
   "execution_count": 989,
   "metadata": {},
   "outputs": [],
   "source": [
    "X_train_vectorized_url = vectorizer_url.fit_transform(df_train['url'])"
   ]
  },
  {
   "cell_type": "code",
   "execution_count": 990,
   "metadata": {},
   "outputs": [],
   "source": [
    "feature_names = np.array(vectorizer_url.get_feature_names())"
   ]
  },
  {
   "cell_type": "code",
   "execution_count": 991,
   "metadata": {},
   "outputs": [
    {
     "data": {
      "text/plain": [
       "35002"
      ]
     },
     "execution_count": 991,
     "metadata": {},
     "output_type": "execute_result"
    }
   ],
   "source": [
    "len(feature_names)"
   ]
  },
  {
   "cell_type": "code",
   "execution_count": 992,
   "metadata": {},
   "outputs": [
    {
     "name": "stdout",
     "output_type": "stream",
     "text": [
      "array(['000', '000webhostapp', '003ms', ..., 'читать', 'швейная',\n",
      "       'экогород'], dtype='<U52')\n"
     ]
    }
   ],
   "source": [
    "pprint(feature_names, compact = True)"
   ]
  },
  {
   "cell_type": "markdown",
   "metadata": {},
   "source": [
    "Векторизуем слова по 2"
   ]
  },
  {
   "cell_type": "code",
   "execution_count": 1005,
   "metadata": {},
   "outputs": [],
   "source": [
    "import nltk\n",
    "nltk.download('stopwords')\n",
    "\n",
    "stop_words = nltk.corpus.stopwords.words('russian')\n",
    "vectorizer_2_title = CountVectorizer(\n",
    "    stop_words=stop_words,\n",
    "    min_df = 0.00001,\n",
    "    max_df=0.9,\n",
    "    ngram_range =(2,2),\n",
    ")"
   ]
  },
  {
   "cell_type": "code",
   "execution_count": 1006,
   "metadata": {},
   "outputs": [],
   "source": [
    "X_train_vectorized_2_title = vectorizer_2_title.fit_transform(df_train['title'])"
   ]
  },
  {
   "cell_type": "code",
   "execution_count": 1007,
   "metadata": {},
   "outputs": [],
   "source": [
    "feature_names = np.array(vectorizer_2_title.get_feature_names())"
   ]
  },
  {
   "cell_type": "code",
   "execution_count": 1008,
   "metadata": {},
   "outputs": [
    {
     "data": {
      "text/plain": [
       "74231"
      ]
     },
     "execution_count": 1008,
     "metadata": {},
     "output_type": "execute_result"
    }
   ],
   "source": [
    "len(feature_names)"
   ]
  },
  {
   "cell_type": "code",
   "execution_count": 1009,
   "metadata": {},
   "outputs": [],
   "source": [
    "vectorizer_2_url = CountVectorizer(\n",
    "    stop_words=stop_words,\n",
    "    min_df = 0.00001,\n",
    "    max_df=0.9,\n",
    "    ngram_range =(2,2),\n",
    ")"
   ]
  },
  {
   "cell_type": "code",
   "execution_count": 1010,
   "metadata": {},
   "outputs": [],
   "source": [
    "X_train_vectorized_2_url = vectorizer_2_url.fit_transform(df_train['url'])"
   ]
  },
  {
   "cell_type": "code",
   "execution_count": 1011,
   "metadata": {},
   "outputs": [],
   "source": [
    "feature_names = np.array(vectorizer_2_url.get_feature_names())"
   ]
  },
  {
   "cell_type": "code",
   "execution_count": 1012,
   "metadata": {},
   "outputs": [
    {
     "data": {
      "text/plain": [
       "16985"
      ]
     },
     "execution_count": 1012,
     "metadata": {},
     "output_type": "execute_result"
    }
   ],
   "source": [
    "len(feature_names)"
   ]
  },
  {
   "cell_type": "markdown",
   "metadata": {},
   "source": [
    "Векторизуем по буквам"
   ]
  },
  {
   "cell_type": "code",
   "execution_count": 1002,
   "metadata": {},
   "outputs": [],
   "source": [
    "vectorizer_char_title = TfidfVectorizer(\n",
    "    analyzer = 'char',\n",
    "    ngram_range =(1,5),\n",
    "    stop_words=stop_words,\n",
    "    min_df = 0.0001,\n",
    "    max_df=0.9\n",
    "#     min_df = 0.0001\n",
    ")"
   ]
  },
  {
   "cell_type": "code",
   "execution_count": 1003,
   "metadata": {},
   "outputs": [],
   "source": [
    "X_train_vectorized_char_title = vectorizer_char_title.fit_transform(df_train['title'])"
   ]
  },
  {
   "cell_type": "code",
   "execution_count": 1004,
   "metadata": {},
   "outputs": [
    {
     "data": {
      "text/plain": [
       "176266"
      ]
     },
     "execution_count": 1004,
     "metadata": {},
     "output_type": "execute_result"
    }
   ],
   "source": [
    "len(vectorizer_char_title.get_feature_names())"
   ]
  },
  {
   "cell_type": "code",
   "execution_count": 496,
   "metadata": {},
   "outputs": [],
   "source": [
    "# pprint(feature_names, compact = True)"
   ]
  },
  {
   "cell_type": "code",
   "execution_count": 818,
   "metadata": {},
   "outputs": [],
   "source": [
    "vectorizer_char_url = TfidfVectorizer(\n",
    "    analyzer = 'char',\n",
    "    stop_words=stop_words,\n",
    "    min_df = 0.00001,\n",
    "    max_df=0.9,\n",
    "\n",
    "    ngram_range =(1,5),\n",
    "\n",
    "#     min_df = 0.0001\n",
    ")"
   ]
  },
  {
   "cell_type": "code",
   "execution_count": 819,
   "metadata": {},
   "outputs": [],
   "source": [
    "X_train_vectorized_char_url = vectorizer_char_url.fit_transform(df_train['url'])"
   ]
  },
  {
   "cell_type": "code",
   "execution_count": 820,
   "metadata": {},
   "outputs": [
    {
     "data": {
      "text/plain": [
       "148139"
      ]
     },
     "execution_count": 820,
     "metadata": {},
     "output_type": "execute_result"
    }
   ],
   "source": [
    "len(vectorizer_char_url.get_feature_names())"
   ]
  },
  {
   "cell_type": "code",
   "execution_count": 40,
   "metadata": {},
   "outputs": [],
   "source": [
    "# pprint(vectorizer_char_url.get_feature_names(), compact = True)"
   ]
  },
  {
   "cell_type": "markdown",
   "metadata": {},
   "source": [
    "Используем ТФ-ИДФ"
   ]
  },
  {
   "cell_type": "code",
   "execution_count": 842,
   "metadata": {},
   "outputs": [],
   "source": [
    "from sklearn.feature_extraction.text import TfidfVectorizer"
   ]
  },
  {
   "cell_type": "code",
   "execution_count": 843,
   "metadata": {},
   "outputs": [],
   "source": [
    "tf_vectorizer = TfidfVectorizer(\n",
    "#     ngram_range=(1,2)\n",
    ")"
   ]
  },
  {
   "cell_type": "code",
   "execution_count": 844,
   "metadata": {},
   "outputs": [],
   "source": [
    "X_train_tf_vectorized = tf_vectorizer.fit_transform(df_train['title'])"
   ]
  },
  {
   "cell_type": "code",
   "execution_count": 845,
   "metadata": {},
   "outputs": [],
   "source": [
    "feature_names = np.array(tf_vectorizer.get_feature_names())"
   ]
  },
  {
   "cell_type": "code",
   "execution_count": 846,
   "metadata": {},
   "outputs": [
    {
     "data": {
      "text/plain": [
       "189852"
      ]
     },
     "execution_count": 846,
     "metadata": {},
     "output_type": "execute_result"
    }
   ],
   "source": [
    "len(feature_names)"
   ]
  },
  {
   "cell_type": "code",
   "execution_count": 761,
   "metadata": {},
   "outputs": [
    {
     "data": {
      "text/plain": [
       "{'analyzer': 'word', 'binary': False, 'decode_error': 'strict', 'dtype': <class 'numpy.float64'>, 'encoding': 'utf-8', 'input': 'content', 'lowercase': True, 'max_df': 1.0, 'max_features': None, 'min_df': 1, 'ngram_range': (1, 1), 'norm': 'l2', 'preprocessor': None, 'smooth_idf': True, 'stop_words': None, 'strip_accents': None, 'sublinear_tf': False, 'token_pattern': '(?u)\\\\b\\\\w\\\\w+\\\\b', 'tokenizer': None, 'use_idf': True, 'vocabulary': None}"
      ]
     },
     "execution_count": 761,
     "metadata": {},
     "output_type": "execute_result"
    }
   ],
   "source": [
    "tf_vectorizer.get_params()"
   ]
  },
  {
   "cell_type": "markdown",
   "metadata": {},
   "source": [
    "Параметры для векторизации"
   ]
  },
  {
   "cell_type": "code",
   "execution_count": 1013,
   "metadata": {},
   "outputs": [],
   "source": [
    "\n",
    "from sklearn.linear_model import LogisticRegression, SGDClassifier\n"
   ]
  },
  {
   "cell_type": "code",
   "execution_count": 328,
   "metadata": {},
   "outputs": [],
   "source": [
    "stop_words = nltk.corpus.stopwords.words('russian')"
   ]
  },
  {
   "cell_type": "code",
   "execution_count": 349,
   "metadata": {},
   "outputs": [],
   "source": [
    "# count_model = Pipeline([\n",
    "#     (\n",
    "#         'vectorizer',\n",
    "#         CountVectorizer(\n",
    "#             lowercase=True, ngram_range=(1, 1),\n",
    "#             stop_words=stop_words, min_df=3, max_df=0.8\n",
    "#         )\n",
    "#     ),\n",
    "#     ('clf', LogisticRegression(penalty='l2',random_state = 42, max_iter=1000))\n",
    "# ])"
   ]
  },
  {
   "cell_type": "code",
   "execution_count": 350,
   "metadata": {},
   "outputs": [],
   "source": [
    "# x_train = df_train['title'].values"
   ]
  },
  {
   "cell_type": "code",
   "execution_count": 1014,
   "metadata": {},
   "outputs": [],
   "source": [
    "# count_model.fit(x_train, y_train_all)"
   ]
  },
  {
   "cell_type": "code",
   "execution_count": 352,
   "metadata": {},
   "outputs": [
    {
     "data": {
      "text/plain": [
       "0.968977709454266"
      ]
     },
     "execution_count": 352,
     "metadata": {},
     "output_type": "execute_result"
    }
   ],
   "source": [
    "f1_score(y_train_all, count_model.predict(x_train))"
   ]
  },
  {
   "cell_type": "code",
   "execution_count": 354,
   "metadata": {},
   "outputs": [
    {
     "data": {
      "text/plain": [
       "0.9436176821127672"
      ]
     },
     "execution_count": 354,
     "metadata": {},
     "output_type": "execute_result"
    }
   ],
   "source": [
    "cross_val_score(count_model, x_train, y_train_all, cv=5, scoring='f1').mean()"
   ]
  },
  {
   "cell_type": "code",
   "execution_count": null,
   "metadata": {},
   "outputs": [],
   "source": []
  },
  {
   "cell_type": "markdown",
   "metadata": {},
   "source": [
    "Делим на тест и сплит"
   ]
  },
  {
   "cell_type": "code",
   "execution_count": 700,
   "metadata": {},
   "outputs": [],
   "source": [
    "X_train, X_test, y_train, y_test = train_test_split(X_train_tf_vectorized, y_train_all,\n",
    "                                                    test_size=0.33, random_state=42)"
   ]
  },
  {
   "cell_type": "markdown",
   "metadata": {},
   "source": [
    "xgb"
   ]
  },
  {
   "cell_type": "code",
   "execution_count": 164,
   "metadata": {},
   "outputs": [],
   "source": [
    "import xgboost as xgb"
   ]
  },
  {
   "cell_type": "code",
   "execution_count": 167,
   "metadata": {},
   "outputs": [],
   "source": [
    "xgb_class = xgb.XGBClassifier()"
   ]
  },
  {
   "cell_type": "code",
   "execution_count": 168,
   "metadata": {},
   "outputs": [],
   "source": [
    "xgb_class.fit(\n",
    "    X_train_vectorized_2_url,\n",
    "    y_train_all\n",
    ")\n",
    "\n",
    "y_pred = xgb_class.predict(\n",
    "    X_train_vectorized_2_url\n",
    ")"
   ]
  },
  {
   "cell_type": "code",
   "execution_count": 169,
   "metadata": {},
   "outputs": [
    {
     "data": {
      "text/plain": [
       "0.653856953748646"
      ]
     },
     "execution_count": 169,
     "metadata": {},
     "output_type": "execute_result"
    }
   ],
   "source": [
    "f1_score(y_train_all, y_pred)"
   ]
  },
  {
   "cell_type": "code",
   "execution_count": 1182,
   "metadata": {},
   "outputs": [
    {
     "data": {
      "text/plain": [
       "array([0.87129675, 0.87168714, 0.87067161, 0.8719188 , 0.87836108])"
      ]
     },
     "execution_count": 1182,
     "metadata": {},
     "output_type": "execute_result"
    }
   ],
   "source": [
    "cross_val_score(xgb_class, X_train_vectorized, y_train_all, cv=5, scoring='f1')"
   ]
  },
  {
   "cell_type": "markdown",
   "metadata": {},
   "source": [
    "0.73 - title char"
   ]
  },
  {
   "cell_type": "markdown",
   "metadata": {},
   "source": [
    "0.87 - url"
   ]
  },
  {
   "cell_type": "markdown",
   "metadata": {},
   "source": [
    "Логистическая регрессия"
   ]
  },
  {
   "cell_type": "code",
   "execution_count": 773,
   "metadata": {},
   "outputs": [],
   "source": [
    "from sklearn.linear_model import LogisticRegression"
   ]
  },
  {
   "cell_type": "code",
   "execution_count": 821,
   "metadata": {},
   "outputs": [],
   "source": [
    "logreg = LogisticRegression(solver='liblinear', penalty='l1',random_state = 42, max_iter=100)"
   ]
  },
  {
   "cell_type": "code",
   "execution_count": 825,
   "metadata": {},
   "outputs": [
    {
     "data": {
      "text/plain": [
       "LogisticRegression(penalty='l1', random_state=42, solver='liblinear')"
      ]
     },
     "execution_count": 825,
     "metadata": {},
     "output_type": "execute_result"
    }
   ],
   "source": [
    "logreg.fit(X_train_vectorized_char_url,y_train_all)"
   ]
  },
  {
   "cell_type": "code",
   "execution_count": 826,
   "metadata": {},
   "outputs": [
    {
     "data": {
      "text/plain": [
       "0.9116963347450882"
      ]
     },
     "execution_count": 826,
     "metadata": {},
     "output_type": "execute_result"
    }
   ],
   "source": [
    "y_pred = logreg.predict(X_train_vectorized_char_url)\n",
    "f1_score(y_train_all, y_pred)"
   ]
  },
  {
   "cell_type": "code",
   "execution_count": 827,
   "metadata": {},
   "outputs": [
    {
     "data": {
      "text/plain": [
       "0.8977193089994158"
      ]
     },
     "execution_count": 827,
     "metadata": {},
     "output_type": "execute_result"
    }
   ],
   "source": [
    "cross_val_score(logreg, X_train_vectorized_char_url, y_train_all, cv=5, scoring='f1').mean()"
   ]
  },
  {
   "cell_type": "markdown",
   "metadata": {},
   "source": [
    "0.943 - title \n",
    "\n",
    "0.7780616011450745 - title  2ngram\n",
    "\n",
    "0.8148639142362228 - url 2ngram"
   ]
  },
  {
   "cell_type": "code",
   "execution_count": 427,
   "metadata": {},
   "outputs": [
    {
     "data": {
      "text/plain": [
       "<sklearn.metrics._plot.confusion_matrix.ConfusionMatrixDisplay at 0x1f2a8374940>"
      ]
     },
     "execution_count": 427,
     "metadata": {},
     "output_type": "execute_result"
    },
    {
     "data": {
      "image/png": "[encoded data removed]",
      "text/plain": [
       "<Figure size 432x288 with 2 Axes>"
      ]
     },
     "metadata": {
      "needs_background": "light"
     },
     "output_type": "display_data"
    }
   ],
   "source": [
    "ConfusionMatrixDisplay(confusion_matrix = confusion_matrix(y_train_all, y_pred)).plot()"
   ]
  },
  {
   "cell_type": "markdown",
   "metadata": {},
   "source": [
    "."
   ]
  },
  {
   "cell_type": "markdown",
   "metadata": {},
   "source": [
    "RF"
   ]
  },
  {
   "cell_type": "code",
   "execution_count": 152,
   "metadata": {},
   "outputs": [],
   "source": [
    "# from sklearn.ensemble import RandomForestClassifier"
   ]
  },
  {
   "cell_type": "code",
   "execution_count": 235,
   "metadata": {},
   "outputs": [],
   "source": [
    "# from sklearn.ensemble import RandomForestClassifier\n",
    "# clf = RandomForestClassifier(random_state=42, n_estimators = 50)"
   ]
  },
  {
   "cell_type": "code",
   "execution_count": 237,
   "metadata": {},
   "outputs": [],
   "source": [
    "# from sklearn.ensemble import RandomForestClassifier\n",
    "# clf = RandomForestClassifier(random_state=42, n_estimators = 50)\n",
    "# clf.fit(X_train_vectorized_title,y_train_all)\n",
    "# y_pred = clf.predict(X_train_vectorized_title)\n",
    "# f1_score(y_train_all, y_pred)"
   ]
  },
  {
   "cell_type": "code",
   "execution_count": 155,
   "metadata": {},
   "outputs": [],
   "source": [
    "# cross_val_score(clf, X_train_vectorized_title, y_train_all, cv=5, scoring='f1').mean()"
   ]
  },
  {
   "cell_type": "markdown",
   "metadata": {},
   "source": [
    "Cat"
   ]
  },
  {
   "cell_type": "code",
   "execution_count": 1,
   "metadata": {},
   "outputs": [],
   "source": [
    "# !pip install catboost"
   ]
  },
  {
   "cell_type": "code",
   "execution_count": 3,
   "metadata": {},
   "outputs": [],
   "source": [
    "# !pip install ipywidgets"
   ]
  },
  {
   "cell_type": "code",
   "execution_count": 7,
   "metadata": {},
   "outputs": [
    {
     "name": "stderr",
     "output_type": "stream",
     "text": [
      "Enabling notebook extension jupyter-js-widgets/extension...\n",
      "      - Validating: ok\n"
     ]
    }
   ],
   "source": [
    "# !jupyter nbextension enable --py widgetsnbextension\n"
   ]
  },
  {
   "cell_type": "code",
   "execution_count": 156,
   "metadata": {},
   "outputs": [],
   "source": [
    "# from catboost import CatBoostClassifier\n",
    "# import timeit\n",
    "\n",
    "# ctb = CatBoostClassifier(\n",
    "#     eval_metric= 'F1',\n",
    "#     iterations=100,\n",
    "#     learning_rate=0.03\n",
    "# )\n",
    "  \n",
    "# ctb.fit(\n",
    "#       df_train['title'], df_train['target'],\n",
    "#       plot = 'True',\n",
    "#       verbose=10\n",
    "# )"
   ]
  },
  {
   "cell_type": "code",
   "execution_count": 157,
   "metadata": {},
   "outputs": [],
   "source": [
    "# cross_val_score(ctb, X_train_vectorized_title, y_train_all, cv=5, scoring='f1').mean()"
   ]
  },
  {
   "cell_type": "markdown",
   "metadata": {},
   "source": [
    "Пробую стакать овтеты разных фичей(RSM)"
   ]
  },
  {
   "cell_type": "code",
   "execution_count": 742,
   "metadata": {},
   "outputs": [],
   "source": [
    "n_estimators = 11\n",
    "answer = []\n",
    "for i in range(n_estimators - 1):\n",
    "    logreg_bag = LogisticRegression(solver='liblinear', penalty='l1',random_state = i, max_iter=100)\n",
    "    features = np.random.choice(np.arange(X_train_vectorized_title.shape[1]), X_train_vectorized_title.shape[1] // 2, replace=False)    \n",
    "    logreg_bag.fit(X_train_vectorized_title[:, features],y_train_all)\n",
    "    answer.append(logreg_bag.predict_proba(X_train_vectorized_title[:, features]))\n",
    "    answer[0] = answer[0] + answer[i]\n",
    "answer = answer[0]/(n_estimators)"
   ]
  },
  {
   "cell_type": "code",
   "execution_count": 743,
   "metadata": {},
   "outputs": [
    {
     "data": {
      "text/plain": [
       "array([[0.99054769, 0.00945231],\n",
       "       [0.97440968, 0.02559032],\n",
       "       [0.98164155, 0.01835845],\n",
       "       ...,\n",
       "       [0.91037054, 0.08962946],\n",
       "       [0.9799839 , 0.0200161 ],\n",
       "       [0.97794895, 0.02205105]])"
      ]
     },
     "execution_count": 743,
     "metadata": {},
     "output_type": "execute_result"
    }
   ],
   "source": [
    "answer"
   ]
  },
  {
   "cell_type": "markdown",
   "metadata": {},
   "source": [
    "В итоге это не дело преимущества, на лидерборде ответс RSM был хуже чем без него"
   ]
  },
  {
   "cell_type": "markdown",
   "metadata": {},
   "source": [
    "Пробуем провекторизовать по буквам"
   ]
  },
  {
   "cell_type": "code",
   "execution_count": 500,
   "metadata": {},
   "outputs": [],
   "source": [
    "import xgboost as xgb"
   ]
  },
  {
   "cell_type": "code",
   "execution_count": 501,
   "metadata": {},
   "outputs": [],
   "source": [
    "xgb_class_char_url = xgb.XGBClassifier(n_esimators = 95)"
   ]
  },
  {
   "cell_type": "code",
   "execution_count": 828,
   "metadata": {},
   "outputs": [
    {
     "data": {
      "text/plain": [
       "0.9254110328191455"
      ]
     },
     "execution_count": 828,
     "metadata": {},
     "output_type": "execute_result"
    }
   ],
   "source": [
    "xgb_class_char_url.fit(\n",
    "    X_train_vectorized_char_url,\n",
    "    y_train_all\n",
    ")\n",
    "\n",
    "y_pred = xgb_class_char_url.predict(\n",
    "    X_train_vectorized_char_url\n",
    ")\n",
    "f1_score(y_train_all, y_pred)"
   ]
  },
  {
   "cell_type": "code",
   "execution_count": 829,
   "metadata": {},
   "outputs": [
    {
     "data": {
      "text/plain": [
       "0.9119543321801411"
      ]
     },
     "execution_count": 829,
     "metadata": {},
     "output_type": "execute_result"
    }
   ],
   "source": [
    "cross_val_score(xgb_class_char_url, X_train_vectorized_char_url, y_train_all, cv=5, scoring='f1').mean()"
   ]
  },
  {
   "cell_type": "markdown",
   "metadata": {},
   "source": [
    "тайтл"
   ]
  },
  {
   "cell_type": "code",
   "execution_count": 830,
   "metadata": {},
   "outputs": [],
   "source": [
    "xgb_class_char_title = xgb.XGBClassifier(n_estimators = 95)"
   ]
  },
  {
   "cell_type": "code",
   "execution_count": 831,
   "metadata": {},
   "outputs": [
    {
     "data": {
      "text/plain": [
       "0.9745552527634036"
      ]
     },
     "execution_count": 831,
     "metadata": {},
     "output_type": "execute_result"
    }
   ],
   "source": [
    "xgb_class_char_title.fit(\n",
    "    X_train_vectorized_char_title,\n",
    "    y_train_all\n",
    ")\n",
    "\n",
    "y_pred = xgb_class_char_title.predict(\n",
    "    X_train_vectorized_char_title\n",
    ")\n",
    "f1_score(y_train_all, y_pred)"
   ]
  },
  {
   "cell_type": "code",
   "execution_count": 832,
   "metadata": {},
   "outputs": [],
   "source": [
    "cross_val_score(xgb_class_char_title, X_train_vectorized_char_title, y_train_all, cv=5, scoring='f1')"
   ]
  },
  {
   "cell_type": "markdown",
   "metadata": {},
   "source": [
    "Стакинг"
   ]
  },
  {
   "cell_type": "code",
   "execution_count": 846,
   "metadata": {},
   "outputs": [],
   "source": [
    "logreg_url = LogisticRegression(solver='liblinear', penalty='l1',random_state = 42, max_iter=100)"
   ]
  },
  {
   "cell_type": "code",
   "execution_count": 847,
   "metadata": {},
   "outputs": [
    {
     "data": {
      "text/plain": [
       "LogisticRegression(penalty='l1', random_state=42, solver='liblinear')"
      ]
     },
     "execution_count": 847,
     "metadata": {},
     "output_type": "execute_result"
    }
   ],
   "source": [
    "logreg_url.fit(X_train_vectorized_url,y_train_all)"
   ]
  },
  {
   "cell_type": "code",
   "execution_count": 848,
   "metadata": {},
   "outputs": [
    {
     "data": {
      "text/plain": [
       "0.8786275380441563"
      ]
     },
     "execution_count": 848,
     "metadata": {},
     "output_type": "execute_result"
    }
   ],
   "source": [
    "cross_val_score(logreg_url, X_train_vectorized_url, y_train_all, cv=5, scoring='f1').mean()"
   ]
  },
  {
   "cell_type": "markdown",
   "metadata": {},
   "source": [
    "vect - 0.865"
   ]
  },
  {
   "cell_type": "code",
   "execution_count": 849,
   "metadata": {},
   "outputs": [
    {
     "data": {
      "text/plain": [
       "LogisticRegression(penalty='l1', random_state=42, solver='liblinear')"
      ]
     },
     "execution_count": 849,
     "metadata": {},
     "output_type": "execute_result"
    }
   ],
   "source": [
    "logreg_title = LogisticRegression(solver='liblinear', penalty='l1',random_state = 42, max_iter=100)\n",
    "logreg_title.fit(X_train_vectorized_title, y_train_all)"
   ]
  },
  {
   "cell_type": "code",
   "execution_count": 850,
   "metadata": {},
   "outputs": [
    {
     "data": {
      "text/plain": [
       "0.9458607662141677"
      ]
     },
     "execution_count": 850,
     "metadata": {},
     "output_type": "execute_result"
    }
   ],
   "source": [
    "cross_val_score(logreg_title, X_train_vectorized_title, y_train_all, cv=5, scoring='f1').mean()"
   ]
  },
  {
   "cell_type": "code",
   "execution_count": 650,
   "metadata": {},
   "outputs": [],
   "source": [
    "# logreg_stack = LogisticRegression(penalty='l2',random_state = 42, max_iter=1000)\n",
    "# logreg_stack.fit(np.hstack((logreg_title.predict_proba(X_train_vectorized_title), logreg_url.predict_proba(X_train_vectorized_url))), y_train_all)"
   ]
  },
  {
   "cell_type": "code",
   "execution_count": 935,
   "metadata": {},
   "outputs": [],
   "source": [
    "from scipy.sparse import csr_matrix, find"
   ]
  },
  {
   "cell_type": "code",
   "execution_count": 651,
   "metadata": {},
   "outputs": [],
   "source": [
    "# cross_val_score(logreg_stack, np.hstack((logreg_title.predict_proba(X_train_vectorized), logreg_url.predict_proba(X_train_vectorized_url))), y_train_all, cv=5, scoring='f1')"
   ]
  },
  {
   "cell_type": "code",
   "execution_count": 851,
   "metadata": {},
   "outputs": [],
   "source": [
    "predict_word = np.hstack((logreg_title.predict_proba(X_train_vectorized_title), logreg_url.predict_proba(X_train_vectorized_url)))"
   ]
  },
  {
   "cell_type": "markdown",
   "metadata": {},
   "source": [
    "Стакинг вероятностей слов в юрл и тайтл"
   ]
  },
  {
   "cell_type": "code",
   "execution_count": 852,
   "metadata": {},
   "outputs": [
    {
     "data": {
      "text/plain": [
       "XGBClassifier(base_score=0.5, booster='gbtree', colsample_bylevel=1,\n",
       "              colsample_bynode=1, colsample_bytree=1, gamma=0, gpu_id=-1,\n",
       "              importance_type='gain', interaction_constraints='',\n",
       "              learning_rate=0.300000012, max_delta_step=0, max_depth=6,\n",
       "              min_child_weight=1, missing=nan, monotone_constraints='()',\n",
       "              n_estimators=92, n_jobs=0, num_parallel_tree=1, random_state=0,\n",
       "              reg_alpha=0, reg_lambda=1, scale_pos_weight=1, subsample=1,\n",
       "              tree_method='exact', validate_parameters=1, verbosity=None)"
      ]
     },
     "execution_count": 852,
     "metadata": {},
     "output_type": "execute_result"
    }
   ],
   "source": [
    "xgb_stack_word = xgb.XGBClassifier(n_estimators = 92)\n",
    "xgb_stack_word.fit(predict_word,y_train_all)"
   ]
  },
  {
   "cell_type": "code",
   "execution_count": 853,
   "metadata": {},
   "outputs": [
    {
     "data": {
      "text/plain": [
       "0.9865755125357077"
      ]
     },
     "execution_count": 853,
     "metadata": {},
     "output_type": "execute_result"
    }
   ],
   "source": [
    "cross_val_score(xgb_stack_word, predict_word, y_train_all, cv=5, scoring='f1').mean()"
   ]
  },
  {
   "cell_type": "markdown",
   "metadata": {},
   "source": [
    "Стакинг чара в юрл и тайтле"
   ]
  },
  {
   "cell_type": "code",
   "execution_count": 844,
   "metadata": {},
   "outputs": [],
   "source": [
    "predict_char = np.hstack((xgb_class_char_title.predict_proba(X_train_vectorized_char_title),\n",
    "                          xgb_class_char_url.predict_proba(X_train_vectorized_char_url)))"
   ]
  },
  {
   "cell_type": "code",
   "execution_count": 845,
   "metadata": {},
   "outputs": [
    {
     "data": {
      "text/plain": [
       "XGBClassifier(base_score=0.5, booster='gbtree', colsample_bylevel=1,\n",
       "              colsample_bynode=1, colsample_bytree=1, gamma=0, gpu_id=-1,\n",
       "              importance_type='gain', interaction_constraints='',\n",
       "              learning_rate=0.300000012, max_delta_step=0, max_depth=6,\n",
       "              min_child_weight=1, missing=nan, monotone_constraints='()',\n",
       "              n_estimators=92, n_jobs=0, num_parallel_tree=1, random_state=0,\n",
       "              reg_alpha=0, reg_lambda=1, scale_pos_weight=1, subsample=1,\n",
       "              tree_method='exact', validate_parameters=1, verbosity=None)"
      ]
     },
     "execution_count": 845,
     "metadata": {},
     "output_type": "execute_result"
    }
   ],
   "source": [
    "xgb_stack_char = xgb.XGBClassifier(n_estimators = 92)\n",
    "xgb_stack_char.fit(predict_char,y_train_all)"
   ]
  },
  {
   "cell_type": "code",
   "execution_count": 139,
   "metadata": {},
   "outputs": [
    {
     "data": {
      "text/plain": [
       "array([0.99206468, 0.99250824, 0.99159664, 0.99086963, 0.99281222])"
      ]
     },
     "execution_count": 139,
     "metadata": {},
     "output_type": "execute_result"
    }
   ],
   "source": [
    "cross_val_score(xgb_stack_char, predict_char, y_train_all, cv=5, scoring='f1')"
   ]
  },
  {
   "cell_type": "code",
   "execution_count": null,
   "metadata": {},
   "outputs": [],
   "source": []
  },
  {
   "cell_type": "markdown",
   "metadata": {},
   "source": [
    "Добавляем еще стакинг по 2 словам"
   ]
  },
  {
   "cell_type": "code",
   "execution_count": 1015,
   "metadata": {},
   "outputs": [
    {
     "data": {
      "text/plain": [
       "LogisticRegression(penalty='l1', random_state=42, solver='liblinear')"
      ]
     },
     "execution_count": 1015,
     "metadata": {},
     "output_type": "execute_result"
    }
   ],
   "source": [
    "logreg_2_title= LogisticRegression(solver='liblinear', penalty='l1',random_state = 42, max_iter=100)\n",
    "logreg_2_title.fit(X_train_vectorized_2_title, y_train_all)"
   ]
  },
  {
   "cell_type": "code",
   "execution_count": 1016,
   "metadata": {},
   "outputs": [
    {
     "data": {
      "text/plain": [
       "0.8283509421393237"
      ]
     },
     "execution_count": 1016,
     "metadata": {},
     "output_type": "execute_result"
    }
   ],
   "source": [
    "cross_val_score(logreg_2_title, X_train_vectorized_2_title, y_train_all, cv=5, scoring='f1').mean()"
   ]
  },
  {
   "cell_type": "code",
   "execution_count": 1017,
   "metadata": {},
   "outputs": [
    {
     "data": {
      "text/plain": [
       "LogisticRegression(penalty='l1', random_state=42, solver='liblinear')"
      ]
     },
     "execution_count": 1017,
     "metadata": {},
     "output_type": "execute_result"
    }
   ],
   "source": [
    "logreg_2_url= LogisticRegression(solver='liblinear', penalty='l1',random_state = 42, max_iter=100)\n",
    "logreg_2_url.fit(X_train_vectorized_2_url,y_train_all)"
   ]
  },
  {
   "cell_type": "code",
   "execution_count": 1018,
   "metadata": {},
   "outputs": [
    {
     "data": {
      "text/plain": [
       "0.8592920536657755"
      ]
     },
     "execution_count": 1018,
     "metadata": {},
     "output_type": "execute_result"
    }
   ],
   "source": [
    "cross_val_score(logreg_2_url, X_train_vectorized_2_url, y_train_all, cv=5, scoring='f1').mean()"
   ]
  },
  {
   "cell_type": "code",
   "execution_count": 1019,
   "metadata": {},
   "outputs": [],
   "source": [
    "predict_2_word = np.hstack((logreg_2_title.predict_proba(X_train_vectorized_2_title),\n",
    "                          logreg_2_url.predict_proba(X_train_vectorized_2_url)))"
   ]
  },
  {
   "cell_type": "code",
   "execution_count": 1020,
   "metadata": {},
   "outputs": [
    {
     "data": {
      "text/plain": [
       "XGBClassifier(base_score=0.5, booster='gbtree', colsample_bylevel=1,\n",
       "              colsample_bynode=1, colsample_bytree=1, gamma=0, gpu_id=-1,\n",
       "              importance_type='gain', interaction_constraints='',\n",
       "              learning_rate=0.300000012, max_delta_step=0, max_depth=6,\n",
       "              min_child_weight=1, missing=nan, monotone_constraints='()',\n",
       "              n_estimators=92, n_jobs=0, num_parallel_tree=1, random_state=0,\n",
       "              reg_alpha=0, reg_lambda=1, scale_pos_weight=1, subsample=1,\n",
       "              tree_method='exact', validate_parameters=1, verbosity=None)"
      ]
     },
     "execution_count": 1020,
     "metadata": {},
     "output_type": "execute_result"
    }
   ],
   "source": [
    "xgb_stack_2_word = xgb.XGBClassifier(n_estimators = 92)\n",
    "xgb_stack_2_word.fit(predict_2_word,y_train_all)"
   ]
  },
  {
   "cell_type": "code",
   "execution_count": 1021,
   "metadata": {},
   "outputs": [
    {
     "data": {
      "text/plain": [
       "0.9693485067104346"
      ]
     },
     "execution_count": 1021,
     "metadata": {},
     "output_type": "execute_result"
    }
   ],
   "source": [
    "cross_val_score(xgb_stack_2_word, predict_2_word, y_train_all, cv=5, scoring='f1').mean()"
   ]
  },
  {
   "cell_type": "markdown",
   "metadata": {},
   "source": [
    "КОГДА СТАКАЕМ ЕЩЕ 2 СЛОВА\n",
    "Это мы берем тайтл и юрл по 2 и по 1 слову и стакаем их вероятности"
   ]
  },
  {
   "cell_type": "code",
   "execution_count": 1022,
   "metadata": {},
   "outputs": [],
   "source": [
    "predict_1_2_word = np.hstack((xgb_stack_word.predict_proba(predict_word),\n",
    "                             xgb_stack_2_word.predict_proba(predict_2_word)))"
   ]
  },
  {
   "cell_type": "code",
   "execution_count": 1023,
   "metadata": {},
   "outputs": [
    {
     "data": {
      "text/plain": [
       "XGBClassifier(base_score=0.5, booster='gbtree', colsample_bylevel=1,\n",
       "              colsample_bynode=1, colsample_bytree=1, gamma=0, gpu_id=-1,\n",
       "              importance_type='gain', interaction_constraints='',\n",
       "              learning_rate=0.300000012, max_delta_step=0, max_depth=6,\n",
       "              min_child_weight=1, missing=nan, monotone_constraints='()',\n",
       "              n_estimators=100, n_jobs=0, num_parallel_tree=1, random_state=0,\n",
       "              reg_alpha=0, reg_lambda=1, scale_pos_weight=1, subsample=1,\n",
       "              tree_method='exact', validate_parameters=1, verbosity=None)"
      ]
     },
     "execution_count": 1023,
     "metadata": {},
     "output_type": "execute_result"
    }
   ],
   "source": [
    "xgb_stack_word_1_2 = xgb.XGBClassifier()\n",
    "xgb_stack_word_1_2.fit(predict_1_2_word,y_train_all)"
   ]
  },
  {
   "cell_type": "code",
   "execution_count": 1024,
   "metadata": {},
   "outputs": [
    {
     "data": {
      "text/plain": [
       "0.9915272429885379"
      ]
     },
     "execution_count": 1024,
     "metadata": {},
     "output_type": "execute_result"
    }
   ],
   "source": [
    "cross_val_score(xgb_stack_word_1_2, predict_1_2_word, y_train_all, cv=5, scoring='f1').mean()"
   ]
  },
  {
   "cell_type": "markdown",
   "metadata": {},
   "source": [
    "Далее стакаем вероятности предсказаний по чару и по словам"
   ]
  },
  {
   "cell_type": "code",
   "execution_count": 1025,
   "metadata": {},
   "outputs": [
    {
     "data": {
      "text/plain": [
       "XGBClassifier(base_score=0.5, booster='gbtree', colsample_bylevel=1,\n",
       "              colsample_bynode=1, colsample_bytree=1, gamma=0, gpu_id=-1,\n",
       "              importance_type='gain', interaction_constraints='',\n",
       "              learning_rate=0.300000012, max_delta_step=0, max_depth=6,\n",
       "              min_child_weight=1, missing=nan, monotone_constraints='()',\n",
       "              n_estimators=100, n_jobs=0, num_parallel_tree=1, random_state=0,\n",
       "              reg_alpha=0, reg_lambda=1, scale_pos_weight=1, subsample=1,\n",
       "              tree_method='exact', validate_parameters=1, verbosity=None)"
      ]
     },
     "execution_count": 1025,
     "metadata": {},
     "output_type": "execute_result"
    }
   ],
   "source": [
    "xgb_stack_all = xgb.XGBClassifier()\n",
    "xgb_stack_all.fit(np.hstack((xgb_stack_word_1_2.predict_proba(predict_1_2_word),\n",
    "                             xgb_stack_char.predict_proba(predict_char))),\n",
    "                             y_train_all)"
   ]
  },
  {
   "cell_type": "code",
   "execution_count": 1026,
   "metadata": {},
   "outputs": [
    {
     "data": {
      "text/plain": [
       "0.9979947238363011"
      ]
     },
     "execution_count": 1026,
     "metadata": {},
     "output_type": "execute_result"
    }
   ],
   "source": [
    "cross_val_score(xgb_stack_all, np.hstack((xgb_stack_word_1_2.predict_proba(predict_1_2_word),\n",
    "                             xgb_stack_char.predict_proba(predict_char))), y_train_all, cv=5, scoring='f1').mean()"
   ]
  },
  {
   "cell_type": "markdown",
   "metadata": {},
   "source": [
    "Когда стакаем только слово и чар, тут мы не берем предсказания по 2 словам( только по 1)"
   ]
  },
  {
   "cell_type": "code",
   "execution_count": 854,
   "metadata": {},
   "outputs": [
    {
     "data": {
      "text/plain": [
       "XGBClassifier(base_score=0.5, booster='gbtree', colsample_bylevel=1,\n",
       "              colsample_bynode=1, colsample_bytree=1, gamma=0, gpu_id=-1,\n",
       "              importance_type='gain', interaction_constraints='',\n",
       "              learning_rate=0.300000012, max_delta_step=0, max_depth=6,\n",
       "              min_child_weight=1, missing=nan, monotone_constraints='()',\n",
       "              n_estimators=100, n_jobs=0, num_parallel_tree=1, random_state=0,\n",
       "              reg_alpha=0, reg_lambda=1, scale_pos_weight=1, subsample=1,\n",
       "              tree_method='exact', validate_parameters=1, verbosity=None)"
      ]
     },
     "execution_count": 854,
     "metadata": {},
     "output_type": "execute_result"
    }
   ],
   "source": [
    "# xgb_stack_all = xgb.XGBClassifier()\n",
    "# xgb_stack_all.fit(np.hstack((xgb_stack_word.predict_proba(predict_word),\n",
    "#                              xgb_stack_char.predict_proba(predict_char))),\n",
    "#                              y_train_all)"
   ]
  },
  {
   "cell_type": "code",
   "execution_count": 855,
   "metadata": {},
   "outputs": [
    {
     "data": {
      "text/plain": [
       "0.9969765627979728"
      ]
     },
     "execution_count": 855,
     "metadata": {},
     "output_type": "execute_result"
    }
   ],
   "source": [
    "# cross_val_score(xgb_stack_all, np.hstack((xgb_stack_word.predict_proba(predict_word),\n",
    "#                                           xgb_stack_char.predict_proba(predict_char))), y_train_all, cv=5, scoring='f1').mean()"
   ]
  },
  {
   "cell_type": "code",
   "execution_count": null,
   "metadata": {},
   "outputs": [],
   "source": []
  },
  {
   "cell_type": "markdown",
   "metadata": {},
   "source": [
    "Тут находим параметры для моделей, как пример логистическая регрессия)"
   ]
  },
  {
   "cell_type": "code",
   "execution_count": 214,
   "metadata": {},
   "outputs": [],
   "source": [
    "from sklearn.model_selection import GridSearchCV"
   ]
  },
  {
   "cell_type": "code",
   "execution_count": 462,
   "metadata": {},
   "outputs": [],
   "source": [
    "parameters = {'max_iter': range(100,1000,50)}"
   ]
  },
  {
   "cell_type": "code",
   "execution_count": 463,
   "metadata": {},
   "outputs": [],
   "source": [
    "log = LogisticRegression(solver='liblinear', penalty='l1',random_state = 42)"
   ]
  },
  {
   "cell_type": "code",
   "execution_count": 464,
   "metadata": {},
   "outputs": [],
   "source": [
    "clf = GridSearchCV(log, parameters, cv=5, scoring='f1')"
   ]
  },
  {
   "cell_type": "code",
   "execution_count": 465,
   "metadata": {},
   "outputs": [
    {
     "data": {
      "text/plain": [
       "GridSearchCV(cv=5,\n",
       "             estimator=LogisticRegression(penalty='l1', random_state=42,\n",
       "                                          solver='liblinear'),\n",
       "             param_grid={'max_iter': range(100, 1000, 50)}, scoring='f1')"
      ]
     },
     "execution_count": 465,
     "metadata": {},
     "output_type": "execute_result"
    }
   ],
   "source": [
    "clf.fit(X_train_vectorized_title,y_train_all)"
   ]
  },
  {
   "cell_type": "code",
   "execution_count": 466,
   "metadata": {},
   "outputs": [
    {
     "data": {
      "text/plain": [
       "{'max_iter': 100}"
      ]
     },
     "execution_count": 466,
     "metadata": {},
     "output_type": "execute_result"
    }
   ],
   "source": [
    "clf.best_params_"
   ]
  },
  {
   "cell_type": "markdown",
   "metadata": {},
   "source": [
    "95 - stack char"
   ]
  },
  {
   "cell_type": "markdown",
   "metadata": {},
   "source": [
    "Ответ"
   ]
  },
  {
   "cell_type": "code",
   "execution_count": 1027,
   "metadata": {},
   "outputs": [],
   "source": [
    "X_test_vectorized_title = vectorizer_title.transform(df_test['title'])\n",
    "X_test_vectorized_url = vectorizer_url.transform(df_test['url'])\n",
    "X_test_vectorized_2_title = vectorizer_2_title.transform(df_test['title'])\n",
    "X_test_vectorized_2_url = vectorizer_2_url.transform(df_test['url'])\n",
    "\n",
    "\n",
    "X_test_vectorized_char_title = vectorizer_char_title.transform(df_test['title'])\n",
    "X_test_vectorized_char_url = vectorizer_char_url.transform(df_test['url'])"
   ]
  },
  {
   "cell_type": "code",
   "execution_count": 1293,
   "metadata": {},
   "outputs": [],
   "source": [
    "# df_test[\"target\"] = logreg.predict(X_test_vectorized)"
   ]
  },
  {
   "cell_type": "markdown",
   "metadata": {},
   "source": [
    "Стакинг ответ"
   ]
  },
  {
   "cell_type": "markdown",
   "metadata": {},
   "source": [
    "Для RSM"
   ]
  },
  {
   "cell_type": "code",
   "execution_count": 753,
   "metadata": {},
   "outputs": [],
   "source": [
    "# n_estimators = 11\n",
    "# answer_title = []\n",
    "# for i in range(n_estimators - 1):\n",
    "#     logreg_bag = LogisticRegression(solver='liblinear', penalty='l1',random_state = i, max_iter=100)\n",
    "#     features = np.random.choice(np.arange(X_train_vectorized_title.shape[1]), X_train_vectorized_title.shape[1] // 2, replace=False)    \n",
    "#     logreg_bag.fit(X_train_vectorized_title[:, features],y_train_all)\n",
    "#     answer_title.append(logreg_bag.predict_proba(X_test_vectorized_title[:, features]))\n",
    "#     answer_title[0] = answer_title[0] + answer_title[i]\n",
    "# answer_title = answer_title[0]/(n_estimators)"
   ]
  },
  {
   "cell_type": "code",
   "execution_count": 749,
   "metadata": {},
   "outputs": [],
   "source": [
    "# n_estimators = 11\n",
    "# answer_url = []\n",
    "# for i in range(n_estimators - 1):\n",
    "#     logreg_bag = LogisticRegression(solver='liblinear', penalty='l1',random_state = i, max_iter=100)\n",
    "#     features = np.random.choice(np.arange(X_train_vectorized_url.shape[1]), X_train_vectorized_url.shape[1] // 2, replace=False)    \n",
    "#     logreg_bag.fit(X_train_vectorized_url[:, features],y_train_all)\n",
    "#     answer_url.append(logreg_bag.predict_proba(X_test_vectorized_url[:, features]))\n",
    "#     answer_url[0] = answer_url[0] + answer_url[i]\n",
    "# answer_url = answer_url[0]/(n_estimators)"
   ]
  },
  {
   "cell_type": "markdown",
   "metadata": {},
   "source": [
    "Без RSM"
   ]
  },
  {
   "cell_type": "code",
   "execution_count": 1028,
   "metadata": {},
   "outputs": [],
   "source": [
    "# ans_word = xgb_stack_word.predict_proba(np.hstack((answer_title,answer_url)))\n",
    "\n",
    "ans_word = xgb_stack_word.predict_proba(np.hstack((logreg_title.predict_proba(X_test_vectorized_title),\n",
    "                            logreg_url.predict_proba(X_test_vectorized_url))))\n",
    "ans_2_word = xgb_stack_2_word.predict_proba(np.hstack((logreg_2_title.predict_proba(X_test_vectorized_2_title),\n",
    "                          logreg_2_url.predict_proba(X_test_vectorized_2_url))))\n",
    "\n",
    "\n",
    "ans_1_2_word = xgb_stack_word_1_2.predict_proba(np.hstack((ans_word,ans_2_word)))\n",
    "\n",
    "\n",
    "ans_char = xgb_stack_char.predict_proba(np.hstack((xgb_class_char_title.predict_proba(X_test_vectorized_char_title),\n",
    "                            xgb_class_char_url.predict_proba(X_test_vectorized_char_url))))"
   ]
  },
  {
   "cell_type": "code",
   "execution_count": 1029,
   "metadata": {},
   "outputs": [],
   "source": [
    "df_test[\"target\"] = xgb_stack_all.predict(np.hstack((ans_1_2_word,ans_char)))"
   ]
  },
  {
   "cell_type": "code",
   "execution_count": 1030,
   "metadata": {},
   "outputs": [],
   "source": [
    "df_test[\"target\"] = df_test[\"target\"].astype(bool)"
   ]
  },
  {
   "cell_type": "code",
   "execution_count": 1031,
   "metadata": {},
   "outputs": [],
   "source": [
    "df_test[[\"id\", \"target\"]].to_csv(\"Prediction_XGB_stack_char_(1,5)_2_word(90).csv\", index=False)"
   ]
  },
  {
   "cell_type": "markdown",
   "metadata": {},
   "source": [
    "Данно предсказание набрало 0.98384 на лидерборде, это не лучшее предсказание(лучшее - 0.98481).\n",
    "\n",
    "Здесь я использовал стакинг по 2 словам это чутка убавило скор."
   ]
  },
  {
   "cell_type": "markdown",
   "metadata": {},
   "source": [
    "В итоге:\n",
    "\n",
    "    В данном соревновании я попробовал получить предсказание с помощью стакинга и RSM, это дало ощутимый результат по сравнению с обычными методами. Логистическая регрессия на одних словах или чарах давала 0.95 на лидерборде.\n",
    "    \n",
    "    Изначально, я брал только слова в тайтлах и юрлах результат был около 0.95. Далее к словам я застакал чары что дало существенный прирост, скор стал 0.97. В конце я добавил к чару несколько символов(ngram_range(1,5)), что дало наилучший мой результат на лидерборде - 0.984.\n",
    "    \n",
    "    Так же я попробовал метод методе случайных подпространств(RSM), это не дело существенного прироста, поэтому я его не использовал в итоговом результате. Скор был окло 0.982"
   ]
  },
  {
   "cell_type": "code",
   "execution_count": null,
   "metadata": {},
   "outputs": [],
   "source": []
  },
  {
   "cell_type": "markdown",
   "metadata": {},
   "source": [
    "Тут сравниванию как плохие ссылки( bad_url) которые в трейне встречались только в порно, предсказаны классификатором"
   ]
  },
  {
   "cell_type": "code",
   "execution_count": 892,
   "metadata": {},
   "outputs": [
    {
     "data": {
      "text/html": [
       "<div>\n",
       "<style scoped>\n",
       "    .dataframe tbody tr th:only-of-type {\n",
       "        vertical-align: middle;\n",
       "    }\n",
       "\n",
       "    .dataframe tbody tr th {\n",
       "        vertical-align: top;\n",
       "    }\n",
       "\n",
       "    .dataframe thead th {\n",
       "        text-align: right;\n",
       "    }\n",
       "</style>\n",
       "<table border=\"1\" class=\"dataframe\">\n",
       "  <thead>\n",
       "    <tr style=\"text-align: right;\">\n",
       "      <th></th>\n",
       "      <th>id</th>\n",
       "      <th>url</th>\n",
       "      <th>title</th>\n",
       "      <th>target</th>\n",
       "    </tr>\n",
       "  </thead>\n",
       "  <tbody>\n",
       "    <tr>\n",
       "      <th>0</th>\n",
       "      <td>135309</td>\n",
       "      <td>www.kommersant.ru</td>\n",
       "      <td>шестой кассационный суд в самаре начнет работу...</td>\n",
       "      <td>False</td>\n",
       "    </tr>\n",
       "    <tr>\n",
       "      <th>1</th>\n",
       "      <td>135310</td>\n",
       "      <td>urexpert.online</td>\n",
       "      <td>что такое индексация алиментов, кем и в каких ...</td>\n",
       "      <td>False</td>\n",
       "    </tr>\n",
       "    <tr>\n",
       "      <th>2</th>\n",
       "      <td>135311</td>\n",
       "      <td>imperimeha.ru</td>\n",
       "      <td>женщинам | империя меха - part 12</td>\n",
       "      <td>False</td>\n",
       "    </tr>\n",
       "    <tr>\n",
       "      <th>3</th>\n",
       "      <td>135312</td>\n",
       "      <td>national-porn.com</td>\n",
       "      <td>небритые, волосатые киски: порно всех стран и ...</td>\n",
       "      <td>True</td>\n",
       "    </tr>\n",
       "    <tr>\n",
       "      <th>4</th>\n",
       "      <td>135313</td>\n",
       "      <td>2gis.ru</td>\n",
       "      <td>67</td>\n",
       "      <td>False</td>\n",
       "    </tr>\n",
       "    <tr>\n",
       "      <th>...</th>\n",
       "      <td>...</td>\n",
       "      <td>...</td>\n",
       "      <td>...</td>\n",
       "      <td>...</td>\n",
       "    </tr>\n",
       "    <tr>\n",
       "      <th>165373</th>\n",
       "      <td>300682</td>\n",
       "      <td>etp.armtek.ru</td>\n",
       "      <td>armtek - запчасти для грузовых и легковых авто...</td>\n",
       "      <td>False</td>\n",
       "    </tr>\n",
       "    <tr>\n",
       "      <th>165374</th>\n",
       "      <td>300683</td>\n",
       "      <td>mail.ru</td>\n",
       "      <td>лилия якупова - караганда, карагандинская обла...</td>\n",
       "      <td>False</td>\n",
       "    </tr>\n",
       "    <tr>\n",
       "      <th>165375</th>\n",
       "      <td>300684</td>\n",
       "      <td>xn----8sbnqchpeeeth.xn--p1ai</td>\n",
       "      <td>администрация лесного района тверской области ...</td>\n",
       "      <td>False</td>\n",
       "    </tr>\n",
       "    <tr>\n",
       "      <th>165376</th>\n",
       "      <td>300685</td>\n",
       "      <td>www-sunhome-ru.cdn.ampproject.org</td>\n",
       "      <td>сонник изменение сознания. к чему снится измен...</td>\n",
       "      <td>False</td>\n",
       "    </tr>\n",
       "    <tr>\n",
       "      <th>165377</th>\n",
       "      <td>300686</td>\n",
       "      <td>virtual-hockey.org</td>\n",
       "      <td>строительство базы команды гранд-рапидс гриффи...</td>\n",
       "      <td>False</td>\n",
       "    </tr>\n",
       "  </tbody>\n",
       "</table>\n",
       "<p>165378 rows × 4 columns</p>\n",
       "</div>"
      ],
      "text/plain": [
       "            id                                url  \\\n",
       "0       135309                  www.kommersant.ru   \n",
       "1       135310                    urexpert.online   \n",
       "2       135311                      imperimeha.ru   \n",
       "3       135312                  national-porn.com   \n",
       "4       135313                            2gis.ru   \n",
       "...        ...                                ...   \n",
       "165373  300682                      etp.armtek.ru   \n",
       "165374  300683                            mail.ru   \n",
       "165375  300684       xn----8sbnqchpeeeth.xn--p1ai   \n",
       "165376  300685  www-sunhome-ru.cdn.ampproject.org   \n",
       "165377  300686                 virtual-hockey.org   \n",
       "\n",
       "                                                    title  target  \n",
       "0       шестой кассационный суд в самаре начнет работу...   False  \n",
       "1       что такое индексация алиментов, кем и в каких ...   False  \n",
       "2                       женщинам | империя меха - part 12   False  \n",
       "3       небритые, волосатые киски: порно всех стран и ...    True  \n",
       "4                                                      67   False  \n",
       "...                                                   ...     ...  \n",
       "165373  armtek - запчасти для грузовых и легковых авто...   False  \n",
       "165374  лилия якупова - караганда, карагандинская обла...   False  \n",
       "165375  администрация лесного района тверской области ...   False  \n",
       "165376  сонник изменение сознания. к чему снится измен...   False  \n",
       "165377  строительство базы команды гранд-рапидс гриффи...   False  \n",
       "\n",
       "[165378 rows x 4 columns]"
      ]
     },
     "execution_count": 892,
     "metadata": {},
     "output_type": "execute_result"
    }
   ],
   "source": [
    "df_test"
   ]
  },
  {
   "cell_type": "code",
   "execution_count": 893,
   "metadata": {},
   "outputs": [],
   "source": [
    "df_test.title = df_test.tччitle.str.lower()"
   ]
  },
  {
   "cell_type": "code",
   "execution_count": 894,
   "metadata": {},
   "outputs": [],
   "source": [
    "test_porn = df_test['title'].str.contains(' порно | porn')"
   ]
  },
  {
   "cell_type": "code",
   "execution_count": 895,
   "metadata": {},
   "outputs": [
    {
     "data": {
      "text/html": [
       "<div>\n",
       "<style scoped>\n",
       "    .dataframe tbody tr th:only-of-type {\n",
       "        vertical-align: middle;\n",
       "    }\n",
       "\n",
       "    .dataframe tbody tr th {\n",
       "        vertical-align: top;\n",
       "    }\n",
       "\n",
       "    .dataframe thead th {\n",
       "        text-align: right;\n",
       "    }\n",
       "</style>\n",
       "<table border=\"1\" class=\"dataframe\">\n",
       "  <thead>\n",
       "    <tr style=\"text-align: right;\">\n",
       "      <th></th>\n",
       "      <th>id</th>\n",
       "      <th>url</th>\n",
       "      <th>title</th>\n",
       "      <th>target</th>\n",
       "    </tr>\n",
       "  </thead>\n",
       "  <tbody>\n",
       "    <tr>\n",
       "      <th>487</th>\n",
       "      <td>135796</td>\n",
       "      <td>aliciante.eu</td>\n",
       "      <td>naruto hentai nhentai. naruto hentai on alicia...</td>\n",
       "      <td>False</td>\n",
       "    </tr>\n",
       "    <tr>\n",
       "      <th>2001</th>\n",
       "      <td>137310</td>\n",
       "      <td>wherewhore.com</td>\n",
       "      <td>delaware | wherewhore</td>\n",
       "      <td>False</td>\n",
       "    </tr>\n",
       "    <tr>\n",
       "      <th>2240</th>\n",
       "      <td>137549</td>\n",
       "      <td>topspiski.com</td>\n",
       "      <td>серия бригадный генерал (макс глебов) все книг...</td>\n",
       "      <td>False</td>\n",
       "    </tr>\n",
       "    <tr>\n",
       "      <th>7363</th>\n",
       "      <td>142672</td>\n",
       "      <td>lovetorrent.net</td>\n",
       "      <td>staxus.com скачать торрент на lovetorrent.net</td>\n",
       "      <td>False</td>\n",
       "    </tr>\n",
       "    <tr>\n",
       "      <th>10960</th>\n",
       "      <td>146269</td>\n",
       "      <td>uzwaps.ru</td>\n",
       "      <td>скачать частные интим фото вк жены моей-6079 б...</td>\n",
       "      <td>False</td>\n",
       "    </tr>\n",
       "    <tr>\n",
       "      <th>...</th>\n",
       "      <td>...</td>\n",
       "      <td>...</td>\n",
       "      <td>...</td>\n",
       "      <td>...</td>\n",
       "    </tr>\n",
       "    <tr>\n",
       "      <th>158060</th>\n",
       "      <td>293369</td>\n",
       "      <td>nonameno.com</td>\n",
       "      <td>smartshop33 — совместные покупки во владимире</td>\n",
       "      <td>False</td>\n",
       "    </tr>\n",
       "    <tr>\n",
       "      <th>159308</th>\n",
       "      <td>294617</td>\n",
       "      <td>ru.erkiss2.com</td>\n",
       "      <td>просмотр фото</td>\n",
       "      <td>False</td>\n",
       "    </tr>\n",
       "    <tr>\n",
       "      <th>159482</th>\n",
       "      <td>294791</td>\n",
       "      <td>x.epidemz.net.co</td>\n",
       "      <td>new x epidemz net co 18  (новый адрес 2019) » ...</td>\n",
       "      <td>False</td>\n",
       "    </tr>\n",
       "    <tr>\n",
       "      <th>160703</th>\n",
       "      <td>296012</td>\n",
       "      <td>transex.ru</td>\n",
       "      <td>трансы москвы — моя страница</td>\n",
       "      <td>False</td>\n",
       "    </tr>\n",
       "    <tr>\n",
       "      <th>165081</th>\n",
       "      <td>300390</td>\n",
       "      <td>teenageranal.com</td>\n",
       "      <td>petite teen chokes on cock</td>\n",
       "      <td>False</td>\n",
       "    </tr>\n",
       "  </tbody>\n",
       "</table>\n",
       "<p>120 rows × 4 columns</p>\n",
       "</div>"
      ],
      "text/plain": [
       "            id               url  \\\n",
       "487     135796      aliciante.eu   \n",
       "2001    137310    wherewhore.com   \n",
       "2240    137549     topspiski.com   \n",
       "7363    142672   lovetorrent.net   \n",
       "10960   146269         uzwaps.ru   \n",
       "...        ...               ...   \n",
       "158060  293369      nonameno.com   \n",
       "159308  294617    ru.erkiss2.com   \n",
       "159482  294791  x.epidemz.net.co   \n",
       "160703  296012        transex.ru   \n",
       "165081  300390  teenageranal.com   \n",
       "\n",
       "                                                    title  target  \n",
       "487     naruto hentai nhentai. naruto hentai on alicia...   False  \n",
       "2001                                delaware | wherewhore   False  \n",
       "2240    серия бригадный генерал (макс глебов) все книг...   False  \n",
       "7363        staxus.com скачать торрент на lovetorrent.net   False  \n",
       "10960   скачать частные интим фото вк жены моей-6079 б...   False  \n",
       "...                                                   ...     ...  \n",
       "158060      smartshop33 — совместные покупки во владимире   False  \n",
       "159308                                      просмотр фото   False  \n",
       "159482  new x epidemz net co 18  (новый адрес 2019) » ...   False  \n",
       "160703                       трансы москвы — моя страница   False  \n",
       "165081                         petite teen chokes on cock   False  \n",
       "\n",
       "[120 rows x 4 columns]"
      ]
     },
     "execution_count": 895,
     "metadata": {},
     "output_type": "execute_result"
    }
   ],
   "source": [
    "df_test.loc[df_test.url.isin(porn_url)].loc[df_test.target == False]"
   ]
  },
  {
   "cell_type": "code",
   "execution_count": 896,
   "metadata": {},
   "outputs": [
    {
     "data": {
      "text/plain": [
       "0          True\n",
       "1          True\n",
       "2         False\n",
       "3         False\n",
       "4          True\n",
       "          ...  \n",
       "165373     True\n",
       "165374    False\n",
       "165375     True\n",
       "165376     True\n",
       "165377     True\n",
       "Name: url, Length: 165378, dtype: bool"
      ]
     },
     "execution_count": 896,
     "metadata": {},
     "output_type": "execute_result"
    }
   ],
   "source": [
    "df_test.url.isin(no_porn_url)"
   ]
  },
  {
   "cell_type": "code",
   "execution_count": null,
   "metadata": {},
   "outputs": [],
   "source": []
  }
 ],
 "metadata": {
  "kernelspec": {
   "display_name": "Python 3",
   "language": "python",
   "name": "python3"
  },
  "language_info": {
   "codemirror_mode": {
    "name": "ipython",
    "version": 3
   },
   "file_extension": ".py",
   "mimetype": "text/x-python",
   "name": "python",
   "nbconvert_exporter": "python",
   "pygments_lexer": "ipython3",
   "version": "3.8.3"
  }
 },
 "nbformat": 4,
 "nbformat_minor": 4
}
