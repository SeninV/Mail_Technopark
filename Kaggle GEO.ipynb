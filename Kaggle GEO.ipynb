{
 "cells": [
  {
   "cell_type": "code",
   "execution_count": 1,
   "metadata": {},
   "outputs": [],
   "source": [
    "import pandas as pd\n",
    "import numpy as np\n",
    "import geopandas as gpd\n",
    "import requests \n",
    "import seaborn as sns\n",
    "import matplotlib.pyplot as plt\n",
    "%matplotlib inline\n",
    "\n",
    "from sklearn.model_selection import train_test_split\n",
    "from sklearn.metrics import mean_absolute_error\n",
    "from sklearn.linear_model import LinearRegression\n",
    "from sklearn.preprocessing import OneHotEncoder\n",
    "from sklearn import preprocessing\n",
    "from sklearn.ensemble import RandomForestRegressor\n",
    "from sklearn.model_selection import cross_val_score\n",
    "from sklearn.model_selection import StratifiedKFold\n",
    "from geopy import distance\n",
    "\n",
    "from shapely.geometry import Point, LineString, Polygon, MultiPoint, MultiLineString, MultiPolygon\n"
   ]
  },
  {
   "cell_type": "code",
   "execution_count": 2,
   "metadata": {},
   "outputs": [],
   "source": [
    "df_train = pd.read_csv('data/mf_geo_train.csv')\n",
    "df_test = pd.read_csv('data/mf_geo_test.csv')"
   ]
  },
  {
   "cell_type": "code",
   "execution_count": 3,
   "metadata": {},
   "outputs": [
    {
     "data": {
      "text/html": [
       "<div>\n",
       "<style scoped>\n",
       "    .dataframe tbody tr th:only-of-type {\n",
       "        vertical-align: middle;\n",
       "    }\n",
       "\n",
       "    .dataframe tbody tr th {\n",
       "        vertical-align: top;\n",
       "    }\n",
       "\n",
       "    .dataframe thead th {\n",
       "        text-align: right;\n",
       "    }\n",
       "</style>\n",
       "<table border=\"1\" class=\"dataframe\">\n",
       "  <thead>\n",
       "    <tr style=\"text-align: right;\">\n",
       "      <th></th>\n",
       "      <th>point_id</th>\n",
       "      <th>lon</th>\n",
       "      <th>lat</th>\n",
       "      <th>target</th>\n",
       "    </tr>\n",
       "  </thead>\n",
       "  <tbody>\n",
       "    <tr>\n",
       "      <th>0</th>\n",
       "      <td>ommNZCUV</td>\n",
       "      <td>37.590776</td>\n",
       "      <td>55.848630</td>\n",
       "      <td>-0.348157</td>\n",
       "    </tr>\n",
       "    <tr>\n",
       "      <th>1</th>\n",
       "      <td>nMe2LHPb</td>\n",
       "      <td>37.784210</td>\n",
       "      <td>55.750271</td>\n",
       "      <td>1.294206</td>\n",
       "    </tr>\n",
       "    <tr>\n",
       "      <th>2</th>\n",
       "      <td>ZgodVRqB</td>\n",
       "      <td>39.635721</td>\n",
       "      <td>47.213330</td>\n",
       "      <td>-1.039679</td>\n",
       "    </tr>\n",
       "    <tr>\n",
       "      <th>3</th>\n",
       "      <td>0t2jNYdz</td>\n",
       "      <td>37.704570</td>\n",
       "      <td>55.782020</td>\n",
       "      <td>-1.169339</td>\n",
       "    </tr>\n",
       "    <tr>\n",
       "      <th>4</th>\n",
       "      <td>U27W4QJ7</td>\n",
       "      <td>37.643983</td>\n",
       "      <td>55.730188</td>\n",
       "      <td>-0.088837</td>\n",
       "    </tr>\n",
       "    <tr>\n",
       "      <th>...</th>\n",
       "      <td>...</td>\n",
       "      <td>...</td>\n",
       "      <td>...</td>\n",
       "      <td>...</td>\n",
       "    </tr>\n",
       "    <tr>\n",
       "      <th>420</th>\n",
       "      <td>AA8hN7bJ</td>\n",
       "      <td>37.628765</td>\n",
       "      <td>55.740664</td>\n",
       "      <td>0.213704</td>\n",
       "    </tr>\n",
       "    <tr>\n",
       "      <th>421</th>\n",
       "      <td>uNw6t6xk</td>\n",
       "      <td>37.586825</td>\n",
       "      <td>55.794233</td>\n",
       "      <td>-0.002397</td>\n",
       "    </tr>\n",
       "    <tr>\n",
       "      <th>422</th>\n",
       "      <td>Ap42ei8k</td>\n",
       "      <td>37.678790</td>\n",
       "      <td>55.772910</td>\n",
       "      <td>-0.910019</td>\n",
       "    </tr>\n",
       "    <tr>\n",
       "      <th>423</th>\n",
       "      <td>rn9A8r62</td>\n",
       "      <td>37.752130</td>\n",
       "      <td>55.619640</td>\n",
       "      <td>-0.326547</td>\n",
       "    </tr>\n",
       "    <tr>\n",
       "      <th>424</th>\n",
       "      <td>960M6jye</td>\n",
       "      <td>37.705770</td>\n",
       "      <td>55.782950</td>\n",
       "      <td>-1.234169</td>\n",
       "    </tr>\n",
       "  </tbody>\n",
       "</table>\n",
       "<p>425 rows × 4 columns</p>\n",
       "</div>"
      ],
      "text/plain": [
       "     point_id        lon        lat    target\n",
       "0    ommNZCUV  37.590776  55.848630 -0.348157\n",
       "1    nMe2LHPb  37.784210  55.750271  1.294206\n",
       "2    ZgodVRqB  39.635721  47.213330 -1.039679\n",
       "3    0t2jNYdz  37.704570  55.782020 -1.169339\n",
       "4    U27W4QJ7  37.643983  55.730188 -0.088837\n",
       "..        ...        ...        ...       ...\n",
       "420  AA8hN7bJ  37.628765  55.740664  0.213704\n",
       "421  uNw6t6xk  37.586825  55.794233 -0.002397\n",
       "422  Ap42ei8k  37.678790  55.772910 -0.910019\n",
       "423  rn9A8r62  37.752130  55.619640 -0.326547\n",
       "424  960M6jye  37.705770  55.782950 -1.234169\n",
       "\n",
       "[425 rows x 4 columns]"
      ]
     },
     "execution_count": 3,
     "metadata": {},
     "output_type": "execute_result"
    }
   ],
   "source": [
    "df_train"
   ]
  },
  {
   "cell_type": "code",
   "execution_count": 4,
   "metadata": {},
   "outputs": [
    {
     "data": {
      "text/html": [
       "<div>\n",
       "<style scoped>\n",
       "    .dataframe tbody tr th:only-of-type {\n",
       "        vertical-align: middle;\n",
       "    }\n",
       "\n",
       "    .dataframe tbody tr th {\n",
       "        vertical-align: top;\n",
       "    }\n",
       "\n",
       "    .dataframe thead th {\n",
       "        text-align: right;\n",
       "    }\n",
       "</style>\n",
       "<table border=\"1\" class=\"dataframe\">\n",
       "  <thead>\n",
       "    <tr style=\"text-align: right;\">\n",
       "      <th></th>\n",
       "      <th>lon</th>\n",
       "      <th>lat</th>\n",
       "      <th>target</th>\n",
       "    </tr>\n",
       "  </thead>\n",
       "  <tbody>\n",
       "    <tr>\n",
       "      <th>count</th>\n",
       "      <td>425.000000</td>\n",
       "      <td>425.000000</td>\n",
       "      <td>425.000000</td>\n",
       "    </tr>\n",
       "    <tr>\n",
       "      <th>mean</th>\n",
       "      <td>45.466265</td>\n",
       "      <td>55.986388</td>\n",
       "      <td>0.009146</td>\n",
       "    </tr>\n",
       "    <tr>\n",
       "      <th>std</th>\n",
       "      <td>16.778159</td>\n",
       "      <td>2.734334</td>\n",
       "      <td>0.979238</td>\n",
       "    </tr>\n",
       "    <tr>\n",
       "      <th>min</th>\n",
       "      <td>29.765540</td>\n",
       "      <td>47.208802</td>\n",
       "      <td>-1.428660</td>\n",
       "    </tr>\n",
       "    <tr>\n",
       "      <th>25%</th>\n",
       "      <td>37.486227</td>\n",
       "      <td>55.609839</td>\n",
       "      <td>-0.650698</td>\n",
       "    </tr>\n",
       "    <tr>\n",
       "      <th>50%</th>\n",
       "      <td>37.707080</td>\n",
       "      <td>55.789394</td>\n",
       "      <td>-0.196887</td>\n",
       "    </tr>\n",
       "    <tr>\n",
       "      <th>75%</th>\n",
       "      <td>50.173675</td>\n",
       "      <td>56.350323</td>\n",
       "      <td>0.386584</td>\n",
       "    </tr>\n",
       "    <tr>\n",
       "      <th>max</th>\n",
       "      <td>93.023803</td>\n",
       "      <td>60.093366</td>\n",
       "      <td>7.215360</td>\n",
       "    </tr>\n",
       "  </tbody>\n",
       "</table>\n",
       "</div>"
      ],
      "text/plain": [
       "              lon         lat      target\n",
       "count  425.000000  425.000000  425.000000\n",
       "mean    45.466265   55.986388    0.009146\n",
       "std     16.778159    2.734334    0.979238\n",
       "min     29.765540   47.208802   -1.428660\n",
       "25%     37.486227   55.609839   -0.650698\n",
       "50%     37.707080   55.789394   -0.196887\n",
       "75%     50.173675   56.350323    0.386584\n",
       "max     93.023803   60.093366    7.215360"
      ]
     },
     "execution_count": 4,
     "metadata": {},
     "output_type": "execute_result"
    }
   ],
   "source": [
    "df_train.describe()"
   ]
  },
  {
   "cell_type": "markdown",
   "metadata": {},
   "source": [
    "Загружаем карты областей, данные взяты с сайта https://mydata.biz/ru/catalog/databases/borders_ru "
   ]
  },
  {
   "cell_type": "code",
   "execution_count": 5,
   "metadata": {},
   "outputs": [],
   "source": [
    "# Rus = gpd.read_file('data/Адм-территориальные границы РФ в формате GeoJSON/regions.geojson')\n",
    "# Okruga = gpd.read_file('data/Адм-территориальные границы РФ в формате GeoJSON/admin_level_3.geojson')\n",
    "Oblasti = gpd.read_file('data/Адм-территориальные границы РФ в формате GeoJSON/admin_level_4.geojson')\n",
    "# Raioni = gpd.read_file('data/Адм-территориальные границы РФ в формате GeoJSON/admin_level_6.geojson')\n",
    "# Moskou_Piter_raioni = gpd.read_file('data/Адм-территориальные границы РФ в формате GeoJSON/admin_level_8.geojson')\n"
   ]
  },
  {
   "cell_type": "code",
   "execution_count": 6,
   "metadata": {},
   "outputs": [
    {
     "data": {
      "text/plain": [
       "64                       Москва\n",
       "63           Московская область\n",
       "2            Мурманская область\n",
       "36    Ненецкий автономный округ\n",
       "46        Нижегородская область\n",
       "Name: name, dtype: object"
      ]
     },
     "execution_count": 6,
     "metadata": {},
     "output_type": "execute_result"
    }
   ],
   "source": [
    "Oblasti.name.sort_values()[(Oblasti.name.sort_values() >= 'Моск')].head(5)"
   ]
  },
  {
   "cell_type": "code",
   "execution_count": 7,
   "metadata": {},
   "outputs": [
    {
     "data": {
      "text/plain": [
       "<matplotlib.axes._subplots.AxesSubplot at 0x24b48ebae80>"
      ]
     },
     "execution_count": 7,
     "metadata": {},
     "output_type": "execute_result"
    },
    {
     "data": {
      "image/png": "[encoded data removed]",
      "text/plain": [
       "<Figure size 432x288 with 1 Axes>"
      ]
     },
     "metadata": {
      "needs_background": "light"
     },
     "output_type": "display_data"
    }
   ],
   "source": [
    "Oblasti.plot()"
   ]
  },
  {
   "cell_type": "code",
   "execution_count": 8,
   "metadata": {},
   "outputs": [
    {
     "data": {
      "text/plain": [
       "<matplotlib.collections.PathCollection at 0x24b4af3cbb0>"
      ]
     },
     "execution_count": 8,
     "metadata": {},
     "output_type": "execute_result"
    },
    {
     "data": {
      "image/png": "[encoded data removed]",
      "text/plain": [
       "<Figure size 432x288 with 1 Axes>"
      ]
     },
     "metadata": {
      "needs_background": "light"
     },
     "output_type": "display_data"
    }
   ],
   "source": [
    "plt.scatter(df_train.lon,df_train.lat)"
   ]
  },
  {
   "cell_type": "code",
   "execution_count": 9,
   "metadata": {},
   "outputs": [
    {
     "data": {
      "text/plain": [
       "<matplotlib.collections.PathCollection at 0x24b4b0db5b0>"
      ]
     },
     "execution_count": 9,
     "metadata": {},
     "output_type": "execute_result"
    },
    {
     "data": {
      "image/png": "[encoded data removed]",
      "text/plain": [
       "<Figure size 432x288 with 1 Axes>"
      ]
     },
     "metadata": {
      "needs_background": "light"
     },
     "output_type": "display_data"
    }
   ],
   "source": [
    "plt.scatter(df_test.lon,df_test.lat)"
   ]
  },
  {
   "cell_type": "markdown",
   "metadata": {},
   "source": [
    "По распределению видно, что у нас 10 явно выраженных городов"
   ]
  },
  {
   "cell_type": "code",
   "execution_count": 10,
   "metadata": {},
   "outputs": [],
   "source": [
    "df_train_geo = gpd.GeoDataFrame(df_train, geometry=gpd.points_from_xy(df_train.lon, df_train.lat))\n",
    "df_test_geo = gpd.GeoDataFrame(df_test, geometry=gpd.points_from_xy(df_test.lon, df_test.lat))"
   ]
  },
  {
   "cell_type": "code",
   "execution_count": 11,
   "metadata": {
    "collapsed": true
   },
   "outputs": [
    {
     "name": "stderr",
     "output_type": "stream",
     "text": [
      "<ipython-input-11-2ea340c72d96>:1: UserWarning: CRS mismatch between the CRS of left geometries and the CRS of right geometries.\n",
      "Use `to_crs()` to reproject one of the input geometries to match the CRS of the other.\n",
      "\n",
      "Left CRS: None\n",
      "Right CRS: EPSG:4326\n",
      "\n",
      "  df_itog = gpd.sjoin(df_train_geo, Oblasti[['name','geometry']], op='within')\n",
      "<ipython-input-11-2ea340c72d96>:2: UserWarning: CRS mismatch between the CRS of left geometries and the CRS of right geometries.\n",
      "Use `to_crs()` to reproject one of the input geometries to match the CRS of the other.\n",
      "\n",
      "Left CRS: None\n",
      "Right CRS: EPSG:4326\n",
      "\n",
      "  df_test_itog = gpd.sjoin(df_test_geo, Oblasti[['name','geometry']], op='within')\n"
     ]
    }
   ],
   "source": [
    "df_itog = gpd.sjoin(df_train_geo, Oblasti[['name','geometry']], op='within')\n",
    "df_test_itog = gpd.sjoin(df_test_geo, Oblasti[['name','geometry']], op='within')"
   ]
  },
  {
   "cell_type": "code",
   "execution_count": 12,
   "metadata": {},
   "outputs": [],
   "source": [
    "df_itog.drop('index_right', axis = 1,inplace = True)\n",
    "df_test_itog.drop('index_right', axis = 1,inplace = True)"
   ]
  },
  {
   "cell_type": "code",
   "execution_count": 13,
   "metadata": {},
   "outputs": [],
   "source": [
    "# df_Moscow_Piter = gpd.sjoin(df_itog, Moskou_Piter_raioni[['name','geometry']], op='within')\n",
    "# df_Moscow_Piter_test = gpd.sjoin(df_test_itog, Moskou_Piter_raioni[['name','geometry']], op='within')"
   ]
  },
  {
   "cell_type": "markdown",
   "metadata": {},
   "source": [
    "Считаем средний таргет по областям"
   ]
  },
  {
   "cell_type": "code",
   "execution_count": 14,
   "metadata": {},
   "outputs": [],
   "source": [
    "for ind in df_itog.name.value_counts().index:\n",
    "    df_itog.loc[df_itog.name == ind, 'Mean_target'] = df_itog[df_itog.name == ind].target.mean()\n",
    "    df_test_itog.loc[df_test_itog.name == ind, 'Mean_target'] = df_itog[df_itog.name == ind].target.mean()"
   ]
  },
  {
   "cell_type": "code",
   "execution_count": 15,
   "metadata": {},
   "outputs": [
    {
     "data": {
      "text/html": [
       "<div>\n",
       "<style scoped>\n",
       "    .dataframe tbody tr th:only-of-type {\n",
       "        vertical-align: middle;\n",
       "    }\n",
       "\n",
       "    .dataframe tbody tr th {\n",
       "        vertical-align: top;\n",
       "    }\n",
       "\n",
       "    .dataframe thead th {\n",
       "        text-align: right;\n",
       "    }\n",
       "</style>\n",
       "<table border=\"1\" class=\"dataframe\">\n",
       "  <thead>\n",
       "    <tr style=\"text-align: right;\">\n",
       "      <th></th>\n",
       "      <th>point_id</th>\n",
       "      <th>lon</th>\n",
       "      <th>lat</th>\n",
       "      <th>target</th>\n",
       "      <th>geometry</th>\n",
       "      <th>name</th>\n",
       "      <th>Mean_target</th>\n",
       "    </tr>\n",
       "  </thead>\n",
       "  <tbody>\n",
       "    <tr>\n",
       "      <th>0</th>\n",
       "      <td>ommNZCUV</td>\n",
       "      <td>37.590776</td>\n",
       "      <td>55.848630</td>\n",
       "      <td>-0.348157</td>\n",
       "      <td>POINT (37.59078 55.84863)</td>\n",
       "      <td>Москва</td>\n",
       "      <td>0.252092</td>\n",
       "    </tr>\n",
       "    <tr>\n",
       "      <th>1</th>\n",
       "      <td>nMe2LHPb</td>\n",
       "      <td>37.784210</td>\n",
       "      <td>55.750271</td>\n",
       "      <td>1.294206</td>\n",
       "      <td>POINT (37.78421 55.75027)</td>\n",
       "      <td>Москва</td>\n",
       "      <td>0.252092</td>\n",
       "    </tr>\n",
       "    <tr>\n",
       "      <th>3</th>\n",
       "      <td>0t2jNYdz</td>\n",
       "      <td>37.704570</td>\n",
       "      <td>55.782020</td>\n",
       "      <td>-1.169339</td>\n",
       "      <td>POINT (37.70457 55.78202)</td>\n",
       "      <td>Москва</td>\n",
       "      <td>0.252092</td>\n",
       "    </tr>\n",
       "    <tr>\n",
       "      <th>4</th>\n",
       "      <td>U27W4QJ7</td>\n",
       "      <td>37.643983</td>\n",
       "      <td>55.730188</td>\n",
       "      <td>-0.088837</td>\n",
       "      <td>POINT (37.64398 55.73019)</td>\n",
       "      <td>Москва</td>\n",
       "      <td>0.252092</td>\n",
       "    </tr>\n",
       "    <tr>\n",
       "      <th>7</th>\n",
       "      <td>CO76tdVs</td>\n",
       "      <td>37.444304</td>\n",
       "      <td>55.850511</td>\n",
       "      <td>0.213704</td>\n",
       "      <td>POINT (37.44430 55.85051)</td>\n",
       "      <td>Москва</td>\n",
       "      <td>0.252092</td>\n",
       "    </tr>\n",
       "    <tr>\n",
       "      <th>...</th>\n",
       "      <td>...</td>\n",
       "      <td>...</td>\n",
       "      <td>...</td>\n",
       "      <td>...</td>\n",
       "      <td>...</td>\n",
       "      <td>...</td>\n",
       "      <td>...</td>\n",
       "    </tr>\n",
       "    <tr>\n",
       "      <th>384</th>\n",
       "      <td>mZTEZ4bf</td>\n",
       "      <td>50.158969</td>\n",
       "      <td>53.197251</td>\n",
       "      <td>-0.261717</td>\n",
       "      <td>POINT (50.15897 53.19725)</td>\n",
       "      <td>Самарская область</td>\n",
       "      <td>0.953248</td>\n",
       "    </tr>\n",
       "    <tr>\n",
       "      <th>387</th>\n",
       "      <td>2SKYY79M</td>\n",
       "      <td>50.246331</td>\n",
       "      <td>53.212183</td>\n",
       "      <td>3.239111</td>\n",
       "      <td>POINT (50.24633 53.21218)</td>\n",
       "      <td>Самарская область</td>\n",
       "      <td>0.953248</td>\n",
       "    </tr>\n",
       "    <tr>\n",
       "      <th>389</th>\n",
       "      <td>ZfB8GmX1</td>\n",
       "      <td>50.188602</td>\n",
       "      <td>53.191244</td>\n",
       "      <td>0.170484</td>\n",
       "      <td>POINT (50.18860 53.19124)</td>\n",
       "      <td>Самарская область</td>\n",
       "      <td>0.953248</td>\n",
       "    </tr>\n",
       "    <tr>\n",
       "      <th>404</th>\n",
       "      <td>fI0HvX5p</td>\n",
       "      <td>50.225666</td>\n",
       "      <td>53.259281</td>\n",
       "      <td>0.300144</td>\n",
       "      <td>POINT (50.22567 53.25928)</td>\n",
       "      <td>Самарская область</td>\n",
       "      <td>0.953248</td>\n",
       "    </tr>\n",
       "    <tr>\n",
       "      <th>416</th>\n",
       "      <td>6B6HHnCd</td>\n",
       "      <td>50.121798</td>\n",
       "      <td>53.187213</td>\n",
       "      <td>0.040823</td>\n",
       "      <td>POINT (50.12180 53.18721)</td>\n",
       "      <td>Самарская область</td>\n",
       "      <td>0.953248</td>\n",
       "    </tr>\n",
       "  </tbody>\n",
       "</table>\n",
       "<p>425 rows × 7 columns</p>\n",
       "</div>"
      ],
      "text/plain": [
       "     point_id        lon        lat    target                   geometry  \\\n",
       "0    ommNZCUV  37.590776  55.848630 -0.348157  POINT (37.59078 55.84863)   \n",
       "1    nMe2LHPb  37.784210  55.750271  1.294206  POINT (37.78421 55.75027)   \n",
       "3    0t2jNYdz  37.704570  55.782020 -1.169339  POINT (37.70457 55.78202)   \n",
       "4    U27W4QJ7  37.643983  55.730188 -0.088837  POINT (37.64398 55.73019)   \n",
       "7    CO76tdVs  37.444304  55.850511  0.213704  POINT (37.44430 55.85051)   \n",
       "..        ...        ...        ...       ...                        ...   \n",
       "384  mZTEZ4bf  50.158969  53.197251 -0.261717  POINT (50.15897 53.19725)   \n",
       "387  2SKYY79M  50.246331  53.212183  3.239111  POINT (50.24633 53.21218)   \n",
       "389  ZfB8GmX1  50.188602  53.191244  0.170484  POINT (50.18860 53.19124)   \n",
       "404  fI0HvX5p  50.225666  53.259281  0.300144  POINT (50.22567 53.25928)   \n",
       "416  6B6HHnCd  50.121798  53.187213  0.040823  POINT (50.12180 53.18721)   \n",
       "\n",
       "                  name  Mean_target  \n",
       "0               Москва     0.252092  \n",
       "1               Москва     0.252092  \n",
       "3               Москва     0.252092  \n",
       "4               Москва     0.252092  \n",
       "7               Москва     0.252092  \n",
       "..                 ...          ...  \n",
       "384  Самарская область     0.953248  \n",
       "387  Самарская область     0.953248  \n",
       "389  Самарская область     0.953248  \n",
       "404  Самарская область     0.953248  \n",
       "416  Самарская область     0.953248  \n",
       "\n",
       "[425 rows x 7 columns]"
      ]
     },
     "execution_count": 15,
     "metadata": {},
     "output_type": "execute_result"
    }
   ],
   "source": [
    "df_itog"
   ]
  },
  {
   "cell_type": "code",
   "execution_count": 16,
   "metadata": {},
   "outputs": [
    {
     "data": {
      "text/plain": [
       "array(['Москва', 'Ростовская область', 'Красноярский край',\n",
       "       'Санкт-Петербург', 'Башкортостан', 'Татарстан',\n",
       "       'Свердловская область', 'Нижегородская область',\n",
       "       'Новосибирская область', 'Самарская область'], dtype=object)"
      ]
     },
     "execution_count": 16,
     "metadata": {},
     "output_type": "execute_result"
    }
   ],
   "source": [
    "df_itog.name.unique()"
   ]
  },
  {
   "cell_type": "markdown",
   "metadata": {},
   "source": [
    "Смотрим распределение магазинов в тестовом и трейновом датасете"
   ]
  },
  {
   "cell_type": "markdown",
   "metadata": {},
   "source": [
    "Распределение таргета по областям,\n",
    "ярко зеленые это таргет больше 0, темно синие меньше 0, звездочка это тестовые данные"
   ]
  },
  {
   "cell_type": "code",
   "execution_count": 16,
   "metadata": {},
   "outputs": [
    {
     "data": {
      "text/plain": [
       "<matplotlib.collections.PathCollection at 0x2a31231aa90>"
      ]
     },
     "execution_count": 16,
     "metadata": {},
     "output_type": "execute_result"
    },
    {
     "data": {
      "image/png": "[encoded data removed]",
      "text/plain": [
       "<Figure size 432x288 with 1 Axes>"
      ]
     },
     "metadata": {
      "needs_background": "light"
     },
     "output_type": "display_data"
    }
   ],
   "source": [
    "reg = 'Нижегородская область'\n",
    "plt.figure();\n",
    "\n",
    "plt.scatter(df_itog[df_itog.name == reg].lon, df_itog[df_itog.name == reg].lat, \n",
    "            c = df_itog[df_itog.name == reg].target, cmap = 'winter_r',alpha = 0.5)\n",
    "plt.scatter(df_test_itog[df_test_itog.name == reg].lon,df_test_itog[df_test_itog.name == reg].lat,marker = '*' )\n"
   ]
  },
  {
   "cell_type": "markdown",
   "metadata": {},
   "source": [
    "Распределения таргета в зависимости от региона"
   ]
  },
  {
   "cell_type": "code",
   "execution_count": 17,
   "metadata": {},
   "outputs": [
    {
     "data": {
      "image/png": "[encoded data removed]",
      "text/plain": [
       "<Figure size 1332x756 with 10 Axes>"
      ]
     },
     "metadata": {
      "needs_background": "light"
     },
     "output_type": "display_data"
    }
   ],
   "source": [
    "fig, axs = plt.subplots(5,2)\n",
    "fig.set_size_inches(18.5, 10.5)\n",
    "i = 0\n",
    "j = 0\n",
    "plt.subplots_adjust(bottom=0.0, top=2.0)\n",
    "for ind in df_itog.name.value_counts().index:\n",
    "    axs[i, j].plot(range(df_itog[df_itog.name == ind].shape[0]),df_itog[df_itog.name == ind].target)\n",
    "    axs[i, j].set_title(ind)\n",
    "    if i == 4 :\n",
    "        j = 1\n",
    "        i = 0\n",
    "        continue\n",
    "    i = i + 1    "
   ]
  },
  {
   "cell_type": "code",
   "execution_count": 18,
   "metadata": {},
   "outputs": [
    {
     "data": {
      "text/plain": [
       "<matplotlib.collections.PathCollection at 0x2a31490f970>"
      ]
     },
     "execution_count": 18,
     "metadata": {},
     "output_type": "execute_result"
    },
    {
     "data": {
      "image/png": "[encoded data removed]",
      "text/plain": [
       "<Figure size 432x288 with 1 Axes>"
      ]
     },
     "metadata": {
      "needs_background": "light"
     },
     "output_type": "display_data"
    }
   ],
   "source": [
    "reg = 'Москва'\n",
    "plt.scatter(df_itog[df_itog.name == reg].lon,df_itog[df_itog.name == reg].lat)"
   ]
  },
  {
   "cell_type": "code",
   "execution_count": 19,
   "metadata": {},
   "outputs": [
    {
     "data": {
      "image/png": "[encoded data removed]",
      "text/plain": [
       "<Figure size 720x1080 with 1 Axes>"
      ]
     },
     "metadata": {
      "needs_background": "light"
     },
     "output_type": "display_data"
    }
   ],
   "source": [
    "df_itog.plot('name',\n",
    "           figsize=(10, 15),\n",
    "           cmap='OrRd', \n",
    "           scheme='fisher_jenks',\n",
    "           legend=True);"
   ]
  },
  {
   "cell_type": "markdown",
   "metadata": {},
   "source": [
    "Делаем буферну зону вокруг каждой точки"
   ]
  },
  {
   "cell_type": "code",
   "execution_count": 17,
   "metadata": {},
   "outputs": [],
   "source": [
    "from functools import partial\n",
    "import pyproj\n",
    "from shapely.ops import transform\n",
    "\n",
    "proj_wgs84 = pyproj.Proj('+proj=longlat +datum=WGS84')\n",
    "\n",
    "def geodesic_point_buffer(lon, lat, km):\n",
    "    # Azimuthal equidistant projection\n",
    "    aeqd_proj = '+proj=aeqd +lat_0={lat} +lon_0={lon} +x_0=0 +y_0=0'\n",
    "    project = partial(\n",
    "        pyproj.transform,\n",
    "        pyproj.Proj(aeqd_proj.format(lon=lon, lat=lat)),\n",
    "        proj_wgs84)\n",
    "    buf = Point(0, 0).buffer(km * 1000)  # distance in metres\n",
    "    return transform(project, buf)"
   ]
  },
  {
   "cell_type": "code",
   "execution_count": 18,
   "metadata": {},
   "outputs": [],
   "source": [
    "df_with_rad = df_itog.copy()\n",
    "df_with_rad.rename(columns={\"geometry\": \"point_geometry\"}, inplace = True)\n",
    "\n",
    "df_with_rad['geometry'] = df_with_rad.apply(lambda x: geodesic_point_buffer(x['point_geometry'].x, x['point_geometry'].y, 0.5),\n",
    "                                       axis=1)\n",
    "df_with_rad.set_geometry('geometry', inplace = True)"
   ]
  },
  {
   "cell_type": "code",
   "execution_count": 19,
   "metadata": {},
   "outputs": [],
   "source": [
    "df_with_rad_2 = df_itog.copy()\n",
    "df_with_rad_2.rename(columns={\"geometry\": \"point_geometry\"}, inplace = True)\n",
    "\n",
    "df_with_rad_2['geometry'] = df_with_rad_2.apply(lambda x: geodesic_point_buffer(x['point_geometry'].x, x['point_geometry'].y, 2.0),\n",
    "                                       axis=1)\n",
    "df_with_rad_2.set_geometry('geometry', inplace = True)"
   ]
  },
  {
   "cell_type": "code",
   "execution_count": 20,
   "metadata": {},
   "outputs": [],
   "source": [
    "df_test_with_rad = df_test_itog.copy()\n",
    "df_test_with_rad.rename(columns={\"geometry\": \"point_geometry\"}, inplace = True)\n",
    "\n",
    "df_test_with_rad['geometry'] = df_test_with_rad.apply(lambda x: geodesic_point_buffer(x['point_geometry'].x, x['point_geometry'].y, 0.5),\n",
    "                                       axis=1)\n",
    "df_test_with_rad.set_geometry('geometry', inplace = True)"
   ]
  },
  {
   "cell_type": "markdown",
   "metadata": {},
   "source": [
    "###  Считаем таргет по ближайшим магазинам"
   ]
  },
  {
   "cell_type": "markdown",
   "metadata": {},
   "source": [
    "Есть идея создать буферную зону вокруг тестовых магазинов и посчитать среднее количество продаваемых телефонах в магазинах из трейна, которые входят в эту зону"
   ]
  },
  {
   "cell_type": "code",
   "execution_count": 336,
   "metadata": {},
   "outputs": [
    {
     "data": {
      "text/plain": [
       "<matplotlib.collections.PathCollection at 0x2a315050160>"
      ]
     },
     "execution_count": 336,
     "metadata": {},
     "output_type": "execute_result"
    },
    {
     "data": {
      "image/png": "[encoded data removed]",
      "text/plain": [
       "<Figure size 432x288 with 1 Axes>"
      ]
     },
     "metadata": {
      "needs_background": "light"
     },
     "output_type": "display_data"
    }
   ],
   "source": [
    "reg = 'Самарская область'\n",
    "df_test_with_rad[df_test_with_rad.name == reg].geometry.plot()\n",
    "\n",
    "plt.scatter(df_itog[df_itog.name == reg].lon, df_itog[df_itog.name == reg].lat, \n",
    "            c = df_itog[df_itog.name == reg].target, cmap = 'winter_r',alpha = 0.5)"
   ]
  },
  {
   "cell_type": "code",
   "execution_count": 25,
   "metadata": {},
   "outputs": [],
   "source": [
    "df_perem = df_with_rad.copy()\n",
    "df_perem.rename(columns={\"target\": \"target_isnach\"}, inplace = True)\n",
    "df_perem.drop(columns = 'point_geometry', inplace = True)\n"
   ]
  },
  {
   "cell_type": "code",
   "execution_count": 26,
   "metadata": {},
   "outputs": [],
   "source": [
    "df_perem = gpd.sjoin(df_perem, df_itog[['target', 'geometry']], op='contains')"
   ]
  },
  {
   "cell_type": "markdown",
   "metadata": {},
   "source": [
    "Делаем маску на магазины в буферную зону которых никто не вошел, далее им будем присваивать среднее значение по городу"
   ]
  },
  {
   "cell_type": "code",
   "execution_count": 27,
   "metadata": {},
   "outputs": [],
   "source": [
    "mask = (df_perem.groupby('point_id')['target'].count().reset_index().sort_values(by = 'point_id').target != 1)"
   ]
  },
  {
   "cell_type": "code",
   "execution_count": 28,
   "metadata": {},
   "outputs": [],
   "source": [
    "df_target_3 = df_perem.groupby('point_id')['target'].mean().reset_index().sort_values(by = 'point_id')[mask]"
   ]
  },
  {
   "cell_type": "code",
   "execution_count": 29,
   "metadata": {},
   "outputs": [],
   "source": [
    "df_perem.drop(columns = ['index_right','target','Mean_target'] , inplace = True)"
   ]
  },
  {
   "cell_type": "code",
   "execution_count": 30,
   "metadata": {},
   "outputs": [],
   "source": [
    "df_perem = df_perem.drop_duplicates()"
   ]
  },
  {
   "cell_type": "code",
   "execution_count": 31,
   "metadata": {},
   "outputs": [],
   "source": [
    "df_perem = df_perem.merge(df_target_3, on=['point_id'], how = 'inner')"
   ]
  },
  {
   "cell_type": "code",
   "execution_count": 32,
   "metadata": {},
   "outputs": [],
   "source": [
    "df_perem = df_perem.merge(df_itog[['point_id','Mean_target','target']], on=['point_id'], how = 'outer')"
   ]
  },
  {
   "cell_type": "code",
   "execution_count": 33,
   "metadata": {},
   "outputs": [],
   "source": [
    "df_perem.target_x.fillna(df_perem.Mean_target, inplace= True)"
   ]
  },
  {
   "cell_type": "code",
   "execution_count": 34,
   "metadata": {},
   "outputs": [
    {
     "data": {
      "text/plain": [
       "0.5398576880389294"
      ]
     },
     "execution_count": 34,
     "metadata": {},
     "output_type": "execute_result"
    }
   ],
   "source": [
    "mean_absolute_error(df_perem.target_y, df_perem.target_x)"
   ]
  },
  {
   "cell_type": "markdown",
   "metadata": {},
   "source": [
    "Ошибка:\n",
    "\n",
    "    0.54 для зоны из 3км 392 - магазина\n",
    "\n",
    "    0.506 для зоны из 2км 345 - магазина\n",
    "\n",
    "    Для всех магазинов(даже для тех, у кого нет соседей, для таких просто заменяем средним по городу)\n",
    "\n",
    "    0.55 для 1.5км\n",
    "\n",
    "    0.54 для 2 км\n",
    "\n",
    "    0.55 для 2.5 км\n",
    "\n",
    "    0.57 для 3 км"
   ]
  },
  {
   "cell_type": "markdown",
   "metadata": {},
   "source": [
    "Проделываем тоже с тестом на 2км"
   ]
  },
  {
   "cell_type": "code",
   "execution_count": 35,
   "metadata": {},
   "outputs": [],
   "source": [
    "df_test_perem = df_test_with_rad.copy()\n",
    "df_test_perem.drop(columns = ['point_geometry','target'], inplace = True)\n",
    "\n",
    "df_test_perem = gpd.sjoin(df_test_perem, df_itog[['target', 'geometry']], op='contains')\n",
    "\n",
    "df_test_target_3 = df_test_perem.groupby('point_id')['target'].mean().reset_index().sort_values(by = 'point_id')\n",
    "\n",
    "df_test_perem.drop(columns = ['index_right'] , inplace = True)\n",
    "\n",
    "df_test_perem = df_test_perem.drop_duplicates(subset = 'point_id')\n",
    "df_test_perem.drop(columns = ['target','Mean_target'], inplace = True)\n",
    "\n",
    "df_test_perem = df_test_perem.merge(df_test_target_3, on=['point_id'], how = 'inner')\n",
    "df_test_perem = df_test_perem.merge(df_test_with_rad[['point_id','Mean_target']], on=['point_id'], how = 'outer')\n",
    "df_test_perem.target.fillna(df_test_perem.Mean_target, inplace= True)"
   ]
  },
  {
   "cell_type": "code",
   "execution_count": 37,
   "metadata": {},
   "outputs": [],
   "source": [
    "# submission = df_test_perem[['point_id','target']]\n",
    "# submission.to_csv('Predictions/pred(3km)only-target.csv', index=False)"
   ]
  },
  {
   "cell_type": "markdown",
   "metadata": {},
   "source": [
    "0.69 для 2км на лидерборде\n",
    "0.72 для 3\n",
    "\n",
    "Метод в итоге оказался интересным, на кегле показал скор 0.68, что весьма неплохо, но очевидно что такой метод упускает огромное кол-во информации. Поэтому будем пытаться решать другими способами."
   ]
  },
  {
   "cell_type": "markdown",
   "metadata": {},
   "source": [
    "### Загружаю данные из ОМС"
   ]
  },
  {
   "cell_type": "markdown",
   "metadata": {},
   "source": [
    "Для 5 фичей у объектов будем использовать: вокзалы, рестораны, автобусные станции, школы, и дома "
   ]
  },
  {
   "cell_type": "markdown",
   "metadata": {},
   "source": [
    "Так как территория между всеми магазина ограмная, то не имееет смысла скачивать данные по всей России, поэтому будем ориентироваться по городам(10 штук).\n",
    "\n",
    "Для каждого города создадим ситибокс и будем скачивать данные отдельно по каждому городу."
   ]
  },
  {
   "cell_type": "markdown",
   "metadata": {},
   "source": [
    "### Функции"
   ]
  },
  {
   "cell_type": "markdown",
   "metadata": {},
   "source": [
    "Делаю сити бокс, в зависимости от названия города по максимальному и манимальному значению широты и долго ты точек в этом городе"
   ]
  },
  {
   "cell_type": "code",
   "execution_count": 21,
   "metadata": {},
   "outputs": [],
   "source": [
    "def city_box(name):\n",
    "# берем облатсь чуть больше(примерно на 2.5км по каждой координате), чтобы у каждой точки была буферная зона\n",
    "    lon_max = df_itog[df_itog.name == name].lon.max() + 0.7\n",
    "    lon_min = df_itog[df_itog.name == name].lon.min() - 0.7\n",
    "\n",
    "    lat_max = df_itog[df_itog.name == name].lat.max() + 0.7\n",
    "    lat_min = df_itog[df_itog.name == name].lat.min() - 0.7\n",
    "\n",
    "\n",
    "    m_bbox = lat_min,lon_min,lat_max,lon_max\n",
    "    return m_bbox"
   ]
  },
  {
   "cell_type": "markdown",
   "metadata": {},
   "source": [
    "Функция нахождения ближайшей станции"
   ]
  },
  {
   "cell_type": "code",
   "execution_count": 72,
   "metadata": {},
   "outputs": [],
   "source": [
    "def railway_distance(df,name):\n",
    "    overpass_url = \"http://overpass-api.de/api/interpreter\"\n",
    "    overpass_query = '''\n",
    "    [out:json];\n",
    "    (node['railway' = 'station']({},{},{},{});\n",
    "    );\n",
    "    out center;\n",
    "    '''.format(*city_box(name))\n",
    "\n",
    "    response = requests.get(overpass_url, \n",
    "                             params={'data': overpass_query})\n",
    "    amenity = response.json()\n",
    "\n",
    "    amenity_osm = pd.DataFrame(amenity['elements'])\n",
    "    amenity_osm = pd.concat([amenity_osm,\n",
    "        pd.DataFrame([x['tags'] for x in amenity['elements']])], axis=1).drop('tags', axis=1)\n",
    "    amenity_osm['geometry'] = [Point(x,y) for x,y in zip(amenity_osm.lon, amenity_osm.lat)]\n",
    "    amenity_osm = gpd.GeoDataFrame(amenity_osm)\n",
    "    amenity_osm\n",
    "    dist = []\n",
    "    for point in df.point_id:\n",
    "        a = []\n",
    "        point_coord = df[df.point_id==point].lat.values, df[df.point_id==point].lon.values\n",
    "        for i in range(amenity_osm.shape[0]):\n",
    "            station_coord = amenity_osm.iloc[i].lat,amenity_osm.iloc[i].lon\n",
    "            a.append(distance.geodesic(point_coord,station_coord).m)\n",
    "        dist.append(np.array(a).min())\n",
    "    return(dist)"
   ]
  },
  {
   "cell_type": "markdown",
   "metadata": {},
   "source": [
    "### Загружаю по 5 фичей для каждого района"
   ]
  },
  {
   "cell_type": "markdown",
   "metadata": {},
   "source": [
    "вокзалы, рестораны, автобусные станции, школы, и дома "
   ]
  },
  {
   "cell_type": "code",
   "execution_count": 95,
   "metadata": {},
   "outputs": [],
   "source": [
    "def amenity_railway(df,name):\n",
    "    overpass_query = '''\n",
    "    [out:json];\n",
    "    (\n",
    "    node['railway' = 'station']({},{},{},{});\n",
    "    );\n",
    "    out center;\n",
    "    '''.format(*city_box(name))\n",
    "    response = requests.get(overpass_url,\n",
    "    params={'data': overpass_query})\n",
    "    amenity = response.json()\n",
    "    amenity_osm = pd.DataFrame(amenity['elements'])\n",
    "    amenity_osm = pd.concat([amenity_osm,\n",
    "         pd.DataFrame([x['tags'] for x in amenity['elements']])], axis=1).drop('tags', axis=1)\n",
    "    amenity_osm['geometry'] = [Point(x,y) for x,y in zip(amenity_osm.lon, amenity_osm.lat)]\n",
    "    amenity_osm = gpd.GeoDataFrame(amenity_osm)\n",
    "    amenity_osm = gpd.sjoin(amenity_osm, df[['point_id', 'geometry']], op='within')\n",
    "    amenity_osm = amenity_osm.groupby(['point_id']).size().reset_index()\n",
    "    amenity_osm.columns = ['point_id', 'Number_stations']\n",
    "    return pd.merge(df[df.name == name],amenity_osm, on = 'point_id')"
   ]
  },
  {
   "cell_type": "code",
   "execution_count": 90,
   "metadata": {},
   "outputs": [],
   "source": [
    "def amenity_transport(df,name):\n",
    "    overpass_url = \"http://overpass-api.de/api/interpreter\"\n",
    "\n",
    "    overpass_query = '''\n",
    "    [out:json];\n",
    "    (node[\"public_transport\" = \"station\"]({},{},{},{});\n",
    "    );\n",
    "    out center;\n",
    "    '''.format(*city_box(name))\n",
    "\n",
    "    response = requests.get(overpass_url, \n",
    "                             params={'data': overpass_query})\n",
    "    amenity = response.json()\n",
    "    \n",
    "    amenity_osm = pd.DataFrame(amenity['elements'])\n",
    "    amenity_osm = pd.concat([amenity_osm,\n",
    "         pd.DataFrame([x['tags'] for x in amenity['elements']])], axis=1).drop('tags', axis=1)\n",
    "    amenity_osm['geometry'] = [Point(x,y) for x,y in zip(amenity_osm.lon, amenity_osm.lat)]\n",
    "    amenity_osm = gpd.GeoDataFrame(amenity_osm)\n",
    "    amenity_osm = gpd.sjoin(amenity_osm, df[['point_id', 'geometry']], op='within')\n",
    "    amenity_osm = amenity_osm.groupby(['point_id']).size().reset_index()\n",
    "    amenity_osm.columns = ['point_id', 'Number_bus_stations']\n",
    "    return pd.merge(df[df.name == name],amenity_osm, on = 'point_id')"
   ]
  },
  {
   "cell_type": "code",
   "execution_count": 91,
   "metadata": {},
   "outputs": [],
   "source": [
    "def amenity_school(df,name):\n",
    "    overpass_url = \"http://overpass-api.de/api/interpreter\"\n",
    "\n",
    "    overpass_query = '''\n",
    "    [out:json];\n",
    "    (node[\"amenity\" = 'school']({},{},{},{});\n",
    "    );\n",
    "    out center;\n",
    "    '''.format(*city_box(name))\n",
    "\n",
    "    response = requests.get(overpass_url, \n",
    "                             params={'data': overpass_query})\n",
    "    amenity = response.json()\n",
    "    \n",
    "    amenity_osm = pd.DataFrame(amenity['elements'])\n",
    "    amenity_osm = pd.concat([amenity_osm,\n",
    "         pd.DataFrame([x['tags'] for x in amenity['elements']])], axis=1).drop('tags', axis=1)\n",
    "    amenity_osm['geometry'] = [Point(x,y) for x,y in zip(amenity_osm.lon, amenity_osm.lat)]\n",
    "    amenity_osm = gpd.GeoDataFrame(amenity_osm)\n",
    "    amenity_osm = gpd.sjoin(amenity_osm, df[['point_id', 'geometry']], op='within')\n",
    "    amenity_osm = amenity_osm.groupby(['point_id']).size().reset_index()\n",
    "    amenity_osm.columns = ['point_id', 'Number_schools']\n",
    "    return pd.merge(df[df.name == name],amenity_osm, on = 'point_id')"
   ]
  },
  {
   "cell_type": "code",
   "execution_count": 92,
   "metadata": {},
   "outputs": [],
   "source": [
    "def amenity_restaurant(df,name):\n",
    "    overpass_url = \"http://overpass-api.de/api/interpreter\"\n",
    "\n",
    "    overpass_query = '''\n",
    "    [out:json];\n",
    "    (node[\"amenity\" = \"restaurant\"]({},{},{},{});\n",
    "    );\n",
    "    out center;\n",
    "    '''.format(*city_box(name))\n",
    "\n",
    "    response = requests.get(overpass_url, \n",
    "                             params={'data': overpass_query})\n",
    "    amenity = response.json()\n",
    "    \n",
    "    amenity_osm = pd.DataFrame(amenity['elements'])\n",
    "    amenity_osm = pd.concat([amenity_osm,\n",
    "         pd.DataFrame([x['tags'] for x in amenity['elements']])], axis=1).drop('tags', axis=1)\n",
    "    amenity_osm['geometry'] = [Point(x,y) for x,y in zip(amenity_osm.lon, amenity_osm.lat)]\n",
    "    amenity_osm = gpd.GeoDataFrame(amenity_osm)\n",
    "    amenity_osm = gpd.sjoin(amenity_osm, df[['point_id', 'geometry']], op='within')\n",
    "    amenity_osm = amenity_osm.groupby(['point_id']).size().reset_index()\n",
    "    amenity_osm.columns = ['point_id', 'Number_restaurant']\n",
    "    return pd.merge(df[df.name == name],amenity_osm, on = 'point_id')"
   ]
  },
  {
   "cell_type": "code",
   "execution_count": 93,
   "metadata": {},
   "outputs": [],
   "source": [
    "def amenity_building(df, name):\n",
    "    overpass_url = \"http://overpass-api.de/api/interpreter\"\n",
    "\n",
    "    overpass_query = '''\n",
    "    [out:json];\n",
    "    (node[\"building\"]({},{},{},{});\n",
    "    );\n",
    "    out center;\n",
    "    '''.format(*city_box(name))\n",
    "\n",
    "    response = requests.get(overpass_url, \n",
    "                             params={'data': overpass_query})\n",
    "    amenity = response.json()\n",
    "\n",
    "    \n",
    "    amenity_osm = pd.DataFrame(amenity['elements'])\n",
    "    amenity_osm = pd.concat([amenity_osm,\n",
    "         pd.DataFrame([x['tags'] for x in amenity['elements']])], axis=1).drop('tags', axis=1)\n",
    "    amenity_osm['geometry'] = [Point(x,y) for x,y in zip(amenity_osm.lon, amenity_osm.lat)]\n",
    "    amenity_osm = gpd.GeoDataFrame(amenity_osm)\n",
    "    amenity_osm = gpd.sjoin(amenity_osm, df[['point_id', 'geometry']], op='within')\n",
    "    amenity_osm = amenity_osm.groupby(['point_id']).size().reset_index()\n",
    "    amenity_osm.columns = ['point_id', 'Number_building']\n",
    "    return pd.merge(df[df.name == name],amenity_osm, on = 'point_id')"
   ]
  },
  {
   "cell_type": "markdown",
   "metadata": {},
   "source": [
    "### Берем топ 30 аменити в районе 500 метров"
   ]
  },
  {
   "cell_type": "code",
   "execution_count": 78,
   "metadata": {},
   "outputs": [],
   "source": [
    "def amenity_all(name):\n",
    "    overpass_url = \"http://overpass-api.de/api/interpreter\"\n",
    "\n",
    "    overpass_query = '''\n",
    "    [out:json];\n",
    "    (node[\"amenity\"]({},{},{},{});\n",
    "    );\n",
    "    out center;\n",
    "    '''.format(*city_box(name))\n",
    "\n",
    "    response = requests.get(overpass_url, \n",
    "                             params={'data': overpass_query})\n",
    "    amenity = response.json()\n",
    "\n",
    "    amenity_osm = pd.DataFrame(amenity['elements'])\n",
    "    amenity_osm = pd.concat([amenity_osm,\n",
    "         pd.DataFrame([x['tags'] for x in amenity['elements']])], axis=1).drop('tags', axis=1)\n",
    "    amenity_osm['geometry'] = [Point(x,y) for x,y in zip(amenity_osm.lon, amenity_osm.lat)]\n",
    "    amenity_osm = gpd.GeoDataFrame(amenity_osm)\n",
    "    amenity_osm = gpd.sjoin(amenity_osm, df_with_rad[['point_id', 'geometry']], op='within')\n",
    "    top30_amenity = amenity_osm.amenity.value_counts()[:30].index\n",
    "    amenity_osm = amenity_osm[amenity_osm.amenity.isin(top30_amenity)]\n",
    "    amenity_osm = amenity_osm.groupby(['point_id', 'amenity']).size().unstack(fill_value=0).reset_index()\n",
    "    return  pd.merge(df_with_rad[df_with_rad.name == name],amenity_osm, on = 'point_id')\n",
    "\n"
   ]
  },
  {
   "cell_type": "code",
   "execution_count": 79,
   "metadata": {},
   "outputs": [],
   "source": [
    "def amenity_all_test(name):\n",
    "    overpass_url = \"http://overpass-api.de/api/interpreter\"\n",
    "\n",
    "    overpass_query = '''\n",
    "    [out:json];\n",
    "    (\n",
    "    node[\"amenity\"]({},{},{},{});\n",
    "    );\n",
    "    out center;\n",
    "    '''.format(*city_box(name))\n",
    "\n",
    "    response = requests.get(overpass_url, \n",
    "                             params={'data': overpass_query})\n",
    "    amenity = response.json()\n",
    "\n",
    "    amenity_osm = pd.DataFrame(amenity['elements'])\n",
    "    amenity_osm = pd.concat([amenity_osm,\n",
    "         pd.DataFrame([x['tags'] for x in amenity['elements']])], axis=1).drop('tags', axis=1)\n",
    "    amenity_osm['geometry'] = [Point(x,y) for x,y in zip(amenity_osm.lon, amenity_osm.lat)]\n",
    "    amenity_osm = gpd.GeoDataFrame(amenity_osm)\n",
    "    amenity_osm = gpd.sjoin(amenity_osm, df_test_with_rad[['point_id', 'geometry']], op='within')\n",
    "    top30_amenity = amenity_osm.amenity.value_counts()[:30].index\n",
    "    amenity_osm = amenity_osm[amenity_osm.amenity.isin(top30_amenity)]\n",
    "    amenity_osm = amenity_osm.groupby(['point_id', 'amenity']).size().unstack(fill_value=0).reset_index()\n",
    "    return  pd.merge(df_test_with_rad[df_test_with_rad.name == name],amenity_osm, on = 'point_id')"
   ]
  },
  {
   "cell_type": "code",
   "execution_count": 80,
   "metadata": {},
   "outputs": [],
   "source": [
    "# overpass_url = \"http://overpass-api.de/api/interpreter\"\n",
    "\n",
    "# overpass_query = '''\n",
    "# [out:json];\n",
    "# (\n",
    "# node['building']({},{},{},{});\n",
    "# );\n",
    "# out center;\n",
    "# '''.format(*city_box('Свердловская область'))\n",
    "\n",
    "# response = requests.get(overpass_url, \n",
    "#                          params={'data': overpass_query})\n",
    "# amenity = response.json()\n",
    "\n",
    "# amenity_osm = pd.DataFrame(amenity['elements'])\n",
    "# amenity_osm = pd.concat([amenity_osm,\n",
    "#     pd.DataFrame([x['tags'] for x in amenity['elements']])], axis=1).drop('tags', axis=1)\n",
    "# amenity_osm['geometry'] = [Point(x,y) for x,y in zip(amenity_osm.lon, amenity_osm.lat)]\n",
    "# amenity_osm = gpd.GeoDataFrame(amenity_osm)"
   ]
  },
  {
   "cell_type": "code",
   "execution_count": 81,
   "metadata": {},
   "outputs": [],
   "source": [
    "# amenity_osm = gpd.sjoin(amenity_osm, df_test_with_rad[['point_id', 'geometry']], op='within')"
   ]
  },
  {
   "cell_type": "code",
   "execution_count": 82,
   "metadata": {},
   "outputs": [],
   "source": [
    "# df_test_with_rad[df_test_with_rad.name =='Свердловская область'].plot()"
   ]
  },
  {
   "cell_type": "code",
   "execution_count": 83,
   "metadata": {},
   "outputs": [],
   "source": [
    "# df_test_with_rad[df_test_with_rad.name =='Свердловская область']"
   ]
  },
  {
   "cell_type": "code",
   "execution_count": 84,
   "metadata": {},
   "outputs": [],
   "source": [
    "# top30_amenity = amenity_osm.amenity.value_counts()[:30].index\n",
    "# amenity_osm = amenity_osm[amenity_osm.amenity.isin(top30_amenity)]"
   ]
  },
  {
   "cell_type": "code",
   "execution_count": 85,
   "metadata": {},
   "outputs": [],
   "source": [
    "# amenity_osm = amenity_osm.groupby(['point_id', 'amenity']).size().unstack(fill_value=0).reset_index()"
   ]
  },
  {
   "cell_type": "code",
   "execution_count": 60,
   "metadata": {},
   "outputs": [],
   "source": [
    "# pd.merge(df_test_with_rad[df_test_with_rad.name == 'Свердловская область'],amenity_osm, on = 'point_id')"
   ]
  },
  {
   "cell_type": "markdown",
   "metadata": {},
   "source": [
    "###  Ближайшие станции железной дороги"
   ]
  },
  {
   "cell_type": "code",
   "execution_count": 120,
   "metadata": {},
   "outputs": [],
   "source": [
    "df_dis = df_itog.copy()\n",
    "dist = []\n",
    "for i, ind in enumerate(df_itog.name.value_counts().index):\n",
    "    df_dis.loc[df_dis.name == ind, 'railway_dist'] = railway_distance(df_dis.loc[df_dis.name == ind], ind)"
   ]
  },
  {
   "cell_type": "code",
   "execution_count": 130,
   "metadata": {},
   "outputs": [
    {
     "data": {
      "text/html": [
       "<div>\n",
       "<style scoped>\n",
       "    .dataframe tbody tr th:only-of-type {\n",
       "        vertical-align: middle;\n",
       "    }\n",
       "\n",
       "    .dataframe tbody tr th {\n",
       "        vertical-align: top;\n",
       "    }\n",
       "\n",
       "    .dataframe thead th {\n",
       "        text-align: right;\n",
       "    }\n",
       "</style>\n",
       "<table border=\"1\" class=\"dataframe\">\n",
       "  <thead>\n",
       "    <tr style=\"text-align: right;\">\n",
       "      <th></th>\n",
       "      <th>point_id</th>\n",
       "      <th>lon</th>\n",
       "      <th>lat</th>\n",
       "      <th>target</th>\n",
       "      <th>geometry</th>\n",
       "      <th>name</th>\n",
       "      <th>Mean_target</th>\n",
       "      <th>railway_dist</th>\n",
       "    </tr>\n",
       "  </thead>\n",
       "  <tbody>\n",
       "    <tr>\n",
       "      <th>0</th>\n",
       "      <td>ommNZCUV</td>\n",
       "      <td>37.590776</td>\n",
       "      <td>55.848630</td>\n",
       "      <td>-0.348157</td>\n",
       "      <td>POINT (37.59078 55.84863)</td>\n",
       "      <td>Москва</td>\n",
       "      <td>0.252092</td>\n",
       "      <td>159.413308</td>\n",
       "    </tr>\n",
       "    <tr>\n",
       "      <th>1</th>\n",
       "      <td>nMe2LHPb</td>\n",
       "      <td>37.784210</td>\n",
       "      <td>55.750271</td>\n",
       "      <td>1.294206</td>\n",
       "      <td>POINT (37.78421 55.75027)</td>\n",
       "      <td>Москва</td>\n",
       "      <td>0.252092</td>\n",
       "      <td>176.055443</td>\n",
       "    </tr>\n",
       "    <tr>\n",
       "      <th>3</th>\n",
       "      <td>0t2jNYdz</td>\n",
       "      <td>37.704570</td>\n",
       "      <td>55.782020</td>\n",
       "      <td>-1.169339</td>\n",
       "      <td>POINT (37.70457 55.78202)</td>\n",
       "      <td>Москва</td>\n",
       "      <td>0.252092</td>\n",
       "      <td>59.407885</td>\n",
       "    </tr>\n",
       "    <tr>\n",
       "      <th>4</th>\n",
       "      <td>U27W4QJ7</td>\n",
       "      <td>37.643983</td>\n",
       "      <td>55.730188</td>\n",
       "      <td>-0.088837</td>\n",
       "      <td>POINT (37.64398 55.73019)</td>\n",
       "      <td>Москва</td>\n",
       "      <td>0.252092</td>\n",
       "      <td>221.826970</td>\n",
       "    </tr>\n",
       "    <tr>\n",
       "      <th>7</th>\n",
       "      <td>CO76tdVs</td>\n",
       "      <td>37.444304</td>\n",
       "      <td>55.850511</td>\n",
       "      <td>0.213704</td>\n",
       "      <td>POINT (37.44430 55.85051)</td>\n",
       "      <td>Москва</td>\n",
       "      <td>0.252092</td>\n",
       "      <td>283.762220</td>\n",
       "    </tr>\n",
       "    <tr>\n",
       "      <th>...</th>\n",
       "      <td>...</td>\n",
       "      <td>...</td>\n",
       "      <td>...</td>\n",
       "      <td>...</td>\n",
       "      <td>...</td>\n",
       "      <td>...</td>\n",
       "      <td>...</td>\n",
       "      <td>...</td>\n",
       "    </tr>\n",
       "    <tr>\n",
       "      <th>384</th>\n",
       "      <td>mZTEZ4bf</td>\n",
       "      <td>50.158969</td>\n",
       "      <td>53.197251</td>\n",
       "      <td>-0.261717</td>\n",
       "      <td>POINT (50.15897 53.19725)</td>\n",
       "      <td>Самарская область</td>\n",
       "      <td>0.953248</td>\n",
       "      <td>626.892063</td>\n",
       "    </tr>\n",
       "    <tr>\n",
       "      <th>387</th>\n",
       "      <td>2SKYY79M</td>\n",
       "      <td>50.246331</td>\n",
       "      <td>53.212183</td>\n",
       "      <td>3.239111</td>\n",
       "      <td>POINT (50.24633 53.21218)</td>\n",
       "      <td>Самарская область</td>\n",
       "      <td>0.953248</td>\n",
       "      <td>94.277497</td>\n",
       "    </tr>\n",
       "    <tr>\n",
       "      <th>389</th>\n",
       "      <td>ZfB8GmX1</td>\n",
       "      <td>50.188602</td>\n",
       "      <td>53.191244</td>\n",
       "      <td>0.170484</td>\n",
       "      <td>POINT (50.18860 53.19124)</td>\n",
       "      <td>Самарская область</td>\n",
       "      <td>0.953248</td>\n",
       "      <td>1289.490296</td>\n",
       "    </tr>\n",
       "    <tr>\n",
       "      <th>404</th>\n",
       "      <td>fI0HvX5p</td>\n",
       "      <td>50.225666</td>\n",
       "      <td>53.259281</td>\n",
       "      <td>0.300144</td>\n",
       "      <td>POINT (50.22567 53.25928)</td>\n",
       "      <td>Самарская область</td>\n",
       "      <td>0.953248</td>\n",
       "      <td>5039.290026</td>\n",
       "    </tr>\n",
       "    <tr>\n",
       "      <th>416</th>\n",
       "      <td>6B6HHnCd</td>\n",
       "      <td>50.121798</td>\n",
       "      <td>53.187213</td>\n",
       "      <td>0.040823</td>\n",
       "      <td>POINT (50.12180 53.18721)</td>\n",
       "      <td>Самарская область</td>\n",
       "      <td>0.953248</td>\n",
       "      <td>173.321742</td>\n",
       "    </tr>\n",
       "  </tbody>\n",
       "</table>\n",
       "<p>425 rows × 8 columns</p>\n",
       "</div>"
      ],
      "text/plain": [
       "     point_id        lon        lat    target                   geometry  \\\n",
       "0    ommNZCUV  37.590776  55.848630 -0.348157  POINT (37.59078 55.84863)   \n",
       "1    nMe2LHPb  37.784210  55.750271  1.294206  POINT (37.78421 55.75027)   \n",
       "3    0t2jNYdz  37.704570  55.782020 -1.169339  POINT (37.70457 55.78202)   \n",
       "4    U27W4QJ7  37.643983  55.730188 -0.088837  POINT (37.64398 55.73019)   \n",
       "7    CO76tdVs  37.444304  55.850511  0.213704  POINT (37.44430 55.85051)   \n",
       "..        ...        ...        ...       ...                        ...   \n",
       "384  mZTEZ4bf  50.158969  53.197251 -0.261717  POINT (50.15897 53.19725)   \n",
       "387  2SKYY79M  50.246331  53.212183  3.239111  POINT (50.24633 53.21218)   \n",
       "389  ZfB8GmX1  50.188602  53.191244  0.170484  POINT (50.18860 53.19124)   \n",
       "404  fI0HvX5p  50.225666  53.259281  0.300144  POINT (50.22567 53.25928)   \n",
       "416  6B6HHnCd  50.121798  53.187213  0.040823  POINT (50.12180 53.18721)   \n",
       "\n",
       "                  name  Mean_target  railway_dist  \n",
       "0               Москва     0.252092    159.413308  \n",
       "1               Москва     0.252092    176.055443  \n",
       "3               Москва     0.252092     59.407885  \n",
       "4               Москва     0.252092    221.826970  \n",
       "7               Москва     0.252092    283.762220  \n",
       "..                 ...          ...           ...  \n",
       "384  Самарская область     0.953248    626.892063  \n",
       "387  Самарская область     0.953248     94.277497  \n",
       "389  Самарская область     0.953248   1289.490296  \n",
       "404  Самарская область     0.953248   5039.290026  \n",
       "416  Самарская область     0.953248    173.321742  \n",
       "\n",
       "[425 rows x 8 columns]"
      ]
     },
     "execution_count": 130,
     "metadata": {},
     "output_type": "execute_result"
    }
   ],
   "source": [
    "df_dis"
   ]
  },
  {
   "cell_type": "code",
   "execution_count": 137,
   "metadata": {},
   "outputs": [],
   "source": [
    "df_dis_test = df_test_itog.copy()\n",
    "dist = []\n",
    "for i, ind in enumerate(df_dis_test.name.value_counts().index):\n",
    "    df_dis_test.loc[df_dis_test.name == ind, 'railway_dist'] = railway_distance(df_dis_test.loc[df_dis_test.name == ind], ind)"
   ]
  },
  {
   "cell_type": "code",
   "execution_count": 138,
   "metadata": {},
   "outputs": [
    {
     "data": {
      "text/html": [
       "<div>\n",
       "<style scoped>\n",
       "    .dataframe tbody tr th:only-of-type {\n",
       "        vertical-align: middle;\n",
       "    }\n",
       "\n",
       "    .dataframe tbody tr th {\n",
       "        vertical-align: top;\n",
       "    }\n",
       "\n",
       "    .dataframe thead th {\n",
       "        text-align: right;\n",
       "    }\n",
       "</style>\n",
       "<table border=\"1\" class=\"dataframe\">\n",
       "  <thead>\n",
       "    <tr style=\"text-align: right;\">\n",
       "      <th></th>\n",
       "      <th>point_id</th>\n",
       "      <th>lon</th>\n",
       "      <th>lat</th>\n",
       "      <th>target</th>\n",
       "      <th>geometry</th>\n",
       "      <th>name</th>\n",
       "      <th>Mean_target</th>\n",
       "      <th>railway_dist</th>\n",
       "    </tr>\n",
       "  </thead>\n",
       "  <tbody>\n",
       "    <tr>\n",
       "      <th>0</th>\n",
       "      <td>F4lXR1cG</td>\n",
       "      <td>37.681242</td>\n",
       "      <td>55.748040</td>\n",
       "      <td>0.0091</td>\n",
       "      <td>POINT (37.68124 55.74804)</td>\n",
       "      <td>Москва</td>\n",
       "      <td>0.252092</td>\n",
       "      <td>162.889889</td>\n",
       "    </tr>\n",
       "    <tr>\n",
       "      <th>2</th>\n",
       "      <td>kLuAAN3s</td>\n",
       "      <td>37.598614</td>\n",
       "      <td>55.781357</td>\n",
       "      <td>0.0091</td>\n",
       "      <td>POINT (37.59861 55.78136)</td>\n",
       "      <td>Москва</td>\n",
       "      <td>0.252092</td>\n",
       "      <td>166.484905</td>\n",
       "    </tr>\n",
       "    <tr>\n",
       "      <th>3</th>\n",
       "      <td>OxQHvaNu</td>\n",
       "      <td>37.794051</td>\n",
       "      <td>55.717468</td>\n",
       "      <td>0.0091</td>\n",
       "      <td>POINT (37.79405 55.71747)</td>\n",
       "      <td>Москва</td>\n",
       "      <td>0.252092</td>\n",
       "      <td>54.264453</td>\n",
       "    </tr>\n",
       "    <tr>\n",
       "      <th>5</th>\n",
       "      <td>7x7uZwPc</td>\n",
       "      <td>37.617141</td>\n",
       "      <td>55.795433</td>\n",
       "      <td>0.0091</td>\n",
       "      <td>POINT (37.61714 55.79543)</td>\n",
       "      <td>Москва</td>\n",
       "      <td>0.252092</td>\n",
       "      <td>52.988755</td>\n",
       "    </tr>\n",
       "    <tr>\n",
       "      <th>7</th>\n",
       "      <td>OMCMewkC</td>\n",
       "      <td>37.798028</td>\n",
       "      <td>55.810580</td>\n",
       "      <td>0.0091</td>\n",
       "      <td>POINT (37.79803 55.81058)</td>\n",
       "      <td>Москва</td>\n",
       "      <td>0.252092</td>\n",
       "      <td>143.405756</td>\n",
       "    </tr>\n",
       "    <tr>\n",
       "      <th>...</th>\n",
       "      <td>...</td>\n",
       "      <td>...</td>\n",
       "      <td>...</td>\n",
       "      <td>...</td>\n",
       "      <td>...</td>\n",
       "      <td>...</td>\n",
       "      <td>...</td>\n",
       "      <td>...</td>\n",
       "    </tr>\n",
       "    <tr>\n",
       "      <th>39</th>\n",
       "      <td>WRf9qCgC</td>\n",
       "      <td>93.015521</td>\n",
       "      <td>55.988184</td>\n",
       "      <td>0.0091</td>\n",
       "      <td>POINT (93.01552 55.98818)</td>\n",
       "      <td>Красноярский край</td>\n",
       "      <td>-0.315742</td>\n",
       "      <td>4144.512145</td>\n",
       "    </tr>\n",
       "    <tr>\n",
       "      <th>72</th>\n",
       "      <td>2VNvJAyN</td>\n",
       "      <td>92.932816</td>\n",
       "      <td>56.002145</td>\n",
       "      <td>0.0091</td>\n",
       "      <td>POINT (92.93282 56.00214)</td>\n",
       "      <td>Красноярский край</td>\n",
       "      <td>-0.315742</td>\n",
       "      <td>1246.945092</td>\n",
       "    </tr>\n",
       "    <tr>\n",
       "      <th>95</th>\n",
       "      <td>9um9WSSk</td>\n",
       "      <td>92.950129</td>\n",
       "      <td>55.995629</td>\n",
       "      <td>0.0091</td>\n",
       "      <td>POINT (92.95013 55.99563)</td>\n",
       "      <td>Красноярский край</td>\n",
       "      <td>-0.315742</td>\n",
       "      <td>328.323024</td>\n",
       "    </tr>\n",
       "    <tr>\n",
       "      <th>103</th>\n",
       "      <td>4nmfqUw0</td>\n",
       "      <td>92.928927</td>\n",
       "      <td>56.116262</td>\n",
       "      <td>0.0091</td>\n",
       "      <td>POINT (92.92893 56.11626)</td>\n",
       "      <td>Красноярский край</td>\n",
       "      <td>-0.315742</td>\n",
       "      <td>4489.266682</td>\n",
       "    </tr>\n",
       "    <tr>\n",
       "      <th>104</th>\n",
       "      <td>N9O45mAh</td>\n",
       "      <td>93.015993</td>\n",
       "      <td>56.023697</td>\n",
       "      <td>0.0091</td>\n",
       "      <td>POINT (93.01599 56.02370)</td>\n",
       "      <td>Красноярский край</td>\n",
       "      <td>-0.315742</td>\n",
       "      <td>3090.156857</td>\n",
       "    </tr>\n",
       "  </tbody>\n",
       "</table>\n",
       "<p>107 rows × 8 columns</p>\n",
       "</div>"
      ],
      "text/plain": [
       "     point_id        lon        lat  target                   geometry  \\\n",
       "0    F4lXR1cG  37.681242  55.748040  0.0091  POINT (37.68124 55.74804)   \n",
       "2    kLuAAN3s  37.598614  55.781357  0.0091  POINT (37.59861 55.78136)   \n",
       "3    OxQHvaNu  37.794051  55.717468  0.0091  POINT (37.79405 55.71747)   \n",
       "5    7x7uZwPc  37.617141  55.795433  0.0091  POINT (37.61714 55.79543)   \n",
       "7    OMCMewkC  37.798028  55.810580  0.0091  POINT (37.79803 55.81058)   \n",
       "..        ...        ...        ...     ...                        ...   \n",
       "39   WRf9qCgC  93.015521  55.988184  0.0091  POINT (93.01552 55.98818)   \n",
       "72   2VNvJAyN  92.932816  56.002145  0.0091  POINT (92.93282 56.00214)   \n",
       "95   9um9WSSk  92.950129  55.995629  0.0091  POINT (92.95013 55.99563)   \n",
       "103  4nmfqUw0  92.928927  56.116262  0.0091  POINT (92.92893 56.11626)   \n",
       "104  N9O45mAh  93.015993  56.023697  0.0091  POINT (93.01599 56.02370)   \n",
       "\n",
       "                  name  Mean_target  railway_dist  \n",
       "0               Москва     0.252092    162.889889  \n",
       "2               Москва     0.252092    166.484905  \n",
       "3               Москва     0.252092     54.264453  \n",
       "5               Москва     0.252092     52.988755  \n",
       "7               Москва     0.252092    143.405756  \n",
       "..                 ...          ...           ...  \n",
       "39   Красноярский край    -0.315742   4144.512145  \n",
       "72   Красноярский край    -0.315742   1246.945092  \n",
       "95   Красноярский край    -0.315742    328.323024  \n",
       "103  Красноярский край    -0.315742   4489.266682  \n",
       "104  Красноярский край    -0.315742   3090.156857  \n",
       "\n",
       "[107 rows x 8 columns]"
      ]
     },
     "execution_count": 138,
     "metadata": {},
     "output_type": "execute_result"
    }
   ],
   "source": [
    "df_dis_test"
   ]
  },
  {
   "cell_type": "markdown",
   "metadata": {},
   "source": [
    "### Скачиваю данные с помощью функций для 5 типов объектов"
   ]
  },
  {
   "cell_type": "markdown",
   "metadata": {},
   "source": [
    "Изначально я сохраню все данные для заданий, потом буду строить для каждого набора модели"
   ]
  },
  {
   "cell_type": "markdown",
   "metadata": {},
   "source": [
    "Объединяем 5 наших фичей"
   ]
  },
  {
   "cell_type": "markdown",
   "metadata": {},
   "source": [
    "Скачиваю я данные отдельно для каждого города(10 городов)"
   ]
  },
  {
   "cell_type": "code",
   "execution_count": 96,
   "metadata": {},
   "outputs": [],
   "source": [
    "df_with_railway = [0,0,0,0,0,0,0,0,0,0]\n",
    "df_with_transport = [0,0,0,0,0,0,0,0,0,0]\n",
    "df_with_restaurant = [0,0,0,0,0,0,0,0,0,0]\n",
    "df_with_school = [0,0,0,0,0,0,0,0,0,0]\n",
    "df_with_building = [0,0,0,0,0,0,0,0,0,0]\n",
    "\n",
    "for i, ind in enumerate(df_itog.name.value_counts().index):\n",
    "    df_with_railway[i] = amenity_railway(df_with_rad,ind)\n",
    "    df_with_transport[i] = amenity_transport(df_with_rad,ind)\n",
    "    df_with_restaurant[i] = amenity_restaurant(df_with_rad,ind)\n",
    "    df_with_school[i] = amenity_school(df_with_rad,ind)\n",
    "    df_with_building[i] = amenity_building(df_with_rad,ind)\n",
    "# pd.concat(df_with_amenity)   "
   ]
  },
  {
   "cell_type": "code",
   "execution_count": 97,
   "metadata": {},
   "outputs": [],
   "source": [
    "df_railway = pd.concat(df_with_railway)\n",
    "df_railway.fillna(0,inplace = True)\n",
    "df_transport = pd.concat(df_with_transport)\n",
    "df_transport.fillna(0,inplace = True)\n",
    "df_restaurant = pd.concat(df_with_restaurant)\n",
    "df_restaurant.fillna(0,inplace = True)\n",
    "df_school = pd.concat(df_with_school)\n",
    "df_school.fillna(0,inplace = True)\n",
    "df_builing = pd.concat(df_with_building)\n",
    "df_builing.fillna(0,inplace = True)"
   ]
  },
  {
   "cell_type": "code",
   "execution_count": 98,
   "metadata": {},
   "outputs": [],
   "source": [
    "df_itog_with5 = df_itog.copy()"
   ]
  },
  {
   "cell_type": "code",
   "execution_count": 99,
   "metadata": {},
   "outputs": [],
   "source": [
    "df_itog_with5 = pd.merge(df_itog_with5, df_railway[['point_id', 'Number_stations']], on = 'point_id', how = 'left')\n",
    "df_itog_with5 = pd.merge(df_itog_with5, df_transport[['point_id', 'Number_bus_stations']], on = 'point_id', how = 'left')\n",
    "df_itog_with5 = pd.merge(df_itog_with5, df_restaurant[['point_id', 'Number_restaurant']], on = 'point_id', how = 'left')\n",
    "df_itog_with5 = pd.merge(df_itog_with5, df_school[['point_id', 'Number_schools']], on = 'point_id', how = 'left')\n",
    "df_itog_with5 = pd.merge(df_itog_with5, df_builing[['point_id', 'Number_building']], on = 'point_id', how = 'left')\n",
    "df_itog_with5.fillna(0,inplace = True)"
   ]
  },
  {
   "cell_type": "code",
   "execution_count": 103,
   "metadata": {},
   "outputs": [
    {
     "data": {
      "text/html": [
       "<div>\n",
       "<style scoped>\n",
       "    .dataframe tbody tr th:only-of-type {\n",
       "        vertical-align: middle;\n",
       "    }\n",
       "\n",
       "    .dataframe tbody tr th {\n",
       "        vertical-align: top;\n",
       "    }\n",
       "\n",
       "    .dataframe thead th {\n",
       "        text-align: right;\n",
       "    }\n",
       "</style>\n",
       "<table border=\"1\" class=\"dataframe\">\n",
       "  <thead>\n",
       "    <tr style=\"text-align: right;\">\n",
       "      <th></th>\n",
       "      <th>point_id</th>\n",
       "      <th>lon</th>\n",
       "      <th>lat</th>\n",
       "      <th>target</th>\n",
       "      <th>geometry</th>\n",
       "      <th>name</th>\n",
       "      <th>Mean_target</th>\n",
       "      <th>Number_stations</th>\n",
       "      <th>Number_bus_stations</th>\n",
       "      <th>Number_restaurant</th>\n",
       "      <th>Number_schools</th>\n",
       "      <th>Number_building</th>\n",
       "    </tr>\n",
       "  </thead>\n",
       "  <tbody>\n",
       "    <tr>\n",
       "      <th>0</th>\n",
       "      <td>ommNZCUV</td>\n",
       "      <td>37.590776</td>\n",
       "      <td>55.848630</td>\n",
       "      <td>-0.348157</td>\n",
       "      <td>POINT (37.59078 55.84863)</td>\n",
       "      <td>Москва</td>\n",
       "      <td>0.252092</td>\n",
       "      <td>2.0</td>\n",
       "      <td>1.0</td>\n",
       "      <td>0.0</td>\n",
       "      <td>0.0</td>\n",
       "      <td>1.0</td>\n",
       "    </tr>\n",
       "    <tr>\n",
       "      <th>1</th>\n",
       "      <td>nMe2LHPb</td>\n",
       "      <td>37.784210</td>\n",
       "      <td>55.750271</td>\n",
       "      <td>1.294206</td>\n",
       "      <td>POINT (37.78421 55.75027)</td>\n",
       "      <td>Москва</td>\n",
       "      <td>0.252092</td>\n",
       "      <td>1.0</td>\n",
       "      <td>0.0</td>\n",
       "      <td>0.0</td>\n",
       "      <td>0.0</td>\n",
       "      <td>8.0</td>\n",
       "    </tr>\n",
       "    <tr>\n",
       "      <th>2</th>\n",
       "      <td>0t2jNYdz</td>\n",
       "      <td>37.704570</td>\n",
       "      <td>55.782020</td>\n",
       "      <td>-1.169339</td>\n",
       "      <td>POINT (37.70457 55.78202)</td>\n",
       "      <td>Москва</td>\n",
       "      <td>0.252092</td>\n",
       "      <td>1.0</td>\n",
       "      <td>1.0</td>\n",
       "      <td>4.0</td>\n",
       "      <td>0.0</td>\n",
       "      <td>1.0</td>\n",
       "    </tr>\n",
       "    <tr>\n",
       "      <th>3</th>\n",
       "      <td>U27W4QJ7</td>\n",
       "      <td>37.643983</td>\n",
       "      <td>55.730188</td>\n",
       "      <td>-0.088837</td>\n",
       "      <td>POINT (37.64398 55.73019)</td>\n",
       "      <td>Москва</td>\n",
       "      <td>0.252092</td>\n",
       "      <td>3.0</td>\n",
       "      <td>1.0</td>\n",
       "      <td>19.0</td>\n",
       "      <td>0.0</td>\n",
       "      <td>3.0</td>\n",
       "    </tr>\n",
       "    <tr>\n",
       "      <th>4</th>\n",
       "      <td>CO76tdVs</td>\n",
       "      <td>37.444304</td>\n",
       "      <td>55.850511</td>\n",
       "      <td>0.213704</td>\n",
       "      <td>POINT (37.44430 55.85051)</td>\n",
       "      <td>Москва</td>\n",
       "      <td>0.252092</td>\n",
       "      <td>1.0</td>\n",
       "      <td>1.0</td>\n",
       "      <td>3.0</td>\n",
       "      <td>0.0</td>\n",
       "      <td>4.0</td>\n",
       "    </tr>\n",
       "    <tr>\n",
       "      <th>...</th>\n",
       "      <td>...</td>\n",
       "      <td>...</td>\n",
       "      <td>...</td>\n",
       "      <td>...</td>\n",
       "      <td>...</td>\n",
       "      <td>...</td>\n",
       "      <td>...</td>\n",
       "      <td>...</td>\n",
       "      <td>...</td>\n",
       "      <td>...</td>\n",
       "      <td>...</td>\n",
       "      <td>...</td>\n",
       "    </tr>\n",
       "    <tr>\n",
       "      <th>420</th>\n",
       "      <td>mZTEZ4bf</td>\n",
       "      <td>50.158969</td>\n",
       "      <td>53.197251</td>\n",
       "      <td>-0.261717</td>\n",
       "      <td>POINT (50.15897 53.19725)</td>\n",
       "      <td>Самарская область</td>\n",
       "      <td>0.953248</td>\n",
       "      <td>0.0</td>\n",
       "      <td>0.0</td>\n",
       "      <td>0.0</td>\n",
       "      <td>0.0</td>\n",
       "      <td>0.0</td>\n",
       "    </tr>\n",
       "    <tr>\n",
       "      <th>421</th>\n",
       "      <td>2SKYY79M</td>\n",
       "      <td>50.246331</td>\n",
       "      <td>53.212183</td>\n",
       "      <td>3.239111</td>\n",
       "      <td>POINT (50.24633 53.21218)</td>\n",
       "      <td>Самарская область</td>\n",
       "      <td>0.953248</td>\n",
       "      <td>1.0</td>\n",
       "      <td>0.0</td>\n",
       "      <td>0.0</td>\n",
       "      <td>0.0</td>\n",
       "      <td>1.0</td>\n",
       "    </tr>\n",
       "    <tr>\n",
       "      <th>422</th>\n",
       "      <td>ZfB8GmX1</td>\n",
       "      <td>50.188602</td>\n",
       "      <td>53.191244</td>\n",
       "      <td>0.170484</td>\n",
       "      <td>POINT (50.18860 53.19124)</td>\n",
       "      <td>Самарская область</td>\n",
       "      <td>0.953248</td>\n",
       "      <td>0.0</td>\n",
       "      <td>0.0</td>\n",
       "      <td>2.0</td>\n",
       "      <td>0.0</td>\n",
       "      <td>0.0</td>\n",
       "    </tr>\n",
       "    <tr>\n",
       "      <th>423</th>\n",
       "      <td>fI0HvX5p</td>\n",
       "      <td>50.225666</td>\n",
       "      <td>53.259281</td>\n",
       "      <td>0.300144</td>\n",
       "      <td>POINT (50.22567 53.25928)</td>\n",
       "      <td>Самарская область</td>\n",
       "      <td>0.953248</td>\n",
       "      <td>0.0</td>\n",
       "      <td>0.0</td>\n",
       "      <td>1.0</td>\n",
       "      <td>0.0</td>\n",
       "      <td>0.0</td>\n",
       "    </tr>\n",
       "    <tr>\n",
       "      <th>424</th>\n",
       "      <td>6B6HHnCd</td>\n",
       "      <td>50.121798</td>\n",
       "      <td>53.187213</td>\n",
       "      <td>0.040823</td>\n",
       "      <td>POINT (50.12180 53.18721)</td>\n",
       "      <td>Самарская область</td>\n",
       "      <td>0.953248</td>\n",
       "      <td>1.0</td>\n",
       "      <td>0.0</td>\n",
       "      <td>2.0</td>\n",
       "      <td>1.0</td>\n",
       "      <td>0.0</td>\n",
       "    </tr>\n",
       "  </tbody>\n",
       "</table>\n",
       "<p>425 rows × 12 columns</p>\n",
       "</div>"
      ],
      "text/plain": [
       "     point_id        lon        lat    target                   geometry  \\\n",
       "0    ommNZCUV  37.590776  55.848630 -0.348157  POINT (37.59078 55.84863)   \n",
       "1    nMe2LHPb  37.784210  55.750271  1.294206  POINT (37.78421 55.75027)   \n",
       "2    0t2jNYdz  37.704570  55.782020 -1.169339  POINT (37.70457 55.78202)   \n",
       "3    U27W4QJ7  37.643983  55.730188 -0.088837  POINT (37.64398 55.73019)   \n",
       "4    CO76tdVs  37.444304  55.850511  0.213704  POINT (37.44430 55.85051)   \n",
       "..        ...        ...        ...       ...                        ...   \n",
       "420  mZTEZ4bf  50.158969  53.197251 -0.261717  POINT (50.15897 53.19725)   \n",
       "421  2SKYY79M  50.246331  53.212183  3.239111  POINT (50.24633 53.21218)   \n",
       "422  ZfB8GmX1  50.188602  53.191244  0.170484  POINT (50.18860 53.19124)   \n",
       "423  fI0HvX5p  50.225666  53.259281  0.300144  POINT (50.22567 53.25928)   \n",
       "424  6B6HHnCd  50.121798  53.187213  0.040823  POINT (50.12180 53.18721)   \n",
       "\n",
       "                  name  Mean_target  Number_stations  Number_bus_stations  \\\n",
       "0               Москва     0.252092              2.0                  1.0   \n",
       "1               Москва     0.252092              1.0                  0.0   \n",
       "2               Москва     0.252092              1.0                  1.0   \n",
       "3               Москва     0.252092              3.0                  1.0   \n",
       "4               Москва     0.252092              1.0                  1.0   \n",
       "..                 ...          ...              ...                  ...   \n",
       "420  Самарская область     0.953248              0.0                  0.0   \n",
       "421  Самарская область     0.953248              1.0                  0.0   \n",
       "422  Самарская область     0.953248              0.0                  0.0   \n",
       "423  Самарская область     0.953248              0.0                  0.0   \n",
       "424  Самарская область     0.953248              1.0                  0.0   \n",
       "\n",
       "     Number_restaurant  Number_schools  Number_building  \n",
       "0                  0.0             0.0              1.0  \n",
       "1                  0.0             0.0              8.0  \n",
       "2                  4.0             0.0              1.0  \n",
       "3                 19.0             0.0              3.0  \n",
       "4                  3.0             0.0              4.0  \n",
       "..                 ...             ...              ...  \n",
       "420                0.0             0.0              0.0  \n",
       "421                0.0             0.0              1.0  \n",
       "422                2.0             0.0              0.0  \n",
       "423                1.0             0.0              0.0  \n",
       "424                2.0             1.0              0.0  \n",
       "\n",
       "[425 rows x 12 columns]"
      ]
     },
     "execution_count": 103,
     "metadata": {},
     "output_type": "execute_result"
    }
   ],
   "source": [
    "df_itog_with5"
   ]
  },
  {
   "cell_type": "markdown",
   "metadata": {},
   "source": [
    "Так же для теста"
   ]
  },
  {
   "cell_type": "code",
   "execution_count": 100,
   "metadata": {},
   "outputs": [],
   "source": [
    "df_with_railway_test = [0,0,0,0,0,0,0,0,0,0]\n",
    "df_with_transport_test = [0,0,0,0,0,0,0,0,0,0]\n",
    "df_with_restaurant_test = [0,0,0,0,0,0,0,0,0,0]\n",
    "df_with_school_test = [0,0,0,0,0,0,0,0,0,0]\n",
    "df_with_building_test = [0,0,0,0,0,0,0,0,0,0]\n",
    "\n",
    "df_with_railway_test = [0,0,0,0,0,0,0,0,0,0]\n",
    "for i, ind in enumerate(df_itog.name.value_counts().index):\n",
    "    df_with_railway_test[i] = amenity_railway(df_test_with_rad,ind)\n",
    "    df_with_transport_test[i] = amenity_transport(df_test_with_rad,ind)\n",
    "    df_with_restaurant_test[i] = amenity_restaurant(df_test_with_rad,ind)\n",
    "    df_with_school_test[i] = amenity_school(df_test_with_rad,ind)\n",
    "    df_with_building_test[i] = amenity_building(df_test_with_rad,ind)\n",
    "# pd.concat(df_with_amenity)   "
   ]
  },
  {
   "cell_type": "code",
   "execution_count": 101,
   "metadata": {},
   "outputs": [],
   "source": [
    "df_railway_test = pd.concat(df_with_railway_test)\n",
    "df_railway_test.fillna(0,inplace = True)\n",
    "df_transport_test = pd.concat(df_with_transport_test)\n",
    "df_transport_test.fillna(0,inplace = True)\n",
    "df_restaurant_test = pd.concat(df_with_restaurant_test)\n",
    "df_restaurant_test.fillna(0,inplace = True)\n",
    "df_school_test = pd.concat(df_with_school_test)\n",
    "df_school_test.fillna(0,inplace = True)\n",
    "df_builing_test = pd.concat(df_with_building_test)\n",
    "df_builing_test.fillna(0,inplace = True)"
   ]
  },
  {
   "cell_type": "code",
   "execution_count": 102,
   "metadata": {},
   "outputs": [],
   "source": [
    "df_itog_with5_test = df_test_itog.copy()\n",
    "df_itog_with5_test = pd.merge(df_itog_with5_test, df_railway_test[['point_id', 'Number_stations']], on = 'point_id', how = 'left')\n",
    "df_itog_with5_test = pd.merge(df_itog_with5_test, df_transport_test[['point_id', 'Number_bus_stations']], on = 'point_id', how = 'left')\n",
    "df_itog_with5_test = pd.merge(df_itog_with5_test, df_restaurant_test[['point_id', 'Number_restaurant']], on = 'point_id', how = 'left')\n",
    "df_itog_with5_test = pd.merge(df_itog_with5_test, df_school_test[['point_id', 'Number_schools']], on = 'point_id', how = 'left')\n",
    "df_itog_with5_test = pd.merge(df_itog_with5_test, df_builing_test[['point_id', 'Number_building']], on = 'point_id', how = 'left')\n",
    "df_itog_with5_test.fillna(0,inplace = True)"
   ]
  },
  {
   "cell_type": "code",
   "execution_count": 104,
   "metadata": {},
   "outputs": [
    {
     "data": {
      "text/html": [
       "<div>\n",
       "<style scoped>\n",
       "    .dataframe tbody tr th:only-of-type {\n",
       "        vertical-align: middle;\n",
       "    }\n",
       "\n",
       "    .dataframe tbody tr th {\n",
       "        vertical-align: top;\n",
       "    }\n",
       "\n",
       "    .dataframe thead th {\n",
       "        text-align: right;\n",
       "    }\n",
       "</style>\n",
       "<table border=\"1\" class=\"dataframe\">\n",
       "  <thead>\n",
       "    <tr style=\"text-align: right;\">\n",
       "      <th></th>\n",
       "      <th>point_id</th>\n",
       "      <th>lon</th>\n",
       "      <th>lat</th>\n",
       "      <th>target</th>\n",
       "      <th>geometry</th>\n",
       "      <th>name</th>\n",
       "      <th>Mean_target</th>\n",
       "      <th>Number_stations</th>\n",
       "      <th>Number_bus_stations</th>\n",
       "      <th>Number_restaurant</th>\n",
       "      <th>Number_schools</th>\n",
       "      <th>Number_building</th>\n",
       "    </tr>\n",
       "  </thead>\n",
       "  <tbody>\n",
       "    <tr>\n",
       "      <th>0</th>\n",
       "      <td>F4lXR1cG</td>\n",
       "      <td>37.681242</td>\n",
       "      <td>55.748040</td>\n",
       "      <td>0.0091</td>\n",
       "      <td>POINT (37.68124 55.74804)</td>\n",
       "      <td>Москва</td>\n",
       "      <td>0.252092</td>\n",
       "      <td>2.0</td>\n",
       "      <td>2.0</td>\n",
       "      <td>3.0</td>\n",
       "      <td>0.0</td>\n",
       "      <td>2.0</td>\n",
       "    </tr>\n",
       "    <tr>\n",
       "      <th>1</th>\n",
       "      <td>kLuAAN3s</td>\n",
       "      <td>37.598614</td>\n",
       "      <td>55.781357</td>\n",
       "      <td>0.0091</td>\n",
       "      <td>POINT (37.59861 55.78136)</td>\n",
       "      <td>Москва</td>\n",
       "      <td>0.252092</td>\n",
       "      <td>2.0</td>\n",
       "      <td>0.0</td>\n",
       "      <td>30.0</td>\n",
       "      <td>0.0</td>\n",
       "      <td>6.0</td>\n",
       "    </tr>\n",
       "    <tr>\n",
       "      <th>2</th>\n",
       "      <td>OxQHvaNu</td>\n",
       "      <td>37.794051</td>\n",
       "      <td>55.717468</td>\n",
       "      <td>0.0091</td>\n",
       "      <td>POINT (37.79405 55.71747)</td>\n",
       "      <td>Москва</td>\n",
       "      <td>0.252092</td>\n",
       "      <td>1.0</td>\n",
       "      <td>1.0</td>\n",
       "      <td>2.0</td>\n",
       "      <td>0.0</td>\n",
       "      <td>1.0</td>\n",
       "    </tr>\n",
       "    <tr>\n",
       "      <th>3</th>\n",
       "      <td>7x7uZwPc</td>\n",
       "      <td>37.617141</td>\n",
       "      <td>55.795433</td>\n",
       "      <td>0.0091</td>\n",
       "      <td>POINT (37.61714 55.79543)</td>\n",
       "      <td>Москва</td>\n",
       "      <td>0.252092</td>\n",
       "      <td>1.0</td>\n",
       "      <td>0.0</td>\n",
       "      <td>5.0</td>\n",
       "      <td>0.0</td>\n",
       "      <td>1.0</td>\n",
       "    </tr>\n",
       "    <tr>\n",
       "      <th>4</th>\n",
       "      <td>OMCMewkC</td>\n",
       "      <td>37.798028</td>\n",
       "      <td>55.810580</td>\n",
       "      <td>0.0091</td>\n",
       "      <td>POINT (37.79803 55.81058)</td>\n",
       "      <td>Москва</td>\n",
       "      <td>0.252092</td>\n",
       "      <td>1.0</td>\n",
       "      <td>0.0</td>\n",
       "      <td>3.0</td>\n",
       "      <td>0.0</td>\n",
       "      <td>1.0</td>\n",
       "    </tr>\n",
       "    <tr>\n",
       "      <th>...</th>\n",
       "      <td>...</td>\n",
       "      <td>...</td>\n",
       "      <td>...</td>\n",
       "      <td>...</td>\n",
       "      <td>...</td>\n",
       "      <td>...</td>\n",
       "      <td>...</td>\n",
       "      <td>...</td>\n",
       "      <td>...</td>\n",
       "      <td>...</td>\n",
       "      <td>...</td>\n",
       "      <td>...</td>\n",
       "    </tr>\n",
       "    <tr>\n",
       "      <th>102</th>\n",
       "      <td>WRf9qCgC</td>\n",
       "      <td>93.015521</td>\n",
       "      <td>55.988184</td>\n",
       "      <td>0.0091</td>\n",
       "      <td>POINT (93.01552 55.98818)</td>\n",
       "      <td>Красноярский край</td>\n",
       "      <td>-0.315742</td>\n",
       "      <td>0.0</td>\n",
       "      <td>0.0</td>\n",
       "      <td>0.0</td>\n",
       "      <td>0.0</td>\n",
       "      <td>0.0</td>\n",
       "    </tr>\n",
       "    <tr>\n",
       "      <th>103</th>\n",
       "      <td>2VNvJAyN</td>\n",
       "      <td>92.932816</td>\n",
       "      <td>56.002145</td>\n",
       "      <td>0.0091</td>\n",
       "      <td>POINT (92.93282 56.00214)</td>\n",
       "      <td>Красноярский край</td>\n",
       "      <td>-0.315742</td>\n",
       "      <td>0.0</td>\n",
       "      <td>0.0</td>\n",
       "      <td>0.0</td>\n",
       "      <td>0.0</td>\n",
       "      <td>0.0</td>\n",
       "    </tr>\n",
       "    <tr>\n",
       "      <th>104</th>\n",
       "      <td>9um9WSSk</td>\n",
       "      <td>92.950129</td>\n",
       "      <td>55.995629</td>\n",
       "      <td>0.0091</td>\n",
       "      <td>POINT (92.95013 55.99563)</td>\n",
       "      <td>Красноярский край</td>\n",
       "      <td>-0.315742</td>\n",
       "      <td>1.0</td>\n",
       "      <td>0.0</td>\n",
       "      <td>0.0</td>\n",
       "      <td>0.0</td>\n",
       "      <td>0.0</td>\n",
       "    </tr>\n",
       "    <tr>\n",
       "      <th>105</th>\n",
       "      <td>4nmfqUw0</td>\n",
       "      <td>92.928927</td>\n",
       "      <td>56.116262</td>\n",
       "      <td>0.0091</td>\n",
       "      <td>POINT (92.92893 56.11626)</td>\n",
       "      <td>Красноярский край</td>\n",
       "      <td>-0.315742</td>\n",
       "      <td>0.0</td>\n",
       "      <td>0.0</td>\n",
       "      <td>0.0</td>\n",
       "      <td>0.0</td>\n",
       "      <td>0.0</td>\n",
       "    </tr>\n",
       "    <tr>\n",
       "      <th>106</th>\n",
       "      <td>N9O45mAh</td>\n",
       "      <td>93.015993</td>\n",
       "      <td>56.023697</td>\n",
       "      <td>0.0091</td>\n",
       "      <td>POINT (93.01599 56.02370)</td>\n",
       "      <td>Красноярский край</td>\n",
       "      <td>-0.315742</td>\n",
       "      <td>0.0</td>\n",
       "      <td>0.0</td>\n",
       "      <td>0.0</td>\n",
       "      <td>0.0</td>\n",
       "      <td>0.0</td>\n",
       "    </tr>\n",
       "  </tbody>\n",
       "</table>\n",
       "<p>107 rows × 12 columns</p>\n",
       "</div>"
      ],
      "text/plain": [
       "     point_id        lon        lat  target                   geometry  \\\n",
       "0    F4lXR1cG  37.681242  55.748040  0.0091  POINT (37.68124 55.74804)   \n",
       "1    kLuAAN3s  37.598614  55.781357  0.0091  POINT (37.59861 55.78136)   \n",
       "2    OxQHvaNu  37.794051  55.717468  0.0091  POINT (37.79405 55.71747)   \n",
       "3    7x7uZwPc  37.617141  55.795433  0.0091  POINT (37.61714 55.79543)   \n",
       "4    OMCMewkC  37.798028  55.810580  0.0091  POINT (37.79803 55.81058)   \n",
       "..        ...        ...        ...     ...                        ...   \n",
       "102  WRf9qCgC  93.015521  55.988184  0.0091  POINT (93.01552 55.98818)   \n",
       "103  2VNvJAyN  92.932816  56.002145  0.0091  POINT (92.93282 56.00214)   \n",
       "104  9um9WSSk  92.950129  55.995629  0.0091  POINT (92.95013 55.99563)   \n",
       "105  4nmfqUw0  92.928927  56.116262  0.0091  POINT (92.92893 56.11626)   \n",
       "106  N9O45mAh  93.015993  56.023697  0.0091  POINT (93.01599 56.02370)   \n",
       "\n",
       "                  name  Mean_target  Number_stations  Number_bus_stations  \\\n",
       "0               Москва     0.252092              2.0                  2.0   \n",
       "1               Москва     0.252092              2.0                  0.0   \n",
       "2               Москва     0.252092              1.0                  1.0   \n",
       "3               Москва     0.252092              1.0                  0.0   \n",
       "4               Москва     0.252092              1.0                  0.0   \n",
       "..                 ...          ...              ...                  ...   \n",
       "102  Красноярский край    -0.315742              0.0                  0.0   \n",
       "103  Красноярский край    -0.315742              0.0                  0.0   \n",
       "104  Красноярский край    -0.315742              1.0                  0.0   \n",
       "105  Красноярский край    -0.315742              0.0                  0.0   \n",
       "106  Красноярский край    -0.315742              0.0                  0.0   \n",
       "\n",
       "     Number_restaurant  Number_schools  Number_building  \n",
       "0                  3.0             0.0              2.0  \n",
       "1                 30.0             0.0              6.0  \n",
       "2                  2.0             0.0              1.0  \n",
       "3                  5.0             0.0              1.0  \n",
       "4                  3.0             0.0              1.0  \n",
       "..                 ...             ...              ...  \n",
       "102                0.0             0.0              0.0  \n",
       "103                0.0             0.0              0.0  \n",
       "104                0.0             0.0              0.0  \n",
       "105                0.0             0.0              0.0  \n",
       "106                0.0             0.0              0.0  \n",
       "\n",
       "[107 rows x 12 columns]"
      ]
     },
     "execution_count": 104,
     "metadata": {},
     "output_type": "execute_result"
    }
   ],
   "source": [
    "df_itog_with5_test"
   ]
  },
  {
   "cell_type": "markdown",
   "metadata": {},
   "source": [
    "### Скачиваю данные для 30 наиболее частых аменити в буферной зоне"
   ]
  },
  {
   "cell_type": "markdown",
   "metadata": {},
   "source": [
    "Объединяем по 30 аменити 500 метровая зона"
   ]
  },
  {
   "cell_type": "code",
   "execution_count": 105,
   "metadata": {},
   "outputs": [],
   "source": [
    "df_with_amenity = [0,0,0,0,0,0,0,0,0,0]\n",
    "df_with_amenity_test = [0,0,0,0,0,0,0,0,0,0]\n",
    "for i, ind in enumerate(df_itog.name.value_counts().index):\n",
    "    df_with_amenity[i] = amenity_all(ind)\n",
    "    df_with_amenity_test[i] = amenity_all_test(ind)\n",
    "# pd.concat(df_with_amenity)   "
   ]
  },
  {
   "cell_type": "code",
   "execution_count": 106,
   "metadata": {},
   "outputs": [],
   "source": [
    "df_all_amenity = pd.concat(df_with_amenity)\n",
    "df_all_amenity.fillna(0,inplace = True)"
   ]
  },
  {
   "cell_type": "code",
   "execution_count": 107,
   "metadata": {},
   "outputs": [],
   "source": [
    "df_all_amenity_test = pd.concat(df_with_amenity_test)\n",
    "df_all_amenity_test.fillna(0,inplace = True)"
   ]
  },
  {
   "cell_type": "code",
   "execution_count": 108,
   "metadata": {},
   "outputs": [],
   "source": [
    "amenity = []\n",
    "for i  in df_all_amenity.columns.values:\n",
    "    if sum(df_all_amenity_test.columns == i) > 0:\n",
    "          amenity.append(i)"
   ]
  },
  {
   "cell_type": "code",
   "execution_count": 109,
   "metadata": {},
   "outputs": [],
   "source": [
    "df_all_amenity = df_all_amenity[amenity]"
   ]
  },
  {
   "cell_type": "code",
   "execution_count": 111,
   "metadata": {},
   "outputs": [
    {
     "data": {
      "text/html": [
       "<div>\n",
       "<style scoped>\n",
       "    .dataframe tbody tr th:only-of-type {\n",
       "        vertical-align: middle;\n",
       "    }\n",
       "\n",
       "    .dataframe tbody tr th {\n",
       "        vertical-align: top;\n",
       "    }\n",
       "\n",
       "    .dataframe thead th {\n",
       "        text-align: right;\n",
       "    }\n",
       "</style>\n",
       "<table border=\"1\" class=\"dataframe\">\n",
       "  <thead>\n",
       "    <tr style=\"text-align: right;\">\n",
       "      <th></th>\n",
       "      <th>point_id</th>\n",
       "      <th>lon</th>\n",
       "      <th>lat</th>\n",
       "      <th>target</th>\n",
       "      <th>point_geometry</th>\n",
       "      <th>name</th>\n",
       "      <th>Mean_target</th>\n",
       "      <th>geometry</th>\n",
       "      <th>atm</th>\n",
       "      <th>bank</th>\n",
       "      <th>...</th>\n",
       "      <th>water_point</th>\n",
       "      <th>community_centre</th>\n",
       "      <th>college</th>\n",
       "      <th>public_service</th>\n",
       "      <th>university</th>\n",
       "      <th>bus_station</th>\n",
       "      <th>clock</th>\n",
       "      <th>shelter</th>\n",
       "      <th>social_facility</th>\n",
       "      <th>theatre</th>\n",
       "    </tr>\n",
       "  </thead>\n",
       "  <tbody>\n",
       "    <tr>\n",
       "      <th>0</th>\n",
       "      <td>ommNZCUV</td>\n",
       "      <td>37.590776</td>\n",
       "      <td>55.848630</td>\n",
       "      <td>-0.348157</td>\n",
       "      <td>POINT (37.59078 55.84863)</td>\n",
       "      <td>Москва</td>\n",
       "      <td>0.252092</td>\n",
       "      <td>POLYGON ((37.59876 55.84863, 37.59872 55.84819...</td>\n",
       "      <td>1</td>\n",
       "      <td>0</td>\n",
       "      <td>...</td>\n",
       "      <td>0.0</td>\n",
       "      <td>0.0</td>\n",
       "      <td>0.0</td>\n",
       "      <td>0.0</td>\n",
       "      <td>0.0</td>\n",
       "      <td>0.0</td>\n",
       "      <td>0.0</td>\n",
       "      <td>0.0</td>\n",
       "      <td>0.0</td>\n",
       "      <td>0.0</td>\n",
       "    </tr>\n",
       "    <tr>\n",
       "      <th>1</th>\n",
       "      <td>nMe2LHPb</td>\n",
       "      <td>37.784210</td>\n",
       "      <td>55.750271</td>\n",
       "      <td>1.294206</td>\n",
       "      <td>POINT (37.78421 55.75027)</td>\n",
       "      <td>Москва</td>\n",
       "      <td>0.252092</td>\n",
       "      <td>POLYGON ((37.79217 55.75027, 37.79213 55.74983...</td>\n",
       "      <td>5</td>\n",
       "      <td>10</td>\n",
       "      <td>...</td>\n",
       "      <td>0.0</td>\n",
       "      <td>0.0</td>\n",
       "      <td>0.0</td>\n",
       "      <td>0.0</td>\n",
       "      <td>0.0</td>\n",
       "      <td>0.0</td>\n",
       "      <td>0.0</td>\n",
       "      <td>0.0</td>\n",
       "      <td>0.0</td>\n",
       "      <td>0.0</td>\n",
       "    </tr>\n",
       "    <tr>\n",
       "      <th>2</th>\n",
       "      <td>0t2jNYdz</td>\n",
       "      <td>37.704570</td>\n",
       "      <td>55.782020</td>\n",
       "      <td>-1.169339</td>\n",
       "      <td>POINT (37.70457 55.78202)</td>\n",
       "      <td>Москва</td>\n",
       "      <td>0.252092</td>\n",
       "      <td>POLYGON ((37.71254 55.78202, 37.71250 55.78158...</td>\n",
       "      <td>7</td>\n",
       "      <td>7</td>\n",
       "      <td>...</td>\n",
       "      <td>0.0</td>\n",
       "      <td>0.0</td>\n",
       "      <td>0.0</td>\n",
       "      <td>0.0</td>\n",
       "      <td>0.0</td>\n",
       "      <td>0.0</td>\n",
       "      <td>0.0</td>\n",
       "      <td>0.0</td>\n",
       "      <td>0.0</td>\n",
       "      <td>0.0</td>\n",
       "    </tr>\n",
       "    <tr>\n",
       "      <th>3</th>\n",
       "      <td>U27W4QJ7</td>\n",
       "      <td>37.643983</td>\n",
       "      <td>55.730188</td>\n",
       "      <td>-0.088837</td>\n",
       "      <td>POINT (37.64398 55.73019)</td>\n",
       "      <td>Москва</td>\n",
       "      <td>0.252092</td>\n",
       "      <td>POLYGON ((37.65194 55.73019, 37.65190 55.72975...</td>\n",
       "      <td>18</td>\n",
       "      <td>9</td>\n",
       "      <td>...</td>\n",
       "      <td>0.0</td>\n",
       "      <td>0.0</td>\n",
       "      <td>0.0</td>\n",
       "      <td>0.0</td>\n",
       "      <td>0.0</td>\n",
       "      <td>0.0</td>\n",
       "      <td>0.0</td>\n",
       "      <td>0.0</td>\n",
       "      <td>0.0</td>\n",
       "      <td>0.0</td>\n",
       "    </tr>\n",
       "    <tr>\n",
       "      <th>4</th>\n",
       "      <td>CO76tdVs</td>\n",
       "      <td>37.444304</td>\n",
       "      <td>55.850511</td>\n",
       "      <td>0.213704</td>\n",
       "      <td>POINT (37.44430 55.85051)</td>\n",
       "      <td>Москва</td>\n",
       "      <td>0.252092</td>\n",
       "      <td>POLYGON ((37.45229 55.85051, 37.45225 55.85007...</td>\n",
       "      <td>7</td>\n",
       "      <td>14</td>\n",
       "      <td>...</td>\n",
       "      <td>0.0</td>\n",
       "      <td>0.0</td>\n",
       "      <td>0.0</td>\n",
       "      <td>0.0</td>\n",
       "      <td>0.0</td>\n",
       "      <td>0.0</td>\n",
       "      <td>0.0</td>\n",
       "      <td>0.0</td>\n",
       "      <td>0.0</td>\n",
       "      <td>0.0</td>\n",
       "    </tr>\n",
       "    <tr>\n",
       "      <th>...</th>\n",
       "      <td>...</td>\n",
       "      <td>...</td>\n",
       "      <td>...</td>\n",
       "      <td>...</td>\n",
       "      <td>...</td>\n",
       "      <td>...</td>\n",
       "      <td>...</td>\n",
       "      <td>...</td>\n",
       "      <td>...</td>\n",
       "      <td>...</td>\n",
       "      <td>...</td>\n",
       "      <td>...</td>\n",
       "      <td>...</td>\n",
       "      <td>...</td>\n",
       "      <td>...</td>\n",
       "      <td>...</td>\n",
       "      <td>...</td>\n",
       "      <td>...</td>\n",
       "      <td>...</td>\n",
       "      <td>...</td>\n",
       "      <td>...</td>\n",
       "    </tr>\n",
       "    <tr>\n",
       "      <th>14</th>\n",
       "      <td>ySZshzYS</td>\n",
       "      <td>55.999586</td>\n",
       "      <td>54.749739</td>\n",
       "      <td>0.948446</td>\n",
       "      <td>POINT (55.99959 54.74974)</td>\n",
       "      <td>Башкортостан</td>\n",
       "      <td>-0.356119</td>\n",
       "      <td>POLYGON ((56.00735 54.74974, 56.00731 54.74930...</td>\n",
       "      <td>2</td>\n",
       "      <td>4</td>\n",
       "      <td>...</td>\n",
       "      <td>0.0</td>\n",
       "      <td>0.0</td>\n",
       "      <td>0.0</td>\n",
       "      <td>0.0</td>\n",
       "      <td>0.0</td>\n",
       "      <td>0.0</td>\n",
       "      <td>0.0</td>\n",
       "      <td>0.0</td>\n",
       "      <td>0.0</td>\n",
       "      <td>0.0</td>\n",
       "    </tr>\n",
       "    <tr>\n",
       "      <th>15</th>\n",
       "      <td>m41j6rrW</td>\n",
       "      <td>56.010003</td>\n",
       "      <td>54.759041</td>\n",
       "      <td>-0.261717</td>\n",
       "      <td>POINT (56.01000 54.75904)</td>\n",
       "      <td>Башкортостан</td>\n",
       "      <td>-0.356119</td>\n",
       "      <td>POLYGON ((56.01777 54.75904, 56.01773 54.75860...</td>\n",
       "      <td>5</td>\n",
       "      <td>5</td>\n",
       "      <td>...</td>\n",
       "      <td>0.0</td>\n",
       "      <td>0.0</td>\n",
       "      <td>0.0</td>\n",
       "      <td>0.0</td>\n",
       "      <td>0.0</td>\n",
       "      <td>0.0</td>\n",
       "      <td>0.0</td>\n",
       "      <td>0.0</td>\n",
       "      <td>0.0</td>\n",
       "      <td>0.0</td>\n",
       "    </tr>\n",
       "    <tr>\n",
       "      <th>16</th>\n",
       "      <td>5e7r5h7s</td>\n",
       "      <td>55.931315</td>\n",
       "      <td>54.674806</td>\n",
       "      <td>-0.218497</td>\n",
       "      <td>POINT (55.93132 54.67481)</td>\n",
       "      <td>Башкортостан</td>\n",
       "      <td>-0.356119</td>\n",
       "      <td>POLYGON ((55.93907 54.67481, 55.93903 54.67437...</td>\n",
       "      <td>1</td>\n",
       "      <td>1</td>\n",
       "      <td>...</td>\n",
       "      <td>0.0</td>\n",
       "      <td>0.0</td>\n",
       "      <td>0.0</td>\n",
       "      <td>0.0</td>\n",
       "      <td>0.0</td>\n",
       "      <td>0.0</td>\n",
       "      <td>0.0</td>\n",
       "      <td>0.0</td>\n",
       "      <td>0.0</td>\n",
       "      <td>0.0</td>\n",
       "    </tr>\n",
       "    <tr>\n",
       "      <th>17</th>\n",
       "      <td>6FdFnHvc</td>\n",
       "      <td>56.034734</td>\n",
       "      <td>54.789618</td>\n",
       "      <td>0.127264</td>\n",
       "      <td>POINT (56.03473 54.78962)</td>\n",
       "      <td>Башкортостан</td>\n",
       "      <td>-0.356119</td>\n",
       "      <td>POLYGON ((56.04251 54.78962, 56.04247 54.78918...</td>\n",
       "      <td>0</td>\n",
       "      <td>9</td>\n",
       "      <td>...</td>\n",
       "      <td>0.0</td>\n",
       "      <td>0.0</td>\n",
       "      <td>0.0</td>\n",
       "      <td>0.0</td>\n",
       "      <td>0.0</td>\n",
       "      <td>0.0</td>\n",
       "      <td>0.0</td>\n",
       "      <td>0.0</td>\n",
       "      <td>0.0</td>\n",
       "      <td>1.0</td>\n",
       "    </tr>\n",
       "    <tr>\n",
       "      <th>18</th>\n",
       "      <td>f0dnYtDK</td>\n",
       "      <td>56.083769</td>\n",
       "      <td>54.821122</td>\n",
       "      <td>-0.564258</td>\n",
       "      <td>POINT (56.08377 54.82112)</td>\n",
       "      <td>Башкортостан</td>\n",
       "      <td>-0.356119</td>\n",
       "      <td>POLYGON ((56.09155 54.82112, 56.09151 54.82068...</td>\n",
       "      <td>0</td>\n",
       "      <td>1</td>\n",
       "      <td>...</td>\n",
       "      <td>0.0</td>\n",
       "      <td>0.0</td>\n",
       "      <td>0.0</td>\n",
       "      <td>0.0</td>\n",
       "      <td>0.0</td>\n",
       "      <td>0.0</td>\n",
       "      <td>0.0</td>\n",
       "      <td>0.0</td>\n",
       "      <td>0.0</td>\n",
       "      <td>0.0</td>\n",
       "    </tr>\n",
       "  </tbody>\n",
       "</table>\n",
       "<p>425 rows × 64 columns</p>\n",
       "</div>"
      ],
      "text/plain": [
       "    point_id        lon        lat    target             point_geometry  \\\n",
       "0   ommNZCUV  37.590776  55.848630 -0.348157  POINT (37.59078 55.84863)   \n",
       "1   nMe2LHPb  37.784210  55.750271  1.294206  POINT (37.78421 55.75027)   \n",
       "2   0t2jNYdz  37.704570  55.782020 -1.169339  POINT (37.70457 55.78202)   \n",
       "3   U27W4QJ7  37.643983  55.730188 -0.088837  POINT (37.64398 55.73019)   \n",
       "4   CO76tdVs  37.444304  55.850511  0.213704  POINT (37.44430 55.85051)   \n",
       "..       ...        ...        ...       ...                        ...   \n",
       "14  ySZshzYS  55.999586  54.749739  0.948446  POINT (55.99959 54.74974)   \n",
       "15  m41j6rrW  56.010003  54.759041 -0.261717  POINT (56.01000 54.75904)   \n",
       "16  5e7r5h7s  55.931315  54.674806 -0.218497  POINT (55.93132 54.67481)   \n",
       "17  6FdFnHvc  56.034734  54.789618  0.127264  POINT (56.03473 54.78962)   \n",
       "18  f0dnYtDK  56.083769  54.821122 -0.564258  POINT (56.08377 54.82112)   \n",
       "\n",
       "            name  Mean_target  \\\n",
       "0         Москва     0.252092   \n",
       "1         Москва     0.252092   \n",
       "2         Москва     0.252092   \n",
       "3         Москва     0.252092   \n",
       "4         Москва     0.252092   \n",
       "..           ...          ...   \n",
       "14  Башкортостан    -0.356119   \n",
       "15  Башкортостан    -0.356119   \n",
       "16  Башкортостан    -0.356119   \n",
       "17  Башкортостан    -0.356119   \n",
       "18  Башкортостан    -0.356119   \n",
       "\n",
       "                                             geometry  atm  bank  ...  \\\n",
       "0   POLYGON ((37.59876 55.84863, 37.59872 55.84819...    1     0  ...   \n",
       "1   POLYGON ((37.79217 55.75027, 37.79213 55.74983...    5    10  ...   \n",
       "2   POLYGON ((37.71254 55.78202, 37.71250 55.78158...    7     7  ...   \n",
       "3   POLYGON ((37.65194 55.73019, 37.65190 55.72975...   18     9  ...   \n",
       "4   POLYGON ((37.45229 55.85051, 37.45225 55.85007...    7    14  ...   \n",
       "..                                                ...  ...   ...  ...   \n",
       "14  POLYGON ((56.00735 54.74974, 56.00731 54.74930...    2     4  ...   \n",
       "15  POLYGON ((56.01777 54.75904, 56.01773 54.75860...    5     5  ...   \n",
       "16  POLYGON ((55.93907 54.67481, 55.93903 54.67437...    1     1  ...   \n",
       "17  POLYGON ((56.04251 54.78962, 56.04247 54.78918...    0     9  ...   \n",
       "18  POLYGON ((56.09155 54.82112, 56.09151 54.82068...    0     1  ...   \n",
       "\n",
       "    water_point  community_centre  college  public_service  university  \\\n",
       "0           0.0               0.0      0.0             0.0         0.0   \n",
       "1           0.0               0.0      0.0             0.0         0.0   \n",
       "2           0.0               0.0      0.0             0.0         0.0   \n",
       "3           0.0               0.0      0.0             0.0         0.0   \n",
       "4           0.0               0.0      0.0             0.0         0.0   \n",
       "..          ...               ...      ...             ...         ...   \n",
       "14          0.0               0.0      0.0             0.0         0.0   \n",
       "15          0.0               0.0      0.0             0.0         0.0   \n",
       "16          0.0               0.0      0.0             0.0         0.0   \n",
       "17          0.0               0.0      0.0             0.0         0.0   \n",
       "18          0.0               0.0      0.0             0.0         0.0   \n",
       "\n",
       "    bus_station  clock  shelter  social_facility  theatre  \n",
       "0           0.0    0.0      0.0              0.0      0.0  \n",
       "1           0.0    0.0      0.0              0.0      0.0  \n",
       "2           0.0    0.0      0.0              0.0      0.0  \n",
       "3           0.0    0.0      0.0              0.0      0.0  \n",
       "4           0.0    0.0      0.0              0.0      0.0  \n",
       "..          ...    ...      ...              ...      ...  \n",
       "14          0.0    0.0      0.0              0.0      0.0  \n",
       "15          0.0    0.0      0.0              0.0      0.0  \n",
       "16          0.0    0.0      0.0              0.0      0.0  \n",
       "17          0.0    0.0      0.0              0.0      1.0  \n",
       "18          0.0    0.0      0.0              0.0      0.0  \n",
       "\n",
       "[425 rows x 64 columns]"
      ]
     },
     "execution_count": 111,
     "metadata": {},
     "output_type": "execute_result"
    }
   ],
   "source": [
    "df_all_amenity"
   ]
  },
  {
   "cell_type": "code",
   "execution_count": 110,
   "metadata": {},
   "outputs": [],
   "source": [
    "df_all_amenity_test = df_all_amenity_test[amenity]"
   ]
  },
  {
   "cell_type": "markdown",
   "metadata": {},
   "source": [
    "### Строим модели для наших данных"
   ]
  },
  {
   "cell_type": "code",
   "execution_count": 112,
   "metadata": {},
   "outputs": [],
   "source": [
    "from sklearn.ensemble import RandomForestRegressor\n",
    "from sklearn.preprocessing import LabelEncoder\n",
    "from sklearn.tree import DecisionTreeRegressor"
   ]
  },
  {
   "cell_type": "code",
   "execution_count": 202,
   "metadata": {},
   "outputs": [],
   "source": [
    "# pd.get_dummies(df_test_itog.drop(['point_id','target','geometry'], axis=1))"
   ]
  },
  {
   "cell_type": "markdown",
   "metadata": {},
   "source": [
    "Соединим наши 5 фичей и дистанцию до вокзала"
   ]
  },
  {
   "cell_type": "code",
   "execution_count": 129,
   "metadata": {},
   "outputs": [],
   "source": [
    "df_itog_with5 = pd.merge(df_itog_with5,df_dis[['railway_dist', 'point_id']], on = 'point_id')"
   ]
  },
  {
   "cell_type": "code",
   "execution_count": 139,
   "metadata": {},
   "outputs": [],
   "source": [
    "df_itog_with5_test = pd.merge(df_itog_with5_test,df_dis_test[['railway_dist', 'point_id']], on = 'point_id')"
   ]
  },
  {
   "cell_type": "code",
   "execution_count": 132,
   "metadata": {},
   "outputs": [],
   "source": [
    "# X_strat = df_all_amenity.drop(['point_id','target','geometry','point_geometry','name'], axis=1)\n",
    "# X_all = df_all_amenity.drop(['point_id','target','geometry','point_geometry','name'], axis=1)\n",
    "X_all = df_itog_with5.drop(['point_id', 'geometry', 'target'], axis=1)\n",
    "y_all = df_itog_with5['target']\n",
    "\n",
    "le = LabelEncoder()\n",
    "X_all['name'] = le.fit_transform(X_all.values[:, 2])\n",
    "\n",
    "X_test = df_itog_with5_test.drop(['point_id', 'geometry', 'target'], axis=1)\n",
    "\n",
    "X_test['name'] = le.transform(X_test.values[:, 2])"
   ]
  },
  {
   "cell_type": "code",
   "execution_count": 133,
   "metadata": {},
   "outputs": [
    {
     "data": {
      "text/plain": [
       "RandomForestRegressor()"
      ]
     },
     "execution_count": 133,
     "metadata": {},
     "output_type": "execute_result"
    }
   ],
   "source": [
    "model = RandomForestRegressor()\n",
    "model.fit(X_all, y_all)"
   ]
  },
  {
   "cell_type": "code",
   "execution_count": 134,
   "metadata": {},
   "outputs": [
    {
     "data": {
      "text/plain": [
       "0.7110059970253524"
      ]
     },
     "execution_count": 134,
     "metadata": {},
     "output_type": "execute_result"
    }
   ],
   "source": [
    "-1 * cross_val_score(model, X_all, y_all, cv=20, scoring='neg_mean_absolute_error').mean()"
   ]
  },
  {
   "cell_type": "code",
   "execution_count": 1019,
   "metadata": {},
   "outputs": [],
   "source": [
    "X_test['target'] = model.predict(X_test)"
   ]
  },
  {
   "cell_type": "code",
   "execution_count": 1023,
   "metadata": {},
   "outputs": [],
   "source": [
    "X_test['point_id'] = df_itog_with5_test.point_id"
   ]
  },
  {
   "cell_type": "markdown",
   "metadata": {},
   "source": [
    "Линейная регрессия дает неплохой скор, но так как у нас есть категориальные фичи(имя города), то лучше использовать другой метод.\n",
    "\n",
    "Я выбрал RandomForest"
   ]
  },
  {
   "cell_type": "markdown",
   "metadata": {},
   "source": [
    "Более менее сбалансированно"
   ]
  },
  {
   "cell_type": "code",
   "execution_count": 1025,
   "metadata": {},
   "outputs": [],
   "source": [
    "# skf = StratifiedKFold(n_splits=10)\n",
    "# er = []\n",
    "# for train, test in skf.split(X_all, X_all['name']):\n",
    "#     model = LinearRegression()\n",
    "#     model.fit(X_all.loc[train].drop(columns='name'), y_all.loc[train])\n",
    "#     er.append(mean_absolute_error(y_all.loc[test], model.predict(X_all.loc[test].drop(columns='name'))))\n",
    "# np.mean(er)"
   ]
  },
  {
   "cell_type": "code",
   "execution_count": 83,
   "metadata": {},
   "outputs": [],
   "source": [
    "# -1 * cross_val_score(model, X_all, y_all, cv=20, scoring='neg_mean_absolute_error').mean()"
   ]
  },
  {
   "cell_type": "markdown",
   "metadata": {},
   "source": [
    "### Итоговое решение"
   ]
  },
  {
   "cell_type": "markdown",
   "metadata": {},
   "source": [
    "При построениии моделей я решил, что будет лучше если для каждого города будет своя модель:\n",
    "\n",
    "    1)Так, как город сильно влияет на значение тагрета\n",
    "    2)Так, как такой метод дал лучший скор на кегле"
   ]
  },
  {
   "cell_type": "code",
   "execution_count": 122,
   "metadata": {},
   "outputs": [],
   "source": [
    "import xgboost as xgb"
   ]
  },
  {
   "cell_type": "code",
   "execution_count": 142,
   "metadata": {},
   "outputs": [],
   "source": [
    "import warnings\n",
    "warnings.filterwarnings(\"ignore\")"
   ]
  },
  {
   "cell_type": "markdown",
   "metadata": {},
   "source": [
    "Тут я избавился от 2 строк, которые сильно выделялись на общем фоне, скор на кросс-валидации улучшился на 0.03"
   ]
  },
  {
   "cell_type": "code",
   "execution_count": 135,
   "metadata": {},
   "outputs": [],
   "source": [
    "df_itog_with5 = df_itog_with5.loc[-(df_itog_with5.target > 5)]"
   ]
  },
  {
   "cell_type": "markdown",
   "metadata": {},
   "source": [
    "Строю модели для каждого из 10 городов и сразу предсказываю на нем тест, по 5 фичам(вокзалы, рестораны, автобусные станции, школы, и дома), так же широте и долготе"
   ]
  },
  {
   "cell_type": "code",
   "execution_count": 143,
   "metadata": {
    "scrolled": true
   },
   "outputs": [
    {
     "data": {
      "text/plain": [
       "0.6427775864869391"
      ]
     },
     "execution_count": 143,
     "metadata": {},
     "output_type": "execute_result"
    }
   ],
   "source": [
    "df_city = [0,0,0,0,0,0,0,0,0,0]\n",
    "df_test_city = [0,0,0,0,0,0,0,0,0,0]\n",
    "score_test = []\n",
    "score = []\n",
    "df_encod = df_itog_with5.copy()\n",
    "# df_encod = df_encod.loc[-(df_encod.target > 5)]\n",
    "# le = LabelEncoder()\n",
    "# df_encod['name'] = le().fit_transform(df_encod.values[:, 5])\n",
    "df_test_encod = df_itog_with5_test.copy()\n",
    "# df_test_encod['name'] = le().transform(df_test_encod.values[:, 5])\n",
    "for i, ind in enumerate(df_encod.name.value_counts().index):\n",
    "    df_city[i] = df_encod[df_encod.name == ind]\n",
    "    model = RandomForestRegressor()\n",
    "    model.fit(df_city[i].drop(['point_id', 'target', 'geometry', 'name', 'Mean_target'], axis = 1),\n",
    "              df_city[i]['target'])\n",
    "    df_test_city[i] = df_test_encod[df_test_encod.name == ind]\n",
    "    score_test.append(model.predict(df_test_city[i].drop(['point_id', 'target', 'geometry', 'name', 'Mean_target'], axis = 1)))\n",
    "    df_test_city[i]['target'] = score_test[i]\n",
    "    score.append((-1 * cross_val_score(model, df_city[i].drop(['point_id', 'target', 'geometry', 'name', 'Mean_target'], axis = 1), \n",
    "                                       df_city[i]['target'],\n",
    "                                       cv=10, scoring='neg_mean_absolute_error').mean()))\n",
    "df_test_city = pd.concat(df_test_city) \n",
    "sum(score)/10\n"
   ]
  },
  {
   "cell_type": "code",
   "execution_count": 144,
   "metadata": {},
   "outputs": [
    {
     "data": {
      "text/plain": [
       "[0.7864072219064155,\n",
       " 0.5360363518242703,\n",
       " 0.7905676064458036,\n",
       " 0.8401338542813717,\n",
       " 0.5672977480773039,\n",
       " 0.6055927949112089,\n",
       " 0.5710131156880373,\n",
       " 0.5875772178385805,\n",
       " 0.5398406207732835,\n",
       " 0.6033093331231149]"
      ]
     },
     "execution_count": 144,
     "metadata": {},
     "output_type": "execute_result"
    }
   ],
   "source": [
    "score"
   ]
  },
  {
   "cell_type": "markdown",
   "metadata": {},
   "source": [
    "Предсказание раздельно по 10 городам, 0.61 на лидерборде\n",
    "\n",
    "Самое смешно, что при удалении этих выбросов, скор на кросс валидации уменьшается на 0.03, но при этом паблике кегла скор ухадшился на 0.1, и стал 0.71."
   ]
  },
  {
   "cell_type": "markdown",
   "metadata": {},
   "source": [
    "Для разных зоны были такие результаты нв Кегле:\n",
    "\n",
    "    После предсказания по 5 аменити скор 0.71 на кегле для 100 метров\n",
    "\n",
    "    После предсказания по 5 аменити скор 0.65 на кегле для 500 метров\n",
    "\n",
    "    После предсказания по 5 аменити скор 0.68 на кегле для 1000 метров\n",
    "    \n",
    "    При добавлении растояния до ближайшей станции скор сильно не поменялся\n",
    "   "
   ]
  },
  {
   "cell_type": "code",
   "execution_count": 147,
   "metadata": {},
   "outputs": [],
   "source": [
    "df_all_amenity = df_all_amenity.loc[-(df_all_amenity.target > 5)]"
   ]
  },
  {
   "cell_type": "markdown",
   "metadata": {},
   "source": [
    "Удалим строки в которых таргет болше 5, они сбивают классификатор"
   ]
  },
  {
   "cell_type": "code",
   "execution_count": 148,
   "metadata": {},
   "outputs": [],
   "source": [
    "df_city = [0,0,0,0,0,0,0,0,0,0]\n",
    "df_test_city = [0,0,0,0,0,0,0,0,0,0]\n",
    "score_test = []\n",
    "score = []\n",
    "for i, ind in enumerate(df_all_amenity.name.value_counts().index):\n",
    "    df_city[i] = df_all_amenity[df_all_amenity.name == ind]\n",
    "    model = RandomForestRegressor(max_depth=3)\n",
    "    model.fit(df_city[i].drop(['point_id','target','geometry','point_geometry','name'], axis=1),\n",
    "              df_city[i]['target'])\n",
    "    df_test_city[i] = df_all_amenity_test[df_all_amenity_test.name == ind]\n",
    "    score_test.append(model.predict(df_test_city[i].drop(['point_id','target','geometry','point_geometry','name'], axis=1)))\n",
    "    df_test_city[i]['target'] = score_test[i]\n",
    "    score.append((-1 * cross_val_score(model, df_city[i].drop(['point_id','target','geometry','point_geometry','name'], axis=1), \n",
    "                                       df_city[i]['target'],\n",
    "                                       cv=10, scoring='neg_mean_absolute_error').mean()))\n",
    "    #*len(df_city[i])/425\n",
    "sum(score)/10\n",
    "# pd.concat(df_test_city) \n",
    "df_test_city = pd.concat(df_test_city)    "
   ]
  },
  {
   "cell_type": "markdown",
   "metadata": {},
   "source": [
    "Лесом получается неплохо, но как и везде велика ошибка в Москве и в Самаре, удаляем выбросы из нашего датафрема, больше 5.\n",
    "\n",
    "Когда берем топ 30 аменити скор на паблике 0.67, это лучше скора без аменити (0.71)"
   ]
  },
  {
   "cell_type": "markdown",
   "metadata": {},
   "source": [
    "### KeplerGl"
   ]
  },
  {
   "cell_type": "code",
   "execution_count": 128,
   "metadata": {},
   "outputs": [],
   "source": [
    "from keplergl import KeplerGl"
   ]
  },
  {
   "cell_type": "code",
   "execution_count": 174,
   "metadata": {},
   "outputs": [],
   "source": [
    "df_kepler = df_itog.copy()"
   ]
  },
  {
   "cell_type": "markdown",
   "metadata": {},
   "source": [
    "Карта Москвы с таргетом, темные точки - высокий таргет"
   ]
  },
  {
   "cell_type": "code",
   "execution_count": 161,
   "metadata": {},
   "outputs": [
    {
     "name": "stdout",
     "output_type": "stream",
     "text": [
      "User Guide: https://docs.kepler.gl/docs/keplergl-jupyter\n"
     ]
    },
    {
     "data": {
      "application/vnd.jupyter.widget-view+json": {
       "model_id": "16c2b49c135742ec9d8611db66b2116b",
       "version_major": 2,
       "version_minor": 0
      },
      "text/plain": [
       "KeplerGl(data={'Target': {'index': [0, 1, 3, 4, 7, 11, 14, 15, 19, 21, 27, 28, 29, 30, 31, 32, 33, 34, 35, 36,…"
      ]
     },
     "metadata": {},
     "output_type": "display_data"
    }
   ],
   "source": [
    "map_1 = KeplerGl()\n",
    "map_1.add_data(data = df_kepler[df_kepler.name == 'Москва'], name='Target')\n",
    "map_1.add_data(data = Oblasti[Oblasti['name:ru']== 'Москва'], name='Moscow')\n",
    "\n",
    "map_1"
   ]
  },
  {
   "cell_type": "code",
   "execution_count": 177,
   "metadata": {},
   "outputs": [],
   "source": [
    "import json\n",
    "json_data = map_1.config\n",
    "with open('Moscow_config.json', 'w') as outfile:\n",
    "    json.dump(json_data, outfile)"
   ]
  },
  {
   "cell_type": "code",
   "execution_count": 171,
   "metadata": {},
   "outputs": [
    {
     "name": "stdout",
     "output_type": "stream",
     "text": [
      "Map saved to Map_Moscow.html!\n"
     ]
    }
   ],
   "source": [
    "map_1.save_to_html(file_name='Map_Moscow.html')"
   ]
  },
  {
   "cell_type": "markdown",
   "metadata": {},
   "source": [
    "Карта Санкт-Петербурга, корчинивые - высокий таргет"
   ]
  },
  {
   "cell_type": "code",
   "execution_count": 176,
   "metadata": {},
   "outputs": [
    {
     "name": "stdout",
     "output_type": "stream",
     "text": [
      "User Guide: https://docs.kepler.gl/docs/keplergl-jupyter\n"
     ]
    },
    {
     "data": {
      "application/vnd.jupyter.widget-view+json": {
       "model_id": "8e19a7e2c7d943f2a0ebdc29b1510b5e",
       "version_major": 2,
       "version_minor": 0
      },
      "text/plain": [
       "KeplerGl(data={'Target': {'index': [6, 20, 22, 42, 43, 49, 53, 57, 64, 70, 71, 75, 78, 84, 96, 98, 101, 104, 1…"
      ]
     },
     "metadata": {},
     "output_type": "display_data"
    }
   ],
   "source": [
    "map_2 = KeplerGl()\n",
    "map_2.add_data(data = df_kepler[df_kepler.name == 'Санкт-Петербург'], name='Target')\n",
    "map_2.add_data(data = Oblasti[Oblasti['name:ru']== 'Санкт-Петербург'], name='Санкт-Петербург')\n",
    "\n",
    "map_2"
   ]
  },
  {
   "cell_type": "code",
   "execution_count": 180,
   "metadata": {},
   "outputs": [],
   "source": [
    "import json\n",
    "json_data = map_2.config\n",
    "with open('Piter_config.json', 'w') as outfile:\n",
    "    json.dump(json_data, outfile)"
   ]
  },
  {
   "cell_type": "code",
   "execution_count": 181,
   "metadata": {},
   "outputs": [
    {
     "name": "stdout",
     "output_type": "stream",
     "text": [
      "Map saved to Map_Piter.html!\n"
     ]
    }
   ],
   "source": [
    "map_2.save_to_html(file_name='Map_Piter.html')"
   ]
  },
  {
   "cell_type": "markdown",
   "metadata": {},
   "source": [
    "Submission"
   ]
  },
  {
   "cell_type": "code",
   "execution_count": 146,
   "metadata": {},
   "outputs": [],
   "source": [
    "# submission = df_test[['point_id']]\n",
    "# submission['target'] = model.predict(pd.get_dummies(df_test_itog.drop(['point_id','target','geometry'], axis=1)))\n",
    "\n",
    "submission = df_test_city[['point_id','target']]\n",
    "\n",
    "submission.to_csv('Predictions/pred_5_amenity_dist.csv', index=False)"
   ]
  },
  {
   "cell_type": "markdown",
   "metadata": {},
   "source": [
    "В итоге:\n",
    "\n",
    "    Мы определии город для каждого из салонов Мегафона, оказалось 10 городов. Построили графики распределения салонов по этим городам. Выделили буферную зону для каждого магазина. Посчитали для каждого магазина из теста эту буферную зону, взяли значения таргета в ближайших магазинах из трейна и усреднили их, для получения приблизительной оценки предсказания.(см. пункт - Считаем таргет по ближайшим магазинам)\n",
    "    \n",
    "    Далее мы загрузили данные из ОSM для каждого города в отдельности, для этого изначально посчитав буферную зону города.По этим данным мы нашли ближайшую железнодорожную станцию к каждому магазину, взяли 5 фичей, которые по-моему мнению лучше всего характеризуют расположение магазина. Так же, загрузили самые популярные аменити для каждого из магазинов, взяв топ 30 из них.\n",
    "    \n",
    "    При построении моделей ориентировались на скор на кросс валидации. Так как данные в большинстве случаев случайны, то разбивали на 10 фолдов, для получении максимально корректного результата.\n",
    "    \n",
    "    Из-за того, что зависимость от города была большая, было построено 10 различных моделей - для каждого города своя, и тестировались они в цикле по городам.\n",
    "    \n",
    "    Лучший скор на паблике Кегла был 0.61, это было для предсказаний с учетом разбиений по каждому городу по широте и долготе, без каких либо фичей, что очень странно. Скорее всего, это связано с тем, что скор на паблике считается по 9% процентам данных с  теста - это примерно 10 пунктов, и при таких условиях просто повезло с сидом, и на этих 10 строках результат был хороший, что очевидно никак не характерихует всю модель в целом. Понятно, что лучше предсказывать по большему количеству фичей, чем широта и долгота. Поэтому были сгенерированны 5 фичей (вокзалы, рестораны, автобусные станции, школы и дома) для каждого магазина, и рассчиатано расстояние, это дало небольшой прирост на кросс валидации.\n",
    "    \n",
    "    Лучший скор на кросс валидации был около 0.6, это было при использовании топ 30 самых популярных фичей. Модель брали RandomForest, так как он может обрабатывать как категориальные, так и колличественные переменные. На паблике для таких параментров скор был около 0.65."
   ]
  },
  {
   "cell_type": "code",
   "execution_count": null,
   "metadata": {},
   "outputs": [],
   "source": []
  }
 ],
 "metadata": {
  "kernelspec": {
   "display_name": "Python 3",
   "language": "python",
   "name": "python3"
  },
  "language_info": {
   "codemirror_mode": {
    "name": "ipython",
    "version": 3
   },
   "file_extension": ".py",
   "mimetype": "text/x-python",
   "name": "python",
   "nbconvert_exporter": "python",
   "pygments_lexer": "ipython3",
   "version": "3.8.3"
  }
 },
 "nbformat": 4,
 "nbformat_minor": 4
}
