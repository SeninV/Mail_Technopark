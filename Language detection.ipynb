{
 "cells": [
  {
   "cell_type": "code",
   "execution_count": 1,
   "metadata": {},
   "outputs": [],
   "source": [
    "import pandas as pd\n",
    "import numpy as np\n",
    "import matplotlib.pyplot as plt\n",
    "plt.style.use('ggplot')\n",
    "from sklearn.metrics import balanced_accuracy_score\n",
    "\n",
    "from sklearn.model_selection import train_test_split\n",
    "from sklearn.linear_model import SGDClassifier\n",
    "from sklearn.preprocessing  import LabelEncoder\n",
    "from sklearn.naive_bayes import MultinomialNB\n",
    "from sklearn.feature_extraction.text import CountVectorizer\n",
    "from sklearn.feature_extraction.text import TfidfVectorizer\n",
    "from sklearn.neighbors import NearestNeighbors\n",
    "from sklearn.cluster import KMeans"
   ]
  },
  {
   "cell_type": "code",
   "execution_count": 2,
   "metadata": {},
   "outputs": [],
   "source": [
    "df_train = pd.read_csv('train.csv')"
   ]
  },
  {
   "cell_type": "code",
   "execution_count": 3,
   "metadata": {},
   "outputs": [],
   "source": [
    "df_test = pd.read_csv('test.csv')"
   ]
  },
  {
   "cell_type": "code",
   "execution_count": 4,
   "metadata": {},
   "outputs": [
    {
     "data": {
      "text/html": [
       "<div>\n",
       "<style scoped>\n",
       "    .dataframe tbody tr th:only-of-type {\n",
       "        vertical-align: middle;\n",
       "    }\n",
       "\n",
       "    .dataframe tbody tr th {\n",
       "        vertical-align: top;\n",
       "    }\n",
       "\n",
       "    .dataframe thead th {\n",
       "        text-align: right;\n",
       "    }\n",
       "</style>\n",
       "<table border=\"1\" class=\"dataframe\">\n",
       "  <thead>\n",
       "    <tr style=\"text-align: right;\">\n",
       "      <th></th>\n",
       "      <th>sentence</th>\n",
       "      <th>language</th>\n",
       "    </tr>\n",
       "  </thead>\n",
       "  <tbody>\n",
       "    <tr>\n",
       "      <th>0</th>\n",
       "      <td>Pensez à la communication , le discours , les ...</td>\n",
       "      <td>fr</td>\n",
       "    </tr>\n",
       "    <tr>\n",
       "      <th>1</th>\n",
       "      <td>Můžete si ji pronajmout , vzít na splátky , ko...</td>\n",
       "      <td>cs</td>\n",
       "    </tr>\n",
       "    <tr>\n",
       "      <th>2</th>\n",
       "      <td>Každý starosta pochopil , že když mají tyto fo...</td>\n",
       "      <td>cs</td>\n",
       "    </tr>\n",
       "    <tr>\n",
       "      <th>3</th>\n",
       "      <td>Det är ytterligare bevis , men ändå — Jag krit...</td>\n",
       "      <td>sv</td>\n",
       "    </tr>\n",
       "    <tr>\n",
       "      <th>4</th>\n",
       "      <td>كان الأمر لا يصدق .</td>\n",
       "      <td>ar</td>\n",
       "    </tr>\n",
       "    <tr>\n",
       "      <th>...</th>\n",
       "      <td>...</td>\n",
       "      <td>...</td>\n",
       "    </tr>\n",
       "    <tr>\n",
       "      <th>3159628</th>\n",
       "      <td>そんな所で捕まっている片手は 70億の人々と繫がる命綱なのです</td>\n",
       "      <td>ja</td>\n",
       "    </tr>\n",
       "    <tr>\n",
       "      <th>3159629</th>\n",
       "      <td>Първоначално се опитах да направя думите &amp;quot...</td>\n",
       "      <td>bg</td>\n",
       "    </tr>\n",
       "    <tr>\n",
       "      <th>3159630</th>\n",
       "      <td>Ho appreso che ha a che fare con l&amp;apos; atten...</td>\n",
       "      <td>it</td>\n",
       "    </tr>\n",
       "    <tr>\n",
       "      <th>3159631</th>\n",
       "      <td>E os edifícios não se limitam a apenas evocar ...</td>\n",
       "      <td>pt-br</td>\n",
       "    </tr>\n",
       "    <tr>\n",
       "      <th>3159632</th>\n",
       "      <td>La « Danse d ’ entrée du mariage JK » est deve...</td>\n",
       "      <td>fr-ca</td>\n",
       "    </tr>\n",
       "  </tbody>\n",
       "</table>\n",
       "<p>3159633 rows × 2 columns</p>\n",
       "</div>"
      ],
      "text/plain": [
       "                                                  sentence language\n",
       "0        Pensez à la communication , le discours , les ...       fr\n",
       "1        Můžete si ji pronajmout , vzít na splátky , ko...       cs\n",
       "2        Každý starosta pochopil , že když mají tyto fo...       cs\n",
       "3        Det är ytterligare bevis , men ändå — Jag krit...       sv\n",
       "4                                      كان الأمر لا يصدق .       ar\n",
       "...                                                    ...      ...\n",
       "3159628                    そんな所で捕まっている片手は 70億の人々と繫がる命綱なのです       ja\n",
       "3159629  Първоначално се опитах да направя думите &quot...       bg\n",
       "3159630  Ho appreso che ha a che fare con l&apos; atten...       it\n",
       "3159631  E os edifícios não se limitam a apenas evocar ...    pt-br\n",
       "3159632  La « Danse d ’ entrée du mariage JK » est deve...    fr-ca\n",
       "\n",
       "[3159633 rows x 2 columns]"
      ]
     },
     "execution_count": 4,
     "metadata": {},
     "output_type": "execute_result"
    }
   ],
   "source": [
    "df_train"
   ]
  },
  {
   "cell_type": "code",
   "execution_count": 5,
   "metadata": {},
   "outputs": [
    {
     "data": {
      "text/html": [
       "<div>\n",
       "<style scoped>\n",
       "    .dataframe tbody tr th:only-of-type {\n",
       "        vertical-align: middle;\n",
       "    }\n",
       "\n",
       "    .dataframe tbody tr th {\n",
       "        vertical-align: top;\n",
       "    }\n",
       "\n",
       "    .dataframe thead th {\n",
       "        text-align: right;\n",
       "    }\n",
       "</style>\n",
       "<table border=\"1\" class=\"dataframe\">\n",
       "  <thead>\n",
       "    <tr style=\"text-align: right;\">\n",
       "      <th></th>\n",
       "      <th>index</th>\n",
       "      <th>language</th>\n",
       "    </tr>\n",
       "  </thead>\n",
       "  <tbody>\n",
       "    <tr>\n",
       "      <th>0</th>\n",
       "      <td>ru</td>\n",
       "      <td>181970</td>\n",
       "    </tr>\n",
       "    <tr>\n",
       "      <th>1</th>\n",
       "      <td>en</td>\n",
       "      <td>157655</td>\n",
       "    </tr>\n",
       "    <tr>\n",
       "      <th>2</th>\n",
       "      <td>fr</td>\n",
       "      <td>148585</td>\n",
       "    </tr>\n",
       "    <tr>\n",
       "      <th>3</th>\n",
       "      <td>vi</td>\n",
       "      <td>113193</td>\n",
       "    </tr>\n",
       "    <tr>\n",
       "      <th>4</th>\n",
       "      <td>ar</td>\n",
       "      <td>110032</td>\n",
       "    </tr>\n",
       "  </tbody>\n",
       "</table>\n",
       "</div>"
      ],
      "text/plain": [
       "  index  language\n",
       "0    ru    181970\n",
       "1    en    157655\n",
       "2    fr    148585\n",
       "3    vi    113193\n",
       "4    ar    110032"
      ]
     },
     "execution_count": 5,
     "metadata": {},
     "output_type": "execute_result"
    }
   ],
   "source": [
    "lang_count = (\n",
    "    df_train.language.value_counts()\n",
    "    .to_frame()\n",
    "    .reset_index()\n",
    ")\n",
    "\n",
    "lang_count.head()"
   ]
  },
  {
   "cell_type": "code",
   "execution_count": 6,
   "metadata": {},
   "outputs": [
    {
     "data": {
      "image/png": "[encoded data removed]",
      "text/plain": [
       "<Figure size 576x1800 with 1 Axes>"
      ]
     },
     "metadata": {},
     "output_type": "display_data"
    }
   ],
   "source": [
    "fig, ax = plt.subplots(figsize=(8,25))\n",
    "\n",
    "ax.barh(lang_count['index'], lang_count['language'])\n",
    "ax.invert_yaxis();"
   ]
  },
  {
   "cell_type": "markdown",
   "metadata": {},
   "source": [
    "Удаляем выбросы c помощью кластеризации каждого языка"
   ]
  },
  {
   "cell_type": "code",
   "execution_count": 7,
   "metadata": {},
   "outputs": [],
   "source": [
    "perem_rus = df_train[df_train['language'].apply(lambda x: x in {\"ru\"})]"
   ]
  },
  {
   "cell_type": "code",
   "execution_count": 8,
   "metadata": {},
   "outputs": [],
   "source": [
    "vectorizer_rus = CountVectorizer(\n",
    "#     min_df = 0.0001,\n",
    "#     max_df=0.9,\n",
    ")"
   ]
  },
  {
   "cell_type": "code",
   "execution_count": 9,
   "metadata": {},
   "outputs": [],
   "source": [
    "X_train_rus = vectorizer_rus.fit_transform(perem_rus['sentence'])"
   ]
  },
  {
   "cell_type": "code",
   "execution_count": 10,
   "metadata": {},
   "outputs": [],
   "source": [
    "kmeans = KMeans(n_clusters= 4, random_state= 123)"
   ]
  },
  {
   "cell_type": "code",
   "execution_count": 11,
   "metadata": {},
   "outputs": [
    {
     "data": {
      "text/plain": [
       "KMeans(n_clusters=4, random_state=123)"
      ]
     },
     "execution_count": 11,
     "metadata": {},
     "output_type": "execute_result"
    }
   ],
   "source": [
    "kmeans.fit(X_train_rus)"
   ]
  },
  {
   "cell_type": "code",
   "execution_count": 12,
   "metadata": {},
   "outputs": [
    {
     "data": {
      "text/plain": [
       "array([2, 2, 0, ..., 2, 3, 2])"
      ]
     },
     "execution_count": 12,
     "metadata": {},
     "output_type": "execute_result"
    }
   ],
   "source": [
    "kmeans.labels_"
   ]
  },
  {
   "cell_type": "code",
   "execution_count": 13,
   "metadata": {},
   "outputs": [
    {
     "name": "stderr",
     "output_type": "stream",
     "text": [
      "<ipython-input-13-dea7184202db>:1: SettingWithCopyWarning: \n",
      "A value is trying to be set on a copy of a slice from a DataFrame.\n",
      "Try using .loc[row_indexer,col_indexer] = value instead\n",
      "\n",
      "See the caveats in the documentation: https://pandas.pydata.org/pandas-docs/stable/user_guide/indexing.html#returning-a-view-versus-a-copy\n",
      "  perem_rus['label'] = kmeans.labels_\n"
     ]
    }
   ],
   "source": [
    "perem_rus['label'] = kmeans.labels_"
   ]
  },
  {
   "cell_type": "code",
   "execution_count": 14,
   "metadata": {},
   "outputs": [
    {
     "data": {
      "text/html": [
       "<div>\n",
       "<style scoped>\n",
       "    .dataframe tbody tr th:only-of-type {\n",
       "        vertical-align: middle;\n",
       "    }\n",
       "\n",
       "    .dataframe tbody tr th {\n",
       "        vertical-align: top;\n",
       "    }\n",
       "\n",
       "    .dataframe thead th {\n",
       "        text-align: right;\n",
       "    }\n",
       "</style>\n",
       "<table border=\"1\" class=\"dataframe\">\n",
       "  <thead>\n",
       "    <tr style=\"text-align: right;\">\n",
       "      <th></th>\n",
       "      <th>sentence</th>\n",
       "      <th>language</th>\n",
       "      <th>label</th>\n",
       "    </tr>\n",
       "  </thead>\n",
       "  <tbody>\n",
       "    <tr>\n",
       "      <th>26</th>\n",
       "      <td>гэта што калі мы не яны як але ён каб дзякуй б...</td>\n",
       "      <td>ru</td>\n",
       "      <td>0</td>\n",
       "    </tr>\n",
       "    <tr>\n",
       "      <th>140</th>\n",
       "      <td>гэта што калі мы не яны як але ён каб дзякуй б...</td>\n",
       "      <td>ru</td>\n",
       "      <td>0</td>\n",
       "    </tr>\n",
       "    <tr>\n",
       "      <th>155</th>\n",
       "      <td>гэта што калі мы не яны як але ён каб дзякуй б...</td>\n",
       "      <td>ru</td>\n",
       "      <td>0</td>\n",
       "    </tr>\n",
       "    <tr>\n",
       "      <th>264</th>\n",
       "      <td>гэта што калі мы не яны як але ён каб дзякуй б...</td>\n",
       "      <td>ru</td>\n",
       "      <td>0</td>\n",
       "    </tr>\n",
       "    <tr>\n",
       "      <th>307</th>\n",
       "      <td>гэта што калі мы не яны як але ён каб дзякуй б...</td>\n",
       "      <td>ru</td>\n",
       "      <td>0</td>\n",
       "    </tr>\n",
       "    <tr>\n",
       "      <th>...</th>\n",
       "      <td>...</td>\n",
       "      <td>...</td>\n",
       "      <td>...</td>\n",
       "    </tr>\n",
       "    <tr>\n",
       "      <th>3159382</th>\n",
       "      <td>гэта што калі мы не яны як але ён каб дзякуй б...</td>\n",
       "      <td>ru</td>\n",
       "      <td>0</td>\n",
       "    </tr>\n",
       "    <tr>\n",
       "      <th>3159402</th>\n",
       "      <td>гэта што калі мы не яны як але ён каб дзякуй б...</td>\n",
       "      <td>ru</td>\n",
       "      <td>0</td>\n",
       "    </tr>\n",
       "    <tr>\n",
       "      <th>3159445</th>\n",
       "      <td>гэта што калі мы не яны як але ён каб дзякуй б...</td>\n",
       "      <td>ru</td>\n",
       "      <td>0</td>\n",
       "    </tr>\n",
       "    <tr>\n",
       "      <th>3159574</th>\n",
       "      <td>гэта што калі мы не яны як але ён каб дзякуй б...</td>\n",
       "      <td>ru</td>\n",
       "      <td>0</td>\n",
       "    </tr>\n",
       "    <tr>\n",
       "      <th>3159578</th>\n",
       "      <td>гэта што калі мы не яны як але ён каб дзякуй б...</td>\n",
       "      <td>ru</td>\n",
       "      <td>0</td>\n",
       "    </tr>\n",
       "  </tbody>\n",
       "</table>\n",
       "<p>50007 rows × 3 columns</p>\n",
       "</div>"
      ],
      "text/plain": [
       "                                                  sentence language  label\n",
       "26       гэта што калі мы не яны як але ён каб дзякуй б...       ru      0\n",
       "140      гэта што калі мы не яны як але ён каб дзякуй б...       ru      0\n",
       "155      гэта што калі мы не яны як але ён каб дзякуй б...       ru      0\n",
       "264      гэта што калі мы не яны як але ён каб дзякуй б...       ru      0\n",
       "307      гэта што калі мы не яны як але ён каб дзякуй б...       ru      0\n",
       "...                                                    ...      ...    ...\n",
       "3159382  гэта што калі мы не яны як але ён каб дзякуй б...       ru      0\n",
       "3159402  гэта што калі мы не яны як але ён каб дзякуй б...       ru      0\n",
       "3159445  гэта што калі мы не яны як але ён каб дзякуй б...       ru      0\n",
       "3159574  гэта што калі мы не яны як але ён каб дзякуй б...       ru      0\n",
       "3159578  гэта што калі мы не яны як але ён каб дзякуй б...       ru      0\n",
       "\n",
       "[50007 rows x 3 columns]"
      ]
     },
     "execution_count": 14,
     "metadata": {},
     "output_type": "execute_result"
    }
   ],
   "source": [
    "perem_rus[perem_rus['label'] == 0]"
   ]
  },
  {
   "cell_type": "code",
   "execution_count": 15,
   "metadata": {},
   "outputs": [
    {
     "data": {
      "text/html": [
       "<div>\n",
       "<style scoped>\n",
       "    .dataframe tbody tr th:only-of-type {\n",
       "        vertical-align: middle;\n",
       "    }\n",
       "\n",
       "    .dataframe tbody tr th {\n",
       "        vertical-align: top;\n",
       "    }\n",
       "\n",
       "    .dataframe thead th {\n",
       "        text-align: right;\n",
       "    }\n",
       "</style>\n",
       "<table border=\"1\" class=\"dataframe\">\n",
       "  <thead>\n",
       "    <tr style=\"text-align: right;\">\n",
       "      <th></th>\n",
       "      <th>sentence</th>\n",
       "      <th>language</th>\n",
       "    </tr>\n",
       "  </thead>\n",
       "  <tbody>\n",
       "    <tr>\n",
       "      <th>91</th>\n",
       "      <td>що це тому ми чи дуже які щоб дякую якщо було ...</td>\n",
       "      <td>ru</td>\n",
       "    </tr>\n",
       "    <tr>\n",
       "      <th>243</th>\n",
       "      <td>що це тому ми чи дуже які щоб дякую якщо було ...</td>\n",
       "      <td>th</td>\n",
       "    </tr>\n",
       "    <tr>\n",
       "      <th>305</th>\n",
       "      <td>що це тому ми чи дуже які щоб дякую якщо було ...</td>\n",
       "      <td>ru</td>\n",
       "    </tr>\n",
       "    <tr>\n",
       "      <th>314</th>\n",
       "      <td>що це тому ми чи дуже які щоб дякую якщо було ...</td>\n",
       "      <td>th</td>\n",
       "    </tr>\n",
       "    <tr>\n",
       "      <th>345</th>\n",
       "      <td>що це тому ми чи дуже які щоб дякую якщо було ...</td>\n",
       "      <td>en</td>\n",
       "    </tr>\n",
       "    <tr>\n",
       "      <th>...</th>\n",
       "      <td>...</td>\n",
       "      <td>...</td>\n",
       "    </tr>\n",
       "    <tr>\n",
       "      <th>3159489</th>\n",
       "      <td>що це тому ми чи дуже які щоб дякую якщо було ...</td>\n",
       "      <td>en</td>\n",
       "    </tr>\n",
       "    <tr>\n",
       "      <th>3159493</th>\n",
       "      <td>що це тому ми чи дуже які щоб дякую якщо було ...</td>\n",
       "      <td>en</td>\n",
       "    </tr>\n",
       "    <tr>\n",
       "      <th>3159509</th>\n",
       "      <td>що це тому ми чи дуже які щоб дякую якщо було ...</td>\n",
       "      <td>th</td>\n",
       "    </tr>\n",
       "    <tr>\n",
       "      <th>3159582</th>\n",
       "      <td>що це тому ми чи дуже які щоб дякую якщо було ...</td>\n",
       "      <td>ru</td>\n",
       "    </tr>\n",
       "    <tr>\n",
       "      <th>3159619</th>\n",
       "      <td>що це тому ми чи дуже які щоб дякую якщо було ...</td>\n",
       "      <td>ru</td>\n",
       "    </tr>\n",
       "  </tbody>\n",
       "</table>\n",
       "<p>75000 rows × 2 columns</p>\n",
       "</div>"
      ],
      "text/plain": [
       "                                                  sentence language\n",
       "91       що це тому ми чи дуже які щоб дякую якщо було ...       ru\n",
       "243      що це тому ми чи дуже які щоб дякую якщо було ...       th\n",
       "305      що це тому ми чи дуже які щоб дякую якщо було ...       ru\n",
       "314      що це тому ми чи дуже які щоб дякую якщо було ...       th\n",
       "345      що це тому ми чи дуже які щоб дякую якщо було ...       en\n",
       "...                                                    ...      ...\n",
       "3159489  що це тому ми чи дуже які щоб дякую якщо було ...       en\n",
       "3159493  що це тому ми чи дуже які щоб дякую якщо було ...       en\n",
       "3159509  що це тому ми чи дуже які щоб дякую якщо було ...       th\n",
       "3159582  що це тому ми чи дуже які щоб дякую якщо було ...       ru\n",
       "3159619  що це тому ми чи дуже які щоб дякую якщо було ...       ru\n",
       "\n",
       "[75000 rows x 2 columns]"
      ]
     },
     "execution_count": 15,
     "metadata": {},
     "output_type": "execute_result"
    }
   ],
   "source": [
    "df_train[df_train.sentence =='що це тому ми чи дуже які щоб дякую якщо було вона від мене ось']"
   ]
  },
  {
   "cell_type": "markdown",
   "metadata": {},
   "source": [
    "Выбросы с русского языка"
   ]
  },
  {
   "cell_type": "code",
   "execution_count": 16,
   "metadata": {},
   "outputs": [],
   "source": [
    "# df_train.drop(df_train[df_train.sentence =='гэта што калі мы не яны як але ён каб дзякуй больш пра на вы'].index,inplace=True)\n",
    "# df_train.drop(df_train[df_train.sentence =='що це тому ми чи дуже які щоб дякую якщо було вона від мене ось'].index,inplace=True)"
   ]
  },
  {
   "cell_type": "markdown",
   "metadata": {},
   "source": [
    "В идеале так пройтись по каждому языку и посмотреть его выбросы, но так выбросы сделаны искусственно, можно обойтись другим способом:"
   ]
  },
  {
   "cell_type": "code",
   "execution_count": 17,
   "metadata": {},
   "outputs": [
    {
     "data": {
      "text/plain": [
       "що це тому ми чи дуже які щоб дякую якщо було вона від мене ось       75000\n",
       "гэта што калі мы не яны як але ён каб дзякуй больш пра на вы          50000\n",
       "бұл мен біз бір үшін ол деп және емес бар керек бірақ олар қол осы    50000\n",
       "що це ми не як на вони та але ви до про він оплески коли              50000\n",
       "the and of it that you to apos we this is in they so are              50000\n",
       "это что мы не как на вы они но из то он так для аплодисменты          50000\n",
       "笑声 掌声 谢谢 现在 所以 事实上 当然 鼓掌 但是 因此 那么 非常感谢 谢谢大家 是的 好吧                     25000\n",
       "笑聲 掌聲 謝謝 所以 現在 事實上 當然 因此 謝謝大家 對吧 但是 鼓掌 謝謝各位 他說 我說                     25000\n",
       "( Aplausos )                                                           1279\n",
       "( Applaus )                                                            1067\n",
       "( Applause )                                                            835\n",
       "( تصفيق )                                                               643\n",
       "( 박수 )                                                                  631\n",
       "( Applaudissements )                                                    611\n",
       "( Аплодисменты )                                                        603\n",
       "( Applausi )                                                            558\n",
       "( מחיאות כפיים )                                                        551\n",
       "( Aplauze )                                                             545\n",
       "（ 拍手 ）                                                                  508\n",
       "Thank you .                                                             479\n",
       "Name: sentence, dtype: int64"
      ]
     },
     "execution_count": 17,
     "metadata": {},
     "output_type": "execute_result"
    }
   ],
   "source": [
    "df_train.sentence.value_counts().head(20)"
   ]
  },
  {
   "cell_type": "code",
   "execution_count": 5,
   "metadata": {},
   "outputs": [],
   "source": [
    "df_train.drop(df_train[df_train.sentence == 'що це тому ми чи дуже які щоб дякую якщо було вона від мене ось'].index,inplace=True)\n",
    "df_train.drop(df_train[df_train.sentence == 'бұл мен біз бір үшін ол деп және емес бар керек бірақ олар қол осы'].index,inplace=True)\n",
    "df_train.drop(df_train[df_train.sentence == 'the and of it that you to apos we this is in they so are'].index,inplace=True)\n",
    "df_train.drop(df_train[df_train.sentence == 'що це ми не як на вони та але ви до про він оплески коли'].index,inplace=True)\n",
    "df_train.drop(df_train[df_train.sentence == 'гэта што калі мы не яны як але ён каб дзякуй больш пра на вы'].index,inplace=True)\n",
    "df_train.drop(df_train[df_train.sentence == 'это что мы не как на вы они но из то он так для аплодисменты'].index,inplace=True)\n",
    "df_train.drop(df_train[df_train.sentence == '笑声 掌声 谢谢 现在 所以 事实上 当然 鼓掌 但是 因此 那么 非常感谢 谢谢大家 是的 好吧'].index,inplace=True)\n",
    "df_train.drop(df_train[df_train.sentence == '笑聲 掌聲 謝謝 所以 現在 事實上 當然 因此 謝謝大家 對吧 但是 鼓掌 謝謝各位 他說 我說'].index,inplace=True)"
   ]
  },
  {
   "cell_type": "markdown",
   "metadata": {},
   "source": [
    "Векторизуем по чарам и словам"
   ]
  },
  {
   "cell_type": "code",
   "execution_count": 32,
   "metadata": {},
   "outputs": [],
   "source": [
    "vectorizer_char = CountVectorizer(\n",
    "    analyzer = 'char',\n",
    "#     max_df=0.9,\n",
    "    ngram_range =(1,2),\n",
    ")"
   ]
  },
  {
   "cell_type": "code",
   "execution_count": 34,
   "metadata": {},
   "outputs": [],
   "source": [
    "X_train_vectorized_char = vectorizer_char.fit_transform(df_train['sentence'])"
   ]
  },
  {
   "cell_type": "code",
   "execution_count": 36,
   "metadata": {},
   "outputs": [],
   "source": [
    "feature_names = np.array(vectorizer_char.get_feature_names())\n",
    "len(feature_names)"
   ]
  },
  {
   "cell_type": "code",
   "execution_count": 19,
   "metadata": {},
   "outputs": [],
   "source": [
    "vectorizer_word = CountVectorizer(\n",
    "\n",
    "#     min_df = 0.0001,\n",
    "#     max_df=0.9,\n",
    ")"
   ]
  },
  {
   "cell_type": "code",
   "execution_count": 20,
   "metadata": {},
   "outputs": [],
   "source": [
    "X_train_vectorized_word = vectorizer_word.fit_transform(df_train['sentence'])"
   ]
  },
  {
   "cell_type": "code",
   "execution_count": 21,
   "metadata": {},
   "outputs": [
    {
     "data": {
      "text/plain": [
       "3132187"
      ]
     },
     "execution_count": 21,
     "metadata": {},
     "output_type": "execute_result"
    }
   ],
   "source": [
    "feature_names = np.array(vectorizer_word.get_feature_names())\n",
    "len(feature_names)"
   ]
  },
  {
   "cell_type": "markdown",
   "metadata": {},
   "source": [
    "Классификаторы\n",
    "\n",
    "Пробуем различные классификаторы для решения данной задачи"
   ]
  },
  {
   "cell_type": "code",
   "execution_count": 22,
   "metadata": {},
   "outputs": [],
   "source": [
    "X_train, X_test, y_train, y_test = train_test_split(X_train_vectorized_char,\n",
    "                                                    df_train['language'] , test_size=0.2, random_state=42)"
   ]
  },
  {
   "cell_type": "code",
   "execution_count": 140,
   "metadata": {},
   "outputs": [],
   "source": [
    "SGD = SGDClassifier(random_state=42, loss='log')"
   ]
  },
  {
   "cell_type": "code",
   "execution_count": 141,
   "metadata": {},
   "outputs": [
    {
     "data": {
      "text/plain": [
       "SGDClassifier(loss='log', random_state=42)"
      ]
     },
     "execution_count": 141,
     "metadata": {},
     "output_type": "execute_result"
    }
   ],
   "source": [
    "SGD.fit(X_train, y_train)"
   ]
  },
  {
   "cell_type": "code",
   "execution_count": 142,
   "metadata": {},
   "outputs": [
    {
     "data": {
      "text/plain": [
       "0.6541412805666578"
      ]
     },
     "execution_count": 142,
     "metadata": {},
     "output_type": "execute_result"
    }
   ],
   "source": [
    "predictions = SGD.predict(X_train)\n",
    "balanced_accuracy_score(y_train, predictions)"
   ]
  },
  {
   "cell_type": "code",
   "execution_count": 143,
   "metadata": {},
   "outputs": [
    {
     "data": {
      "text/plain": [
       "0.6439527699312729"
      ]
     },
     "execution_count": 143,
     "metadata": {},
     "output_type": "execute_result"
    }
   ],
   "source": [
    "test_predictions = SGD.predict(X_test)\n",
    "balanced_accuracy_score(y_test, test_predictions)"
   ]
  },
  {
   "cell_type": "markdown",
   "metadata": {},
   "source": [
    "Считаем длину слов"
   ]
  },
  {
   "cell_type": "code",
   "execution_count": 64,
   "metadata": {},
   "outputs": [
    {
     "data": {
      "text/plain": [
       "0          163\n",
       "1          227\n",
       "2           79\n",
       "3          196\n",
       "4           19\n",
       "          ... \n",
       "3159628     31\n",
       "3159629    173\n",
       "3159630     89\n",
       "3159631    105\n",
       "3159632    248\n",
       "Name: sentence, Length: 3159633, dtype: int64"
      ]
     },
     "execution_count": 64,
     "metadata": {},
     "output_type": "execute_result"
    }
   ],
   "source": [
    "df_train.sentence.str.len()"
   ]
  },
  {
   "cell_type": "code",
   "execution_count": 89,
   "metadata": {},
   "outputs": [],
   "source": [
    "df_itog = df_train.copy()"
   ]
  },
  {
   "cell_type": "code",
   "execution_count": 153,
   "metadata": {},
   "outputs": [],
   "source": [
    "df_itog['language'] = LabelEncoder().fit_transform(df_itog.values[:, 1])"
   ]
  },
  {
   "cell_type": "code",
   "execution_count": 155,
   "metadata": {},
   "outputs": [],
   "source": [
    "df_itog['Length'] = df_itog.sentence.str.len()"
   ]
  },
  {
   "cell_type": "code",
   "execution_count": 156,
   "metadata": {},
   "outputs": [
    {
     "data": {
      "text/plain": [
       "<matplotlib.axes._subplots.AxesSubplot at 0x14ad3fc7a00>"
      ]
     },
     "execution_count": 156,
     "metadata": {},
     "output_type": "execute_result"
    },
    {
     "data": {
      "image/png": "[encoded data removed]",
      "text/plain": [
       "<Figure size 432x288 with 1 Axes>"
      ]
     },
     "metadata": {},
     "output_type": "display_data"
    }
   ],
   "source": [
    "df_itog.groupby(['language'])['Length'].mean().hist()\n",
    "# .apply(list)"
   ]
  },
  {
   "cell_type": "code",
   "execution_count": 165,
   "metadata": {},
   "outputs": [],
   "source": [
    "from sklearn.tree import DecisionTreeClassifier"
   ]
  },
  {
   "cell_type": "code",
   "execution_count": 166,
   "metadata": {},
   "outputs": [],
   "source": [
    "des_tree = DecisionTreeClassifier()"
   ]
  },
  {
   "cell_type": "code",
   "execution_count": 167,
   "metadata": {
    "scrolled": true
   },
   "outputs": [
    {
     "data": {
      "text/plain": [
       "DecisionTreeClassifier()"
      ]
     },
     "execution_count": 167,
     "metadata": {},
     "output_type": "execute_result"
    }
   ],
   "source": [
    "des_tree.fit(X_train, y_train)"
   ]
  },
  {
   "cell_type": "code",
   "execution_count": 168,
   "metadata": {},
   "outputs": [
    {
     "data": {
      "text/plain": [
       "0.06785396794635581"
      ]
     },
     "execution_count": 168,
     "metadata": {},
     "output_type": "execute_result"
    }
   ],
   "source": [
    "predictions = des_tree.predict(X_train)\n",
    "balanced_accuracy_score(y_train, predictions)"
   ]
  },
  {
   "cell_type": "code",
   "execution_count": 169,
   "metadata": {},
   "outputs": [
    {
     "data": {
      "text/plain": [
       "0.06708556574887603"
      ]
     },
     "execution_count": 169,
     "metadata": {},
     "output_type": "execute_result"
    }
   ],
   "source": [
    "test_predictions = des_tree.predict(X_test)\n",
    "balanced_accuracy_score(y_test, test_predictions)"
   ]
  },
  {
   "cell_type": "code",
   "execution_count": 170,
   "metadata": {},
   "outputs": [
    {
     "data": {
      "text/plain": [
       "0.01694915254237288"
      ]
     },
     "execution_count": 170,
     "metadata": {},
     "output_type": "execute_result"
    }
   ],
   "source": [
    "from sklearn.naive_bayes import MultinomialNB\n",
    "model = MultinomialNB()\n",
    "model.fit(X_train, y_train)\n",
    "predictions = model.predict(X_train)\n",
    "balanced_accuracy_score(y_train, predictions)\n"
   ]
  },
  {
   "cell_type": "code",
   "execution_count": 139,
   "metadata": {},
   "outputs": [
    {
     "data": {
      "text/plain": [
       "0.817988558406982"
      ]
     },
     "execution_count": 139,
     "metadata": {},
     "output_type": "execute_result"
    }
   ],
   "source": [
    "test_predictions = model.predict(X_test)\n",
    "balanced_accuracy_score(y_test, test_predictions)"
   ]
  },
  {
   "cell_type": "markdown",
   "metadata": {},
   "source": [
    "Для длины лучше дерево(0.067 - тест) , для чара лучше байес(0.79 - тест), для ворда байес(0.81 - тест), \n",
    "для чара нграм(1, 2) - 0.76 байес\n",
    "\n"
   ]
  },
  {
   "cell_type": "markdown",
   "metadata": {},
   "source": [
    "Стакаем результаты классификаторов по чару и ворду"
   ]
  },
  {
   "cell_type": "code",
   "execution_count": 10,
   "metadata": {},
   "outputs": [],
   "source": [
    "y = df_train['language']"
   ]
  },
  {
   "cell_type": "code",
   "execution_count": 22,
   "metadata": {},
   "outputs": [
    {
     "data": {
      "text/plain": [
       "0.8759220791214367"
      ]
     },
     "execution_count": 22,
     "metadata": {},
     "output_type": "execute_result"
    }
   ],
   "source": [
    "NB_word = MultinomialNB()\n",
    "NB_word.fit(X_train_vectorized_word, y)\n",
    "predictions = NB_word.predict(X_train_vectorized_word)\n",
    "balanced_accuracy_score(y, predictions)"
   ]
  },
  {
   "cell_type": "code",
   "execution_count": 27,
   "metadata": {},
   "outputs": [],
   "source": [
    "# test_predictions = NB_word.predict(X_test)\n",
    "# balanced_accuracy_score(y_test, test_predictions)"
   ]
  },
  {
   "cell_type": "code",
   "execution_count": 11,
   "metadata": {},
   "outputs": [
    {
     "data": {
      "text/plain": [
       "0.8318235923412443"
      ]
     },
     "execution_count": 11,
     "metadata": {},
     "output_type": "execute_result"
    }
   ],
   "source": [
    "NB_char = MultinomialNB()\n",
    "NB_char.fit(X_train_vectorized_char, y)\n",
    "predictions = NB_char.predict(X_train_vectorized_char)\n",
    "balanced_accuracy_score(y, predictions)"
   ]
  },
  {
   "cell_type": "code",
   "execution_count": 29,
   "metadata": {},
   "outputs": [],
   "source": [
    "# test_predictions = NB_char.predict(X_test)\n",
    "# balanced_accuracy_score(y_test, test_predictions)"
   ]
  },
  {
   "cell_type": "markdown",
   "metadata": {},
   "source": [
    "Объедини результаты классификаторов"
   ]
  },
  {
   "cell_type": "code",
   "execution_count": 23,
   "metadata": {},
   "outputs": [],
   "source": [
    "predict_word = np.hstack((NB_word.predict_proba(X_train_vectorized_word),\n",
    "                          NB_char.predict_proba(X_train_vectorized_char)))\n",
    "# word_char = NB_word.predict_proba(X_train_vectorized_word) + NB_char.predict_proba(X_train_vectorized_char)"
   ]
  },
  {
   "cell_type": "code",
   "execution_count": 24,
   "metadata": {},
   "outputs": [
    {
     "data": {
      "text/plain": [
       "MultinomialNB()"
      ]
     },
     "execution_count": 24,
     "metadata": {},
     "output_type": "execute_result"
    }
   ],
   "source": [
    "NB = MultinomialNB()\n",
    "NB.fit(predict_word,y)"
   ]
  },
  {
   "cell_type": "code",
   "execution_count": 40,
   "metadata": {},
   "outputs": [
    {
     "data": {
      "text/plain": [
       "0.8934670229918493"
      ]
     },
     "execution_count": 40,
     "metadata": {},
     "output_type": "execute_result"
    }
   ],
   "source": [
    "test_predictions = NB.predict(predict_word)\n",
    "balanced_accuracy_score(y, test_predictions)"
   ]
  },
  {
   "cell_type": "code",
   "execution_count": 39,
   "metadata": {},
   "outputs": [],
   "source": [
    "# from sklearn.model_selection import cross_val_score\n",
    "# cross_val_score(NB, predict_word, y_test, cv=5, scoring='balanced_accuracy_score').mean()"
   ]
  },
  {
   "cell_type": "markdown",
   "metadata": {},
   "source": [
    "Сохраняем классификатор, т.к. очень долго его обучать"
   ]
  },
  {
   "cell_type": "code",
   "execution_count": 61,
   "metadata": {},
   "outputs": [],
   "source": [
    "from joblib import dump,load"
   ]
  },
  {
   "cell_type": "code",
   "execution_count": 44,
   "metadata": {},
   "outputs": [
    {
     "data": {
      "text/plain": [
       "['filename.joblibe']"
      ]
     },
     "execution_count": 44,
     "metadata": {},
     "output_type": "execute_result"
    }
   ],
   "source": [
    "dump(SGD, 'Class.joblibe')"
   ]
  },
  {
   "cell_type": "code",
   "execution_count": 45,
   "metadata": {},
   "outputs": [],
   "source": [
    "clf = load('Class.joblibe')"
   ]
  },
  {
   "cell_type": "markdown",
   "metadata": {},
   "source": [
    "Ответ"
   ]
  },
  {
   "cell_type": "code",
   "execution_count": 25,
   "metadata": {},
   "outputs": [],
   "source": [
    "X_test_vectorized_word = vectorizer_word.transform(df_test['sentence'])\n",
    "X_test_vectorized_char = vectorizer_char.transform(df_test['sentence'])"
   ]
  },
  {
   "cell_type": "code",
   "execution_count": 27,
   "metadata": {},
   "outputs": [],
   "source": [
    "predict = np.hstack((NB_word.predict_proba(X_test_vectorized_word),\n",
    "                        NB_char.predict_proba(X_test_vectorized_char)))\n",
    "# word_char_ans = NB_word.predict_proba(X_test_vectorized_word) + NB_char.predict_proba(X_test_vectorized_char)"
   ]
  },
  {
   "cell_type": "code",
   "execution_count": 28,
   "metadata": {},
   "outputs": [],
   "source": [
    "ans = NB.predict(predict)"
   ]
  },
  {
   "cell_type": "code",
   "execution_count": 29,
   "metadata": {},
   "outputs": [
    {
     "data": {
      "text/plain": [
       "array(['he', 'pt-br', 'zh-tw', ..., 'sk', 'ko', 'zh-cn'], dtype='<U5')"
      ]
     },
     "execution_count": 29,
     "metadata": {},
     "output_type": "execute_result"
    }
   ],
   "source": [
    "ans"
   ]
  },
  {
   "cell_type": "code",
   "execution_count": 30,
   "metadata": {},
   "outputs": [],
   "source": [
    "# df_test['language'] = label_encoder.classes_[ans]\n",
    "df_test['language'] = ans"
   ]
  },
  {
   "cell_type": "code",
   "execution_count": 31,
   "metadata": {},
   "outputs": [],
   "source": [
    "df_test[['index','language']].to_csv(\"Prediction_NB_char_word_baz_stack.csv\", index=False)"
   ]
  },
  {
   "cell_type": "code",
   "execution_count": null,
   "metadata": {},
   "outputs": [],
   "source": []
  },
  {
   "cell_type": "markdown",
   "metadata": {},
   "source": [
    "В итоговом ответе я использовал MultinomialNB, так как он выдавал самый лучший скор среди остальных, и время его обучения было минимально.\n",
    "\n",
    "Предложение я делил на слова и на нграмы(1,2), обучал два классификатора отдельно на словах и на нграмах и далее объединял их ответы и строил третий классификатор только на ответах. Было два способа объединения: \n",
    "\n",
    "    1) Через np.hstack - так как получался вектор из 118 вероятностей, были сомнения, сможет ли классификатор понять, какие вероятности к какому классу относятся;\n",
    "    2) Сложение вероятностей различных классификаторов\n",
    "   В итоге оба способа давали одинаковый скор\n",
    "\n",
    "Фильтрацию данных я производил с помощью KMeans. Для этого я брал отдельно каждый язык, кластеризовал его предложения на несколько кластеров и смотрел какие среди них выбросы.\n"
   ]
  }
 ],
 "metadata": {
  "kernelspec": {
   "display_name": "Python 3",
   "language": "python",
   "name": "python3"
  },
  "language_info": {
   "codemirror_mode": {
    "name": "ipython",
    "version": 3
   },
   "file_extension": ".py",
   "mimetype": "text/x-python",
   "name": "python",
   "nbconvert_exporter": "python",
   "pygments_lexer": "ipython3",
   "version": "3.8.3"
  }
 },
 "nbformat": 4,
 "nbformat_minor": 4
}
